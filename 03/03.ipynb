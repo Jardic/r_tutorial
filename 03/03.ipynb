{
 "cells": [
  {
   "cell_type": "markdown",
   "metadata": {},
   "source": [
    "# Základy jazyka R\n",
    "\n",
    "R není jenom obyčejný statistický program, ale zároveň i plnohodnotný programovací jazyk. V tomto tutoriálu si ukážeme to nejzákladnější, co budeme z tohoto jazyka potřebovat. \n",
    "\n",
    "## Operátory\n",
    "\n",
    "Dříve už jsme si tak trochu ukázali, jak v R asi provádět základní výpočty. Pojďme teď na to trochu systematičtěji:"
   ]
  },
  {
   "cell_type": "code",
   "execution_count": 1,
   "metadata": {},
   "outputs": [
    {
     "data": {
      "text/html": [
       "6"
      ],
      "text/latex": [
       "6"
      ],
      "text/markdown": [
       "6"
      ],
      "text/plain": [
       "[1] 6"
      ]
     },
     "metadata": {},
     "output_type": "display_data"
    },
    {
     "data": {
      "text/html": [
       "-4"
      ],
      "text/latex": [
       "-4"
      ],
      "text/markdown": [
       "-4"
      ],
      "text/plain": [
       "[1] -4"
      ]
     },
     "metadata": {},
     "output_type": "display_data"
    },
    {
     "data": {
      "text/html": [
       "12"
      ],
      "text/latex": [
       "12"
      ],
      "text/markdown": [
       "12"
      ],
      "text/plain": [
       "[1] 12"
      ]
     },
     "metadata": {},
     "output_type": "display_data"
    },
    {
     "data": {
      "text/html": [
       "12.5"
      ],
      "text/latex": [
       "12.5"
      ],
      "text/markdown": [
       "12.5"
      ],
      "text/plain": [
       "[1] 12.5"
      ]
     },
     "metadata": {},
     "output_type": "display_data"
    },
    {
     "data": {
      "text/html": [
       "256"
      ],
      "text/latex": [
       "256"
      ],
      "text/markdown": [
       "256"
      ],
      "text/plain": [
       "[1] 256"
      ]
     },
     "metadata": {},
     "output_type": "display_data"
    },
    {
     "data": {
      "text/html": [
       "1"
      ],
      "text/latex": [
       "1"
      ],
      "text/markdown": [
       "1"
      ],
      "text/plain": [
       "[1] 1"
      ]
     },
     "metadata": {},
     "output_type": "display_data"
    },
    {
     "data": {
      "text/html": [
       "2"
      ],
      "text/latex": [
       "2"
      ],
      "text/markdown": [
       "2"
      ],
      "text/plain": [
       "[1] 2"
      ]
     },
     "metadata": {},
     "output_type": "display_data"
    },
    {
     "data": {
      "text/html": [
       "-5"
      ],
      "text/latex": [
       "-5"
      ],
      "text/markdown": [
       "-5"
      ],
      "text/plain": [
       "[1] -5"
      ]
     },
     "metadata": {},
     "output_type": "display_data"
    }
   ],
   "source": [
    "# základní matematické operátory\n",
    "3 + 3 # sčítání\n",
    "1 - 5 # odčítání\n",
    "3 * 4 # násobení\n",
    "25 / 2 # dělení\n",
    "\n",
    "# další číselné operátory\n",
    "2 ^ 8 # mocnina\n",
    "3 %% 2 # modulo (zbytek po dělení)\n",
    "5 %/% 2 # dělení beze zbytku\n",
    "-5 # unární minus (násobení jedničkou)"
   ]
  },
  {
   "cell_type": "markdown",
   "metadata": {},
   "source": [
    "Výsledky programu výše asi nikoho nepřekvapí a pokud jste již někdy používali nějaký matematický program, tak vás ani synatxe nijak zvlášť nevyvede z míry. \n",
    "\n",
    "Mimochodem veškerý obsah až do konce řádky, který v R začíná znakem *#*, je při interpretaci vašeho kódu vždy ignorován. Této vlastnosti se doporučuje často využívat, neboť po čase budete mít i vy sami problém číst váš vlastní kód a každá indicie, která vám pomůže rozšifrovat, co jste vlastně při psaní vašeho programu zamýšleli, se vám bude hodit. Minimálně tak alespoň můžete pobavit někoho, kdo bude číst kód po vás, jako například některé [komentáře](https://openvz.org/Kernel_code_quotes) v jádře systému Linux.\n",
    "\n",
    "Jako každý jiný programovací jazyk, R též zvládá i porovnávací a logické operátory:"
   ]
  },
  {
   "cell_type": "code",
   "execution_count": 2,
   "metadata": {},
   "outputs": [
    {
     "data": {
      "text/html": [
       "TRUE"
      ],
      "text/latex": [
       "TRUE"
      ],
      "text/markdown": [
       "TRUE"
      ],
      "text/plain": [
       "[1] TRUE"
      ]
     },
     "metadata": {},
     "output_type": "display_data"
    },
    {
     "data": {
      "text/html": [
       "FALSE"
      ],
      "text/latex": [
       "FALSE"
      ],
      "text/markdown": [
       "FALSE"
      ],
      "text/plain": [
       "[1] FALSE"
      ]
     },
     "metadata": {},
     "output_type": "display_data"
    },
    {
     "data": {
      "text/html": [
       "TRUE"
      ],
      "text/latex": [
       "TRUE"
      ],
      "text/markdown": [
       "TRUE"
      ],
      "text/plain": [
       "[1] TRUE"
      ]
     },
     "metadata": {},
     "output_type": "display_data"
    },
    {
     "data": {
      "text/html": [
       "FALSE"
      ],
      "text/latex": [
       "FALSE"
      ],
      "text/markdown": [
       "FALSE"
      ],
      "text/plain": [
       "[1] FALSE"
      ]
     },
     "metadata": {},
     "output_type": "display_data"
    },
    {
     "data": {
      "text/html": [
       "FALSE"
      ],
      "text/latex": [
       "FALSE"
      ],
      "text/markdown": [
       "FALSE"
      ],
      "text/plain": [
       "[1] FALSE"
      ]
     },
     "metadata": {},
     "output_type": "display_data"
    },
    {
     "data": {
      "text/html": [
       "TRUE"
      ],
      "text/latex": [
       "TRUE"
      ],
      "text/markdown": [
       "TRUE"
      ],
      "text/plain": [
       "[1] TRUE"
      ]
     },
     "metadata": {},
     "output_type": "display_data"
    }
   ],
   "source": [
    "3 > 2 # větší\n",
    "3 < 2 # menší\n",
    "3 == 3 # rovno\n",
    "!TRUE # negace\n",
    "T && F # and\n",
    "T || FALSE # or"
   ]
  },
  {
   "cell_type": "markdown",
   "metadata": {},
   "source": [
    "Jak je demonstrováno v programu výše, jazyk též nabízí zkrácené verze konstant `TRUE` a `FALSE`, `T` a `F`. Pro exkluzivní or v R operátor neexistuje, avšak lze použít funkci `xor`:"
   ]
  },
  {
   "cell_type": "code",
   "execution_count": 3,
   "metadata": {},
   "outputs": [
    {
     "data": {
      "text/html": [
       "FALSE"
      ],
      "text/latex": [
       "FALSE"
      ],
      "text/markdown": [
       "FALSE"
      ],
      "text/plain": [
       "[1] FALSE"
      ]
     },
     "metadata": {},
     "output_type": "display_data"
    }
   ],
   "source": [
    "xor(TRUE, TRUE) # exkluzivní or"
   ]
  },
  {
   "cell_type": "markdown",
   "metadata": {},
   "source": [
    "Při psaní složitějších výrazů je též třeba dbát na [pořadí a asociativitu](https://www.programiz.com/r-programming/precedence-associativity) operátorů a popřípadě si pomoci závorkami. Např:"
   ]
  },
  {
   "cell_type": "code",
   "execution_count": 4,
   "metadata": {},
   "outputs": [
    {
     "data": {
      "text/html": [
       "32"
      ],
      "text/latex": [
       "32"
      ],
      "text/markdown": [
       "32"
      ],
      "text/plain": [
       "[1] 32"
      ]
     },
     "metadata": {},
     "output_type": "display_data"
    },
    {
     "data": {
      "text/html": [
       "2"
      ],
      "text/latex": [
       "2"
      ],
      "text/markdown": [
       "2"
      ],
      "text/plain": [
       "[1] 2"
      ]
     },
     "metadata": {},
     "output_type": "display_data"
    }
   ],
   "source": [
    "256 ^ 1/8\n",
    "256 ^ (1/8)"
   ]
  },
  {
   "cell_type": "markdown",
   "metadata": {},
   "source": [
    "nebo"
   ]
  },
  {
   "cell_type": "code",
   "execution_count": 5,
   "metadata": {},
   "outputs": [
    {
     "data": {
      "text/html": [
       "1"
      ],
      "text/latex": [
       "1"
      ],
      "text/markdown": [
       "1"
      ],
      "text/plain": [
       "[1] 1"
      ]
     },
     "metadata": {},
     "output_type": "display_data"
    },
    {
     "data": {
      "text/html": [
       "9"
      ],
      "text/latex": [
       "9"
      ],
      "text/markdown": [
       "9"
      ],
      "text/plain": [
       "[1] 9"
      ]
     },
     "metadata": {},
     "output_type": "display_data"
    }
   ],
   "source": [
    "15 / 5 / 3\n",
    "15 / (5 / 3)"
   ]
  },
  {
   "cell_type": "markdown",
   "metadata": {},
   "source": [
    "V budoucnu se ještě setkáme s dalšími operátory, které se používají s komplexnějšími datovými strukturami, ale ty zatím necháme být.\n",
    "\n",
    "## Proměnné a datové typy\n",
    "\n",
    "Jak přiřazovat proměnné jsme si už dříve také ukázali:"
   ]
  },
  {
   "cell_type": "code",
   "execution_count": 6,
   "metadata": {},
   "outputs": [
    {
     "data": {
      "text/html": [
       "1"
      ],
      "text/latex": [
       "1"
      ],
      "text/markdown": [
       "1"
      ],
      "text/plain": [
       "[1] 1"
      ]
     },
     "metadata": {},
     "output_type": "display_data"
    }
   ],
   "source": [
    "x <- 1\n",
    "x"
   ]
  },
  {
   "cell_type": "markdown",
   "metadata": {},
   "source": [
    "Toto je preferovaný a nejčastější způsob, avšak přiřazovacích operátorů je více:"
   ]
  },
  {
   "cell_type": "code",
   "execution_count": 7,
   "metadata": {},
   "outputs": [
    {
     "data": {
      "text/html": [
       "2"
      ],
      "text/latex": [
       "2"
      ],
      "text/markdown": [
       "2"
      ],
      "text/plain": [
       "[1] 2"
      ]
     },
     "metadata": {},
     "output_type": "display_data"
    },
    {
     "data": {
      "text/html": [
       "3"
      ],
      "text/latex": [
       "3"
      ],
      "text/markdown": [
       "3"
      ],
      "text/plain": [
       "[1] 3"
      ]
     },
     "metadata": {},
     "output_type": "display_data"
    }
   ],
   "source": [
    "x = x + 1\n",
    "x\n",
    "x <<- x + 1\n",
    "x"
   ]
  },
  {
   "cell_type": "markdown",
   "metadata": {},
   "source": [
    "Operátor `=` byl do R přidán později a má stejný význam jako `<-`. Doporučuje se však používat starší variantu, ze které je vždy zřejmé co a kam přiřazujete, neboť tento operátor má 'směr'. Lze jej spolu s operátorem `<<-` totiž použít i takto: "
   ]
  },
  {
   "cell_type": "code",
   "execution_count": 8,
   "metadata": {},
   "outputs": [
    {
     "data": {
      "text/html": [
       "4"
      ],
      "text/latex": [
       "4"
      ],
      "text/markdown": [
       "4"
      ],
      "text/plain": [
       "[1] 4"
      ]
     },
     "metadata": {},
     "output_type": "display_data"
    },
    {
     "data": {
      "text/html": [
       "5"
      ],
      "text/latex": [
       "5"
      ],
      "text/markdown": [
       "5"
      ],
      "text/plain": [
       "[1] 5"
      ]
     },
     "metadata": {},
     "output_type": "display_data"
    }
   ],
   "source": [
    "x + 1 -> x\n",
    "x\n",
    "x + 1 ->> x\n",
    "x"
   ]
  },
  {
   "cell_type": "markdown",
   "metadata": {},
   "source": [
    "Operátory `<<-` a `->>` mají speciální význam a souvisí s pokročilejší znalostí jazyka R a budou vysvětleny později. Ve většině případů je však nebudete potřebovat. Mohou vám jen někdy trochu usnadnit práci.\n",
    "\n",
    "Každá proměnná i konstanta v R má daný nějaký datový typ, který určuje její vnitřní uspořádání v paměti počítače. My jsme zatím pracovali jen s těmi nejzákladnějšími:"
   ]
  },
  {
   "cell_type": "code",
   "execution_count": 9,
   "metadata": {},
   "outputs": [
    {
     "data": {
      "text/html": [
       "'character'"
      ],
      "text/latex": [
       "'character'"
      ],
      "text/markdown": [
       "'character'"
      ],
      "text/plain": [
       "[1] \"character\""
      ]
     },
     "metadata": {},
     "output_type": "display_data"
    },
    {
     "data": {
      "text/html": [
       "'double'"
      ],
      "text/latex": [
       "'double'"
      ],
      "text/markdown": [
       "'double'"
      ],
      "text/plain": [
       "[1] \"double\""
      ]
     },
     "metadata": {},
     "output_type": "display_data"
    },
    {
     "data": {
      "text/html": [
       "'integer'"
      ],
      "text/latex": [
       "'integer'"
      ],
      "text/markdown": [
       "'integer'"
      ],
      "text/plain": [
       "[1] \"integer\""
      ]
     },
     "metadata": {},
     "output_type": "display_data"
    },
    {
     "data": {
      "text/html": [
       "'double'"
      ],
      "text/latex": [
       "'double'"
      ],
      "text/markdown": [
       "'double'"
      ],
      "text/plain": [
       "[1] \"double\""
      ]
     },
     "metadata": {},
     "output_type": "display_data"
    },
    {
     "data": {
      "text/html": [
       "'logical'"
      ],
      "text/latex": [
       "'logical'"
      ],
      "text/markdown": [
       "'logical'"
      ],
      "text/plain": [
       "[1] \"logical\""
      ]
     },
     "metadata": {},
     "output_type": "display_data"
    },
    {
     "data": {
      "text/html": [
       "'complex'"
      ],
      "text/latex": [
       "'complex'"
      ],
      "text/markdown": [
       "'complex'"
      ],
      "text/plain": [
       "[1] \"complex\""
      ]
     },
     "metadata": {},
     "output_type": "display_data"
    }
   ],
   "source": [
    "typeof(\"ahoj\")\n",
    "typeof(1)\n",
    "typeof(1L)\n",
    "typeof(1.5)\n",
    "typeof(T)\n",
    "typeof(1 + 4i)"
   ]
  },
  {
   "cell_type": "markdown",
   "metadata": {},
   "source": [
    "Funkce `typeof` se nám vždy pokusí co nejpřesněji sdělit, o jaký datový typ se jedná. Podobně lze též použít i funkci `class`, která dělá to samé ale na trochu vyšší (více lidské) úrovni:"
   ]
  },
  {
   "cell_type": "code",
   "execution_count": 10,
   "metadata": {},
   "outputs": [
    {
     "data": {
      "text/html": [
       "'character'"
      ],
      "text/latex": [
       "'character'"
      ],
      "text/markdown": [
       "'character'"
      ],
      "text/plain": [
       "[1] \"character\""
      ]
     },
     "metadata": {},
     "output_type": "display_data"
    },
    {
     "data": {
      "text/html": [
       "'numeric'"
      ],
      "text/latex": [
       "'numeric'"
      ],
      "text/markdown": [
       "'numeric'"
      ],
      "text/plain": [
       "[1] \"numeric\""
      ]
     },
     "metadata": {},
     "output_type": "display_data"
    },
    {
     "data": {
      "text/html": [
       "'integer'"
      ],
      "text/latex": [
       "'integer'"
      ],
      "text/markdown": [
       "'integer'"
      ],
      "text/plain": [
       "[1] \"integer\""
      ]
     },
     "metadata": {},
     "output_type": "display_data"
    },
    {
     "data": {
      "text/html": [
       "'numeric'"
      ],
      "text/latex": [
       "'numeric'"
      ],
      "text/markdown": [
       "'numeric'"
      ],
      "text/plain": [
       "[1] \"numeric\""
      ]
     },
     "metadata": {},
     "output_type": "display_data"
    },
    {
     "data": {
      "text/html": [
       "'logical'"
      ],
      "text/latex": [
       "'logical'"
      ],
      "text/markdown": [
       "'logical'"
      ],
      "text/plain": [
       "[1] \"logical\""
      ]
     },
     "metadata": {},
     "output_type": "display_data"
    },
    {
     "data": {
      "text/html": [
       "'complex'"
      ],
      "text/latex": [
       "'complex'"
      ],
      "text/markdown": [
       "'complex'"
      ],
      "text/plain": [
       "[1] \"complex\""
      ]
     },
     "metadata": {},
     "output_type": "display_data"
    }
   ],
   "source": [
    "class(\"ahoj\")\n",
    "class(1)\n",
    "class(1L)\n",
    "class(1.5)\n",
    "class(T)\n",
    "class(1 + 4i)"
   ]
  },
  {
   "cell_type": "markdown",
   "metadata": {},
   "source": [
    "Z příkladů výše je vidět, že všechna čísla v R jsou implicitně reprezentována jako datový typ `double`. Pokud z nějakého důvodu chcete, aby bylo vaše číslo reprezentováno jinak, musíte si to explicitně vyžádat (například písmeno `L` za literálem vašeho čísla z něj udělá obyčejný `integer`; stejně funguje i funkce `as.integer`).\n",
    "\n",
    "TODO: vektory"
   ]
  },
  {
   "cell_type": "markdown",
   "metadata": {},
   "source": [
    "## Funkce\n",
    "\n",
    "Co dělá R tak užitečným, je právě široký výběr funkcí, které můžete ve svých programech využít. Díky funkcím je možné snadno zapouzdřovat kód pro opakované použití. Když v R zavoláte funkci (např. `print`), děje se na pozadí hodně věcí, o kterých většinou [raději ani nechcete vědět](http://sourceware.org/git/?p=glibc.git;a=blob;f=stdio-common/vfprintf.c;h=fc370e8cbc4e9652a2ed377b1c6f2324f15b1bf9;hb=3321010338384ecdc6633a8b032bb0ed6aa9b19a). \n",
    "\n",
    "Bylo by tedy neefektivní, kdybyste například při každém pokusu o zápis obsahu vaší proměnné na výstup programu museli řešit věci jako otevření a zavření textového bufferu a formátování na konzoli pořád dokola. Je mnohem praktičtější napsat kód jednou a předem definovat proměnné, které se budou měnit v závislosti na kontextu, ve kterém se kód bude vykonávat. V R se funkce definují následujícím způsobem (samotnou syntaxi definice funkce napravo od operátoru `<-` si probereme později):"
   ]
  },
  {
   "cell_type": "code",
   "execution_count": 11,
   "metadata": {},
   "outputs": [
    {
     "data": {
      "text/html": [
       "1.4142135623731"
      ],
      "text/latex": [
       "1.4142135623731"
      ],
      "text/markdown": [
       "1.4142135623731"
      ],
      "text/plain": [
       "[1] 1.414214"
      ]
     },
     "metadata": {},
     "output_type": "display_data"
    }
   ],
   "source": [
    "odmocnina <- function(cislo, odmocnitCim) {\n",
    "    # spočítá odmocninu z daného čísla\n",
    "\n",
    "    cislo ^ (1 / odmocnitCim)\n",
    "}\n",
    "\n",
    "odmocnina(2, 2)"
   ]
  },
  {
   "cell_type": "markdown",
   "metadata": {},
   "source": [
    "Jelikož se v R k funkcím přistupuje jako k tzv. 'first-class citizens', není funkce ve výsledku nic jiného, než vytvoření nového objektu a jeho přiřazení do proměnné. Následující kód tedy též funguje, jenom je třeba uzavřít definici funkce do závorek (proč, to zatím necháme být):"
   ]
  },
  {
   "cell_type": "code",
   "execution_count": 12,
   "metadata": {},
   "outputs": [
    {
     "data": {
      "text/html": [
       "1.4142135623731"
      ],
      "text/latex": [
       "1.4142135623731"
      ],
      "text/markdown": [
       "1.4142135623731"
      ],
      "text/plain": [
       "[1] 1.414214"
      ]
     },
     "metadata": {},
     "output_type": "display_data"
    }
   ],
   "source": [
    "(function(cislo, odmocnitCim) {\n",
    "    # spočítá odmocninu z daného čísla\n",
    "    \n",
    "    cislo ^ (1 / odmocnitCim)\n",
    "}) -> odmocnina_jinak\n",
    "\n",
    "odmocnina_jinak(2, 2)"
   ]
  },
  {
   "cell_type": "markdown",
   "metadata": {},
   "source": [
    "Pro nikoho tedy asi již není záhadou následující kód (všimněte si, že funkce se chová jinak při zavolání a jinak pokud k ní přistupujeme jako k proměnné):"
   ]
  },
  {
   "cell_type": "code",
   "execution_count": 13,
   "metadata": {},
   "outputs": [
    {
     "data": {
      "text/html": [
       "'function'"
      ],
      "text/latex": [
       "'function'"
      ],
      "text/markdown": [
       "'function'"
      ],
      "text/plain": [
       "[1] \"function\""
      ]
     },
     "metadata": {},
     "output_type": "display_data"
    },
    {
     "name": "stdout",
     "output_type": "stream",
     "text": [
      "[1] \"hello\"\n"
     ]
    }
   ],
   "source": [
    "class(print)\n",
    "spit_out <- print\n",
    "spit_out(\"hello\")"
   ]
  },
  {
   "cell_type": "markdown",
   "metadata": {},
   "source": [
    "Můžeme si takto ovšem i hodně zavařit:"
   ]
  },
  {
   "cell_type": "code",
   "execution_count": 14,
   "metadata": {},
   "outputs": [
    {
     "ename": "ERROR",
     "evalue": "Error in eval(expr, envir, enclos): could not find function \"odmocnina\"\n",
     "output_type": "error",
     "traceback": [
      "Error in eval(expr, envir, enclos): could not find function \"odmocnina\"\nTraceback:\n"
     ]
    }
   ],
   "source": [
    "odmocnina <- \"Ooops...\"\n",
    "odmocnina(2, 2)"
   ]
  },
  {
   "cell_type": "markdown",
   "metadata": {},
   "source": [
    "Kupodivu se nám nic takového nestane, pokud uděláme toto:"
   ]
  },
  {
   "cell_type": "code",
   "execution_count": 15,
   "metadata": {},
   "outputs": [
    {
     "name": "stdout",
     "output_type": "stream",
     "text": [
      "[1] \"Ahoj\"\n"
     ]
    }
   ],
   "source": [
    "print <- \"Ooops...\"\n",
    "print(\"Ahoj\")"
   ]
  },
  {
   "cell_type": "markdown",
   "metadata": {},
   "source": [
    "Interní funkce v R se totiž řídí trochu jinou politikou. Souvisí to s tím, jakým způsobem jsou jednotlivé objekty navzájem uspořádány a jak probíhá vyhledevání funkcí a proměnných, ale o tom si řekneme více trochu později. Pro zvědavce je možné vřele doporučit [tento článek](http://blog.obeautifulcode.com/R/How-R-Searches-And-Finds-Stuff/).\n",
    "\n",
    "Vraťme se teď k syntaxi samotné definice funkce, tedy ke konstruktu:\n",
    "\n",
    "```R\n",
    "function(x, y) {\n",
    "    # tělo funkce\n",
    "}\n",
    "```\n",
    "\n",
    "Klíčovým slovem `function` říkáme programu R, že chceme definovat funkci. Závorky jsou vždy povinné a zapisují se do nich jména jejích parametrů. Parametry tvoří kontext, ve kterém se kód bude vykonávat. Ten se píše do kudrnatých závorek a je interpretován stejným způsobem jako jakýkoliv jiný kód, který v R napíšeme, ale vyhodnotí se ve speciálně vytvořeném prostředí s hodnotami parametrů, které se nastaví při volání. Kód v kudrnatých závorkách se často označuje jako tzv. tělo funkce.\n",
    "\n",
    "Není vždy nutné uzavírat tělo funkce do kudrnatých závorek, takže následující kód je též v pořádku:"
   ]
  },
  {
   "cell_type": "code",
   "execution_count": 16,
   "metadata": {},
   "outputs": [
    {
     "name": "stdout",
     "output_type": "stream",
     "text": [
      "[1] \"Tohle už není tělo funkce.\"\n",
      "[1] \"Ahoj, já jsem ukecaná funkce a tohle je moje tělo.\"\n"
     ]
    }
   ],
   "source": [
    "moje_kecy <- function()\n",
    "    print(\"Ahoj, já jsem ukecaná funkce a tohle je moje tělo.\")\n",
    "    print(\"Tohle už není tělo funkce.\")\n",
    "\n",
    "moje_kecy()"
   ]
  },
  {
   "cell_type": "markdown",
   "metadata": {},
   "source": [
    "V tomto případě se totiž první příkaz po použití klíčového slova `function` automaticky interpretuje jako její tělo. Druhé volání funkce `print` už se vykoná jako normální příkaz hned po definici funkce a je tedy ve výstupu na prvním místě, i když se díky našemu formátování tváří jako součást funkce `moje_kecy`. Pokud tedy potřebujete definovat funkci, která obsahuje více než pouze jeden příkaz, musíte je uzavřít do kudrnatých závorek. Takto uzavřený blok kódu se pak interpretuje jako jeden celek. I když nemusíte kudrnaté závorky vždy používat, je dobré je při definicích vašich funkcí vždy uvést, aby bylo jasné, kde přesně tělo začíná a končí.\n",
    "\n",
    "Toto chování též vysvětluje, proč je třeba uzavřít výraz s definicí funkce do závorek, pokud se pokoušíme o její obskurní přiřazení do proměnné operátorem `->`. Tento operátor je v tomto případě interpretován jako součást těla funkce, i v případě že leží mimo kudrnaté závorky. Následující kód totiž taky platí:"
   ]
  },
  {
   "cell_type": "code",
   "execution_count": 17,
   "metadata": {},
   "outputs": [
    {
     "name": "stdout",
     "output_type": "stream",
     "text": [
      "[1] \"ahoj\"\n"
     ]
    }
   ],
   "source": [
    "{\n",
    "    print(\"ahoj\")\n",
    "    1 + 1\n",
    "    5\n",
    "} -> y"
   ]
  },
  {
   "cell_type": "code",
   "execution_count": 18,
   "metadata": {},
   "outputs": [
    {
     "data": {
      "text/html": [
       "5"
      ],
      "text/latex": [
       "5"
      ],
      "text/markdown": [
       "5"
      ],
      "text/plain": [
       "[1] 5"
      ]
     },
     "metadata": {},
     "output_type": "display_data"
    }
   ],
   "source": [
    "y"
   ]
  },
  {
   "cell_type": "markdown",
   "metadata": {},
   "source": [
    "Kód uzavřený do kudrnatých závorek má totiž zajímavou vlastnost. Příkazy uvnitř se všechny vykonají a hodnota posledního z nich se intepretuje jako výsledek celého bloku. Díky tomu lze získat výsledek funkce a uložit jej do proměnné:"
   ]
  },
  {
   "cell_type": "code",
   "execution_count": 20,
   "metadata": {},
   "outputs": [
    {
     "data": {
      "text/html": [
       "2"
      ],
      "text/latex": [
       "2"
      ],
      "text/markdown": [
       "2"
      ],
      "text/plain": [
       "[1] 2"
      ]
     },
     "metadata": {},
     "output_type": "display_data"
    }
   ],
   "source": [
    "odmocnina <- function(cislo, odmocnitCim) {\n",
    "    # spočítá odmocninu z daného čísla\n",
    "\n",
    "    cislo ^ (1 / odmocnitCim)\n",
    "}\n",
    "\n",
    "výsledek <- odmocnina(4, 2)\n",
    "výsledek"
   ]
  },
  {
   "cell_type": "markdown",
   "metadata": {},
   "source": [
    "Tomu, co z funkce 'vypadne', se říká návratová hodnota a pokud není explicitně řečeno jinak, interpretuje se tak vždy výsledek posledního příkazu z bloku kódu, který tvoří její tělo. V tomto případě tedy výsledek výrazu `cislo ^ (1 / odmocnitCim)`.\n",
    "\n",
    "Pokud chceme specifikovat jinou návratovou hodnotu, můžeme tak učinit funkcí `return`:"
   ]
  },
  {
   "cell_type": "code",
   "execution_count": 22,
   "metadata": {},
   "outputs": [
    {
     "name": "stdout",
     "output_type": "stream",
     "text": [
      "[1] \"hi\"\n"
     ]
    },
    {
     "data": {
      "text/html": [
       "42"
      ],
      "text/latex": [
       "42"
      ],
      "text/markdown": [
       "42"
      ],
      "text/plain": [
       "[1] 42"
      ]
     },
     "metadata": {},
     "output_type": "display_data"
    }
   ],
   "source": [
    "{\n",
    "    print(\"hi\")\n",
    "    return(42)\n",
    "    print(\"ahoj\")\n",
    "}"
   ]
  },
  {
   "cell_type": "markdown",
   "metadata": {},
   "source": [
    "Jak vidíte, funkce `return` též ukončí vykonávání aktuálního bloku kódu a použije námi specifikovaný argument (zde pouze číslo 42) jako návratovou hodnotu. Návratovou hodnotu však nemusíme vždy specifikovat. Funkci 'return' lze totiž použít i bez parametrů:"
   ]
  },
  {
   "cell_type": "code",
   "execution_count": 23,
   "metadata": {},
   "outputs": [
    {
     "name": "stdout",
     "output_type": "stream",
     "text": [
      "[1] \"hi\"\n"
     ]
    },
    {
     "data": {
      "text/plain": [
       "NULL"
      ]
     },
     "metadata": {},
     "output_type": "display_data"
    }
   ],
   "source": [
    "{\n",
    "    print(\"hi\")\n",
    "    return()\n",
    "    print(\"ahoj\")\n",
    "}"
   ]
  },
  {
   "cell_type": "markdown",
   "metadata": {},
   "source": [
    "V tomto případě je návratová hodnota rovna `NULL`, což je v R a jiných programovacích jazycích univerzální objekt pro reprezentaci 'ničeho'. Nulovou návratovou hodnotu má i následující funkce:"
   ]
  },
  {
   "cell_type": "code",
   "execution_count": 24,
   "metadata": {},
   "outputs": [
    {
     "data": {
      "text/plain": [
       "NULL"
      ]
     },
     "metadata": {},
     "output_type": "display_data"
    }
   ],
   "source": [
    "nic <- function() {\n",
    "    # prázdný blok\n",
    "}\n",
    "\n",
    "nic()"
   ]
  },
  {
   "cell_type": "markdown",
   "metadata": {},
   "source": [
    "Praktické využití funkce `return` a hodnoty `NULL` vám teď zřejmě uniká, ale vše se vyjasní v další kapitole, kde si představíme [řídící struktury](#%C5%98%C3%ADd%C3%ADc%C3%AD-struktury).\n",
    "\n",
    "Na závěr ještě několik poznámek k volání funkcí. Už jsme si ukázali, že pokud chceme vykonat blok funkce, musíme vždy specifikovat kontext v podobě jejích parametrů (pokud tedy funkce nějaké má): "
   ]
  },
  {
   "cell_type": "code",
   "execution_count": 25,
   "metadata": {},
   "outputs": [
    {
     "data": {
      "text/html": [
       "1.73205080756888"
      ],
      "text/latex": [
       "1.73205080756888"
      ],
      "text/markdown": [
       "1.73205080756888"
      ],
      "text/plain": [
       "[1] 1.732051"
      ]
     },
     "metadata": {},
     "output_type": "display_data"
    }
   ],
   "source": [
    "odmocnina(3, 2)"
   ]
  },
  {
   "cell_type": "markdown",
   "metadata": {},
   "source": [
    "Parametry (nebo také argumenty) můžeme řadit do dvou kategorií:\n",
    "\n",
    "1. poziční\n",
    "2. pojmenované\n",
    "\n",
    "My jsme zatím v našem kódu používali pouze agrumenty poziční, ale naší funkci `odmocnina` bychom mohli též zavolat následujícím způsobem pomocí pojmenovaných argumentů:"
   ]
  },
  {
   "cell_type": "code",
   "execution_count": 27,
   "metadata": {},
   "outputs": [
    {
     "data": {
      "text/html": [
       "1.73205080756888"
      ],
      "text/latex": [
       "1.73205080756888"
      ],
      "text/markdown": [
       "1.73205080756888"
      ],
      "text/plain": [
       "[1] 1.732051"
      ]
     },
     "metadata": {},
     "output_type": "display_data"
    }
   ],
   "source": [
    "odmocnina(odmocnitCim = 2, cislo = 3)"
   ]
  },
  {
   "cell_type": "markdown",
   "metadata": {},
   "source": [
    "Všimněte si, že v případě pojmenovaných argumentů není třeba, aby byly argumenty uvedeny ve stejném pořadí jako v definici funkce. Vidíme zde i další význam operátoru `=`, který zde slouží jako operátor pro přiřazení hodnoty do parametru funkce. Parametry funkce totiž žijí pouze v kontextu dané funkce, na rozdíl od běžných proměnných.\n",
    "\n",
    "Pojmenované a poziční argumenty lze též kombinovat:"
   ]
  },
  {
   "cell_type": "code",
   "execution_count": 28,
   "metadata": {},
   "outputs": [
    {
     "data": {
      "text/html": [
       "1.73205080756888"
      ],
      "text/latex": [
       "1.73205080756888"
      ],
      "text/markdown": [
       "1.73205080756888"
      ],
      "text/plain": [
       "[1] 1.732051"
      ]
     },
     "metadata": {},
     "output_type": "display_data"
    }
   ],
   "source": [
    "odmocnina(3, odmocnitCim = 2)"
   ]
  },
  {
   "cell_type": "markdown",
   "metadata": {},
   "source": [
    "V jazyce R dokonce ani není třeba zadávat poziční argumenty před pojmenovanými jako v jiných jazycích. V následujícím případě program sám uhodne, co jste chtěli daným voláním říci:"
   ]
  },
  {
   "cell_type": "code",
   "execution_count": 29,
   "metadata": {},
   "outputs": [
    {
     "data": {
      "text/html": [
       "1.73205080756888"
      ],
      "text/latex": [
       "1.73205080756888"
      ],
      "text/markdown": [
       "1.73205080756888"
      ],
      "text/plain": [
       "[1] 1.732051"
      ]
     },
     "metadata": {},
     "output_type": "display_data"
    }
   ],
   "source": [
    "odmocnina(odmocnitCim = 2, 3)"
   ]
  },
  {
   "cell_type": "markdown",
   "metadata": {},
   "source": [
    "Pro přehlednost je však vždy dobré nejprve uvést poziční argumenty a až potom argumenty pojmenované, neboť poziční argumenty jsou zpravidla ty nejdůležitější, které je vždy třeba při volání funkce dodat. Funkce totiž mohou být definovány i s implicitními hodnotami argumentů. Naší funkci `odmocnina` bychom totiž mohli definovat a volat i takto:"
   ]
  },
  {
   "cell_type": "code",
   "execution_count": 33,
   "metadata": {},
   "outputs": [
    {
     "data": {
      "text/html": [
       "1.4142135623731"
      ],
      "text/latex": [
       "1.4142135623731"
      ],
      "text/markdown": [
       "1.4142135623731"
      ],
      "text/plain": [
       "[1] 1.414214"
      ]
     },
     "metadata": {},
     "output_type": "display_data"
    },
    {
     "data": {
      "text/html": [
       "1.25992104989487"
      ],
      "text/latex": [
       "1.25992104989487"
      ],
      "text/markdown": [
       "1.25992104989487"
      ],
      "text/plain": [
       "[1] 1.259921"
      ]
     },
     "metadata": {},
     "output_type": "display_data"
    },
    {
     "data": {
      "text/html": [
       "1.25992104989487"
      ],
      "text/latex": [
       "1.25992104989487"
      ],
      "text/markdown": [
       "1.25992104989487"
      ],
      "text/plain": [
       "[1] 1.259921"
      ]
     },
     "metadata": {},
     "output_type": "display_data"
    }
   ],
   "source": [
    "odmocnina <- function(cislo, odmocnitCim = 2) {\n",
    "    # spočítá odmocninu z daného čísla\n",
    "\n",
    "    cislo ^ (1 / odmocnitCim)\n",
    "}\n",
    "\n",
    "odmocnina(2)\n",
    "odmocnina(2, 3)\n",
    "odmocnina(2, odmocnitCim = 3)"
   ]
  },
  {
   "cell_type": "markdown",
   "metadata": {},
   "source": [
    "Pokud tedy má funkce nastavenou implicitní hodnotu parametru a tento parametr není při jejím volání nastaven uživatelem, použije se při vykonávání právě tato implicitní hodnota.\n",
    "\n",
    "Poslední věc kterou si o funkcích řekneme bude k samotnému kontextu jejího vykonávávní. Dříve bylo řečeno, že funkce se vždy vykonává v kontextu jejích argumentů, ale v R to není úplně pravda. Následující funkci totiž můžeme v klidu nadefinovat a zavolat:"
   ]
  },
  {
   "cell_type": "code",
   "execution_count": 40,
   "metadata": {
    "collapsed": true
   },
   "outputs": [],
   "source": [
    "show_x <- function () {print(x)}"
   ]
  },
  {
   "cell_type": "code",
   "execution_count": 41,
   "metadata": {},
   "outputs": [
    {
     "name": "stdout",
     "output_type": "stream",
     "text": [
      "[1] 5\n"
     ]
    }
   ],
   "source": [
    "show_x()"
   ]
  },
  {
   "cell_type": "markdown",
   "metadata": {},
   "source": [
    "Možná jste to již zapomněli, ale v [předchozí kapitole](#Prom%C4%9Bnn%C3%A9-a-datov%C3%A9-typy) jsme si nadefinovali proměnnou `x` a postupně do ní ukládali různé hodnoty. R se tedy při vyhledávání proměnných neomezuje pouze na svoje parametry a kontext, ale pokud nějakou proměnnou nenajde zkusí to i tzv. 'výše', což v tomto případě znamená kontext našeho celého programu.\n",
    "\n",
    "Kontext není v R pouze nějaký abstraktní pojem, ale lze si na něj i přímo sáhnout:"
   ]
  },
  {
   "cell_type": "code",
   "execution_count": 45,
   "metadata": {},
   "outputs": [
    {
     "name": "stdout",
     "output_type": "stream",
     "text": [
      "<environment: R_GlobalEnv>\n"
     ]
    },
    {
     "data": {
      "text/html": [
       "<ol class=list-inline>\n",
       "\t<li>'a'</li>\n",
       "\t<li>'kontext'</li>\n",
       "\t<li>'moje_kecy'</li>\n",
       "\t<li>'nic'</li>\n",
       "\t<li>'odmocnina'</li>\n",
       "\t<li>'odmocnina_jinak'</li>\n",
       "\t<li>'print'</li>\n",
       "\t<li>'show_x'</li>\n",
       "\t<li>'spit_out'</li>\n",
       "\t<li>'výsledek'</li>\n",
       "\t<li>'x'</li>\n",
       "\t<li>'y'</li>\n",
       "</ol>\n"
      ],
      "text/latex": [
       "\\begin{enumerate*}\n",
       "\\item 'a'\n",
       "\\item 'kontext'\n",
       "\\item 'moje\\_kecy'\n",
       "\\item 'nic'\n",
       "\\item 'odmocnina'\n",
       "\\item 'odmocnina\\_jinak'\n",
       "\\item 'print'\n",
       "\\item 'show\\_x'\n",
       "\\item 'spit\\_out'\n",
       "\\item 'výsledek'\n",
       "\\item 'x'\n",
       "\\item 'y'\n",
       "\\end{enumerate*}\n"
      ],
      "text/markdown": [
       "1. 'a'\n",
       "2. 'kontext'\n",
       "3. 'moje_kecy'\n",
       "4. 'nic'\n",
       "5. 'odmocnina'\n",
       "6. 'odmocnina_jinak'\n",
       "7. 'print'\n",
       "8. 'show_x'\n",
       "9. 'spit_out'\n",
       "10. 'výsledek'\n",
       "11. 'x'\n",
       "12. 'y'\n",
       "\n",
       "\n"
      ],
      "text/plain": [
       " [1] \"a\"               \"kontext\"         \"moje_kecy\"       \"nic\"            \n",
       " [5] \"odmocnina\"       \"odmocnina_jinak\" \"print\"           \"show_x\"         \n",
       " [9] \"spit_out\"        \"výsledek\"        \"x\"               \"y\"              "
      ]
     },
     "metadata": {},
     "output_type": "display_data"
    }
   ],
   "source": [
    "kontext = environment() # získej aktuálně aktivní prostředí\n",
    "print(kontext)\n",
    "ls(envir = kontext) # vypiš proměnné"
   ]
  },
  {
   "cell_type": "markdown",
   "metadata": {},
   "source": [
    "Proměnné totiž v R 'žijí' vždy v nějakém prostředí (environment). Pro všechny proměnné v našem programu je to vždy implicitně globální prostředí (`R_GlobalEnv`). Když zavoláme funkci, tak se pro blok jejího kódu vytvoří prostředí nové, které je podřazené prostředí, ze kterého byla funkce zavolána. Díky tomu se R při interpretaci vašich příkazů může pohybovat skrz různé kontexty a podaří se mu tak naléz i proměnné, které funkce nemá přímo k dispozici ve svém vlastním prostředí. Díky stejné vlastnosti lze ve funkci `show_x` též použít funkci `print` bez toho aniž bychom jí museli v těle funkce nějak definovat. Vzájemná organizace prostředí je poměrně složitá a mi se jí zde nebudeme podrobně věnovat, ale opět lze vřele doporučit rozsáhlý [článek](http://blog.obeautifulcode.com/R/How-R-Searches-And-Finds-Stuff/), který se tímto zabývá. Na závěr ještě jeden příklad k tomuto tématu:"
   ]
  },
  {
   "cell_type": "code",
   "execution_count": 57,
   "metadata": {},
   "outputs": [
    {
     "name": "stdout",
     "output_type": "stream",
     "text": [
      "[1] \"a (globální)\"\n",
      "[1] \"c_ (globální)\"\n",
      "[1] \"a (ve funkci)\"\n",
      "[1] \"a (globální)\"\n",
      "[1] \"c_ (ve funkci)\"\n"
     ]
    },
    {
     "ename": "ERROR",
     "evalue": "Error in eval(expr, envir, enclos): object 'b' not found\n",
     "output_type": "error",
     "traceback": [
      "Error in eval(expr, envir, enclos): object 'b' not found\nTraceback:\n"
     ]
    }
   ],
   "source": [
    "a <- \"a (globální)\"\n",
    "c_ <- \"c_ (globální)\"\n",
    "\n",
    "printer <- function() {\n",
    "    a <- \"a (ve funkci)\"\n",
    "    print(a)\n",
    "    b <- \"b (ve funkci)\"\n",
    "    c_ <<- \"c_ (ve funkci)\"\n",
    "}\n",
    "\n",
    "print(a)\n",
    "print(c_)\n",
    "printer()\n",
    "print(a)\n",
    "print(c_)\n",
    "b"
   ]
  },
  {
   "cell_type": "markdown",
   "metadata": {},
   "source": [
    "Proměnné se tedy vždy zapisují pouze do kontextu, ve kterém k přiřazení dochází. Hierarchie prostředí se prohledává pouze přičtení. Všechny proměnné, které vytvoříte ve funkci, jsou dostupné pouze v jejím těle. Vyjímkou je pouze operátor `<<-`, který vyhledá \n",
    "\n",
    "TODO: finish this\n",
    "\n",
    "http://adv-r.had.co.nz/Functions.html"
   ]
  },
  {
   "cell_type": "markdown",
   "metadata": {},
   "source": [
    "## Řídící struktury\n",
    "\n",
    "TODO"
   ]
  },
  {
   "cell_type": "markdown",
   "metadata": {},
   "source": [
    "## Dokumentace\n",
    "\n",
    "R má rozsáhlou dokumentaci a kdykoliv si nevíte rady s nějakou funkcí, je veliká šance, že odpověď najdete právě tam. Pokud přesně víte, jak se vaše funkce jmenuje stačí vám dotázat se funkce `help`:"
   ]
  },
  {
   "cell_type": "code",
   "execution_count": null,
   "metadata": {
    "collapsed": true
   },
   "outputs": [],
   "source": [
    "help(\"typeof\")"
   ]
  },
  {
   "cell_type": "code",
   "execution_count": null,
   "metadata": {
    "collapsed": true
   },
   "outputs": [],
   "source": [
    "help(\"class\")"
   ]
  },
  {
   "cell_type": "code",
   "execution_count": null,
   "metadata": {
    "collapsed": true
   },
   "outputs": [],
   "source": [
    "apropos(\"svd\")"
   ]
  },
  {
   "cell_type": "code",
   "execution_count": null,
   "metadata": {
    "collapsed": true
   },
   "outputs": [],
   "source": []
  }
 ],
 "metadata": {
  "kernelspec": {
   "display_name": "R",
   "language": "R",
   "name": "ir"
  },
  "language_info": {
   "codemirror_mode": "r",
   "file_extension": ".r",
   "mimetype": "text/x-r-source",
   "name": "R",
   "pygments_lexer": "r",
   "version": "3.3.2"
  }
 },
 "nbformat": 4,
 "nbformat_minor": 2
}
