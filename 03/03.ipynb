{
 "cells": [
  {
   "cell_type": "markdown",
   "metadata": {
    "toc": "true"
   },
   "source": [
    " # Table of Contents\n",
    "<div class=\"toc\" style=\"margin-top: 1em;\"><ul class=\"toc-item\" id=\"toc-level0\"><li><span><a href=\"http://localhost:8888/notebooks/03/03.ipynb#Operátory\" data-toc-modified-id=\"Operátory-1\"><span class=\"toc-item-num\">1&nbsp;&nbsp;</span>Operátory</a></span></li><li><span><a href=\"http://localhost:8888/notebooks/03/03.ipynb#Proměnné\" data-toc-modified-id=\"Proměnné-2\"><span class=\"toc-item-num\">2&nbsp;&nbsp;</span>Proměnné</a></span></li><li><span><a href=\"http://localhost:8888/notebooks/03/03.ipynb#Datové-typy\" data-toc-modified-id=\"Datové-typy-3\"><span class=\"toc-item-num\">3&nbsp;&nbsp;</span>Datové typy</a></span><ul class=\"toc-item\"><li><span><a href=\"http://localhost:8888/notebooks/03/03.ipynb#Vektory\" data-toc-modified-id=\"Vektory-3.1\"><span class=\"toc-item-num\">3.1&nbsp;&nbsp;</span>Vektory</a></span></li></ul></li><li><span><a href=\"http://localhost:8888/notebooks/03/03.ipynb#Funkce\" data-toc-modified-id=\"Funkce-4\"><span class=\"toc-item-num\">4&nbsp;&nbsp;</span>Funkce</a></span><ul class=\"toc-item\"><li><span><a href=\"http://localhost:8888/notebooks/03/03.ipynb#Parametry-a-volání\" data-toc-modified-id=\"Parametry-a-volání-4.1\"><span class=\"toc-item-num\">4.1&nbsp;&nbsp;</span>Parametry a volání</a></span></li><li><span><a href=\"http://localhost:8888/notebooks/03/03.ipynb#Kontext\" data-toc-modified-id=\"Kontext-4.2\"><span class=\"toc-item-num\">4.2&nbsp;&nbsp;</span>Kontext</a></span></li></ul></li><li><span><a href=\"http://localhost:8888/notebooks/03/03.ipynb#Řídící-struktury\" data-toc-modified-id=\"Řídící-struktury-5\"><span class=\"toc-item-num\">5&nbsp;&nbsp;</span>Řídící struktury</a></span><ul class=\"toc-item\"><li><span><a href=\"http://localhost:8888/notebooks/03/03.ipynb#Větvení-programu-pomocí-if-a-else\" data-toc-modified-id=\"Větvení-programu-pomocí-if-a-else-5.1\"><span class=\"toc-item-num\">5.1&nbsp;&nbsp;</span>Větvení programu pomocí if a else</a></span></li><li><span><a href=\"http://localhost:8888/notebooks/03/03.ipynb#Cykly\" data-toc-modified-id=\"Cykly-5.2\"><span class=\"toc-item-num\">5.2&nbsp;&nbsp;</span>Cykly</a></span><ul class=\"toc-item\"><li><span><a href=\"http://localhost:8888/notebooks/03/03.ipynb#For\" data-toc-modified-id=\"For-5.2.1\"><span class=\"toc-item-num\">5.2.1&nbsp;&nbsp;</span>For</a></span></li><li><span><a href=\"http://localhost:8888/notebooks/03/03.ipynb#While\" data-toc-modified-id=\"While-5.2.2\"><span class=\"toc-item-num\">5.2.2&nbsp;&nbsp;</span>While</a></span></li><li><span><a href=\"http://localhost:8888/notebooks/03/03.ipynb#Repeat\" data-toc-modified-id=\"Repeat-5.2.3\"><span class=\"toc-item-num\">5.2.3&nbsp;&nbsp;</span>Repeat</a></span></li></ul></li><li><span><a href=\"http://localhost:8888/notebooks/03/03.ipynb#Poznámka-k-rychlosti-a-psaní-efektivního-kódu\" data-toc-modified-id=\"Poznámka-k-rychlosti-a-psaní-efektivního-kódu-5.3\"><span class=\"toc-item-num\">5.3&nbsp;&nbsp;</span>Poznámka k rychlosti a psaní efektivního kódu</a></span></li></ul></li><li><span><a href=\"http://localhost:8888/notebooks/03/03.ipynb#Hledání-v-dokumentaci\" data-toc-modified-id=\"Hledání-v-dokumentaci-6\"><span class=\"toc-item-num\">6&nbsp;&nbsp;</span>Hledání v dokumentaci</a></span></li></ul></div>"
   ]
  },
  {
   "cell_type": "markdown",
   "metadata": {},
   "source": [
    "# Základy jazyka R\n",
    "\n",
    "R není jenom obyčejný statistický program, ale zároveň i plnohodnotný programovací jazyk. V tomto tutoriálu si ukážeme to nejzákladnější, co budeme z tohoto jazyka potřebovat pro psaní vlastních programů. \n",
    "\n",
    "## Operátory\n",
    "\n",
    "Dříve už jsme si tak trochu ukázali, jak v R asi provádět základní výpočty. Pojďme teď na to trochu systematičtěji:"
   ]
  },
  {
   "cell_type": "code",
   "execution_count": 1,
   "metadata": {},
   "outputs": [
    {
     "data": {
      "text/html": [
       "6"
      ],
      "text/latex": [
       "6"
      ],
      "text/markdown": [
       "6"
      ],
      "text/plain": [
       "[1] 6"
      ]
     },
     "metadata": {},
     "output_type": "display_data"
    },
    {
     "data": {
      "text/html": [
       "-4"
      ],
      "text/latex": [
       "-4"
      ],
      "text/markdown": [
       "-4"
      ],
      "text/plain": [
       "[1] -4"
      ]
     },
     "metadata": {},
     "output_type": "display_data"
    },
    {
     "data": {
      "text/html": [
       "12"
      ],
      "text/latex": [
       "12"
      ],
      "text/markdown": [
       "12"
      ],
      "text/plain": [
       "[1] 12"
      ]
     },
     "metadata": {},
     "output_type": "display_data"
    },
    {
     "data": {
      "text/html": [
       "12.5"
      ],
      "text/latex": [
       "12.5"
      ],
      "text/markdown": [
       "12.5"
      ],
      "text/plain": [
       "[1] 12.5"
      ]
     },
     "metadata": {},
     "output_type": "display_data"
    },
    {
     "data": {
      "text/html": [
       "256"
      ],
      "text/latex": [
       "256"
      ],
      "text/markdown": [
       "256"
      ],
      "text/plain": [
       "[1] 256"
      ]
     },
     "metadata": {},
     "output_type": "display_data"
    },
    {
     "data": {
      "text/html": [
       "1"
      ],
      "text/latex": [
       "1"
      ],
      "text/markdown": [
       "1"
      ],
      "text/plain": [
       "[1] 1"
      ]
     },
     "metadata": {},
     "output_type": "display_data"
    },
    {
     "data": {
      "text/html": [
       "2"
      ],
      "text/latex": [
       "2"
      ],
      "text/markdown": [
       "2"
      ],
      "text/plain": [
       "[1] 2"
      ]
     },
     "metadata": {},
     "output_type": "display_data"
    },
    {
     "data": {
      "text/html": [
       "-5"
      ],
      "text/latex": [
       "-5"
      ],
      "text/markdown": [
       "-5"
      ],
      "text/plain": [
       "[1] -5"
      ]
     },
     "metadata": {},
     "output_type": "display_data"
    }
   ],
   "source": [
    "# základní matematické operátory\n",
    "3 + 3 # sčítání\n",
    "1 - 5 # odčítání\n",
    "3 * 4 # násobení\n",
    "25 / 2 # dělení\n",
    "\n",
    "# další číselné operátory\n",
    "2 ^ 8 # mocnina\n",
    "3 %% 2 # modulo (zbytek po dělení)\n",
    "5 %/% 2 # dělení beze zbytku\n",
    "-5 # unární mínus (násobení mínus jedničkou)"
   ]
  },
  {
   "cell_type": "markdown",
   "metadata": {},
   "source": [
    "Výsledky programu výše asi nikoho nepřekvapí a pokud jste již někdy používali nějaký matematický program, tak vás ani synatxe nijak zvlášť nevyvede z míry. \n",
    "\n",
    "Mimochodem veškerý obsah, který se nachází za znakem `#`, je až do konce řádky při interpretaci vašeho kódu ignorován. Této vlastnosti se doporučuje často využívat, neboť po čase budete mít i vy sami problém číst váš vlastní kód a každá indicie, která vám pomůže rozšifrovat, co jste vlastně při psaní vašeho programu zamýšleli, se vám bude hodit. Minimálně tak alespoň můžete pobavit někoho, kdo bude číst kód po vás, jako například některé [komentáře](https://openvz.org/Kernel_code_quotes) v jádře systému Linux.\n",
    "\n",
    "Jako každý jiný programovací jazyk, R též zvládá i porovnávací a logické operátory:"
   ]
  },
  {
   "cell_type": "code",
   "execution_count": 2,
   "metadata": {},
   "outputs": [
    {
     "data": {
      "text/html": [
       "TRUE"
      ],
      "text/latex": [
       "TRUE"
      ],
      "text/markdown": [
       "TRUE"
      ],
      "text/plain": [
       "[1] TRUE"
      ]
     },
     "metadata": {},
     "output_type": "display_data"
    },
    {
     "data": {
      "text/html": [
       "FALSE"
      ],
      "text/latex": [
       "FALSE"
      ],
      "text/markdown": [
       "FALSE"
      ],
      "text/plain": [
       "[1] FALSE"
      ]
     },
     "metadata": {},
     "output_type": "display_data"
    },
    {
     "data": {
      "text/html": [
       "TRUE"
      ],
      "text/latex": [
       "TRUE"
      ],
      "text/markdown": [
       "TRUE"
      ],
      "text/plain": [
       "[1] TRUE"
      ]
     },
     "metadata": {},
     "output_type": "display_data"
    },
    {
     "data": {
      "text/html": [
       "FALSE"
      ],
      "text/latex": [
       "FALSE"
      ],
      "text/markdown": [
       "FALSE"
      ],
      "text/plain": [
       "[1] FALSE"
      ]
     },
     "metadata": {},
     "output_type": "display_data"
    },
    {
     "data": {
      "text/html": [
       "FALSE"
      ],
      "text/latex": [
       "FALSE"
      ],
      "text/markdown": [
       "FALSE"
      ],
      "text/plain": [
       "[1] FALSE"
      ]
     },
     "metadata": {},
     "output_type": "display_data"
    },
    {
     "data": {
      "text/html": [
       "TRUE"
      ],
      "text/latex": [
       "TRUE"
      ],
      "text/markdown": [
       "TRUE"
      ],
      "text/plain": [
       "[1] TRUE"
      ]
     },
     "metadata": {},
     "output_type": "display_data"
    }
   ],
   "source": [
    "3 > 2 # větší\n",
    "3 < 2 # menší\n",
    "3 == 3 # rovno\n",
    "!TRUE # negace\n",
    "T && F # and\n",
    "T || FALSE # or"
   ]
  },
  {
   "cell_type": "markdown",
   "metadata": {},
   "source": [
    "Jak je demonstrováno v programu výše, jazyk též nabízí zkrácené verze konstant `TRUE` a `FALSE`, `T` a `F`. Pro exkluzivní or v R operátor neexistuje, avšak lze použít funkci `xor`:"
   ]
  },
  {
   "cell_type": "code",
   "execution_count": 3,
   "metadata": {},
   "outputs": [
    {
     "data": {
      "text/html": [
       "FALSE"
      ],
      "text/latex": [
       "FALSE"
      ],
      "text/markdown": [
       "FALSE"
      ],
      "text/plain": [
       "[1] FALSE"
      ]
     },
     "metadata": {},
     "output_type": "display_data"
    }
   ],
   "source": [
    "xor(TRUE, TRUE) # exkluzivní or"
   ]
  },
  {
   "cell_type": "markdown",
   "metadata": {},
   "source": [
    "Při psaní složitějších výrazů je též třeba dbát na [pořadí a asociativitu](https://www.programiz.com/r-programming/precedence-associativity) operátorů a popřípadě si pomoci závorkami. Například:"
   ]
  },
  {
   "cell_type": "code",
   "execution_count": 4,
   "metadata": {},
   "outputs": [
    {
     "data": {
      "text/html": [
       "32"
      ],
      "text/latex": [
       "32"
      ],
      "text/markdown": [
       "32"
      ],
      "text/plain": [
       "[1] 32"
      ]
     },
     "metadata": {},
     "output_type": "display_data"
    },
    {
     "data": {
      "text/html": [
       "2"
      ],
      "text/latex": [
       "2"
      ],
      "text/markdown": [
       "2"
      ],
      "text/plain": [
       "[1] 2"
      ]
     },
     "metadata": {},
     "output_type": "display_data"
    }
   ],
   "source": [
    "256 ^ 1/8\n",
    "256 ^ (1/8)"
   ]
  },
  {
   "cell_type": "markdown",
   "metadata": {},
   "source": [
    "nebo"
   ]
  },
  {
   "cell_type": "code",
   "execution_count": 5,
   "metadata": {},
   "outputs": [
    {
     "data": {
      "text/html": [
       "1"
      ],
      "text/latex": [
       "1"
      ],
      "text/markdown": [
       "1"
      ],
      "text/plain": [
       "[1] 1"
      ]
     },
     "metadata": {},
     "output_type": "display_data"
    },
    {
     "data": {
      "text/html": [
       "9"
      ],
      "text/latex": [
       "9"
      ],
      "text/markdown": [
       "9"
      ],
      "text/plain": [
       "[1] 9"
      ]
     },
     "metadata": {},
     "output_type": "display_data"
    }
   ],
   "source": [
    "15 / 5 / 3\n",
    "15 / (5 / 3)"
   ]
  },
  {
   "cell_type": "markdown",
   "metadata": {},
   "source": [
    "V budoucnu se ještě setkáme s dalšími operátory, které se používají s komplexnějšími datovými strukturami, ale ty zatím necháme být.\n",
    "\n",
    "## Proměnné\n",
    "\n",
    "Jak přiřazovat proměnné jsme si už dříve také ukázali:"
   ]
  },
  {
   "cell_type": "code",
   "execution_count": 6,
   "metadata": {},
   "outputs": [
    {
     "data": {
      "text/html": [
       "1"
      ],
      "text/latex": [
       "1"
      ],
      "text/markdown": [
       "1"
      ],
      "text/plain": [
       "[1] 1"
      ]
     },
     "metadata": {},
     "output_type": "display_data"
    }
   ],
   "source": [
    "x <- 1\n",
    "x"
   ]
  },
  {
   "cell_type": "markdown",
   "metadata": {},
   "source": [
    "Toto je preferovaný a nejčastější způsob, avšak přiřazovacích operátorů je více:"
   ]
  },
  {
   "cell_type": "code",
   "execution_count": 7,
   "metadata": {},
   "outputs": [
    {
     "data": {
      "text/html": [
       "2"
      ],
      "text/latex": [
       "2"
      ],
      "text/markdown": [
       "2"
      ],
      "text/plain": [
       "[1] 2"
      ]
     },
     "metadata": {},
     "output_type": "display_data"
    },
    {
     "data": {
      "text/html": [
       "3"
      ],
      "text/latex": [
       "3"
      ],
      "text/markdown": [
       "3"
      ],
      "text/plain": [
       "[1] 3"
      ]
     },
     "metadata": {},
     "output_type": "display_data"
    }
   ],
   "source": [
    "x = x + 1\n",
    "x\n",
    "x <<- x + 1\n",
    "x"
   ]
  },
  {
   "cell_type": "markdown",
   "metadata": {},
   "source": [
    "Operátor `=` byl do R přidán později a má stejný význam jako `<-`. Doporučuje se však používat starší variantu, ze které je vždy zřejmé co a kam přiřazujete, neboť tento operátor má 'směr'. Lze jej spolu s operátorem `<<-` totiž použít i takto: "
   ]
  },
  {
   "cell_type": "code",
   "execution_count": 8,
   "metadata": {},
   "outputs": [
    {
     "data": {
      "text/html": [
       "4"
      ],
      "text/latex": [
       "4"
      ],
      "text/markdown": [
       "4"
      ],
      "text/plain": [
       "[1] 4"
      ]
     },
     "metadata": {},
     "output_type": "display_data"
    },
    {
     "data": {
      "text/html": [
       "5"
      ],
      "text/latex": [
       "5"
      ],
      "text/markdown": [
       "5"
      ],
      "text/plain": [
       "[1] 5"
      ]
     },
     "metadata": {},
     "output_type": "display_data"
    }
   ],
   "source": [
    "x + 1 -> x\n",
    "x\n",
    "x + 1 ->> x\n",
    "x"
   ]
  },
  {
   "cell_type": "markdown",
   "metadata": {},
   "source": [
    "Operátory `<<-` a `->>` mají speciální význam a souvisí s pokročilejší znalostí jazyka R a budou vysvětleny později. Ve většině případů je však nebudete potřebovat. Mohou vám jen někdy trochu usnadnit práci.\n",
    "\n",
    "Na závěr ještě krátká poznámka k pojmenovávání proměnných. Jazyk R je velice permisivní a dovolí vám pojmenovávat vaše proměnné skoro libovolným způsobem (pokud to tedy zrovna nějakým způsobem nekoliduje se syntaxí jazyka). I přesto je však dobré dodržovat při pojmenovávání vašich proměnných nějaký standard, který budete ve vašich programech dodržovat. V tom, který standard by měl být ten nejstandardnější, si [nikdo není jistý](https://stackoverflow.com/questions/1944910/what-is-your-preferred-style-for-naming-variables-in-r), ale ať si vyberete kterýkoliv způsob, měli byste jej ve svých skriptech dodržovat. V tomto tutoriálu budeme používat jména, kde jsou jednotlivá slova oddělena podtržítkem (až na názvy parametrů funkcí, kde budeme používat tzv. `camelCase`, viz v sekci [Funkce](#Funkce) níže). Ve jménech se též vždy omezíme pouze na alfanumerické znaky.\n",
    "\n",
    "## Datové typy\n",
    "\n",
    "Každá proměnná i konstanta v R má daný nějaký datový typ, který určuje její vnitřní uspořádání v paměti počítače. My jsme zatím pracovali jen s těmi nejzákladnějšími:"
   ]
  },
  {
   "cell_type": "code",
   "execution_count": 9,
   "metadata": {},
   "outputs": [
    {
     "data": {
      "text/html": [
       "'character'"
      ],
      "text/latex": [
       "'character'"
      ],
      "text/markdown": [
       "'character'"
      ],
      "text/plain": [
       "[1] \"character\""
      ]
     },
     "metadata": {},
     "output_type": "display_data"
    },
    {
     "data": {
      "text/html": [
       "'double'"
      ],
      "text/latex": [
       "'double'"
      ],
      "text/markdown": [
       "'double'"
      ],
      "text/plain": [
       "[1] \"double\""
      ]
     },
     "metadata": {},
     "output_type": "display_data"
    },
    {
     "data": {
      "text/html": [
       "'integer'"
      ],
      "text/latex": [
       "'integer'"
      ],
      "text/markdown": [
       "'integer'"
      ],
      "text/plain": [
       "[1] \"integer\""
      ]
     },
     "metadata": {},
     "output_type": "display_data"
    },
    {
     "data": {
      "text/html": [
       "'double'"
      ],
      "text/latex": [
       "'double'"
      ],
      "text/markdown": [
       "'double'"
      ],
      "text/plain": [
       "[1] \"double\""
      ]
     },
     "metadata": {},
     "output_type": "display_data"
    },
    {
     "data": {
      "text/html": [
       "'logical'"
      ],
      "text/latex": [
       "'logical'"
      ],
      "text/markdown": [
       "'logical'"
      ],
      "text/plain": [
       "[1] \"logical\""
      ]
     },
     "metadata": {},
     "output_type": "display_data"
    },
    {
     "data": {
      "text/html": [
       "'complex'"
      ],
      "text/latex": [
       "'complex'"
      ],
      "text/markdown": [
       "'complex'"
      ],
      "text/plain": [
       "[1] \"complex\""
      ]
     },
     "metadata": {},
     "output_type": "display_data"
    }
   ],
   "source": [
    "typeof(\"ahoj\")\n",
    "typeof(1)\n",
    "typeof(1L)\n",
    "typeof(1.5)\n",
    "typeof(T)\n",
    "typeof(1 + 4i)"
   ]
  },
  {
   "cell_type": "markdown",
   "metadata": {},
   "source": [
    "Funkce `typeof` se nám vždy pokusí co nejpřesněji sdělit, o jaký datový typ se jedná. Podobně lze též použít i funkci `class`, která dělá to samé ale na trochu vyšší (více lidské) úrovni:"
   ]
  },
  {
   "cell_type": "code",
   "execution_count": 10,
   "metadata": {},
   "outputs": [
    {
     "data": {
      "text/html": [
       "'character'"
      ],
      "text/latex": [
       "'character'"
      ],
      "text/markdown": [
       "'character'"
      ],
      "text/plain": [
       "[1] \"character\""
      ]
     },
     "metadata": {},
     "output_type": "display_data"
    },
    {
     "data": {
      "text/html": [
       "'numeric'"
      ],
      "text/latex": [
       "'numeric'"
      ],
      "text/markdown": [
       "'numeric'"
      ],
      "text/plain": [
       "[1] \"numeric\""
      ]
     },
     "metadata": {},
     "output_type": "display_data"
    },
    {
     "data": {
      "text/html": [
       "'integer'"
      ],
      "text/latex": [
       "'integer'"
      ],
      "text/markdown": [
       "'integer'"
      ],
      "text/plain": [
       "[1] \"integer\""
      ]
     },
     "metadata": {},
     "output_type": "display_data"
    },
    {
     "data": {
      "text/html": [
       "'numeric'"
      ],
      "text/latex": [
       "'numeric'"
      ],
      "text/markdown": [
       "'numeric'"
      ],
      "text/plain": [
       "[1] \"numeric\""
      ]
     },
     "metadata": {},
     "output_type": "display_data"
    },
    {
     "data": {
      "text/html": [
       "'logical'"
      ],
      "text/latex": [
       "'logical'"
      ],
      "text/markdown": [
       "'logical'"
      ],
      "text/plain": [
       "[1] \"logical\""
      ]
     },
     "metadata": {},
     "output_type": "display_data"
    },
    {
     "data": {
      "text/html": [
       "'complex'"
      ],
      "text/latex": [
       "'complex'"
      ],
      "text/markdown": [
       "'complex'"
      ],
      "text/plain": [
       "[1] \"complex\""
      ]
     },
     "metadata": {},
     "output_type": "display_data"
    }
   ],
   "source": [
    "class(\"ahoj\")\n",
    "class(1)\n",
    "class(1L)\n",
    "class(1.5)\n",
    "class(T)\n",
    "class(1 + 4i)"
   ]
  },
  {
   "cell_type": "markdown",
   "metadata": {},
   "source": [
    "Z příkladů výše je vidět, že všechna čísla v R jsou implicitně reprezentována jako datový typ `double`. Pokud z nějakého důvodu chcete, aby bylo vaše číslo reprezentováno jinak, musíte si to explicitně vyžádat (například písmeno `L` za literálem vašeho čísla z něj udělá obyčejný `integer`; stejně funguje i funkce `as.integer`). R umí též přímo počítat s komplexními čísly, kdybyste někdy měli tu potřebu.\n",
    "\n",
    "### Vektory\n",
    "\n",
    "Skoro v každém moderním programovacím jazyce existují nějaké lineární datové struktury, které uživateli umožňují agregovat data primitivních typů. Většinou jsou to pole, seznamy, vektory a další. Jelikož je program R zaměřen především na analýzu dat, obsahuje tento jazyk velice širokou škálu datových struktur. My si jich velkou část představíme v dalších tutoriálech, ale představme si nyní tu nejjednodušší z nich, vektory. Vektor si můžeme připravit například následujícími způsoby:"
   ]
  },
  {
   "cell_type": "code",
   "execution_count": 11,
   "metadata": {},
   "outputs": [
    {
     "name": "stdout",
     "output_type": "stream",
     "text": [
      "  [1]   1   2   3   4   5   6   7   8   9  10  11  12  13  14  15  16  17  18\n",
      " [19]  19  20  21  22  23  24  25  26  27  28  29  30  31  32  33  34  35  36\n",
      " [37]  37  38  39  40  41  42  43  44  45  46  47  48  49  50  51  52  53  54\n",
      " [55]  55  56  57  58  59  60  61  62  63  64  65  66  67  68  69  70  71  72\n",
      " [73]  73  74  75  76  77  78  79  80  81  82  83  84  85  86  87  88  89  90\n",
      " [91]  91  92  93  94  95  96  97  98  99 100\n",
      "  [1] 100  99  98  97  96  95  94  93  92  91  90  89  88  87  86  85  84  83\n",
      " [19]  82  81  80  79  78  77  76  75  74  73  72  71  70  69  68  67  66  65\n",
      " [37]  64  63  62  61  60  59  58  57  56  55  54  53  52  51  50  49  48  47\n",
      " [55]  46  45  44  43  42  41  40  39  38  37  36  35  34  33  32  31  30  29\n",
      " [73]  28  27  26  25  24  23  22  21  20  19  18  17  16  15  14  13  12  11\n",
      " [91]  10   9   8   7   6   5   4   3   2   1\n",
      " [1] FALSE FALSE FALSE FALSE FALSE FALSE FALSE FALSE FALSE FALSE\n",
      "[1] \"jedna\" \"dvě\"   \"tři\"  \n"
     ]
    }
   ],
   "source": [
    "vektor_čísla <- 1:100 # inicializace operátorem\n",
    "vektor_čísla_opačně <- seq(100, 1) # inicializace pomocí funkce 'seq'\n",
    "vektor_prázdný <- vector(class(T), 10)\n",
    "vektor_řetězce <- c(\"jedna\", \"dvě\", \"tři\") # inicializace pomocí funkce 'c'\n",
    "print(vektor_čísla)\n",
    "print(vektor_čísla_opačně)\n",
    "print(vektor_prázdný)\n",
    "print(vektor_řetězce)"
   ]
  },
  {
   "cell_type": "markdown",
   "metadata": {},
   "source": [
    "Operátor `:` jsme si zatím ještě nepředstavili. Ten může v různých kontextech znamenat různé věci, ale v tomto případě jen zastupuje funkci `seq`, která se pokusí v jednotkových inkrementech vygenerovat vektor obsahující sekvenci čísel v intervalu specifikovaném jejími argumenty. Tato funkcionalita se často hodí pokud například potřebujete rychle vygenerovat nějaká data pro testování nebo jednoduché unikátní identifikátory.\n",
    "\n",
    "K inicializaci vektoru lze též použít funkci `vector`, díky které si například můžete předpřipravit prázdný vektor určité velikosti (v našem příkladě je to vektor logických hodnot o délce 10). Příklad, kde se podobná inicializace může hodit, si ukážeme později.\n",
    "\n",
    "Inicializace pomocí funkce `c` (combine) dělá přesně to, co byste čekali. V defaultním módu se pokusí vzít vaše argumenty a vrátit vám je jako vektor. Takto lze kombinovat téměř cokoliv včetně vektorů samotných:"
   ]
  },
  {
   "cell_type": "code",
   "execution_count": 12,
   "metadata": {},
   "outputs": [
    {
     "name": "stdout",
     "output_type": "stream",
     "text": [
      "[1] \"jedna_1\" \"dvě_1\"   \"tři_1\"   \"jedna_2\" \"dvě_2\"   \"tři_3\"  \n"
     ]
    }
   ],
   "source": [
    "vektor_vektory <- c(c(\"jedna_1\", \"dvě_1\", \"tři_1\"), c(\"jedna_2\", \"dvě_2\", \"tři_3\"))\n",
    "print(vektor_vektory)"
   ]
  },
  {
   "cell_type": "markdown",
   "metadata": {},
   "source": [
    "Všimněte si, že vektor se i při inicializaci z více vektorů tváří jednorozměrně. V R je totiž vektor vždy pouze řada čísel nebo jiných objektů. Po dotazu na dimenze vektoru pomocí funkce `dim` dokonce ani nedostaneme žádnou odpověď:"
   ]
  },
  {
   "cell_type": "code",
   "execution_count": 13,
   "metadata": {},
   "outputs": [
    {
     "data": {
      "text/plain": [
       "NULL"
      ]
     },
     "metadata": {},
     "output_type": "display_data"
    }
   ],
   "source": [
    "dim(vektor_vektory)"
   ]
  },
  {
   "cell_type": "markdown",
   "metadata": {},
   "source": [
    "Vektor má totiž pouze délku:"
   ]
  },
  {
   "cell_type": "code",
   "execution_count": 14,
   "metadata": {},
   "outputs": [
    {
     "data": {
      "text/html": [
       "6"
      ],
      "text/latex": [
       "6"
      ],
      "text/markdown": [
       "6"
      ],
      "text/plain": [
       "[1] 6"
      ]
     },
     "metadata": {},
     "output_type": "display_data"
    }
   ],
   "source": [
    "length(vektor_vektory)"
   ]
  },
  {
   "cell_type": "markdown",
   "metadata": {},
   "source": [
    "Jak je zvykem i v jiných programovacích jazycích, lze k položkám ve vektoru snadno přistupovat pomocí indexů a operátoru `[]` (všimněte si, že R indexuje od jedničky):"
   ]
  },
  {
   "cell_type": "code",
   "execution_count": 15,
   "metadata": {},
   "outputs": [
    {
     "data": {
      "text/html": [
       "'jedna_1'"
      ],
      "text/latex": [
       "'jedna\\_1'"
      ],
      "text/markdown": [
       "'jedna_1'"
      ],
      "text/plain": [
       "[1] \"jedna_1\""
      ]
     },
     "metadata": {},
     "output_type": "display_data"
    },
    {
     "data": {
      "text/html": [
       "'dvě_1'"
      ],
      "text/latex": [
       "'dvě\\_1'"
      ],
      "text/markdown": [
       "'dvě_1'"
      ],
      "text/plain": [
       "[1] \"dvě_1\""
      ]
     },
     "metadata": {},
     "output_type": "display_data"
    }
   ],
   "source": [
    "vektor_vektory[1]\n",
    "vektor_vektory[2]"
   ]
  },
  {
   "cell_type": "markdown",
   "metadata": {},
   "source": [
    "Indexovat lze i vektory samotnými:"
   ]
  },
  {
   "cell_type": "code",
   "execution_count": 16,
   "metadata": {},
   "outputs": [
    {
     "data": {
      "text/html": [
       "<ol class=list-inline>\n",
       "\t<li>'jedna_1'</li>\n",
       "\t<li>'dvě_1'</li>\n",
       "\t<li>'tři_1'</li>\n",
       "</ol>\n"
      ],
      "text/latex": [
       "\\begin{enumerate*}\n",
       "\\item 'jedna\\_1'\n",
       "\\item 'dvě\\_1'\n",
       "\\item 'tři\\_1'\n",
       "\\end{enumerate*}\n"
      ],
      "text/markdown": [
       "1. 'jedna_1'\n",
       "2. 'dvě_1'\n",
       "3. 'tři_1'\n",
       "\n",
       "\n"
      ],
      "text/plain": [
       "[1] \"jedna_1\" \"dvě_1\"   \"tři_1\"  "
      ]
     },
     "metadata": {},
     "output_type": "display_data"
    },
    {
     "data": {
      "text/html": [
       "<ol class=list-inline>\n",
       "\t<li>'jedna_2'</li>\n",
       "\t<li>'dvě_2'</li>\n",
       "\t<li>'tři_3'</li>\n",
       "</ol>\n"
      ],
      "text/latex": [
       "\\begin{enumerate*}\n",
       "\\item 'jedna\\_2'\n",
       "\\item 'dvě\\_2'\n",
       "\\item 'tři\\_3'\n",
       "\\end{enumerate*}\n"
      ],
      "text/markdown": [
       "1. 'jedna_2'\n",
       "2. 'dvě_2'\n",
       "3. 'tři_3'\n",
       "\n",
       "\n"
      ],
      "text/plain": [
       "[1] \"jedna_2\" \"dvě_2\"   \"tři_3\"  "
      ]
     },
     "metadata": {},
     "output_type": "display_data"
    },
    {
     "data": {
      "text/html": [
       "<ol class=list-inline>\n",
       "\t<li>'dvě_1'</li>\n",
       "\t<li>'jedna_2'</li>\n",
       "\t<li>'tři_3'</li>\n",
       "</ol>\n"
      ],
      "text/latex": [
       "\\begin{enumerate*}\n",
       "\\item 'dvě\\_1'\n",
       "\\item 'jedna\\_2'\n",
       "\\item 'tři\\_3'\n",
       "\\end{enumerate*}\n"
      ],
      "text/markdown": [
       "1. 'dvě_1'\n",
       "2. 'jedna_2'\n",
       "3. 'tři_3'\n",
       "\n",
       "\n"
      ],
      "text/plain": [
       "[1] \"dvě_1\"   \"jedna_2\" \"tři_3\"  "
      ]
     },
     "metadata": {},
     "output_type": "display_data"
    },
    {
     "data": {
      "text/html": [
       "<ol class=list-inline>\n",
       "\t<li>'tři_1'</li>\n",
       "\t<li>'dvě_1'</li>\n",
       "\t<li>'jedna_1'</li>\n",
       "</ol>\n"
      ],
      "text/latex": [
       "\\begin{enumerate*}\n",
       "\\item 'tři\\_1'\n",
       "\\item 'dvě\\_1'\n",
       "\\item 'jedna\\_1'\n",
       "\\end{enumerate*}\n"
      ],
      "text/markdown": [
       "1. 'tři_1'\n",
       "2. 'dvě_1'\n",
       "3. 'jedna_1'\n",
       "\n",
       "\n"
      ],
      "text/plain": [
       "[1] \"tři_1\"   \"dvě_1\"   \"jedna_1\""
      ]
     },
     "metadata": {},
     "output_type": "display_data"
    }
   ],
   "source": [
    "vektor_vektory[1:3]\n",
    "vektor_vektory[4:6]\n",
    "vektor_vektory[c(2, 4, 6)]\n",
    "vektor_vektory[c(3, 2, 1)]"
   ]
  },
  {
   "cell_type": "markdown",
   "metadata": {},
   "source": [
    "V takovém případě se položky vektoru automaticky interpretují jako indexy a výsledkem je opět vektor. Ten se skládá z objektů, které odpovídají indexům v původním vektoru a to v takovém pořadí, v jakém byly uvedeny dané indexy. \n",
    "\n",
    "Indexovat je možné i pomocí vektorů s logickými hodnotami:"
   ]
  },
  {
   "cell_type": "code",
   "execution_count": 17,
   "metadata": {},
   "outputs": [
    {
     "data": {
      "text/html": [
       "<ol class=list-inline>\n",
       "\t<li>'jedna_1'</li>\n",
       "\t<li>'dvě_1'</li>\n",
       "\t<li>'tři_1'</li>\n",
       "</ol>\n"
      ],
      "text/latex": [
       "\\begin{enumerate*}\n",
       "\\item 'jedna\\_1'\n",
       "\\item 'dvě\\_1'\n",
       "\\item 'tři\\_1'\n",
       "\\end{enumerate*}\n"
      ],
      "text/markdown": [
       "1. 'jedna_1'\n",
       "2. 'dvě_1'\n",
       "3. 'tři_1'\n",
       "\n",
       "\n"
      ],
      "text/plain": [
       "[1] \"jedna_1\" \"dvě_1\"   \"tři_1\"  "
      ]
     },
     "metadata": {},
     "output_type": "display_data"
    }
   ],
   "source": [
    "maska <- c(T, T, T, F, F, F)\n",
    "vektor_vektory[maska]"
   ]
  },
  {
   "cell_type": "markdown",
   "metadata": {},
   "source": [
    "Na vektory lze dokonce aplikovat i aritmetické operátory:"
   ]
  },
  {
   "cell_type": "code",
   "execution_count": 18,
   "metadata": {},
   "outputs": [
    {
     "data": {
      "text/html": [
       "<ol class=list-inline>\n",
       "\t<li>1</li>\n",
       "\t<li>2</li>\n",
       "\t<li>3</li>\n",
       "\t<li>4</li>\n",
       "\t<li>5</li>\n",
       "\t<li>6</li>\n",
       "\t<li>7</li>\n",
       "\t<li>8</li>\n",
       "\t<li>9</li>\n",
       "\t<li>10</li>\n",
       "\t<li>11</li>\n",
       "\t<li>12</li>\n",
       "\t<li>13</li>\n",
       "\t<li>14</li>\n",
       "\t<li>15</li>\n",
       "\t<li>16</li>\n",
       "\t<li>17</li>\n",
       "\t<li>18</li>\n",
       "\t<li>19</li>\n",
       "\t<li>20</li>\n",
       "\t<li>21</li>\n",
       "\t<li>22</li>\n",
       "\t<li>23</li>\n",
       "\t<li>24</li>\n",
       "\t<li>25</li>\n",
       "\t<li>26</li>\n",
       "\t<li>27</li>\n",
       "\t<li>28</li>\n",
       "\t<li>29</li>\n",
       "\t<li>30</li>\n",
       "\t<li>31</li>\n",
       "\t<li>32</li>\n",
       "\t<li>33</li>\n",
       "\t<li>34</li>\n",
       "\t<li>35</li>\n",
       "\t<li>36</li>\n",
       "\t<li>37</li>\n",
       "\t<li>38</li>\n",
       "\t<li>39</li>\n",
       "\t<li>40</li>\n",
       "\t<li>41</li>\n",
       "\t<li>42</li>\n",
       "\t<li>43</li>\n",
       "\t<li>44</li>\n",
       "\t<li>45</li>\n",
       "\t<li>46</li>\n",
       "\t<li>47</li>\n",
       "\t<li>48</li>\n",
       "\t<li>49</li>\n",
       "\t<li>50</li>\n",
       "\t<li>51</li>\n",
       "\t<li>52</li>\n",
       "\t<li>53</li>\n",
       "\t<li>54</li>\n",
       "\t<li>55</li>\n",
       "\t<li>56</li>\n",
       "\t<li>57</li>\n",
       "\t<li>58</li>\n",
       "\t<li>59</li>\n",
       "\t<li>60</li>\n",
       "\t<li>61</li>\n",
       "\t<li>62</li>\n",
       "\t<li>63</li>\n",
       "\t<li>64</li>\n",
       "\t<li>65</li>\n",
       "\t<li>66</li>\n",
       "\t<li>67</li>\n",
       "\t<li>68</li>\n",
       "\t<li>69</li>\n",
       "\t<li>70</li>\n",
       "\t<li>71</li>\n",
       "\t<li>72</li>\n",
       "\t<li>73</li>\n",
       "\t<li>74</li>\n",
       "\t<li>75</li>\n",
       "\t<li>76</li>\n",
       "\t<li>77</li>\n",
       "\t<li>78</li>\n",
       "\t<li>79</li>\n",
       "\t<li>80</li>\n",
       "\t<li>81</li>\n",
       "\t<li>82</li>\n",
       "\t<li>83</li>\n",
       "\t<li>84</li>\n",
       "\t<li>85</li>\n",
       "\t<li>86</li>\n",
       "\t<li>87</li>\n",
       "\t<li>88</li>\n",
       "\t<li>89</li>\n",
       "\t<li>90</li>\n",
       "\t<li>91</li>\n",
       "\t<li>92</li>\n",
       "\t<li>93</li>\n",
       "\t<li>94</li>\n",
       "\t<li>95</li>\n",
       "\t<li>96</li>\n",
       "\t<li>97</li>\n",
       "\t<li>98</li>\n",
       "\t<li>99</li>\n",
       "\t<li>100</li>\n",
       "</ol>\n"
      ],
      "text/latex": [
       "\\begin{enumerate*}\n",
       "\\item 1\n",
       "\\item 2\n",
       "\\item 3\n",
       "\\item 4\n",
       "\\item 5\n",
       "\\item 6\n",
       "\\item 7\n",
       "\\item 8\n",
       "\\item 9\n",
       "\\item 10\n",
       "\\item 11\n",
       "\\item 12\n",
       "\\item 13\n",
       "\\item 14\n",
       "\\item 15\n",
       "\\item 16\n",
       "\\item 17\n",
       "\\item 18\n",
       "\\item 19\n",
       "\\item 20\n",
       "\\item 21\n",
       "\\item 22\n",
       "\\item 23\n",
       "\\item 24\n",
       "\\item 25\n",
       "\\item 26\n",
       "\\item 27\n",
       "\\item 28\n",
       "\\item 29\n",
       "\\item 30\n",
       "\\item 31\n",
       "\\item 32\n",
       "\\item 33\n",
       "\\item 34\n",
       "\\item 35\n",
       "\\item 36\n",
       "\\item 37\n",
       "\\item 38\n",
       "\\item 39\n",
       "\\item 40\n",
       "\\item 41\n",
       "\\item 42\n",
       "\\item 43\n",
       "\\item 44\n",
       "\\item 45\n",
       "\\item 46\n",
       "\\item 47\n",
       "\\item 48\n",
       "\\item 49\n",
       "\\item 50\n",
       "\\item 51\n",
       "\\item 52\n",
       "\\item 53\n",
       "\\item 54\n",
       "\\item 55\n",
       "\\item 56\n",
       "\\item 57\n",
       "\\item 58\n",
       "\\item 59\n",
       "\\item 60\n",
       "\\item 61\n",
       "\\item 62\n",
       "\\item 63\n",
       "\\item 64\n",
       "\\item 65\n",
       "\\item 66\n",
       "\\item 67\n",
       "\\item 68\n",
       "\\item 69\n",
       "\\item 70\n",
       "\\item 71\n",
       "\\item 72\n",
       "\\item 73\n",
       "\\item 74\n",
       "\\item 75\n",
       "\\item 76\n",
       "\\item 77\n",
       "\\item 78\n",
       "\\item 79\n",
       "\\item 80\n",
       "\\item 81\n",
       "\\item 82\n",
       "\\item 83\n",
       "\\item 84\n",
       "\\item 85\n",
       "\\item 86\n",
       "\\item 87\n",
       "\\item 88\n",
       "\\item 89\n",
       "\\item 90\n",
       "\\item 91\n",
       "\\item 92\n",
       "\\item 93\n",
       "\\item 94\n",
       "\\item 95\n",
       "\\item 96\n",
       "\\item 97\n",
       "\\item 98\n",
       "\\item 99\n",
       "\\item 100\n",
       "\\end{enumerate*}\n"
      ],
      "text/markdown": [
       "1. 1\n",
       "2. 2\n",
       "3. 3\n",
       "4. 4\n",
       "5. 5\n",
       "6. 6\n",
       "7. 7\n",
       "8. 8\n",
       "9. 9\n",
       "10. 10\n",
       "11. 11\n",
       "12. 12\n",
       "13. 13\n",
       "14. 14\n",
       "15. 15\n",
       "16. 16\n",
       "17. 17\n",
       "18. 18\n",
       "19. 19\n",
       "20. 20\n",
       "21. 21\n",
       "22. 22\n",
       "23. 23\n",
       "24. 24\n",
       "25. 25\n",
       "26. 26\n",
       "27. 27\n",
       "28. 28\n",
       "29. 29\n",
       "30. 30\n",
       "31. 31\n",
       "32. 32\n",
       "33. 33\n",
       "34. 34\n",
       "35. 35\n",
       "36. 36\n",
       "37. 37\n",
       "38. 38\n",
       "39. 39\n",
       "40. 40\n",
       "41. 41\n",
       "42. 42\n",
       "43. 43\n",
       "44. 44\n",
       "45. 45\n",
       "46. 46\n",
       "47. 47\n",
       "48. 48\n",
       "49. 49\n",
       "50. 50\n",
       "51. 51\n",
       "52. 52\n",
       "53. 53\n",
       "54. 54\n",
       "55. 55\n",
       "56. 56\n",
       "57. 57\n",
       "58. 58\n",
       "59. 59\n",
       "60. 60\n",
       "61. 61\n",
       "62. 62\n",
       "63. 63\n",
       "64. 64\n",
       "65. 65\n",
       "66. 66\n",
       "67. 67\n",
       "68. 68\n",
       "69. 69\n",
       "70. 70\n",
       "71. 71\n",
       "72. 72\n",
       "73. 73\n",
       "74. 74\n",
       "75. 75\n",
       "76. 76\n",
       "77. 77\n",
       "78. 78\n",
       "79. 79\n",
       "80. 80\n",
       "81. 81\n",
       "82. 82\n",
       "83. 83\n",
       "84. 84\n",
       "85. 85\n",
       "86. 86\n",
       "87. 87\n",
       "88. 88\n",
       "89. 89\n",
       "90. 90\n",
       "91. 91\n",
       "92. 92\n",
       "93. 93\n",
       "94. 94\n",
       "95. 95\n",
       "96. 96\n",
       "97. 97\n",
       "98. 98\n",
       "99. 99\n",
       "100. 100\n",
       "\n",
       "\n"
      ],
      "text/plain": [
       "  [1]   1   2   3   4   5   6   7   8   9  10  11  12  13  14  15  16  17  18\n",
       " [19]  19  20  21  22  23  24  25  26  27  28  29  30  31  32  33  34  35  36\n",
       " [37]  37  38  39  40  41  42  43  44  45  46  47  48  49  50  51  52  53  54\n",
       " [55]  55  56  57  58  59  60  61  62  63  64  65  66  67  68  69  70  71  72\n",
       " [73]  73  74  75  76  77  78  79  80  81  82  83  84  85  86  87  88  89  90\n",
       " [91]  91  92  93  94  95  96  97  98  99 100"
      ]
     },
     "metadata": {},
     "output_type": "display_data"
    },
    {
     "data": {
      "text/html": [
       "<ol class=list-inline>\n",
       "\t<li>2</li>\n",
       "\t<li>3</li>\n",
       "\t<li>4</li>\n",
       "\t<li>5</li>\n",
       "\t<li>6</li>\n",
       "\t<li>7</li>\n",
       "\t<li>8</li>\n",
       "\t<li>9</li>\n",
       "\t<li>10</li>\n",
       "\t<li>11</li>\n",
       "\t<li>12</li>\n",
       "\t<li>13</li>\n",
       "\t<li>14</li>\n",
       "\t<li>15</li>\n",
       "\t<li>16</li>\n",
       "\t<li>17</li>\n",
       "\t<li>18</li>\n",
       "\t<li>19</li>\n",
       "\t<li>20</li>\n",
       "\t<li>21</li>\n",
       "\t<li>22</li>\n",
       "\t<li>23</li>\n",
       "\t<li>24</li>\n",
       "\t<li>25</li>\n",
       "\t<li>26</li>\n",
       "\t<li>27</li>\n",
       "\t<li>28</li>\n",
       "\t<li>29</li>\n",
       "\t<li>30</li>\n",
       "\t<li>31</li>\n",
       "\t<li>32</li>\n",
       "\t<li>33</li>\n",
       "\t<li>34</li>\n",
       "\t<li>35</li>\n",
       "\t<li>36</li>\n",
       "\t<li>37</li>\n",
       "\t<li>38</li>\n",
       "\t<li>39</li>\n",
       "\t<li>40</li>\n",
       "\t<li>41</li>\n",
       "\t<li>42</li>\n",
       "\t<li>43</li>\n",
       "\t<li>44</li>\n",
       "\t<li>45</li>\n",
       "\t<li>46</li>\n",
       "\t<li>47</li>\n",
       "\t<li>48</li>\n",
       "\t<li>49</li>\n",
       "\t<li>50</li>\n",
       "\t<li>51</li>\n",
       "\t<li>52</li>\n",
       "\t<li>53</li>\n",
       "\t<li>54</li>\n",
       "\t<li>55</li>\n",
       "\t<li>56</li>\n",
       "\t<li>57</li>\n",
       "\t<li>58</li>\n",
       "\t<li>59</li>\n",
       "\t<li>60</li>\n",
       "\t<li>61</li>\n",
       "\t<li>62</li>\n",
       "\t<li>63</li>\n",
       "\t<li>64</li>\n",
       "\t<li>65</li>\n",
       "\t<li>66</li>\n",
       "\t<li>67</li>\n",
       "\t<li>68</li>\n",
       "\t<li>69</li>\n",
       "\t<li>70</li>\n",
       "\t<li>71</li>\n",
       "\t<li>72</li>\n",
       "\t<li>73</li>\n",
       "\t<li>74</li>\n",
       "\t<li>75</li>\n",
       "\t<li>76</li>\n",
       "\t<li>77</li>\n",
       "\t<li>78</li>\n",
       "\t<li>79</li>\n",
       "\t<li>80</li>\n",
       "\t<li>81</li>\n",
       "\t<li>82</li>\n",
       "\t<li>83</li>\n",
       "\t<li>84</li>\n",
       "\t<li>85</li>\n",
       "\t<li>86</li>\n",
       "\t<li>87</li>\n",
       "\t<li>88</li>\n",
       "\t<li>89</li>\n",
       "\t<li>90</li>\n",
       "\t<li>91</li>\n",
       "\t<li>92</li>\n",
       "\t<li>93</li>\n",
       "\t<li>94</li>\n",
       "\t<li>95</li>\n",
       "\t<li>96</li>\n",
       "\t<li>97</li>\n",
       "\t<li>98</li>\n",
       "\t<li>99</li>\n",
       "\t<li>100</li>\n",
       "\t<li>101</li>\n",
       "</ol>\n"
      ],
      "text/latex": [
       "\\begin{enumerate*}\n",
       "\\item 2\n",
       "\\item 3\n",
       "\\item 4\n",
       "\\item 5\n",
       "\\item 6\n",
       "\\item 7\n",
       "\\item 8\n",
       "\\item 9\n",
       "\\item 10\n",
       "\\item 11\n",
       "\\item 12\n",
       "\\item 13\n",
       "\\item 14\n",
       "\\item 15\n",
       "\\item 16\n",
       "\\item 17\n",
       "\\item 18\n",
       "\\item 19\n",
       "\\item 20\n",
       "\\item 21\n",
       "\\item 22\n",
       "\\item 23\n",
       "\\item 24\n",
       "\\item 25\n",
       "\\item 26\n",
       "\\item 27\n",
       "\\item 28\n",
       "\\item 29\n",
       "\\item 30\n",
       "\\item 31\n",
       "\\item 32\n",
       "\\item 33\n",
       "\\item 34\n",
       "\\item 35\n",
       "\\item 36\n",
       "\\item 37\n",
       "\\item 38\n",
       "\\item 39\n",
       "\\item 40\n",
       "\\item 41\n",
       "\\item 42\n",
       "\\item 43\n",
       "\\item 44\n",
       "\\item 45\n",
       "\\item 46\n",
       "\\item 47\n",
       "\\item 48\n",
       "\\item 49\n",
       "\\item 50\n",
       "\\item 51\n",
       "\\item 52\n",
       "\\item 53\n",
       "\\item 54\n",
       "\\item 55\n",
       "\\item 56\n",
       "\\item 57\n",
       "\\item 58\n",
       "\\item 59\n",
       "\\item 60\n",
       "\\item 61\n",
       "\\item 62\n",
       "\\item 63\n",
       "\\item 64\n",
       "\\item 65\n",
       "\\item 66\n",
       "\\item 67\n",
       "\\item 68\n",
       "\\item 69\n",
       "\\item 70\n",
       "\\item 71\n",
       "\\item 72\n",
       "\\item 73\n",
       "\\item 74\n",
       "\\item 75\n",
       "\\item 76\n",
       "\\item 77\n",
       "\\item 78\n",
       "\\item 79\n",
       "\\item 80\n",
       "\\item 81\n",
       "\\item 82\n",
       "\\item 83\n",
       "\\item 84\n",
       "\\item 85\n",
       "\\item 86\n",
       "\\item 87\n",
       "\\item 88\n",
       "\\item 89\n",
       "\\item 90\n",
       "\\item 91\n",
       "\\item 92\n",
       "\\item 93\n",
       "\\item 94\n",
       "\\item 95\n",
       "\\item 96\n",
       "\\item 97\n",
       "\\item 98\n",
       "\\item 99\n",
       "\\item 100\n",
       "\\item 101\n",
       "\\end{enumerate*}\n"
      ],
      "text/markdown": [
       "1. 2\n",
       "2. 3\n",
       "3. 4\n",
       "4. 5\n",
       "5. 6\n",
       "6. 7\n",
       "7. 8\n",
       "8. 9\n",
       "9. 10\n",
       "10. 11\n",
       "11. 12\n",
       "12. 13\n",
       "13. 14\n",
       "14. 15\n",
       "15. 16\n",
       "16. 17\n",
       "17. 18\n",
       "18. 19\n",
       "19. 20\n",
       "20. 21\n",
       "21. 22\n",
       "22. 23\n",
       "23. 24\n",
       "24. 25\n",
       "25. 26\n",
       "26. 27\n",
       "27. 28\n",
       "28. 29\n",
       "29. 30\n",
       "30. 31\n",
       "31. 32\n",
       "32. 33\n",
       "33. 34\n",
       "34. 35\n",
       "35. 36\n",
       "36. 37\n",
       "37. 38\n",
       "38. 39\n",
       "39. 40\n",
       "40. 41\n",
       "41. 42\n",
       "42. 43\n",
       "43. 44\n",
       "44. 45\n",
       "45. 46\n",
       "46. 47\n",
       "47. 48\n",
       "48. 49\n",
       "49. 50\n",
       "50. 51\n",
       "51. 52\n",
       "52. 53\n",
       "53. 54\n",
       "54. 55\n",
       "55. 56\n",
       "56. 57\n",
       "57. 58\n",
       "58. 59\n",
       "59. 60\n",
       "60. 61\n",
       "61. 62\n",
       "62. 63\n",
       "63. 64\n",
       "64. 65\n",
       "65. 66\n",
       "66. 67\n",
       "67. 68\n",
       "68. 69\n",
       "69. 70\n",
       "70. 71\n",
       "71. 72\n",
       "72. 73\n",
       "73. 74\n",
       "74. 75\n",
       "75. 76\n",
       "76. 77\n",
       "77. 78\n",
       "78. 79\n",
       "79. 80\n",
       "80. 81\n",
       "81. 82\n",
       "82. 83\n",
       "83. 84\n",
       "84. 85\n",
       "85. 86\n",
       "86. 87\n",
       "87. 88\n",
       "88. 89\n",
       "89. 90\n",
       "90. 91\n",
       "91. 92\n",
       "92. 93\n",
       "93. 94\n",
       "94. 95\n",
       "95. 96\n",
       "96. 97\n",
       "97. 98\n",
       "98. 99\n",
       "99. 100\n",
       "100. 101\n",
       "\n",
       "\n"
      ],
      "text/plain": [
       "  [1]   2   3   4   5   6   7   8   9  10  11  12  13  14  15  16  17  18  19\n",
       " [19]  20  21  22  23  24  25  26  27  28  29  30  31  32  33  34  35  36  37\n",
       " [37]  38  39  40  41  42  43  44  45  46  47  48  49  50  51  52  53  54  55\n",
       " [55]  56  57  58  59  60  61  62  63  64  65  66  67  68  69  70  71  72  73\n",
       " [73]  74  75  76  77  78  79  80  81  82  83  84  85  86  87  88  89  90  91\n",
       " [91]  92  93  94  95  96  97  98  99 100 101"
      ]
     },
     "metadata": {},
     "output_type": "display_data"
    },
    {
     "data": {
      "text/html": [
       "<ol class=list-inline>\n",
       "\t<li>2</li>\n",
       "\t<li>4</li>\n",
       "\t<li>6</li>\n",
       "\t<li>8</li>\n",
       "\t<li>10</li>\n",
       "\t<li>12</li>\n",
       "\t<li>14</li>\n",
       "\t<li>16</li>\n",
       "\t<li>18</li>\n",
       "\t<li>20</li>\n",
       "\t<li>22</li>\n",
       "\t<li>24</li>\n",
       "\t<li>26</li>\n",
       "\t<li>28</li>\n",
       "\t<li>30</li>\n",
       "\t<li>32</li>\n",
       "\t<li>34</li>\n",
       "\t<li>36</li>\n",
       "\t<li>38</li>\n",
       "\t<li>40</li>\n",
       "\t<li>42</li>\n",
       "\t<li>44</li>\n",
       "\t<li>46</li>\n",
       "\t<li>48</li>\n",
       "\t<li>50</li>\n",
       "\t<li>52</li>\n",
       "\t<li>54</li>\n",
       "\t<li>56</li>\n",
       "\t<li>58</li>\n",
       "\t<li>60</li>\n",
       "\t<li>62</li>\n",
       "\t<li>64</li>\n",
       "\t<li>66</li>\n",
       "\t<li>68</li>\n",
       "\t<li>70</li>\n",
       "\t<li>72</li>\n",
       "\t<li>74</li>\n",
       "\t<li>76</li>\n",
       "\t<li>78</li>\n",
       "\t<li>80</li>\n",
       "\t<li>82</li>\n",
       "\t<li>84</li>\n",
       "\t<li>86</li>\n",
       "\t<li>88</li>\n",
       "\t<li>90</li>\n",
       "\t<li>92</li>\n",
       "\t<li>94</li>\n",
       "\t<li>96</li>\n",
       "\t<li>98</li>\n",
       "\t<li>100</li>\n",
       "\t<li>102</li>\n",
       "\t<li>104</li>\n",
       "\t<li>106</li>\n",
       "\t<li>108</li>\n",
       "\t<li>110</li>\n",
       "\t<li>112</li>\n",
       "\t<li>114</li>\n",
       "\t<li>116</li>\n",
       "\t<li>118</li>\n",
       "\t<li>120</li>\n",
       "\t<li>122</li>\n",
       "\t<li>124</li>\n",
       "\t<li>126</li>\n",
       "\t<li>128</li>\n",
       "\t<li>130</li>\n",
       "\t<li>132</li>\n",
       "\t<li>134</li>\n",
       "\t<li>136</li>\n",
       "\t<li>138</li>\n",
       "\t<li>140</li>\n",
       "\t<li>142</li>\n",
       "\t<li>144</li>\n",
       "\t<li>146</li>\n",
       "\t<li>148</li>\n",
       "\t<li>150</li>\n",
       "\t<li>152</li>\n",
       "\t<li>154</li>\n",
       "\t<li>156</li>\n",
       "\t<li>158</li>\n",
       "\t<li>160</li>\n",
       "\t<li>162</li>\n",
       "\t<li>164</li>\n",
       "\t<li>166</li>\n",
       "\t<li>168</li>\n",
       "\t<li>170</li>\n",
       "\t<li>172</li>\n",
       "\t<li>174</li>\n",
       "\t<li>176</li>\n",
       "\t<li>178</li>\n",
       "\t<li>180</li>\n",
       "\t<li>182</li>\n",
       "\t<li>184</li>\n",
       "\t<li>186</li>\n",
       "\t<li>188</li>\n",
       "\t<li>190</li>\n",
       "\t<li>192</li>\n",
       "\t<li>194</li>\n",
       "\t<li>196</li>\n",
       "\t<li>198</li>\n",
       "\t<li>200</li>\n",
       "</ol>\n"
      ],
      "text/latex": [
       "\\begin{enumerate*}\n",
       "\\item 2\n",
       "\\item 4\n",
       "\\item 6\n",
       "\\item 8\n",
       "\\item 10\n",
       "\\item 12\n",
       "\\item 14\n",
       "\\item 16\n",
       "\\item 18\n",
       "\\item 20\n",
       "\\item 22\n",
       "\\item 24\n",
       "\\item 26\n",
       "\\item 28\n",
       "\\item 30\n",
       "\\item 32\n",
       "\\item 34\n",
       "\\item 36\n",
       "\\item 38\n",
       "\\item 40\n",
       "\\item 42\n",
       "\\item 44\n",
       "\\item 46\n",
       "\\item 48\n",
       "\\item 50\n",
       "\\item 52\n",
       "\\item 54\n",
       "\\item 56\n",
       "\\item 58\n",
       "\\item 60\n",
       "\\item 62\n",
       "\\item 64\n",
       "\\item 66\n",
       "\\item 68\n",
       "\\item 70\n",
       "\\item 72\n",
       "\\item 74\n",
       "\\item 76\n",
       "\\item 78\n",
       "\\item 80\n",
       "\\item 82\n",
       "\\item 84\n",
       "\\item 86\n",
       "\\item 88\n",
       "\\item 90\n",
       "\\item 92\n",
       "\\item 94\n",
       "\\item 96\n",
       "\\item 98\n",
       "\\item 100\n",
       "\\item 102\n",
       "\\item 104\n",
       "\\item 106\n",
       "\\item 108\n",
       "\\item 110\n",
       "\\item 112\n",
       "\\item 114\n",
       "\\item 116\n",
       "\\item 118\n",
       "\\item 120\n",
       "\\item 122\n",
       "\\item 124\n",
       "\\item 126\n",
       "\\item 128\n",
       "\\item 130\n",
       "\\item 132\n",
       "\\item 134\n",
       "\\item 136\n",
       "\\item 138\n",
       "\\item 140\n",
       "\\item 142\n",
       "\\item 144\n",
       "\\item 146\n",
       "\\item 148\n",
       "\\item 150\n",
       "\\item 152\n",
       "\\item 154\n",
       "\\item 156\n",
       "\\item 158\n",
       "\\item 160\n",
       "\\item 162\n",
       "\\item 164\n",
       "\\item 166\n",
       "\\item 168\n",
       "\\item 170\n",
       "\\item 172\n",
       "\\item 174\n",
       "\\item 176\n",
       "\\item 178\n",
       "\\item 180\n",
       "\\item 182\n",
       "\\item 184\n",
       "\\item 186\n",
       "\\item 188\n",
       "\\item 190\n",
       "\\item 192\n",
       "\\item 194\n",
       "\\item 196\n",
       "\\item 198\n",
       "\\item 200\n",
       "\\end{enumerate*}\n"
      ],
      "text/markdown": [
       "1. 2\n",
       "2. 4\n",
       "3. 6\n",
       "4. 8\n",
       "5. 10\n",
       "6. 12\n",
       "7. 14\n",
       "8. 16\n",
       "9. 18\n",
       "10. 20\n",
       "11. 22\n",
       "12. 24\n",
       "13. 26\n",
       "14. 28\n",
       "15. 30\n",
       "16. 32\n",
       "17. 34\n",
       "18. 36\n",
       "19. 38\n",
       "20. 40\n",
       "21. 42\n",
       "22. 44\n",
       "23. 46\n",
       "24. 48\n",
       "25. 50\n",
       "26. 52\n",
       "27. 54\n",
       "28. 56\n",
       "29. 58\n",
       "30. 60\n",
       "31. 62\n",
       "32. 64\n",
       "33. 66\n",
       "34. 68\n",
       "35. 70\n",
       "36. 72\n",
       "37. 74\n",
       "38. 76\n",
       "39. 78\n",
       "40. 80\n",
       "41. 82\n",
       "42. 84\n",
       "43. 86\n",
       "44. 88\n",
       "45. 90\n",
       "46. 92\n",
       "47. 94\n",
       "48. 96\n",
       "49. 98\n",
       "50. 100\n",
       "51. 102\n",
       "52. 104\n",
       "53. 106\n",
       "54. 108\n",
       "55. 110\n",
       "56. 112\n",
       "57. 114\n",
       "58. 116\n",
       "59. 118\n",
       "60. 120\n",
       "61. 122\n",
       "62. 124\n",
       "63. 126\n",
       "64. 128\n",
       "65. 130\n",
       "66. 132\n",
       "67. 134\n",
       "68. 136\n",
       "69. 138\n",
       "70. 140\n",
       "71. 142\n",
       "72. 144\n",
       "73. 146\n",
       "74. 148\n",
       "75. 150\n",
       "76. 152\n",
       "77. 154\n",
       "78. 156\n",
       "79. 158\n",
       "80. 160\n",
       "81. 162\n",
       "82. 164\n",
       "83. 166\n",
       "84. 168\n",
       "85. 170\n",
       "86. 172\n",
       "87. 174\n",
       "88. 176\n",
       "89. 178\n",
       "90. 180\n",
       "91. 182\n",
       "92. 184\n",
       "93. 186\n",
       "94. 188\n",
       "95. 190\n",
       "96. 192\n",
       "97. 194\n",
       "98. 196\n",
       "99. 198\n",
       "100. 200\n",
       "\n",
       "\n"
      ],
      "text/plain": [
       "  [1]   2   4   6   8  10  12  14  16  18  20  22  24  26  28  30  32  34  36\n",
       " [19]  38  40  42  44  46  48  50  52  54  56  58  60  62  64  66  68  70  72\n",
       " [37]  74  76  78  80  82  84  86  88  90  92  94  96  98 100 102 104 106 108\n",
       " [55] 110 112 114 116 118 120 122 124 126 128 130 132 134 136 138 140 142 144\n",
       " [73] 146 148 150 152 154 156 158 160 162 164 166 168 170 172 174 176 178 180\n",
       " [91] 182 184 186 188 190 192 194 196 198 200"
      ]
     },
     "metadata": {},
     "output_type": "display_data"
    },
    {
     "data": {
      "text/html": [
       "<ol class=list-inline>\n",
       "\t<li>0</li>\n",
       "\t<li>1</li>\n",
       "\t<li>1</li>\n",
       "\t<li>2</li>\n",
       "\t<li>2</li>\n",
       "\t<li>3</li>\n",
       "\t<li>3</li>\n",
       "\t<li>4</li>\n",
       "\t<li>4</li>\n",
       "\t<li>5</li>\n",
       "\t<li>5</li>\n",
       "\t<li>6</li>\n",
       "\t<li>6</li>\n",
       "\t<li>7</li>\n",
       "\t<li>7</li>\n",
       "\t<li>8</li>\n",
       "\t<li>8</li>\n",
       "\t<li>9</li>\n",
       "\t<li>9</li>\n",
       "\t<li>10</li>\n",
       "\t<li>10</li>\n",
       "\t<li>11</li>\n",
       "\t<li>11</li>\n",
       "\t<li>12</li>\n",
       "\t<li>12</li>\n",
       "\t<li>13</li>\n",
       "\t<li>13</li>\n",
       "\t<li>14</li>\n",
       "\t<li>14</li>\n",
       "\t<li>15</li>\n",
       "\t<li>15</li>\n",
       "\t<li>16</li>\n",
       "\t<li>16</li>\n",
       "\t<li>17</li>\n",
       "\t<li>17</li>\n",
       "\t<li>18</li>\n",
       "\t<li>18</li>\n",
       "\t<li>19</li>\n",
       "\t<li>19</li>\n",
       "\t<li>20</li>\n",
       "\t<li>20</li>\n",
       "\t<li>21</li>\n",
       "\t<li>21</li>\n",
       "\t<li>22</li>\n",
       "\t<li>22</li>\n",
       "\t<li>23</li>\n",
       "\t<li>23</li>\n",
       "\t<li>24</li>\n",
       "\t<li>24</li>\n",
       "\t<li>25</li>\n",
       "\t<li>25</li>\n",
       "\t<li>26</li>\n",
       "\t<li>26</li>\n",
       "\t<li>27</li>\n",
       "\t<li>27</li>\n",
       "\t<li>28</li>\n",
       "\t<li>28</li>\n",
       "\t<li>29</li>\n",
       "\t<li>29</li>\n",
       "\t<li>30</li>\n",
       "\t<li>30</li>\n",
       "\t<li>31</li>\n",
       "\t<li>31</li>\n",
       "\t<li>32</li>\n",
       "\t<li>32</li>\n",
       "\t<li>33</li>\n",
       "\t<li>33</li>\n",
       "\t<li>34</li>\n",
       "\t<li>34</li>\n",
       "\t<li>35</li>\n",
       "\t<li>35</li>\n",
       "\t<li>36</li>\n",
       "\t<li>36</li>\n",
       "\t<li>37</li>\n",
       "\t<li>37</li>\n",
       "\t<li>38</li>\n",
       "\t<li>38</li>\n",
       "\t<li>39</li>\n",
       "\t<li>39</li>\n",
       "\t<li>40</li>\n",
       "\t<li>40</li>\n",
       "\t<li>41</li>\n",
       "\t<li>41</li>\n",
       "\t<li>42</li>\n",
       "\t<li>42</li>\n",
       "\t<li>43</li>\n",
       "\t<li>43</li>\n",
       "\t<li>44</li>\n",
       "\t<li>44</li>\n",
       "\t<li>45</li>\n",
       "\t<li>45</li>\n",
       "\t<li>46</li>\n",
       "\t<li>46</li>\n",
       "\t<li>47</li>\n",
       "\t<li>47</li>\n",
       "\t<li>48</li>\n",
       "\t<li>48</li>\n",
       "\t<li>49</li>\n",
       "\t<li>49</li>\n",
       "\t<li>50</li>\n",
       "</ol>\n"
      ],
      "text/latex": [
       "\\begin{enumerate*}\n",
       "\\item 0\n",
       "\\item 1\n",
       "\\item 1\n",
       "\\item 2\n",
       "\\item 2\n",
       "\\item 3\n",
       "\\item 3\n",
       "\\item 4\n",
       "\\item 4\n",
       "\\item 5\n",
       "\\item 5\n",
       "\\item 6\n",
       "\\item 6\n",
       "\\item 7\n",
       "\\item 7\n",
       "\\item 8\n",
       "\\item 8\n",
       "\\item 9\n",
       "\\item 9\n",
       "\\item 10\n",
       "\\item 10\n",
       "\\item 11\n",
       "\\item 11\n",
       "\\item 12\n",
       "\\item 12\n",
       "\\item 13\n",
       "\\item 13\n",
       "\\item 14\n",
       "\\item 14\n",
       "\\item 15\n",
       "\\item 15\n",
       "\\item 16\n",
       "\\item 16\n",
       "\\item 17\n",
       "\\item 17\n",
       "\\item 18\n",
       "\\item 18\n",
       "\\item 19\n",
       "\\item 19\n",
       "\\item 20\n",
       "\\item 20\n",
       "\\item 21\n",
       "\\item 21\n",
       "\\item 22\n",
       "\\item 22\n",
       "\\item 23\n",
       "\\item 23\n",
       "\\item 24\n",
       "\\item 24\n",
       "\\item 25\n",
       "\\item 25\n",
       "\\item 26\n",
       "\\item 26\n",
       "\\item 27\n",
       "\\item 27\n",
       "\\item 28\n",
       "\\item 28\n",
       "\\item 29\n",
       "\\item 29\n",
       "\\item 30\n",
       "\\item 30\n",
       "\\item 31\n",
       "\\item 31\n",
       "\\item 32\n",
       "\\item 32\n",
       "\\item 33\n",
       "\\item 33\n",
       "\\item 34\n",
       "\\item 34\n",
       "\\item 35\n",
       "\\item 35\n",
       "\\item 36\n",
       "\\item 36\n",
       "\\item 37\n",
       "\\item 37\n",
       "\\item 38\n",
       "\\item 38\n",
       "\\item 39\n",
       "\\item 39\n",
       "\\item 40\n",
       "\\item 40\n",
       "\\item 41\n",
       "\\item 41\n",
       "\\item 42\n",
       "\\item 42\n",
       "\\item 43\n",
       "\\item 43\n",
       "\\item 44\n",
       "\\item 44\n",
       "\\item 45\n",
       "\\item 45\n",
       "\\item 46\n",
       "\\item 46\n",
       "\\item 47\n",
       "\\item 47\n",
       "\\item 48\n",
       "\\item 48\n",
       "\\item 49\n",
       "\\item 49\n",
       "\\item 50\n",
       "\\end{enumerate*}\n"
      ],
      "text/markdown": [
       "1. 0\n",
       "2. 1\n",
       "3. 1\n",
       "4. 2\n",
       "5. 2\n",
       "6. 3\n",
       "7. 3\n",
       "8. 4\n",
       "9. 4\n",
       "10. 5\n",
       "11. 5\n",
       "12. 6\n",
       "13. 6\n",
       "14. 7\n",
       "15. 7\n",
       "16. 8\n",
       "17. 8\n",
       "18. 9\n",
       "19. 9\n",
       "20. 10\n",
       "21. 10\n",
       "22. 11\n",
       "23. 11\n",
       "24. 12\n",
       "25. 12\n",
       "26. 13\n",
       "27. 13\n",
       "28. 14\n",
       "29. 14\n",
       "30. 15\n",
       "31. 15\n",
       "32. 16\n",
       "33. 16\n",
       "34. 17\n",
       "35. 17\n",
       "36. 18\n",
       "37. 18\n",
       "38. 19\n",
       "39. 19\n",
       "40. 20\n",
       "41. 20\n",
       "42. 21\n",
       "43. 21\n",
       "44. 22\n",
       "45. 22\n",
       "46. 23\n",
       "47. 23\n",
       "48. 24\n",
       "49. 24\n",
       "50. 25\n",
       "51. 25\n",
       "52. 26\n",
       "53. 26\n",
       "54. 27\n",
       "55. 27\n",
       "56. 28\n",
       "57. 28\n",
       "58. 29\n",
       "59. 29\n",
       "60. 30\n",
       "61. 30\n",
       "62. 31\n",
       "63. 31\n",
       "64. 32\n",
       "65. 32\n",
       "66. 33\n",
       "67. 33\n",
       "68. 34\n",
       "69. 34\n",
       "70. 35\n",
       "71. 35\n",
       "72. 36\n",
       "73. 36\n",
       "74. 37\n",
       "75. 37\n",
       "76. 38\n",
       "77. 38\n",
       "78. 39\n",
       "79. 39\n",
       "80. 40\n",
       "81. 40\n",
       "82. 41\n",
       "83. 41\n",
       "84. 42\n",
       "85. 42\n",
       "86. 43\n",
       "87. 43\n",
       "88. 44\n",
       "89. 44\n",
       "90. 45\n",
       "91. 45\n",
       "92. 46\n",
       "93. 46\n",
       "94. 47\n",
       "95. 47\n",
       "96. 48\n",
       "97. 48\n",
       "98. 49\n",
       "99. 49\n",
       "100. 50\n",
       "\n",
       "\n"
      ],
      "text/plain": [
       "  [1]  0  1  1  2  2  3  3  4  4  5  5  6  6  7  7  8  8  9  9 10 10 11 11 12 12\n",
       " [26] 13 13 14 14 15 15 16 16 17 17 18 18 19 19 20 20 21 21 22 22 23 23 24 24 25\n",
       " [51] 25 26 26 27 27 28 28 29 29 30 30 31 31 32 32 33 33 34 34 35 35 36 36 37 37\n",
       " [76] 38 38 39 39 40 40 41 41 42 42 43 43 44 44 45 45 46 46 47 47 48 48 49 49 50"
      ]
     },
     "metadata": {},
     "output_type": "display_data"
    },
    {
     "data": {
      "text/html": [
       "<ol class=list-inline>\n",
       "\t<li>1</li>\n",
       "\t<li>4</li>\n",
       "\t<li>9</li>\n",
       "\t<li>16</li>\n",
       "\t<li>25</li>\n",
       "\t<li>36</li>\n",
       "\t<li>49</li>\n",
       "\t<li>64</li>\n",
       "\t<li>81</li>\n",
       "\t<li>100</li>\n",
       "\t<li>121</li>\n",
       "\t<li>144</li>\n",
       "\t<li>169</li>\n",
       "\t<li>196</li>\n",
       "\t<li>225</li>\n",
       "\t<li>256</li>\n",
       "\t<li>289</li>\n",
       "\t<li>324</li>\n",
       "\t<li>361</li>\n",
       "\t<li>400</li>\n",
       "\t<li>441</li>\n",
       "\t<li>484</li>\n",
       "\t<li>529</li>\n",
       "\t<li>576</li>\n",
       "\t<li>625</li>\n",
       "\t<li>676</li>\n",
       "\t<li>729</li>\n",
       "\t<li>784</li>\n",
       "\t<li>841</li>\n",
       "\t<li>900</li>\n",
       "\t<li>961</li>\n",
       "\t<li>1024</li>\n",
       "\t<li>1089</li>\n",
       "\t<li>1156</li>\n",
       "\t<li>1225</li>\n",
       "\t<li>1296</li>\n",
       "\t<li>1369</li>\n",
       "\t<li>1444</li>\n",
       "\t<li>1521</li>\n",
       "\t<li>1600</li>\n",
       "\t<li>1681</li>\n",
       "\t<li>1764</li>\n",
       "\t<li>1849</li>\n",
       "\t<li>1936</li>\n",
       "\t<li>2025</li>\n",
       "\t<li>2116</li>\n",
       "\t<li>2209</li>\n",
       "\t<li>2304</li>\n",
       "\t<li>2401</li>\n",
       "\t<li>2500</li>\n",
       "\t<li>2601</li>\n",
       "\t<li>2704</li>\n",
       "\t<li>2809</li>\n",
       "\t<li>2916</li>\n",
       "\t<li>3025</li>\n",
       "\t<li>3136</li>\n",
       "\t<li>3249</li>\n",
       "\t<li>3364</li>\n",
       "\t<li>3481</li>\n",
       "\t<li>3600</li>\n",
       "\t<li>3721</li>\n",
       "\t<li>3844</li>\n",
       "\t<li>3969</li>\n",
       "\t<li>4096</li>\n",
       "\t<li>4225</li>\n",
       "\t<li>4356</li>\n",
       "\t<li>4489</li>\n",
       "\t<li>4624</li>\n",
       "\t<li>4761</li>\n",
       "\t<li>4900</li>\n",
       "\t<li>5041</li>\n",
       "\t<li>5184</li>\n",
       "\t<li>5329</li>\n",
       "\t<li>5476</li>\n",
       "\t<li>5625</li>\n",
       "\t<li>5776</li>\n",
       "\t<li>5929</li>\n",
       "\t<li>6084</li>\n",
       "\t<li>6241</li>\n",
       "\t<li>6400</li>\n",
       "\t<li>6561</li>\n",
       "\t<li>6724</li>\n",
       "\t<li>6889</li>\n",
       "\t<li>7056</li>\n",
       "\t<li>7225</li>\n",
       "\t<li>7396</li>\n",
       "\t<li>7569</li>\n",
       "\t<li>7744</li>\n",
       "\t<li>7921</li>\n",
       "\t<li>8100</li>\n",
       "\t<li>8281</li>\n",
       "\t<li>8464</li>\n",
       "\t<li>8649</li>\n",
       "\t<li>8836</li>\n",
       "\t<li>9025</li>\n",
       "\t<li>9216</li>\n",
       "\t<li>9409</li>\n",
       "\t<li>9604</li>\n",
       "\t<li>9801</li>\n",
       "\t<li>10000</li>\n",
       "</ol>\n"
      ],
      "text/latex": [
       "\\begin{enumerate*}\n",
       "\\item 1\n",
       "\\item 4\n",
       "\\item 9\n",
       "\\item 16\n",
       "\\item 25\n",
       "\\item 36\n",
       "\\item 49\n",
       "\\item 64\n",
       "\\item 81\n",
       "\\item 100\n",
       "\\item 121\n",
       "\\item 144\n",
       "\\item 169\n",
       "\\item 196\n",
       "\\item 225\n",
       "\\item 256\n",
       "\\item 289\n",
       "\\item 324\n",
       "\\item 361\n",
       "\\item 400\n",
       "\\item 441\n",
       "\\item 484\n",
       "\\item 529\n",
       "\\item 576\n",
       "\\item 625\n",
       "\\item 676\n",
       "\\item 729\n",
       "\\item 784\n",
       "\\item 841\n",
       "\\item 900\n",
       "\\item 961\n",
       "\\item 1024\n",
       "\\item 1089\n",
       "\\item 1156\n",
       "\\item 1225\n",
       "\\item 1296\n",
       "\\item 1369\n",
       "\\item 1444\n",
       "\\item 1521\n",
       "\\item 1600\n",
       "\\item 1681\n",
       "\\item 1764\n",
       "\\item 1849\n",
       "\\item 1936\n",
       "\\item 2025\n",
       "\\item 2116\n",
       "\\item 2209\n",
       "\\item 2304\n",
       "\\item 2401\n",
       "\\item 2500\n",
       "\\item 2601\n",
       "\\item 2704\n",
       "\\item 2809\n",
       "\\item 2916\n",
       "\\item 3025\n",
       "\\item 3136\n",
       "\\item 3249\n",
       "\\item 3364\n",
       "\\item 3481\n",
       "\\item 3600\n",
       "\\item 3721\n",
       "\\item 3844\n",
       "\\item 3969\n",
       "\\item 4096\n",
       "\\item 4225\n",
       "\\item 4356\n",
       "\\item 4489\n",
       "\\item 4624\n",
       "\\item 4761\n",
       "\\item 4900\n",
       "\\item 5041\n",
       "\\item 5184\n",
       "\\item 5329\n",
       "\\item 5476\n",
       "\\item 5625\n",
       "\\item 5776\n",
       "\\item 5929\n",
       "\\item 6084\n",
       "\\item 6241\n",
       "\\item 6400\n",
       "\\item 6561\n",
       "\\item 6724\n",
       "\\item 6889\n",
       "\\item 7056\n",
       "\\item 7225\n",
       "\\item 7396\n",
       "\\item 7569\n",
       "\\item 7744\n",
       "\\item 7921\n",
       "\\item 8100\n",
       "\\item 8281\n",
       "\\item 8464\n",
       "\\item 8649\n",
       "\\item 8836\n",
       "\\item 9025\n",
       "\\item 9216\n",
       "\\item 9409\n",
       "\\item 9604\n",
       "\\item 9801\n",
       "\\item 10000\n",
       "\\end{enumerate*}\n"
      ],
      "text/markdown": [
       "1. 1\n",
       "2. 4\n",
       "3. 9\n",
       "4. 16\n",
       "5. 25\n",
       "6. 36\n",
       "7. 49\n",
       "8. 64\n",
       "9. 81\n",
       "10. 100\n",
       "11. 121\n",
       "12. 144\n",
       "13. 169\n",
       "14. 196\n",
       "15. 225\n",
       "16. 256\n",
       "17. 289\n",
       "18. 324\n",
       "19. 361\n",
       "20. 400\n",
       "21. 441\n",
       "22. 484\n",
       "23. 529\n",
       "24. 576\n",
       "25. 625\n",
       "26. 676\n",
       "27. 729\n",
       "28. 784\n",
       "29. 841\n",
       "30. 900\n",
       "31. 961\n",
       "32. 1024\n",
       "33. 1089\n",
       "34. 1156\n",
       "35. 1225\n",
       "36. 1296\n",
       "37. 1369\n",
       "38. 1444\n",
       "39. 1521\n",
       "40. 1600\n",
       "41. 1681\n",
       "42. 1764\n",
       "43. 1849\n",
       "44. 1936\n",
       "45. 2025\n",
       "46. 2116\n",
       "47. 2209\n",
       "48. 2304\n",
       "49. 2401\n",
       "50. 2500\n",
       "51. 2601\n",
       "52. 2704\n",
       "53. 2809\n",
       "54. 2916\n",
       "55. 3025\n",
       "56. 3136\n",
       "57. 3249\n",
       "58. 3364\n",
       "59. 3481\n",
       "60. 3600\n",
       "61. 3721\n",
       "62. 3844\n",
       "63. 3969\n",
       "64. 4096\n",
       "65. 4225\n",
       "66. 4356\n",
       "67. 4489\n",
       "68. 4624\n",
       "69. 4761\n",
       "70. 4900\n",
       "71. 5041\n",
       "72. 5184\n",
       "73. 5329\n",
       "74. 5476\n",
       "75. 5625\n",
       "76. 5776\n",
       "77. 5929\n",
       "78. 6084\n",
       "79. 6241\n",
       "80. 6400\n",
       "81. 6561\n",
       "82. 6724\n",
       "83. 6889\n",
       "84. 7056\n",
       "85. 7225\n",
       "86. 7396\n",
       "87. 7569\n",
       "88. 7744\n",
       "89. 7921\n",
       "90. 8100\n",
       "91. 8281\n",
       "92. 8464\n",
       "93. 8649\n",
       "94. 8836\n",
       "95. 9025\n",
       "96. 9216\n",
       "97. 9409\n",
       "98. 9604\n",
       "99. 9801\n",
       "100. 10000\n",
       "\n",
       "\n"
      ],
      "text/plain": [
       "  [1]     1     4     9    16    25    36    49    64    81   100   121   144\n",
       " [13]   169   196   225   256   289   324   361   400   441   484   529   576\n",
       " [25]   625   676   729   784   841   900   961  1024  1089  1156  1225  1296\n",
       " [37]  1369  1444  1521  1600  1681  1764  1849  1936  2025  2116  2209  2304\n",
       " [49]  2401  2500  2601  2704  2809  2916  3025  3136  3249  3364  3481  3600\n",
       " [61]  3721  3844  3969  4096  4225  4356  4489  4624  4761  4900  5041  5184\n",
       " [73]  5329  5476  5625  5776  5929  6084  6241  6400  6561  6724  6889  7056\n",
       " [85]  7225  7396  7569  7744  7921  8100  8281  8464  8649  8836  9025  9216\n",
       " [97]  9409  9604  9801 10000"
      ]
     },
     "metadata": {},
     "output_type": "display_data"
    },
    {
     "data": {
      "text/html": [
       "<ol class=list-inline>\n",
       "\t<li>1</li>\n",
       "\t<li>4</li>\n",
       "\t<li>3</li>\n",
       "\t<li>8</li>\n",
       "\t<li>5</li>\n",
       "\t<li>12</li>\n",
       "\t<li>7</li>\n",
       "\t<li>16</li>\n",
       "\t<li>9</li>\n",
       "\t<li>20</li>\n",
       "\t<li>11</li>\n",
       "\t<li>24</li>\n",
       "\t<li>13</li>\n",
       "\t<li>28</li>\n",
       "\t<li>15</li>\n",
       "\t<li>32</li>\n",
       "\t<li>17</li>\n",
       "\t<li>36</li>\n",
       "\t<li>19</li>\n",
       "\t<li>40</li>\n",
       "\t<li>21</li>\n",
       "\t<li>44</li>\n",
       "\t<li>23</li>\n",
       "\t<li>48</li>\n",
       "\t<li>25</li>\n",
       "\t<li>52</li>\n",
       "\t<li>27</li>\n",
       "\t<li>56</li>\n",
       "\t<li>29</li>\n",
       "\t<li>60</li>\n",
       "\t<li>31</li>\n",
       "\t<li>64</li>\n",
       "\t<li>33</li>\n",
       "\t<li>68</li>\n",
       "\t<li>35</li>\n",
       "\t<li>72</li>\n",
       "\t<li>37</li>\n",
       "\t<li>76</li>\n",
       "\t<li>39</li>\n",
       "\t<li>80</li>\n",
       "\t<li>41</li>\n",
       "\t<li>84</li>\n",
       "\t<li>43</li>\n",
       "\t<li>88</li>\n",
       "\t<li>45</li>\n",
       "\t<li>92</li>\n",
       "\t<li>47</li>\n",
       "\t<li>96</li>\n",
       "\t<li>49</li>\n",
       "\t<li>100</li>\n",
       "\t<li>51</li>\n",
       "\t<li>104</li>\n",
       "\t<li>53</li>\n",
       "\t<li>108</li>\n",
       "\t<li>55</li>\n",
       "\t<li>112</li>\n",
       "\t<li>57</li>\n",
       "\t<li>116</li>\n",
       "\t<li>59</li>\n",
       "\t<li>120</li>\n",
       "\t<li>61</li>\n",
       "\t<li>124</li>\n",
       "\t<li>63</li>\n",
       "\t<li>128</li>\n",
       "\t<li>65</li>\n",
       "\t<li>132</li>\n",
       "\t<li>67</li>\n",
       "\t<li>136</li>\n",
       "\t<li>69</li>\n",
       "\t<li>140</li>\n",
       "\t<li>71</li>\n",
       "\t<li>144</li>\n",
       "\t<li>73</li>\n",
       "\t<li>148</li>\n",
       "\t<li>75</li>\n",
       "\t<li>152</li>\n",
       "\t<li>77</li>\n",
       "\t<li>156</li>\n",
       "\t<li>79</li>\n",
       "\t<li>160</li>\n",
       "\t<li>81</li>\n",
       "\t<li>164</li>\n",
       "\t<li>83</li>\n",
       "\t<li>168</li>\n",
       "\t<li>85</li>\n",
       "\t<li>172</li>\n",
       "\t<li>87</li>\n",
       "\t<li>176</li>\n",
       "\t<li>89</li>\n",
       "\t<li>180</li>\n",
       "\t<li>91</li>\n",
       "\t<li>184</li>\n",
       "\t<li>93</li>\n",
       "\t<li>188</li>\n",
       "\t<li>95</li>\n",
       "\t<li>192</li>\n",
       "\t<li>97</li>\n",
       "\t<li>196</li>\n",
       "\t<li>99</li>\n",
       "\t<li>200</li>\n",
       "</ol>\n"
      ],
      "text/latex": [
       "\\begin{enumerate*}\n",
       "\\item 1\n",
       "\\item 4\n",
       "\\item 3\n",
       "\\item 8\n",
       "\\item 5\n",
       "\\item 12\n",
       "\\item 7\n",
       "\\item 16\n",
       "\\item 9\n",
       "\\item 20\n",
       "\\item 11\n",
       "\\item 24\n",
       "\\item 13\n",
       "\\item 28\n",
       "\\item 15\n",
       "\\item 32\n",
       "\\item 17\n",
       "\\item 36\n",
       "\\item 19\n",
       "\\item 40\n",
       "\\item 21\n",
       "\\item 44\n",
       "\\item 23\n",
       "\\item 48\n",
       "\\item 25\n",
       "\\item 52\n",
       "\\item 27\n",
       "\\item 56\n",
       "\\item 29\n",
       "\\item 60\n",
       "\\item 31\n",
       "\\item 64\n",
       "\\item 33\n",
       "\\item 68\n",
       "\\item 35\n",
       "\\item 72\n",
       "\\item 37\n",
       "\\item 76\n",
       "\\item 39\n",
       "\\item 80\n",
       "\\item 41\n",
       "\\item 84\n",
       "\\item 43\n",
       "\\item 88\n",
       "\\item 45\n",
       "\\item 92\n",
       "\\item 47\n",
       "\\item 96\n",
       "\\item 49\n",
       "\\item 100\n",
       "\\item 51\n",
       "\\item 104\n",
       "\\item 53\n",
       "\\item 108\n",
       "\\item 55\n",
       "\\item 112\n",
       "\\item 57\n",
       "\\item 116\n",
       "\\item 59\n",
       "\\item 120\n",
       "\\item 61\n",
       "\\item 124\n",
       "\\item 63\n",
       "\\item 128\n",
       "\\item 65\n",
       "\\item 132\n",
       "\\item 67\n",
       "\\item 136\n",
       "\\item 69\n",
       "\\item 140\n",
       "\\item 71\n",
       "\\item 144\n",
       "\\item 73\n",
       "\\item 148\n",
       "\\item 75\n",
       "\\item 152\n",
       "\\item 77\n",
       "\\item 156\n",
       "\\item 79\n",
       "\\item 160\n",
       "\\item 81\n",
       "\\item 164\n",
       "\\item 83\n",
       "\\item 168\n",
       "\\item 85\n",
       "\\item 172\n",
       "\\item 87\n",
       "\\item 176\n",
       "\\item 89\n",
       "\\item 180\n",
       "\\item 91\n",
       "\\item 184\n",
       "\\item 93\n",
       "\\item 188\n",
       "\\item 95\n",
       "\\item 192\n",
       "\\item 97\n",
       "\\item 196\n",
       "\\item 99\n",
       "\\item 200\n",
       "\\end{enumerate*}\n"
      ],
      "text/markdown": [
       "1. 1\n",
       "2. 4\n",
       "3. 3\n",
       "4. 8\n",
       "5. 5\n",
       "6. 12\n",
       "7. 7\n",
       "8. 16\n",
       "9. 9\n",
       "10. 20\n",
       "11. 11\n",
       "12. 24\n",
       "13. 13\n",
       "14. 28\n",
       "15. 15\n",
       "16. 32\n",
       "17. 17\n",
       "18. 36\n",
       "19. 19\n",
       "20. 40\n",
       "21. 21\n",
       "22. 44\n",
       "23. 23\n",
       "24. 48\n",
       "25. 25\n",
       "26. 52\n",
       "27. 27\n",
       "28. 56\n",
       "29. 29\n",
       "30. 60\n",
       "31. 31\n",
       "32. 64\n",
       "33. 33\n",
       "34. 68\n",
       "35. 35\n",
       "36. 72\n",
       "37. 37\n",
       "38. 76\n",
       "39. 39\n",
       "40. 80\n",
       "41. 41\n",
       "42. 84\n",
       "43. 43\n",
       "44. 88\n",
       "45. 45\n",
       "46. 92\n",
       "47. 47\n",
       "48. 96\n",
       "49. 49\n",
       "50. 100\n",
       "51. 51\n",
       "52. 104\n",
       "53. 53\n",
       "54. 108\n",
       "55. 55\n",
       "56. 112\n",
       "57. 57\n",
       "58. 116\n",
       "59. 59\n",
       "60. 120\n",
       "61. 61\n",
       "62. 124\n",
       "63. 63\n",
       "64. 128\n",
       "65. 65\n",
       "66. 132\n",
       "67. 67\n",
       "68. 136\n",
       "69. 69\n",
       "70. 140\n",
       "71. 71\n",
       "72. 144\n",
       "73. 73\n",
       "74. 148\n",
       "75. 75\n",
       "76. 152\n",
       "77. 77\n",
       "78. 156\n",
       "79. 79\n",
       "80. 160\n",
       "81. 81\n",
       "82. 164\n",
       "83. 83\n",
       "84. 168\n",
       "85. 85\n",
       "86. 172\n",
       "87. 87\n",
       "88. 176\n",
       "89. 89\n",
       "90. 180\n",
       "91. 91\n",
       "92. 184\n",
       "93. 93\n",
       "94. 188\n",
       "95. 95\n",
       "96. 192\n",
       "97. 97\n",
       "98. 196\n",
       "99. 99\n",
       "100. 200\n",
       "\n",
       "\n"
      ],
      "text/plain": [
       "  [1]   1   4   3   8   5  12   7  16   9  20  11  24  13  28  15  32  17  36\n",
       " [19]  19  40  21  44  23  48  25  52  27  56  29  60  31  64  33  68  35  72\n",
       " [37]  37  76  39  80  41  84  43  88  45  92  47  96  49 100  51 104  53 108\n",
       " [55]  55 112  57 116  59 120  61 124  63 128  65 132  67 136  69 140  71 144\n",
       " [73]  73 148  75 152  77 156  79 160  81 164  83 168  85 172  87 176  89 180\n",
       " [91]  91 184  93 188  95 192  97 196  99 200"
      ]
     },
     "metadata": {},
     "output_type": "display_data"
    }
   ],
   "source": [
    "vektor_čísla\n",
    "vektor_čísla + 1\n",
    "2 * vektor_čísla\n",
    "vektor_čísla %/% 2\n",
    "vektor_čísla * vektor_čísla\n",
    "vektor_čísla * c(1, 2)"
   ]
  },
  {
   "cell_type": "markdown",
   "metadata": {},
   "source": [
    "Logické vektory je navíc možné kombinovat pomocí operátorů `&` a `|`:"
   ]
  },
  {
   "cell_type": "code",
   "execution_count": 19,
   "metadata": {},
   "outputs": [
    {
     "data": {
      "text/html": [
       "<ol class=list-inline>\n",
       "\t<li>TRUE</li>\n",
       "\t<li>TRUE</li>\n",
       "\t<li>TRUE</li>\n",
       "\t<li>FALSE</li>\n",
       "\t<li>FALSE</li>\n",
       "\t<li>FALSE</li>\n",
       "</ol>\n"
      ],
      "text/latex": [
       "\\begin{enumerate*}\n",
       "\\item TRUE\n",
       "\\item TRUE\n",
       "\\item TRUE\n",
       "\\item FALSE\n",
       "\\item FALSE\n",
       "\\item FALSE\n",
       "\\end{enumerate*}\n"
      ],
      "text/markdown": [
       "1. TRUE\n",
       "2. TRUE\n",
       "3. TRUE\n",
       "4. FALSE\n",
       "5. FALSE\n",
       "6. FALSE\n",
       "\n",
       "\n"
      ],
      "text/plain": [
       "[1]  TRUE  TRUE  TRUE FALSE FALSE FALSE"
      ]
     },
     "metadata": {},
     "output_type": "display_data"
    },
    {
     "data": {
      "text/html": [
       "<ol class=list-inline>\n",
       "\t<li>TRUE</li>\n",
       "\t<li>TRUE</li>\n",
       "\t<li>TRUE</li>\n",
       "\t<li>TRUE</li>\n",
       "\t<li>TRUE</li>\n",
       "\t<li>TRUE</li>\n",
       "</ol>\n"
      ],
      "text/latex": [
       "\\begin{enumerate*}\n",
       "\\item TRUE\n",
       "\\item TRUE\n",
       "\\item TRUE\n",
       "\\item TRUE\n",
       "\\item TRUE\n",
       "\\item TRUE\n",
       "\\end{enumerate*}\n"
      ],
      "text/markdown": [
       "1. TRUE\n",
       "2. TRUE\n",
       "3. TRUE\n",
       "4. TRUE\n",
       "5. TRUE\n",
       "6. TRUE\n",
       "\n",
       "\n"
      ],
      "text/plain": [
       "[1] TRUE TRUE TRUE TRUE TRUE TRUE"
      ]
     },
     "metadata": {},
     "output_type": "display_data"
    },
    {
     "data": {
      "text/html": [
       "<ol class=list-inline>\n",
       "\t<li>FALSE</li>\n",
       "\t<li>FALSE</li>\n",
       "\t<li>FALSE</li>\n",
       "\t<li>FALSE</li>\n",
       "\t<li>FALSE</li>\n",
       "\t<li>FALSE</li>\n",
       "</ol>\n"
      ],
      "text/latex": [
       "\\begin{enumerate*}\n",
       "\\item FALSE\n",
       "\\item FALSE\n",
       "\\item FALSE\n",
       "\\item FALSE\n",
       "\\item FALSE\n",
       "\\item FALSE\n",
       "\\end{enumerate*}\n"
      ],
      "text/markdown": [
       "1. FALSE\n",
       "2. FALSE\n",
       "3. FALSE\n",
       "4. FALSE\n",
       "5. FALSE\n",
       "6. FALSE\n",
       "\n",
       "\n"
      ],
      "text/plain": [
       "[1] FALSE FALSE FALSE FALSE FALSE FALSE"
      ]
     },
     "metadata": {},
     "output_type": "display_data"
    }
   ],
   "source": [
    "maska\n",
    "maska | c(F, F, F, T, T, T) # or\n",
    "maska & c(F, F, F, T, T, T) # and"
   ]
  },
  {
   "cell_type": "markdown",
   "metadata": {},
   "source": [
    "To se velice hodí, pokud potřebujete vybrat hodnoty z vektoru na základě určitých kritérií:"
   ]
  },
  {
   "cell_type": "code",
   "execution_count": 20,
   "metadata": {},
   "outputs": [
    {
     "data": {
      "text/html": [
       "<ol class=list-inline>\n",
       "\t<li>1</li>\n",
       "\t<li>2</li>\n",
       "\t<li>3</li>\n",
       "\t<li>4</li>\n",
       "\t<li>5</li>\n",
       "\t<li>6</li>\n",
       "\t<li>7</li>\n",
       "\t<li>8</li>\n",
       "\t<li>9</li>\n",
       "\t<li>10</li>\n",
       "\t<li>11</li>\n",
       "\t<li>12</li>\n",
       "\t<li>13</li>\n",
       "\t<li>14</li>\n",
       "\t<li>15</li>\n",
       "\t<li>16</li>\n",
       "\t<li>17</li>\n",
       "\t<li>18</li>\n",
       "\t<li>19</li>\n",
       "\t<li>20</li>\n",
       "\t<li>21</li>\n",
       "\t<li>22</li>\n",
       "\t<li>23</li>\n",
       "\t<li>24</li>\n",
       "\t<li>25</li>\n",
       "\t<li>26</li>\n",
       "\t<li>27</li>\n",
       "\t<li>28</li>\n",
       "\t<li>29</li>\n",
       "\t<li>30</li>\n",
       "\t<li>31</li>\n",
       "\t<li>32</li>\n",
       "\t<li>33</li>\n",
       "\t<li>34</li>\n",
       "\t<li>35</li>\n",
       "\t<li>36</li>\n",
       "\t<li>37</li>\n",
       "\t<li>38</li>\n",
       "\t<li>39</li>\n",
       "\t<li>40</li>\n",
       "\t<li>41</li>\n",
       "\t<li>42</li>\n",
       "\t<li>43</li>\n",
       "\t<li>44</li>\n",
       "\t<li>45</li>\n",
       "\t<li>46</li>\n",
       "\t<li>47</li>\n",
       "\t<li>48</li>\n",
       "\t<li>49</li>\n",
       "\t<li>50</li>\n",
       "\t<li>51</li>\n",
       "\t<li>52</li>\n",
       "\t<li>53</li>\n",
       "\t<li>54</li>\n",
       "\t<li>55</li>\n",
       "\t<li>56</li>\n",
       "\t<li>57</li>\n",
       "\t<li>58</li>\n",
       "\t<li>59</li>\n",
       "\t<li>60</li>\n",
       "\t<li>61</li>\n",
       "\t<li>62</li>\n",
       "\t<li>63</li>\n",
       "\t<li>64</li>\n",
       "\t<li>65</li>\n",
       "\t<li>66</li>\n",
       "\t<li>67</li>\n",
       "\t<li>68</li>\n",
       "\t<li>69</li>\n",
       "\t<li>70</li>\n",
       "\t<li>71</li>\n",
       "\t<li>72</li>\n",
       "\t<li>73</li>\n",
       "\t<li>74</li>\n",
       "\t<li>75</li>\n",
       "\t<li>76</li>\n",
       "\t<li>77</li>\n",
       "\t<li>78</li>\n",
       "\t<li>79</li>\n",
       "\t<li>80</li>\n",
       "\t<li>81</li>\n",
       "\t<li>82</li>\n",
       "\t<li>83</li>\n",
       "\t<li>84</li>\n",
       "\t<li>85</li>\n",
       "\t<li>86</li>\n",
       "\t<li>87</li>\n",
       "\t<li>88</li>\n",
       "\t<li>89</li>\n",
       "\t<li>90</li>\n",
       "\t<li>91</li>\n",
       "\t<li>92</li>\n",
       "\t<li>93</li>\n",
       "\t<li>94</li>\n",
       "\t<li>95</li>\n",
       "\t<li>96</li>\n",
       "\t<li>97</li>\n",
       "\t<li>98</li>\n",
       "\t<li>99</li>\n",
       "\t<li>100</li>\n",
       "</ol>\n"
      ],
      "text/latex": [
       "\\begin{enumerate*}\n",
       "\\item 1\n",
       "\\item 2\n",
       "\\item 3\n",
       "\\item 4\n",
       "\\item 5\n",
       "\\item 6\n",
       "\\item 7\n",
       "\\item 8\n",
       "\\item 9\n",
       "\\item 10\n",
       "\\item 11\n",
       "\\item 12\n",
       "\\item 13\n",
       "\\item 14\n",
       "\\item 15\n",
       "\\item 16\n",
       "\\item 17\n",
       "\\item 18\n",
       "\\item 19\n",
       "\\item 20\n",
       "\\item 21\n",
       "\\item 22\n",
       "\\item 23\n",
       "\\item 24\n",
       "\\item 25\n",
       "\\item 26\n",
       "\\item 27\n",
       "\\item 28\n",
       "\\item 29\n",
       "\\item 30\n",
       "\\item 31\n",
       "\\item 32\n",
       "\\item 33\n",
       "\\item 34\n",
       "\\item 35\n",
       "\\item 36\n",
       "\\item 37\n",
       "\\item 38\n",
       "\\item 39\n",
       "\\item 40\n",
       "\\item 41\n",
       "\\item 42\n",
       "\\item 43\n",
       "\\item 44\n",
       "\\item 45\n",
       "\\item 46\n",
       "\\item 47\n",
       "\\item 48\n",
       "\\item 49\n",
       "\\item 50\n",
       "\\item 51\n",
       "\\item 52\n",
       "\\item 53\n",
       "\\item 54\n",
       "\\item 55\n",
       "\\item 56\n",
       "\\item 57\n",
       "\\item 58\n",
       "\\item 59\n",
       "\\item 60\n",
       "\\item 61\n",
       "\\item 62\n",
       "\\item 63\n",
       "\\item 64\n",
       "\\item 65\n",
       "\\item 66\n",
       "\\item 67\n",
       "\\item 68\n",
       "\\item 69\n",
       "\\item 70\n",
       "\\item 71\n",
       "\\item 72\n",
       "\\item 73\n",
       "\\item 74\n",
       "\\item 75\n",
       "\\item 76\n",
       "\\item 77\n",
       "\\item 78\n",
       "\\item 79\n",
       "\\item 80\n",
       "\\item 81\n",
       "\\item 82\n",
       "\\item 83\n",
       "\\item 84\n",
       "\\item 85\n",
       "\\item 86\n",
       "\\item 87\n",
       "\\item 88\n",
       "\\item 89\n",
       "\\item 90\n",
       "\\item 91\n",
       "\\item 92\n",
       "\\item 93\n",
       "\\item 94\n",
       "\\item 95\n",
       "\\item 96\n",
       "\\item 97\n",
       "\\item 98\n",
       "\\item 99\n",
       "\\item 100\n",
       "\\end{enumerate*}\n"
      ],
      "text/markdown": [
       "1. 1\n",
       "2. 2\n",
       "3. 3\n",
       "4. 4\n",
       "5. 5\n",
       "6. 6\n",
       "7. 7\n",
       "8. 8\n",
       "9. 9\n",
       "10. 10\n",
       "11. 11\n",
       "12. 12\n",
       "13. 13\n",
       "14. 14\n",
       "15. 15\n",
       "16. 16\n",
       "17. 17\n",
       "18. 18\n",
       "19. 19\n",
       "20. 20\n",
       "21. 21\n",
       "22. 22\n",
       "23. 23\n",
       "24. 24\n",
       "25. 25\n",
       "26. 26\n",
       "27. 27\n",
       "28. 28\n",
       "29. 29\n",
       "30. 30\n",
       "31. 31\n",
       "32. 32\n",
       "33. 33\n",
       "34. 34\n",
       "35. 35\n",
       "36. 36\n",
       "37. 37\n",
       "38. 38\n",
       "39. 39\n",
       "40. 40\n",
       "41. 41\n",
       "42. 42\n",
       "43. 43\n",
       "44. 44\n",
       "45. 45\n",
       "46. 46\n",
       "47. 47\n",
       "48. 48\n",
       "49. 49\n",
       "50. 50\n",
       "51. 51\n",
       "52. 52\n",
       "53. 53\n",
       "54. 54\n",
       "55. 55\n",
       "56. 56\n",
       "57. 57\n",
       "58. 58\n",
       "59. 59\n",
       "60. 60\n",
       "61. 61\n",
       "62. 62\n",
       "63. 63\n",
       "64. 64\n",
       "65. 65\n",
       "66. 66\n",
       "67. 67\n",
       "68. 68\n",
       "69. 69\n",
       "70. 70\n",
       "71. 71\n",
       "72. 72\n",
       "73. 73\n",
       "74. 74\n",
       "75. 75\n",
       "76. 76\n",
       "77. 77\n",
       "78. 78\n",
       "79. 79\n",
       "80. 80\n",
       "81. 81\n",
       "82. 82\n",
       "83. 83\n",
       "84. 84\n",
       "85. 85\n",
       "86. 86\n",
       "87. 87\n",
       "88. 88\n",
       "89. 89\n",
       "90. 90\n",
       "91. 91\n",
       "92. 92\n",
       "93. 93\n",
       "94. 94\n",
       "95. 95\n",
       "96. 96\n",
       "97. 97\n",
       "98. 98\n",
       "99. 99\n",
       "100. 100\n",
       "\n",
       "\n"
      ],
      "text/plain": [
       "  [1]   1   2   3   4   5   6   7   8   9  10  11  12  13  14  15  16  17  18\n",
       " [19]  19  20  21  22  23  24  25  26  27  28  29  30  31  32  33  34  35  36\n",
       " [37]  37  38  39  40  41  42  43  44  45  46  47  48  49  50  51  52  53  54\n",
       " [55]  55  56  57  58  59  60  61  62  63  64  65  66  67  68  69  70  71  72\n",
       " [73]  73  74  75  76  77  78  79  80  81  82  83  84  85  86  87  88  89  90\n",
       " [91]  91  92  93  94  95  96  97  98  99 100"
      ]
     },
     "metadata": {},
     "output_type": "display_data"
    },
    {
     "data": {
      "text/html": [
       "<ol class=list-inline>\n",
       "\t<li>11</li>\n",
       "\t<li>12</li>\n",
       "\t<li>13</li>\n",
       "\t<li>14</li>\n",
       "\t<li>15</li>\n",
       "\t<li>16</li>\n",
       "\t<li>17</li>\n",
       "\t<li>18</li>\n",
       "\t<li>19</li>\n",
       "\t<li>20</li>\n",
       "\t<li>21</li>\n",
       "\t<li>22</li>\n",
       "\t<li>23</li>\n",
       "\t<li>24</li>\n",
       "\t<li>25</li>\n",
       "\t<li>26</li>\n",
       "\t<li>27</li>\n",
       "\t<li>28</li>\n",
       "\t<li>29</li>\n",
       "\t<li>30</li>\n",
       "\t<li>31</li>\n",
       "\t<li>32</li>\n",
       "\t<li>33</li>\n",
       "\t<li>34</li>\n",
       "\t<li>35</li>\n",
       "\t<li>36</li>\n",
       "\t<li>37</li>\n",
       "\t<li>38</li>\n",
       "\t<li>39</li>\n",
       "\t<li>40</li>\n",
       "\t<li>41</li>\n",
       "\t<li>42</li>\n",
       "\t<li>43</li>\n",
       "\t<li>44</li>\n",
       "\t<li>45</li>\n",
       "\t<li>46</li>\n",
       "\t<li>47</li>\n",
       "\t<li>48</li>\n",
       "\t<li>49</li>\n",
       "\t<li>50</li>\n",
       "\t<li>51</li>\n",
       "\t<li>52</li>\n",
       "\t<li>53</li>\n",
       "\t<li>54</li>\n",
       "\t<li>55</li>\n",
       "\t<li>56</li>\n",
       "\t<li>57</li>\n",
       "\t<li>58</li>\n",
       "\t<li>59</li>\n",
       "\t<li>60</li>\n",
       "\t<li>61</li>\n",
       "\t<li>62</li>\n",
       "\t<li>63</li>\n",
       "\t<li>64</li>\n",
       "\t<li>65</li>\n",
       "\t<li>66</li>\n",
       "\t<li>67</li>\n",
       "\t<li>68</li>\n",
       "\t<li>69</li>\n",
       "\t<li>70</li>\n",
       "\t<li>71</li>\n",
       "\t<li>72</li>\n",
       "\t<li>73</li>\n",
       "\t<li>74</li>\n",
       "\t<li>75</li>\n",
       "\t<li>76</li>\n",
       "\t<li>77</li>\n",
       "\t<li>78</li>\n",
       "\t<li>79</li>\n",
       "\t<li>80</li>\n",
       "\t<li>81</li>\n",
       "\t<li>82</li>\n",
       "\t<li>83</li>\n",
       "\t<li>84</li>\n",
       "\t<li>85</li>\n",
       "\t<li>86</li>\n",
       "\t<li>87</li>\n",
       "\t<li>88</li>\n",
       "\t<li>89</li>\n",
       "</ol>\n"
      ],
      "text/latex": [
       "\\begin{enumerate*}\n",
       "\\item 11\n",
       "\\item 12\n",
       "\\item 13\n",
       "\\item 14\n",
       "\\item 15\n",
       "\\item 16\n",
       "\\item 17\n",
       "\\item 18\n",
       "\\item 19\n",
       "\\item 20\n",
       "\\item 21\n",
       "\\item 22\n",
       "\\item 23\n",
       "\\item 24\n",
       "\\item 25\n",
       "\\item 26\n",
       "\\item 27\n",
       "\\item 28\n",
       "\\item 29\n",
       "\\item 30\n",
       "\\item 31\n",
       "\\item 32\n",
       "\\item 33\n",
       "\\item 34\n",
       "\\item 35\n",
       "\\item 36\n",
       "\\item 37\n",
       "\\item 38\n",
       "\\item 39\n",
       "\\item 40\n",
       "\\item 41\n",
       "\\item 42\n",
       "\\item 43\n",
       "\\item 44\n",
       "\\item 45\n",
       "\\item 46\n",
       "\\item 47\n",
       "\\item 48\n",
       "\\item 49\n",
       "\\item 50\n",
       "\\item 51\n",
       "\\item 52\n",
       "\\item 53\n",
       "\\item 54\n",
       "\\item 55\n",
       "\\item 56\n",
       "\\item 57\n",
       "\\item 58\n",
       "\\item 59\n",
       "\\item 60\n",
       "\\item 61\n",
       "\\item 62\n",
       "\\item 63\n",
       "\\item 64\n",
       "\\item 65\n",
       "\\item 66\n",
       "\\item 67\n",
       "\\item 68\n",
       "\\item 69\n",
       "\\item 70\n",
       "\\item 71\n",
       "\\item 72\n",
       "\\item 73\n",
       "\\item 74\n",
       "\\item 75\n",
       "\\item 76\n",
       "\\item 77\n",
       "\\item 78\n",
       "\\item 79\n",
       "\\item 80\n",
       "\\item 81\n",
       "\\item 82\n",
       "\\item 83\n",
       "\\item 84\n",
       "\\item 85\n",
       "\\item 86\n",
       "\\item 87\n",
       "\\item 88\n",
       "\\item 89\n",
       "\\end{enumerate*}\n"
      ],
      "text/markdown": [
       "1. 11\n",
       "2. 12\n",
       "3. 13\n",
       "4. 14\n",
       "5. 15\n",
       "6. 16\n",
       "7. 17\n",
       "8. 18\n",
       "9. 19\n",
       "10. 20\n",
       "11. 21\n",
       "12. 22\n",
       "13. 23\n",
       "14. 24\n",
       "15. 25\n",
       "16. 26\n",
       "17. 27\n",
       "18. 28\n",
       "19. 29\n",
       "20. 30\n",
       "21. 31\n",
       "22. 32\n",
       "23. 33\n",
       "24. 34\n",
       "25. 35\n",
       "26. 36\n",
       "27. 37\n",
       "28. 38\n",
       "29. 39\n",
       "30. 40\n",
       "31. 41\n",
       "32. 42\n",
       "33. 43\n",
       "34. 44\n",
       "35. 45\n",
       "36. 46\n",
       "37. 47\n",
       "38. 48\n",
       "39. 49\n",
       "40. 50\n",
       "41. 51\n",
       "42. 52\n",
       "43. 53\n",
       "44. 54\n",
       "45. 55\n",
       "46. 56\n",
       "47. 57\n",
       "48. 58\n",
       "49. 59\n",
       "50. 60\n",
       "51. 61\n",
       "52. 62\n",
       "53. 63\n",
       "54. 64\n",
       "55. 65\n",
       "56. 66\n",
       "57. 67\n",
       "58. 68\n",
       "59. 69\n",
       "60. 70\n",
       "61. 71\n",
       "62. 72\n",
       "63. 73\n",
       "64. 74\n",
       "65. 75\n",
       "66. 76\n",
       "67. 77\n",
       "68. 78\n",
       "69. 79\n",
       "70. 80\n",
       "71. 81\n",
       "72. 82\n",
       "73. 83\n",
       "74. 84\n",
       "75. 85\n",
       "76. 86\n",
       "77. 87\n",
       "78. 88\n",
       "79. 89\n",
       "\n",
       "\n"
      ],
      "text/plain": [
       " [1] 11 12 13 14 15 16 17 18 19 20 21 22 23 24 25 26 27 28 29 30 31 32 33 34 35\n",
       "[26] 36 37 38 39 40 41 42 43 44 45 46 47 48 49 50 51 52 53 54 55 56 57 58 59 60\n",
       "[51] 61 62 63 64 65 66 67 68 69 70 71 72 73 74 75 76 77 78 79 80 81 82 83 84 85\n",
       "[76] 86 87 88 89"
      ]
     },
     "metadata": {},
     "output_type": "display_data"
    }
   ],
   "source": [
    "vektor_čísla\n",
    "vektor_čísla[(vektor_čísla > 10) & (vektor_čísla < 90)]"
   ]
  },
  {
   "cell_type": "markdown",
   "metadata": {},
   "source": [
    "Další užitečnou věcí, která se týká nejen vektorů ale v podstatě všech datových struktur je operátor `%in%`, pomocí kterého můžete snadno zjistit, zda se daný prvek ve vektoru nachází nebo ne:"
   ]
  },
  {
   "cell_type": "code",
   "execution_count": 21,
   "metadata": {},
   "outputs": [
    {
     "data": {
      "text/html": [
       "TRUE"
      ],
      "text/latex": [
       "TRUE"
      ],
      "text/markdown": [
       "TRUE"
      ],
      "text/plain": [
       "[1] TRUE"
      ]
     },
     "metadata": {},
     "output_type": "display_data"
    },
    {
     "data": {
      "text/html": [
       "FALSE"
      ],
      "text/latex": [
       "FALSE"
      ],
      "text/markdown": [
       "FALSE"
      ],
      "text/plain": [
       "[1] FALSE"
      ]
     },
     "metadata": {},
     "output_type": "display_data"
    }
   ],
   "source": [
    "1 %in% vektor_čísla\n",
    "0 %in% vektor_čísla"
   ]
  },
  {
   "cell_type": "markdown",
   "metadata": {},
   "source": [
    "Na levé straně nemusí být nutně atomická hodnota:"
   ]
  },
  {
   "cell_type": "code",
   "execution_count": 22,
   "metadata": {},
   "outputs": [
    {
     "data": {
      "text/html": [
       "<ol class=list-inline>\n",
       "\t<li>TRUE</li>\n",
       "\t<li>TRUE</li>\n",
       "\t<li>TRUE</li>\n",
       "\t<li>TRUE</li>\n",
       "\t<li>TRUE</li>\n",
       "\t<li>TRUE</li>\n",
       "\t<li>TRUE</li>\n",
       "\t<li>TRUE</li>\n",
       "\t<li>TRUE</li>\n",
       "\t<li>TRUE</li>\n",
       "\t<li>FALSE</li>\n",
       "\t<li>FALSE</li>\n",
       "\t<li>FALSE</li>\n",
       "\t<li>FALSE</li>\n",
       "\t<li>FALSE</li>\n",
       "\t<li>FALSE</li>\n",
       "\t<li>FALSE</li>\n",
       "\t<li>FALSE</li>\n",
       "\t<li>FALSE</li>\n",
       "\t<li>FALSE</li>\n",
       "\t<li>FALSE</li>\n",
       "\t<li>FALSE</li>\n",
       "\t<li>FALSE</li>\n",
       "\t<li>FALSE</li>\n",
       "\t<li>FALSE</li>\n",
       "\t<li>FALSE</li>\n",
       "\t<li>FALSE</li>\n",
       "\t<li>FALSE</li>\n",
       "\t<li>FALSE</li>\n",
       "\t<li>FALSE</li>\n",
       "\t<li>FALSE</li>\n",
       "\t<li>FALSE</li>\n",
       "\t<li>FALSE</li>\n",
       "\t<li>FALSE</li>\n",
       "\t<li>FALSE</li>\n",
       "\t<li>FALSE</li>\n",
       "\t<li>FALSE</li>\n",
       "\t<li>FALSE</li>\n",
       "\t<li>FALSE</li>\n",
       "\t<li>FALSE</li>\n",
       "\t<li>FALSE</li>\n",
       "\t<li>FALSE</li>\n",
       "\t<li>FALSE</li>\n",
       "\t<li>FALSE</li>\n",
       "\t<li>FALSE</li>\n",
       "\t<li>FALSE</li>\n",
       "\t<li>FALSE</li>\n",
       "\t<li>FALSE</li>\n",
       "\t<li>FALSE</li>\n",
       "\t<li>FALSE</li>\n",
       "\t<li>FALSE</li>\n",
       "\t<li>FALSE</li>\n",
       "\t<li>FALSE</li>\n",
       "\t<li>FALSE</li>\n",
       "\t<li>FALSE</li>\n",
       "\t<li>FALSE</li>\n",
       "\t<li>FALSE</li>\n",
       "\t<li>FALSE</li>\n",
       "\t<li>FALSE</li>\n",
       "\t<li>FALSE</li>\n",
       "\t<li>FALSE</li>\n",
       "\t<li>FALSE</li>\n",
       "\t<li>FALSE</li>\n",
       "\t<li>FALSE</li>\n",
       "\t<li>FALSE</li>\n",
       "\t<li>FALSE</li>\n",
       "\t<li>FALSE</li>\n",
       "\t<li>FALSE</li>\n",
       "\t<li>FALSE</li>\n",
       "\t<li>FALSE</li>\n",
       "\t<li>FALSE</li>\n",
       "\t<li>FALSE</li>\n",
       "\t<li>FALSE</li>\n",
       "\t<li>FALSE</li>\n",
       "\t<li>FALSE</li>\n",
       "\t<li>FALSE</li>\n",
       "\t<li>FALSE</li>\n",
       "\t<li>FALSE</li>\n",
       "\t<li>FALSE</li>\n",
       "\t<li>FALSE</li>\n",
       "\t<li>FALSE</li>\n",
       "\t<li>FALSE</li>\n",
       "\t<li>FALSE</li>\n",
       "\t<li>FALSE</li>\n",
       "\t<li>FALSE</li>\n",
       "\t<li>FALSE</li>\n",
       "\t<li>FALSE</li>\n",
       "\t<li>FALSE</li>\n",
       "\t<li>FALSE</li>\n",
       "\t<li>TRUE</li>\n",
       "\t<li>TRUE</li>\n",
       "\t<li>TRUE</li>\n",
       "\t<li>TRUE</li>\n",
       "\t<li>TRUE</li>\n",
       "\t<li>TRUE</li>\n",
       "\t<li>TRUE</li>\n",
       "\t<li>TRUE</li>\n",
       "\t<li>TRUE</li>\n",
       "\t<li>TRUE</li>\n",
       "\t<li>TRUE</li>\n",
       "</ol>\n"
      ],
      "text/latex": [
       "\\begin{enumerate*}\n",
       "\\item TRUE\n",
       "\\item TRUE\n",
       "\\item TRUE\n",
       "\\item TRUE\n",
       "\\item TRUE\n",
       "\\item TRUE\n",
       "\\item TRUE\n",
       "\\item TRUE\n",
       "\\item TRUE\n",
       "\\item TRUE\n",
       "\\item FALSE\n",
       "\\item FALSE\n",
       "\\item FALSE\n",
       "\\item FALSE\n",
       "\\item FALSE\n",
       "\\item FALSE\n",
       "\\item FALSE\n",
       "\\item FALSE\n",
       "\\item FALSE\n",
       "\\item FALSE\n",
       "\\item FALSE\n",
       "\\item FALSE\n",
       "\\item FALSE\n",
       "\\item FALSE\n",
       "\\item FALSE\n",
       "\\item FALSE\n",
       "\\item FALSE\n",
       "\\item FALSE\n",
       "\\item FALSE\n",
       "\\item FALSE\n",
       "\\item FALSE\n",
       "\\item FALSE\n",
       "\\item FALSE\n",
       "\\item FALSE\n",
       "\\item FALSE\n",
       "\\item FALSE\n",
       "\\item FALSE\n",
       "\\item FALSE\n",
       "\\item FALSE\n",
       "\\item FALSE\n",
       "\\item FALSE\n",
       "\\item FALSE\n",
       "\\item FALSE\n",
       "\\item FALSE\n",
       "\\item FALSE\n",
       "\\item FALSE\n",
       "\\item FALSE\n",
       "\\item FALSE\n",
       "\\item FALSE\n",
       "\\item FALSE\n",
       "\\item FALSE\n",
       "\\item FALSE\n",
       "\\item FALSE\n",
       "\\item FALSE\n",
       "\\item FALSE\n",
       "\\item FALSE\n",
       "\\item FALSE\n",
       "\\item FALSE\n",
       "\\item FALSE\n",
       "\\item FALSE\n",
       "\\item FALSE\n",
       "\\item FALSE\n",
       "\\item FALSE\n",
       "\\item FALSE\n",
       "\\item FALSE\n",
       "\\item FALSE\n",
       "\\item FALSE\n",
       "\\item FALSE\n",
       "\\item FALSE\n",
       "\\item FALSE\n",
       "\\item FALSE\n",
       "\\item FALSE\n",
       "\\item FALSE\n",
       "\\item FALSE\n",
       "\\item FALSE\n",
       "\\item FALSE\n",
       "\\item FALSE\n",
       "\\item FALSE\n",
       "\\item FALSE\n",
       "\\item FALSE\n",
       "\\item FALSE\n",
       "\\item FALSE\n",
       "\\item FALSE\n",
       "\\item FALSE\n",
       "\\item FALSE\n",
       "\\item FALSE\n",
       "\\item FALSE\n",
       "\\item FALSE\n",
       "\\item FALSE\n",
       "\\item TRUE\n",
       "\\item TRUE\n",
       "\\item TRUE\n",
       "\\item TRUE\n",
       "\\item TRUE\n",
       "\\item TRUE\n",
       "\\item TRUE\n",
       "\\item TRUE\n",
       "\\item TRUE\n",
       "\\item TRUE\n",
       "\\item TRUE\n",
       "\\end{enumerate*}\n"
      ],
      "text/markdown": [
       "1. TRUE\n",
       "2. TRUE\n",
       "3. TRUE\n",
       "4. TRUE\n",
       "5. TRUE\n",
       "6. TRUE\n",
       "7. TRUE\n",
       "8. TRUE\n",
       "9. TRUE\n",
       "10. TRUE\n",
       "11. FALSE\n",
       "12. FALSE\n",
       "13. FALSE\n",
       "14. FALSE\n",
       "15. FALSE\n",
       "16. FALSE\n",
       "17. FALSE\n",
       "18. FALSE\n",
       "19. FALSE\n",
       "20. FALSE\n",
       "21. FALSE\n",
       "22. FALSE\n",
       "23. FALSE\n",
       "24. FALSE\n",
       "25. FALSE\n",
       "26. FALSE\n",
       "27. FALSE\n",
       "28. FALSE\n",
       "29. FALSE\n",
       "30. FALSE\n",
       "31. FALSE\n",
       "32. FALSE\n",
       "33. FALSE\n",
       "34. FALSE\n",
       "35. FALSE\n",
       "36. FALSE\n",
       "37. FALSE\n",
       "38. FALSE\n",
       "39. FALSE\n",
       "40. FALSE\n",
       "41. FALSE\n",
       "42. FALSE\n",
       "43. FALSE\n",
       "44. FALSE\n",
       "45. FALSE\n",
       "46. FALSE\n",
       "47. FALSE\n",
       "48. FALSE\n",
       "49. FALSE\n",
       "50. FALSE\n",
       "51. FALSE\n",
       "52. FALSE\n",
       "53. FALSE\n",
       "54. FALSE\n",
       "55. FALSE\n",
       "56. FALSE\n",
       "57. FALSE\n",
       "58. FALSE\n",
       "59. FALSE\n",
       "60. FALSE\n",
       "61. FALSE\n",
       "62. FALSE\n",
       "63. FALSE\n",
       "64. FALSE\n",
       "65. FALSE\n",
       "66. FALSE\n",
       "67. FALSE\n",
       "68. FALSE\n",
       "69. FALSE\n",
       "70. FALSE\n",
       "71. FALSE\n",
       "72. FALSE\n",
       "73. FALSE\n",
       "74. FALSE\n",
       "75. FALSE\n",
       "76. FALSE\n",
       "77. FALSE\n",
       "78. FALSE\n",
       "79. FALSE\n",
       "80. FALSE\n",
       "81. FALSE\n",
       "82. FALSE\n",
       "83. FALSE\n",
       "84. FALSE\n",
       "85. FALSE\n",
       "86. FALSE\n",
       "87. FALSE\n",
       "88. FALSE\n",
       "89. FALSE\n",
       "90. TRUE\n",
       "91. TRUE\n",
       "92. TRUE\n",
       "93. TRUE\n",
       "94. TRUE\n",
       "95. TRUE\n",
       "96. TRUE\n",
       "97. TRUE\n",
       "98. TRUE\n",
       "99. TRUE\n",
       "100. TRUE\n",
       "\n",
       "\n"
      ],
      "text/plain": [
       "  [1]  TRUE  TRUE  TRUE  TRUE  TRUE  TRUE  TRUE  TRUE  TRUE  TRUE FALSE FALSE\n",
       " [13] FALSE FALSE FALSE FALSE FALSE FALSE FALSE FALSE FALSE FALSE FALSE FALSE\n",
       " [25] FALSE FALSE FALSE FALSE FALSE FALSE FALSE FALSE FALSE FALSE FALSE FALSE\n",
       " [37] FALSE FALSE FALSE FALSE FALSE FALSE FALSE FALSE FALSE FALSE FALSE FALSE\n",
       " [49] FALSE FALSE FALSE FALSE FALSE FALSE FALSE FALSE FALSE FALSE FALSE FALSE\n",
       " [61] FALSE FALSE FALSE FALSE FALSE FALSE FALSE FALSE FALSE FALSE FALSE FALSE\n",
       " [73] FALSE FALSE FALSE FALSE FALSE FALSE FALSE FALSE FALSE FALSE FALSE FALSE\n",
       " [85] FALSE FALSE FALSE FALSE FALSE  TRUE  TRUE  TRUE  TRUE  TRUE  TRUE  TRUE\n",
       " [97]  TRUE  TRUE  TRUE  TRUE"
      ]
     },
     "metadata": {},
     "output_type": "display_data"
    }
   ],
   "source": [
    "vektor_čísla %in% c(1:10, 90:100)"
   ]
  },
  {
   "cell_type": "markdown",
   "metadata": {},
   "source": [
    "V takovém případě se operátor postupně aplikuje na každý prvek vektoru a výsledkem je vektor pravdivostních hodnot odpovídajících výsledkům jednotlivých operací. Toto se tedy opět může hodit při filtrování hodnot vektoru (nebo jiných datových struktur).\n",
    "\n",
    "Objekty uložené ve vektoru mohou mít vždy pouze jeden datový typ. Pokud funkci `c` předhodíte data různých typů, automaticky všechny hodnoty převede na 'nejobjemnější z nich'. V následujícím případě je to řetězec znaků:"
   ]
  },
  {
   "cell_type": "code",
   "execution_count": 23,
   "metadata": {},
   "outputs": [
    {
     "name": "stdout",
     "output_type": "stream",
     "text": [
      "[1] \"1\"       \"2\"       \"3\"       \"4\"       \"5\"       \"10.5\"    \"bla bla\"\n"
     ]
    },
    {
     "data": {
      "text/html": [
       "'character'"
      ],
      "text/latex": [
       "'character'"
      ],
      "text/markdown": [
       "'character'"
      ],
      "text/plain": [
       "[1] \"character\""
      ]
     },
     "metadata": {},
     "output_type": "display_data"
    }
   ],
   "source": [
    "vektor_kombinovaný <- c(1:5, 10.5, \"bla bla\")\n",
    "print(vektor_kombinovaný)\n",
    "class(vektor_kombinovaný)"
   ]
  },
  {
   "cell_type": "markdown",
   "metadata": {},
   "source": [
    "Každý prvek vektoru tedy má v paměti stejnou velikost.\n",
    "\n",
    "S vektory toho jde dělat skutečně mnoho a lze dokonce jejich položkám i přiřazovat jména a pak je používat místo indexu:"
   ]
  },
  {
   "cell_type": "code",
   "execution_count": 24,
   "metadata": {},
   "outputs": [
    {
     "data": {
      "text/html": [
       "<strong>dvě:</strong> 2"
      ],
      "text/latex": [
       "\\textbf{dvě:} 2"
      ],
      "text/markdown": [
       "**dvě:** 2"
      ],
      "text/plain": [
       "dvě \n",
       "  2 "
      ]
     },
     "metadata": {},
     "output_type": "display_data"
    }
   ],
   "source": [
    "pět <- 1:5\n",
    "names(pět) <- c(\"jedna\", \"dvě\", \"tři\", \"čtyři\", \"pět\")\n",
    "pět[\"dvě\"]"
   ]
  },
  {
   "cell_type": "markdown",
   "metadata": {},
   "source": [
    "Naposledy ještě krátká poznámka k tomu, proč v R zdánlivě není datový typ vektor:"
   ]
  },
  {
   "cell_type": "code",
   "execution_count": 25,
   "metadata": {},
   "outputs": [
    {
     "data": {
      "text/html": [
       "'integer'"
      ],
      "text/latex": [
       "'integer'"
      ],
      "text/markdown": [
       "'integer'"
      ],
      "text/plain": [
       "[1] \"integer\""
      ]
     },
     "metadata": {},
     "output_type": "display_data"
    },
    {
     "data": {
      "text/html": [
       "'integer'"
      ],
      "text/latex": [
       "'integer'"
      ],
      "text/markdown": [
       "'integer'"
      ],
      "text/plain": [
       "[1] \"integer\""
      ]
     },
     "metadata": {},
     "output_type": "display_data"
    }
   ],
   "source": [
    "typeof(vektor_čísla)\n",
    "class(vektor_čísla)"
   ]
  },
  {
   "cell_type": "markdown",
   "metadata": {},
   "source": [
    "Ve filozofii jazyka R totiž vlastně neexistuje nic jako atomická hodnota, ale vše je vždy primárně interpretováno jako vektor. Proto funkce `print` vytiskne v následujícím volání jedničku, protože se vlastně jedná o vektor, který obsajuje jednu položku:"
   ]
  },
  {
   "cell_type": "code",
   "execution_count": 26,
   "metadata": {},
   "outputs": [
    {
     "name": "stdout",
     "output_type": "stream",
     "text": [
      "[1] 1\n"
     ]
    }
   ],
   "source": [
    "print(1)"
   ]
  },
  {
   "cell_type": "markdown",
   "metadata": {},
   "source": [
    "## Funkce\n",
    "\n",
    "Co dělá R tak užitečným, je právě široký výběr funkcí, které můžete ve svých programech využít. Díky funkcím je možné snadno zapouzdřovat kód pro opakované použití. Když v R zavoláte funkci (např. `print`), děje se na pozadí hodně věcí, o kterých většinou [raději ani nechcete vědět](http://sourceware.org/git/?p=glibc.git;a=blob;f=stdio-common/vfprintf.c;h=fc370e8cbc4e9652a2ed377b1c6f2324f15b1bf9;hb=3321010338384ecdc6633a8b032bb0ed6aa9b19a). \n",
    "\n",
    "Bylo by tedy neefektivní, kdybyste například při každém pokusu o zápis obsahu vaší proměnné na výstup programu museli řešit věci jako otevření a zavření textového bufferu a formátování na konzoli pořád dokola. Je mnohem praktičtější napsat kód jednou a předem definovat proměnné, které se budou měnit v závislosti na kontextu, ve kterém se kód bude vykonávat. V R se funkce definují následujícím způsobem (samotnou syntaxi definice funkce napravo od operátoru `<-` si probereme později):"
   ]
  },
  {
   "cell_type": "code",
   "execution_count": 27,
   "metadata": {},
   "outputs": [
    {
     "data": {
      "text/html": [
       "1.4142135623731"
      ],
      "text/latex": [
       "1.4142135623731"
      ],
      "text/markdown": [
       "1.4142135623731"
      ],
      "text/plain": [
       "[1] 1.414214"
      ]
     },
     "metadata": {},
     "output_type": "display_data"
    }
   ],
   "source": [
    "odmocnina <- function(cislo, odmocnitCim) {\n",
    "    # spočítá odmocninu z daného čísla\n",
    "\n",
    "    cislo ^ (1 / odmocnitCim)\n",
    "}\n",
    "\n",
    "odmocnina(2, 2)"
   ]
  },
  {
   "cell_type": "markdown",
   "metadata": {},
   "source": [
    "Jelikož se v R k funkcím přistupuje jako k tzv. 'first-class citizens', není funkce ve výsledku nic jiného, než vytvoření nového objektu a jeho přiřazení do proměnné. Následující kód tedy též funguje, jenom je třeba uzavřít definici funkce do závorek (proč, to zatím necháme být):"
   ]
  },
  {
   "cell_type": "code",
   "execution_count": 28,
   "metadata": {},
   "outputs": [
    {
     "data": {
      "text/html": [
       "1.4142135623731"
      ],
      "text/latex": [
       "1.4142135623731"
      ],
      "text/markdown": [
       "1.4142135623731"
      ],
      "text/plain": [
       "[1] 1.414214"
      ]
     },
     "metadata": {},
     "output_type": "display_data"
    }
   ],
   "source": [
    "(function(cislo, odmocnitCim) {\n",
    "    # spočítá odmocninu z daného čísla\n",
    "    \n",
    "    cislo ^ (1 / odmocnitCim)\n",
    "}) -> odmocnina_jinak\n",
    "\n",
    "odmocnina_jinak(2, 2)"
   ]
  },
  {
   "cell_type": "markdown",
   "metadata": {},
   "source": [
    "Pro nikoho tedy asi již není záhadou následující kód (všimněte si, že funkce se chová jinak při zavolání a jinak pokud k ní přistupujeme jako k proměnné):"
   ]
  },
  {
   "cell_type": "code",
   "execution_count": 29,
   "metadata": {},
   "outputs": [
    {
     "data": {
      "text/html": [
       "'function'"
      ],
      "text/latex": [
       "'function'"
      ],
      "text/markdown": [
       "'function'"
      ],
      "text/plain": [
       "[1] \"function\""
      ]
     },
     "metadata": {},
     "output_type": "display_data"
    },
    {
     "name": "stdout",
     "output_type": "stream",
     "text": [
      "[1] \"hello\"\n"
     ]
    }
   ],
   "source": [
    "class(print)\n",
    "spit_out <- print\n",
    "spit_out(\"hello\")"
   ]
  },
  {
   "cell_type": "markdown",
   "metadata": {},
   "source": [
    "Můžeme si takto ovšem i hodně zavařit:"
   ]
  },
  {
   "cell_type": "code",
   "execution_count": 30,
   "metadata": {},
   "outputs": [
    {
     "ename": "ERROR",
     "evalue": "Error in eval(expr, envir, enclos): could not find function \"odmocnina\"\n",
     "output_type": "error",
     "traceback": [
      "Error in eval(expr, envir, enclos): could not find function \"odmocnina\"\nTraceback:\n"
     ]
    }
   ],
   "source": [
    "odmocnina <- \"Ooops...\"\n",
    "odmocnina(2, 2)"
   ]
  },
  {
   "cell_type": "markdown",
   "metadata": {},
   "source": [
    "Kupodivu se nám nic takového nestane, pokud uděláme toto:"
   ]
  },
  {
   "cell_type": "code",
   "execution_count": 31,
   "metadata": {},
   "outputs": [
    {
     "name": "stdout",
     "output_type": "stream",
     "text": [
      "[1] \"Ahoj\"\n"
     ]
    }
   ],
   "source": [
    "print <- \"Ooops...\"\n",
    "print(\"Ahoj\")"
   ]
  },
  {
   "cell_type": "markdown",
   "metadata": {},
   "source": [
    "Interní funkce v R se totiž řídí trochu jinou politikou. Souvisí to s tím, jakým způsobem jsou jednotlivé objekty navzájem uspořádány a jak probíhá vyhledevání funkcí a proměnných, ale o tom si řekneme více trochu později. Pro nedočkavce lze vřele doporučit [tento článek](http://blog.obeautifulcode.com/R/How-R-Searches-And-Finds-Stuff/).\n",
    "\n",
    "Vraťme se teď k syntaxi samotné definice funkce, tedy ke konstruktu:\n",
    "\n",
    "```R\n",
    "function(x, y) {\n",
    "    # tělo funkce\n",
    "}\n",
    "```\n",
    "\n",
    "Klíčovým slovem `function` říkáme programu R, že chceme definovat funkci. Závorky jsou vždy povinné a zapisují se do nich jména jejích parametrů. Parametry tvoří kontext, ve kterém se kód bude vykonávat. Ten se píše do složených závorek a je interpretován stejným způsobem jako jakýkoliv jiný kód, který v R napíšeme, ale vyhodnotí se ve speciálně vytvořeném prostředí s hodnotami parametrů, které se nastaví při volání. Kód ve složených závorkách se často označuje jako tzv. tělo funkce.\n",
    "\n",
    "Není vždy nutné uzavírat tělo funkce do složených závorek, takže následující kód je též v pořádku:"
   ]
  },
  {
   "cell_type": "code",
   "execution_count": 32,
   "metadata": {},
   "outputs": [
    {
     "name": "stdout",
     "output_type": "stream",
     "text": [
      "[1] \"Tohle už není tělo funkce.\"\n",
      "[1] \"Ahoj, já jsem ukecaná funkce a tohle je moje tělo.\"\n"
     ]
    }
   ],
   "source": [
    "moje_kecy <- function()\n",
    "    print(\"Ahoj, já jsem ukecaná funkce a tohle je moje tělo.\")\n",
    "    print(\"Tohle už není tělo funkce.\")\n",
    "\n",
    "moje_kecy()"
   ]
  },
  {
   "cell_type": "markdown",
   "metadata": {},
   "source": [
    "V tomto případě se totiž první příkaz po použití klíčového slova `function` automaticky interpretuje jako její tělo. Druhé volání funkce `print` už se vykoná jako normální příkaz hned po definici funkce a je tedy ve výstupu na prvním místě, i když se díky našemu formátování tváří jako součást funkce `moje_kecy`. Pokud tedy potřebujete definovat funkci, která obsahuje více než pouze jeden příkaz, musíte je uzavřít do složených závorek. Takto uzavřený blok kódu se pak interpretuje jako jeden celek. I když nemusíte složené závorky vždy používat, je dobré je při definicích vašich funkcí vždy uvést, aby bylo jasné, kde přesně tělo začíná a končí.\n",
    "\n",
    "Toto chování též vysvětluje, proč je třeba uzavřít výraz s definicí funkce do závorek, pokud se pokoušíme o její obskurní přiřazení do proměnné operátorem `->`. Tento operátor je v tomto případě interpretován jako součást těla funkce, i v případě že leží mimo složené závorky. Následující kód totiž taky platí:"
   ]
  },
  {
   "cell_type": "code",
   "execution_count": 33,
   "metadata": {},
   "outputs": [
    {
     "name": "stdout",
     "output_type": "stream",
     "text": [
      "[1] \"ahoj\"\n"
     ]
    }
   ],
   "source": [
    "{\n",
    "    print(\"ahoj\")\n",
    "    1 + 1\n",
    "    5\n",
    "} -> y"
   ]
  },
  {
   "cell_type": "code",
   "execution_count": 34,
   "metadata": {},
   "outputs": [
    {
     "data": {
      "text/html": [
       "5"
      ],
      "text/latex": [
       "5"
      ],
      "text/markdown": [
       "5"
      ],
      "text/plain": [
       "[1] 5"
      ]
     },
     "metadata": {},
     "output_type": "display_data"
    }
   ],
   "source": [
    "y"
   ]
  },
  {
   "cell_type": "markdown",
   "metadata": {},
   "source": [
    "Kód uzavřený do složených závorek má totiž zajímavou vlastnost. Příkazy uvnitř se všechny vykonají a hodnota posledního z nich se intepretuje jako výsledek celého bloku. Díky tomu lze získat výsledek funkce a uložit jej do proměnné:"
   ]
  },
  {
   "cell_type": "code",
   "execution_count": 35,
   "metadata": {},
   "outputs": [
    {
     "data": {
      "text/html": [
       "2"
      ],
      "text/latex": [
       "2"
      ],
      "text/markdown": [
       "2"
      ],
      "text/plain": [
       "[1] 2"
      ]
     },
     "metadata": {},
     "output_type": "display_data"
    }
   ],
   "source": [
    "odmocnina <- function(cislo, odmocnitCim) {\n",
    "    # spočítá odmocninu z daného čísla\n",
    "\n",
    "    cislo ^ (1 / odmocnitCim)\n",
    "}\n",
    "\n",
    "výsledek <- odmocnina(4, 2)\n",
    "výsledek"
   ]
  },
  {
   "cell_type": "markdown",
   "metadata": {},
   "source": [
    "Tomu, co z funkce 'vypadne', se říká návratová hodnota a pokud není explicitně řečeno jinak, interpretuje se tak vždy výsledek posledního příkazu z bloku kódu, který tvoří její tělo. V tomto případě tedy výsledek výrazu `cislo ^ (1 / odmocnitCim)`.\n",
    "\n",
    "Pokud chceme specifikovat jinou návratovou hodnotu, můžeme tak učinit funkcí `return`:"
   ]
  },
  {
   "cell_type": "code",
   "execution_count": 36,
   "metadata": {},
   "outputs": [
    {
     "name": "stdout",
     "output_type": "stream",
     "text": [
      "[1] \"hi\"\n"
     ]
    },
    {
     "data": {
      "text/html": [
       "42"
      ],
      "text/latex": [
       "42"
      ],
      "text/markdown": [
       "42"
      ],
      "text/plain": [
       "[1] 42"
      ]
     },
     "metadata": {},
     "output_type": "display_data"
    }
   ],
   "source": [
    "{\n",
    "    print(\"hi\")\n",
    "    return(42)\n",
    "    print(\"ahoj\")\n",
    "}"
   ]
  },
  {
   "cell_type": "markdown",
   "metadata": {},
   "source": [
    "Jak vidíte, funkce `return` též ukončí vykonávání aktuálního bloku kódu a použije námi specifikovaný argument (zde pouze číslo 42) jako návratovou hodnotu. Návratovou hodnotu však nemusíme vždy specifikovat. Funkci 'return' lze totiž použít i bez parametrů:"
   ]
  },
  {
   "cell_type": "code",
   "execution_count": 37,
   "metadata": {},
   "outputs": [
    {
     "name": "stdout",
     "output_type": "stream",
     "text": [
      "[1] \"hi\"\n"
     ]
    },
    {
     "data": {
      "text/plain": [
       "NULL"
      ]
     },
     "metadata": {},
     "output_type": "display_data"
    }
   ],
   "source": [
    "{\n",
    "    print(\"hi\")\n",
    "    return()\n",
    "    print(\"ahoj\")\n",
    "}"
   ]
  },
  {
   "cell_type": "markdown",
   "metadata": {},
   "source": [
    "V tomto případě je návratová hodnota rovna `NULL`, což je v R a jiných programovacích jazycích univerzální objekt pro reprezentaci 'ničeho'. Nulovou návratovou hodnotu má i následující funkce:"
   ]
  },
  {
   "cell_type": "code",
   "execution_count": 38,
   "metadata": {},
   "outputs": [
    {
     "data": {
      "text/plain": [
       "NULL"
      ]
     },
     "metadata": {},
     "output_type": "display_data"
    }
   ],
   "source": [
    "nic <- function() {\n",
    "    # prázdný blok\n",
    "}\n",
    "\n",
    "nic()"
   ]
  },
  {
   "cell_type": "markdown",
   "metadata": {},
   "source": [
    "Praktické využití funkce `return` a hodnoty `NULL` vám teď zřejmě uniká, ale vše se vyjasní v další kapitole, kde si představíme [řídící struktury](#%C5%98%C3%ADd%C3%ADc%C3%AD-struktury).\n",
    "\n",
    "### Parametry a volání\n",
    "\n",
    "Na závěr ještě několik poznámek k volání funkcí. Už jsme si ukázali, že pokud chceme vykonat blok funkce, musíme vždy specifikovat kontext v podobě jejích parametrů (pokud tedy funkce nějaké má): "
   ]
  },
  {
   "cell_type": "code",
   "execution_count": 39,
   "metadata": {},
   "outputs": [
    {
     "data": {
      "text/html": [
       "1.73205080756888"
      ],
      "text/latex": [
       "1.73205080756888"
      ],
      "text/markdown": [
       "1.73205080756888"
      ],
      "text/plain": [
       "[1] 1.732051"
      ]
     },
     "metadata": {},
     "output_type": "display_data"
    }
   ],
   "source": [
    "odmocnina(3, 2)"
   ]
  },
  {
   "cell_type": "markdown",
   "metadata": {},
   "source": [
    "Parametry (nebo také argumenty) můžeme řadit do dvou kategorií:\n",
    "\n",
    "1. poziční\n",
    "2. pojmenované\n",
    "\n",
    "My jsme zatím v našem kódu používali pouze agrumenty poziční, ale naší funkci `odmocnina` bychom mohli též zavolat následujícím způsobem pomocí pojmenovaných argumentů:"
   ]
  },
  {
   "cell_type": "code",
   "execution_count": 40,
   "metadata": {},
   "outputs": [
    {
     "data": {
      "text/html": [
       "1.73205080756888"
      ],
      "text/latex": [
       "1.73205080756888"
      ],
      "text/markdown": [
       "1.73205080756888"
      ],
      "text/plain": [
       "[1] 1.732051"
      ]
     },
     "metadata": {},
     "output_type": "display_data"
    }
   ],
   "source": [
    "odmocnina(odmocnitCim = 2, cislo = 3)"
   ]
  },
  {
   "cell_type": "markdown",
   "metadata": {},
   "source": [
    "Všimněte si, že v případě pojmenovaných argumentů není třeba, aby byly argumenty uvedeny ve stejném pořadí jako v definici funkce. Vidíme zde i další význam operátoru `=`, který zde slouží jako operátor pro přiřazení hodnoty do parametru funkce. Parametry funkce totiž žijí pouze v kontextu dané funkce, na rozdíl od běžných proměnných.\n",
    "\n",
    "Pojmenované a poziční argumenty lze též kombinovat:"
   ]
  },
  {
   "cell_type": "code",
   "execution_count": 41,
   "metadata": {},
   "outputs": [
    {
     "data": {
      "text/html": [
       "1.73205080756888"
      ],
      "text/latex": [
       "1.73205080756888"
      ],
      "text/markdown": [
       "1.73205080756888"
      ],
      "text/plain": [
       "[1] 1.732051"
      ]
     },
     "metadata": {},
     "output_type": "display_data"
    }
   ],
   "source": [
    "odmocnina(3, odmocnitCim = 2)"
   ]
  },
  {
   "cell_type": "markdown",
   "metadata": {},
   "source": [
    "V jazyce R dokonce ani není třeba zadávat poziční argumenty před pojmenovanými jako v jiných jazycích. V následujícím případě program sám uhodne, co jste chtěli daným voláním říci:"
   ]
  },
  {
   "cell_type": "code",
   "execution_count": 42,
   "metadata": {},
   "outputs": [
    {
     "data": {
      "text/html": [
       "1.73205080756888"
      ],
      "text/latex": [
       "1.73205080756888"
      ],
      "text/markdown": [
       "1.73205080756888"
      ],
      "text/plain": [
       "[1] 1.732051"
      ]
     },
     "metadata": {},
     "output_type": "display_data"
    }
   ],
   "source": [
    "odmocnina(odmocnitCim = 2, 3)"
   ]
  },
  {
   "cell_type": "markdown",
   "metadata": {},
   "source": [
    "Pro přehlednost je však vždy dobré nejprve uvést poziční argumenty a až potom argumenty pojmenované, neboť poziční argumenty jsou zpravidla ty nejdůležitější, které je vždy třeba při volání funkce dodat. Funkce totiž mohou být definovány i s implicitními hodnotami argumentů. Naší funkci `odmocnina` bychom totiž mohli definovat a volat i takto:"
   ]
  },
  {
   "cell_type": "code",
   "execution_count": 43,
   "metadata": {},
   "outputs": [
    {
     "data": {
      "text/html": [
       "1.4142135623731"
      ],
      "text/latex": [
       "1.4142135623731"
      ],
      "text/markdown": [
       "1.4142135623731"
      ],
      "text/plain": [
       "[1] 1.414214"
      ]
     },
     "metadata": {},
     "output_type": "display_data"
    },
    {
     "data": {
      "text/html": [
       "1.25992104989487"
      ],
      "text/latex": [
       "1.25992104989487"
      ],
      "text/markdown": [
       "1.25992104989487"
      ],
      "text/plain": [
       "[1] 1.259921"
      ]
     },
     "metadata": {},
     "output_type": "display_data"
    },
    {
     "data": {
      "text/html": [
       "1.25992104989487"
      ],
      "text/latex": [
       "1.25992104989487"
      ],
      "text/markdown": [
       "1.25992104989487"
      ],
      "text/plain": [
       "[1] 1.259921"
      ]
     },
     "metadata": {},
     "output_type": "display_data"
    }
   ],
   "source": [
    "odmocnina <- function(cislo, odmocnitCim = 2) {\n",
    "    # spočítá odmocninu z daného čísla\n",
    "\n",
    "    cislo ^ (1 / odmocnitCim)\n",
    "}\n",
    "\n",
    "odmocnina(2)\n",
    "odmocnina(2, 3)\n",
    "odmocnina(2, odmocnitCim = 3)"
   ]
  },
  {
   "cell_type": "markdown",
   "metadata": {},
   "source": [
    "Pokud tedy má funkce nastavenou implicitní hodnotu parametru a tento parametr není při jejím volání nastaven uživatelem, použije se při vykonávání právě tato implicitní hodnota.\n",
    "\n",
    "Pokud chceme, můžeme i definovat funkce, které berou v podstatě libovolný počet parametrů:"
   ]
  },
  {
   "cell_type": "code",
   "execution_count": 44,
   "metadata": {},
   "outputs": [
    {
     "data": {
      "text/html": [
       "<ol class=list-inline>\n",
       "\t<li>1</li>\n",
       "\t<li>2</li>\n",
       "\t<li>3</li>\n",
       "\t<li>4</li>\n",
       "\t<li>5</li>\n",
       "</ol>\n"
      ],
      "text/latex": [
       "\\begin{enumerate*}\n",
       "\\item 1\n",
       "\\item 2\n",
       "\\item 3\n",
       "\\item 4\n",
       "\\item 5\n",
       "\\end{enumerate*}\n"
      ],
      "text/markdown": [
       "1. 1\n",
       "2. 2\n",
       "3. 3\n",
       "4. 4\n",
       "5. 5\n",
       "\n",
       "\n"
      ],
      "text/plain": [
       "[1] 1 2 3 4 5"
      ]
     },
     "metadata": {},
     "output_type": "display_data"
    }
   ],
   "source": [
    "args_as_vector <- function(...) {\n",
    "    argumenty <- c(...)\n",
    "    \n",
    "    argumenty\n",
    "}\n",
    "\n",
    "args_as_vector(1, 2, 3, 4, 5)"
   ]
  },
  {
   "cell_type": "markdown",
   "metadata": {},
   "source": [
    "Funkci lze takto volat i s pojmenovanými argumenty a výsledný vektor má pak položky pojmenované:"
   ]
  },
  {
   "cell_type": "code",
   "execution_count": 45,
   "metadata": {},
   "outputs": [
    {
     "data": {
      "text/html": [
       "<dl class=dl-horizontal>\n",
       "\t<dt>x</dt>\n",
       "\t\t<dd>1</dd>\n",
       "\t<dt>y</dt>\n",
       "\t\t<dd>1</dd>\n",
       "\t<dt>z</dt>\n",
       "\t\t<dd>1</dd>\n",
       "\t<dt>4</dt>\n",
       "\t\t<dd>42</dd>\n",
       "</dl>\n"
      ],
      "text/latex": [
       "\\begin{description*}\n",
       "\\item[x] 1\n",
       "\\item[y] 1\n",
       "\\item[z] 1\n",
       "\\item[4] 42\n",
       "\\end{description*}\n"
      ],
      "text/markdown": [
       "x\n",
       ":   1y\n",
       ":   1z\n",
       ":   14\n",
       ":   42\n",
       "\n"
      ],
      "text/plain": [
       " x  y  z    \n",
       " 1  1  1 42 "
      ]
     },
     "metadata": {},
     "output_type": "display_data"
    },
    {
     "data": {
      "text/html": [
       "<ol class=list-inline>\n",
       "\t<li>'x'</li>\n",
       "\t<li>'y'</li>\n",
       "\t<li>'z'</li>\n",
       "\t<li>''</li>\n",
       "</ol>\n"
      ],
      "text/latex": [
       "\\begin{enumerate*}\n",
       "\\item 'x'\n",
       "\\item 'y'\n",
       "\\item 'z'\n",
       "\\item ''\n",
       "\\end{enumerate*}\n"
      ],
      "text/markdown": [
       "1. 'x'\n",
       "2. 'y'\n",
       "3. 'z'\n",
       "4. ''\n",
       "\n",
       "\n"
      ],
      "text/plain": [
       "[1] \"x\" \"y\" \"z\" \"\" "
      ]
     },
     "metadata": {},
     "output_type": "display_data"
    }
   ],
   "source": [
    "vektor_argumentu <- args_as_vector(x = 1, y = 1, z = 1, 42)\n",
    "vektor_argumentu\n",
    "names(vektor_argumentu)"
   ]
  },
  {
   "cell_type": "markdown",
   "metadata": {},
   "source": [
    "### Kontext\n",
    "\n",
    "Poslední věc, kterou si o funkcích řekneme, bude k samotnému kontextu vykonávávní. Dříve bylo řečeno, že funkce se vždy vykonává v kontextu jejích argumentů, ale v R to není úplně pravda. Následující funkci totiž můžeme v klidu nadefinovat a zavolat:"
   ]
  },
  {
   "cell_type": "code",
   "execution_count": 46,
   "metadata": {
    "collapsed": true
   },
   "outputs": [],
   "source": [
    "show_x <- function () {print(x)}"
   ]
  },
  {
   "cell_type": "code",
   "execution_count": 47,
   "metadata": {},
   "outputs": [
    {
     "name": "stdout",
     "output_type": "stream",
     "text": [
      "[1] 5\n"
     ]
    }
   ],
   "source": [
    "show_x()"
   ]
  },
  {
   "cell_type": "markdown",
   "metadata": {},
   "source": [
    "Možná jste to již zapomněli, ale v [předchozí kapitole](#Prom%C4%9Bnn%C3%A9-a-datov%C3%A9-typy) jsme si nadefinovali proměnnou `x` a postupně do ní ukládali různé hodnoty. R se tedy při vyhledávání proměnných neomezuje pouze na svoje parametry a kontext, ale pokud nějakou proměnnou nenajde zkusí to i tzv. 'výše', což v tomto případě znamená kontext našeho celého programu.\n",
    "\n",
    "Kontext není v R pouze nějaký abstraktní pojem, ale lze si na něj i přímo 'sáhnout':"
   ]
  },
  {
   "cell_type": "code",
   "execution_count": 48,
   "metadata": {},
   "outputs": [
    {
     "name": "stdout",
     "output_type": "stream",
     "text": [
      "<environment: R_GlobalEnv>\n"
     ]
    },
    {
     "data": {
      "text/html": [
       "<ol class=list-inline>\n",
       "\t<li>'args_as_vector'</li>\n",
       "\t<li>'kontext'</li>\n",
       "\t<li>'maska'</li>\n",
       "\t<li>'moje_kecy'</li>\n",
       "\t<li>'nic'</li>\n",
       "\t<li>'odmocnina'</li>\n",
       "\t<li>'odmocnina_jinak'</li>\n",
       "\t<li>'pět'</li>\n",
       "\t<li>'print'</li>\n",
       "\t<li>'show_x'</li>\n",
       "\t<li>'spit_out'</li>\n",
       "\t<li>'vektor_argumentu'</li>\n",
       "\t<li>'vektor_čísla'</li>\n",
       "\t<li>'vektor_čísla_opačně'</li>\n",
       "\t<li>'vektor_kombinovaný'</li>\n",
       "\t<li>'vektor_prázdný'</li>\n",
       "\t<li>'vektor_řetězce'</li>\n",
       "\t<li>'vektor_vektory'</li>\n",
       "\t<li>'výsledek'</li>\n",
       "\t<li>'x'</li>\n",
       "\t<li>'y'</li>\n",
       "</ol>\n"
      ],
      "text/latex": [
       "\\begin{enumerate*}\n",
       "\\item 'args\\_as\\_vector'\n",
       "\\item 'kontext'\n",
       "\\item 'maska'\n",
       "\\item 'moje\\_kecy'\n",
       "\\item 'nic'\n",
       "\\item 'odmocnina'\n",
       "\\item 'odmocnina\\_jinak'\n",
       "\\item 'pět'\n",
       "\\item 'print'\n",
       "\\item 'show\\_x'\n",
       "\\item 'spit\\_out'\n",
       "\\item 'vektor\\_argumentu'\n",
       "\\item 'vektor\\_čísla'\n",
       "\\item 'vektor\\_čísla\\_opačně'\n",
       "\\item 'vektor\\_kombinovaný'\n",
       "\\item 'vektor\\_prázdný'\n",
       "\\item 'vektor\\_řetězce'\n",
       "\\item 'vektor\\_vektory'\n",
       "\\item 'výsledek'\n",
       "\\item 'x'\n",
       "\\item 'y'\n",
       "\\end{enumerate*}\n"
      ],
      "text/markdown": [
       "1. 'args_as_vector'\n",
       "2. 'kontext'\n",
       "3. 'maska'\n",
       "4. 'moje_kecy'\n",
       "5. 'nic'\n",
       "6. 'odmocnina'\n",
       "7. 'odmocnina_jinak'\n",
       "8. 'pět'\n",
       "9. 'print'\n",
       "10. 'show_x'\n",
       "11. 'spit_out'\n",
       "12. 'vektor_argumentu'\n",
       "13. 'vektor_čísla'\n",
       "14. 'vektor_čísla_opačně'\n",
       "15. 'vektor_kombinovaný'\n",
       "16. 'vektor_prázdný'\n",
       "17. 'vektor_řetězce'\n",
       "18. 'vektor_vektory'\n",
       "19. 'výsledek'\n",
       "20. 'x'\n",
       "21. 'y'\n",
       "\n",
       "\n"
      ],
      "text/plain": [
       " [1] \"args_as_vector\"      \"kontext\"             \"maska\"              \n",
       " [4] \"moje_kecy\"           \"nic\"                 \"odmocnina\"          \n",
       " [7] \"odmocnina_jinak\"     \"pět\"                 \"print\"              \n",
       "[10] \"show_x\"              \"spit_out\"            \"vektor_argumentu\"   \n",
       "[13] \"vektor_čísla\"        \"vektor_čísla_opačně\" \"vektor_kombinovaný\" \n",
       "[16] \"vektor_prázdný\"      \"vektor_řetězce\"      \"vektor_vektory\"     \n",
       "[19] \"výsledek\"            \"x\"                   \"y\"                  "
      ]
     },
     "metadata": {},
     "output_type": "display_data"
    }
   ],
   "source": [
    "kontext = environment() # získej aktuálně aktivní prostředí\n",
    "print(kontext)\n",
    "ls(envir = kontext) # vypiš proměnné"
   ]
  },
  {
   "cell_type": "markdown",
   "metadata": {},
   "source": [
    "Proměnné totiž v R 'žijí' vždy v nějakém prostředí (environment). Pro všechny proměnné v našem programu je to vždy implicitně globální prostředí (`R_GlobalEnv`). Když zavoláme funkci, tak se pro blok jejího kódu vytvoří prostředí nové, které je podřazené prostředí, ze kterého byla funkce zavolána. Díky tomu se R při interpretaci vašich příkazů může pohybovat skrz různé kontexty a podaří se mu tak naléz i proměnné, které funkce nemá přímo k dispozici ve svém vlastním prostředí. Díky stejné vlastnosti lze ve funkci `show_x` též použít funkci `print` bez toho, aniž bychom jí museli v těle funkce nějak definovat. Vzájemná organizace prostředí je poměrně složitá a my se jí zde nebudeme podrobně věnovat, ale opět lze vřele doporučit rozsáhlý [článek](http://blog.obeautifulcode.com/R/How-R-Searches-And-Finds-Stuff/), který se konceptem prostředí v jazyce R detailně zabývá. Na závěr ještě jeden příklad:"
   ]
  },
  {
   "cell_type": "code",
   "execution_count": 49,
   "metadata": {},
   "outputs": [
    {
     "name": "stdout",
     "output_type": "stream",
     "text": [
      "[1] \"a (globální)\"\n",
      "[1] \"c_ (globální)\"\n",
      "[1] \"a (ve funkci)\"\n",
      "[1] \"a (globální)\"\n",
      "[1] \"c_ (ve funkci)\"\n"
     ]
    },
    {
     "ename": "ERROR",
     "evalue": "Error in eval(expr, envir, enclos): object 'b' not found\n",
     "output_type": "error",
     "traceback": [
      "Error in eval(expr, envir, enclos): object 'b' not found\nTraceback:\n"
     ]
    }
   ],
   "source": [
    "a <- \"a (globální)\"\n",
    "c_ <- \"c_ (globální)\" # podtržítko pro odlišení od interní funkce 'c'\n",
    "\n",
    "muj_printer <- function() {\n",
    "    a <- \"a (ve funkci)\"\n",
    "    print(a)\n",
    "    b <- \"b (ve funkci)\"\n",
    "    c_ <<- \"c_ (ve funkci)\"\n",
    "}\n",
    "\n",
    "print(a)\n",
    "print(c_)\n",
    "muj_printer()\n",
    "print(a)\n",
    "print(c_)\n",
    "b"
   ]
  },
  {
   "cell_type": "markdown",
   "metadata": {},
   "source": [
    "Proměnné se tedy vždy zapisují pouze do kontextu, ve kterém k přiřazení dochází. Hierarchie prostředí se prohledává pouze při čtení. Všechny proměnné, které vytvoříte ve funkci, jsou dostupné pouze v jejím těle (proto poslední příkaz skončí chybou). Vyjímkou je pouze operátor `<<-`, kterým R o vyhledání proměnné v hierarchii explicitně požádáte. Hodnota je pak přiřazena do nalezené proměnné a nikoliv do proměnné v kontextu bloku funkce.\n",
    "\n",
    "O funkcích a o tématech s nimi souvisejícími by se dalo mluvit ještě dlouho, ale na to v našem tutoriálu již není prostor. Pro zvídavé lze doporučit [tento detailní článek](http://adv-r.had.co.nz/Functions.html)."
   ]
  },
  {
   "cell_type": "markdown",
   "metadata": {},
   "source": [
    "## Řídící struktury\n",
    "\n",
    "Než si představíme všechny důležité řídící struktury jazyka R, pojďme si nejprve něco říci o R jako takovém. R je primárně funkcionální jazyk, a proto jej maximálně využijete, pokud k němu tak budete přistupovat. V podstatě vše, co jsme si doteď z jazyka předvedli, bylo volání nějaké funkce (včetně operátorů a definicí našich funkcí). Stejně tak i řídící struktury jsou interpretované jako volání soustavy nějakých interních funkcí, což ale občas může být zbytečně složité řešení daného problému. My si některé principy funkcionálního programování v R probereme v dalších tutoriálech a pro většinu aplikací si zatím vystačíme s kombinovaným nebo procedurálním přístupem, ale je dobré mít vždy na paměti, že může existovat jednoduché řešení pomocí šikovné definice a zavolání jedné debo dvou funkcí namísto implementace složitého algoritmu pomocí několika vnořených cyklů apod.\n",
    "\n",
    "### Větvení programu pomocí if a else\n",
    "\n",
    "V předchozí kapitole jsme si nadefinovali funkci `odmocnina`:"
   ]
  },
  {
   "cell_type": "code",
   "execution_count": 50,
   "metadata": {
    "collapsed": true
   },
   "outputs": [],
   "source": [
    "odmocnina <- function(cislo, odmocnitCim) {\n",
    "    # spočítá odmocninu z daného čísla\n",
    "\n",
    "    cislo ^ (1 / odmocnitCim)\n",
    "}"
   ]
  },
  {
   "cell_type": "markdown",
   "metadata": {},
   "source": [
    "Pokud jste na to ještě nepřišli, tak zřejmě teď budete souhlasit, že tato funkce má možná jednu nevýhodu:"
   ]
  },
  {
   "cell_type": "code",
   "execution_count": 51,
   "metadata": {},
   "outputs": [
    {
     "data": {
      "text/html": [
       "Inf"
      ],
      "text/latex": [
       "Inf"
      ],
      "text/markdown": [
       "Inf"
      ],
      "text/plain": [
       "[1] Inf"
      ]
     },
     "metadata": {},
     "output_type": "display_data"
    }
   ],
   "source": [
    "odmocnina(2, odmocnitCim = 0)"
   ]
  },
  {
   "cell_type": "markdown",
   "metadata": {},
   "source": [
    "`Inf` je v R označení pro kladné nekonečno. Naše nula tedy nebyla jazykem interpretována jako 0, ale pouze jako nekonečně malá hodnota. R takto k nule prostě přistupuje a v podobných případech si na nic nestěžuje a prostě tiše předpokládá, že uživatel ví, co dělá, a snaží se mu vždy nabídnout nějaký výsledek, se kterým může dále pracovat.\n",
    "\n",
    "Řekněme si ale, že mi takové chování u naší funkce tolerovat nechceme a o možné chybě budeme chtít uživatele informovat. Můžeme tak učinit následujícím způsobem:"
   ]
  },
  {
   "cell_type": "code",
   "execution_count": 52,
   "metadata": {},
   "outputs": [
    {
     "name": "stderr",
     "output_type": "stream",
     "text": [
      "Warning message in odmocnina(2, odmocnitCim = 0):\n",
      "“POZOR! Snažíte se odmocnit nulou!”"
     ]
    },
    {
     "data": {
      "text/plain": [
       "NULL"
      ]
     },
     "metadata": {},
     "output_type": "display_data"
    },
    {
     "data": {
      "text/html": [
       "1.4142135623731"
      ],
      "text/latex": [
       "1.4142135623731"
      ],
      "text/markdown": [
       "1.4142135623731"
      ],
      "text/plain": [
       "[1] 1.414214"
      ]
     },
     "metadata": {},
     "output_type": "display_data"
    }
   ],
   "source": [
    "odmocnina <- function(cislo, odmocnitCim) {\n",
    "    # spočítá odmocninu z daného čísla\n",
    "    \n",
    "    if (odmocnitCim == 0) {\n",
    "        warning(\"POZOR! Snažíte se odmocnit nulou!\")\n",
    "        return()\n",
    "    }\n",
    "\n",
    "    cislo ^ (1 / odmocnitCim)\n",
    "}\n",
    "\n",
    "odmocnina(2, odmocnitCim = 0)\n",
    "odmocnina(2, odmocnitCim = 2)"
   ]
  },
  {
   "cell_type": "markdown",
   "metadata": {},
   "source": [
    "V naší nové funkci `odmocnina` jsme použili řídící strukturu `if` pro tzv. rozvětvení programu. Nadefinovali jsme si totiž blok kódu, který se vykoná pouze, pokud je splněná určitá podmínka. V našem případě to znamená, pokud je parametr `odmocnitCim` roven nule. \n",
    "\n",
    "O tom, zda se blok vykoná nebo nevykoná rozhoduje pravdivostní hodnota výrazu v kulatých závorkách za příkazem `if`. Při našem volání má tento výraz hodnotu `TRUE`, a proto program zobrazil varovnou hlášku a ukončil vykonávání funkce pomocí `return` bez parametrů. Tímto jsme nejen informovali uživatele o možném problému, ale též zamezili tomu, aby funkce vrátila numerický, nebo jakýkoliv jiný, výsledek. Funkce `warning` má speciální význam a vyplatí se jí ve vašich programech využívat, pokud chcete nějakým způsobem zareagovat na nějakou podezřelou situaci (a to nejen kvůli červené barvě výstupu, jak si ukážeme později).\n",
    "\n",
    "Alternativně bychom mohli naší funkci implementovat i takto:"
   ]
  },
  {
   "cell_type": "code",
   "execution_count": 53,
   "metadata": {},
   "outputs": [
    {
     "name": "stderr",
     "output_type": "stream",
     "text": [
      "Warning message in odmocnina(2, odmocnitCim = 0):\n",
      "“POZOR! Snažíte se odmocnit nulou!”"
     ]
    },
    {
     "data": {
      "text/plain": [
       "NULL"
      ]
     },
     "metadata": {},
     "output_type": "display_data"
    },
    {
     "data": {
      "text/html": [
       "1.4142135623731"
      ],
      "text/latex": [
       "1.4142135623731"
      ],
      "text/markdown": [
       "1.4142135623731"
      ],
      "text/plain": [
       "[1] 1.414214"
      ]
     },
     "metadata": {},
     "output_type": "display_data"
    }
   ],
   "source": [
    "odmocnina <- function(cislo, odmocnitCim) {\n",
    "    # spočítá odmocninu z daného čísla\n",
    "    \n",
    "    if (odmocnitCim == 0) {\n",
    "        warning(\"POZOR! Snažíte se odmocnit nulou!\")\n",
    "        return()\n",
    "    } else {\n",
    "        cislo ^ (1 / odmocnitCim)\n",
    "    }\n",
    "}\n",
    "\n",
    "odmocnina(2, odmocnitCim = 0)\n",
    "odmocnina(2, odmocnitCim = 2)"
   ]
  },
  {
   "cell_type": "markdown",
   "metadata": {},
   "source": [
    "V tomto případě rozdělíme program do dvou bloků kódu, ze kterých se alespoň jeden vždy vykoná. Blok `else` se vykoná vždy při nesplnění podmínky.\n",
    "\n",
    "Naše funkce `odmocnina` se teď tedy už chová trochu více 'ukázněně', ale možná bychom chtěli ještě změnit jednu věc:"
   ]
  },
  {
   "cell_type": "code",
   "execution_count": 54,
   "metadata": {},
   "outputs": [
    {
     "data": {
      "text/html": [
       "NaN"
      ],
      "text/latex": [
       "NaN"
      ],
      "text/markdown": [
       "NaN"
      ],
      "text/plain": [
       "[1] NaN"
      ]
     },
     "metadata": {},
     "output_type": "display_data"
    }
   ],
   "source": [
    "odmocnina(-2, 2)"
   ]
  },
  {
   "cell_type": "markdown",
   "metadata": {},
   "source": [
    "Pokud je základem odmocniny záporné číslo, R si opět na nic nestěžuje a tiše vrátí hodnotu `NaN` (Not a Number). Zde už totiž nejde nic moc předpokládat a program takto jen mlčky vyjádří, že neví, jak s vaším požadavkem naložit. Pojďme teď nadefinovat funkci, která uživatele ještě navíc poučí o jeho neznalostech:"
   ]
  },
  {
   "cell_type": "code",
   "execution_count": 55,
   "metadata": {},
   "outputs": [
    {
     "name": "stderr",
     "output_type": "stream",
     "text": [
      "Warning message in odmocnina(2, odmocnitCim = 0):\n",
      "“POZOR! Snažíte se odmocnit nulou!”"
     ]
    },
    {
     "data": {
      "text/plain": [
       "NULL"
      ]
     },
     "metadata": {},
     "output_type": "display_data"
    },
    {
     "name": "stderr",
     "output_type": "stream",
     "text": [
      "Warning message in odmocnina(-2, odmocnitCim = 2):\n",
      "“POZOR! parametr 'cislo' je mimo definiční obor!”"
     ]
    },
    {
     "data": {
      "text/plain": [
       "NULL"
      ]
     },
     "metadata": {},
     "output_type": "display_data"
    },
    {
     "name": "stderr",
     "output_type": "stream",
     "text": [
      "Warning message in odmocnina(-2, odmocnitCim = 0):\n",
      "“POZOR! Snažíte se odmocnit nulou!”"
     ]
    },
    {
     "data": {
      "text/plain": [
       "NULL"
      ]
     },
     "metadata": {},
     "output_type": "display_data"
    },
    {
     "data": {
      "text/html": [
       "1.4142135623731"
      ],
      "text/latex": [
       "1.4142135623731"
      ],
      "text/markdown": [
       "1.4142135623731"
      ],
      "text/plain": [
       "[1] 1.414214"
      ]
     },
     "metadata": {},
     "output_type": "display_data"
    }
   ],
   "source": [
    "odmocnina <- function(cislo, odmocnitCim) {\n",
    "    # spočítá odmocninu z daného čísla\n",
    "    \n",
    "    if (odmocnitCim == 0) {\n",
    "        warning(\"POZOR! Snažíte se odmocnit nulou!\")\n",
    "        return()\n",
    "    } \n",
    "    else if (cislo < 0) {\n",
    "        warning(\"POZOR! parametr 'cislo' je mimo definiční obor!\")\n",
    "        return()\n",
    "    }\n",
    "    else {\n",
    "        cislo ^ (1 / odmocnitCim)\n",
    "    }\n",
    "}\n",
    "\n",
    "odmocnina(2, odmocnitCim = 0)\n",
    "odmocnina(-2, odmocnitCim = 2)\n",
    "odmocnina(-2, odmocnitCim = 0)\n",
    "odmocnina(2, odmocnitCim = 2)"
   ]
  },
  {
   "cell_type": "markdown",
   "metadata": {},
   "source": [
    "Podmínky totiž lze řetězit. V tomto případě se nejprve otestuje první podmínka pro parametr `odmocnitCim`. Pokud je splněná, vykoná se příslušný blok. Pokud ne, otestuje se další podmínka na parametr `cislo` a tak dále. Tímto je celá kontrolní struktura vyhodnocená a i kdybychom neměli v bloku příkaz `return`, již by se žádné další příkazy z dalších bloků nevykonávaly. Další podmínky se totiž vyhodnocují jen při nesplnění těch předchozích, a proto nás třetí volání informuje pouze o chybě s nulovým exponentem.\n",
    "\n",
    "Pro úplnost si nakonec ještě ukažme zjednodušenou jednořádkovou syntaxi řídící struktury `if-else`:"
   ]
  },
  {
   "cell_type": "code",
   "execution_count": 56,
   "metadata": {},
   "outputs": [
    {
     "name": "stdout",
     "output_type": "stream",
     "text": [
      "[1] \"cond. 3\"\n"
     ]
    }
   ],
   "source": [
    "if (F) print(\"cond. 1\") else if (T) print(\"cond. 3\") else print(\"else\")"
   ]
  },
  {
   "cell_type": "markdown",
   "metadata": {},
   "source": [
    "### Cykly\n",
    "\n",
    "Jak již zřejmě vyplynulo z předchozích kapitol, v R je ústředním datovým typem vektor, který zpravidla agreguje nějakou skupinu hodnot. Vektory by nám byly celkem k ničemu, pokud by nám jazyk nijak neumožňoval je jednoduše procházet a modifikovat. To je právě posláním cyklů, řídících struktur, které si představíme v této kapitole.\n",
    "\n",
    "#### For\n",
    "\n",
    "Cyklus for je středobodem všech procedurálních a i jiných programovacích jazyků, a proto není překvapením, že existuje i v programu R. Cyklus slouží pro procházení lineárních datových struktur a lze jej definovat následujícím způsobem:"
   ]
  },
  {
   "cell_type": "code",
   "execution_count": 57,
   "metadata": {},
   "outputs": [
    {
     "name": "stdout",
     "output_type": "stream",
     "text": [
      "[1] 1\n",
      "[1] 2\n",
      "[1] 3\n",
      "[1] 4\n",
      "[1] 5\n",
      "[1] 6\n",
      "[1] 7\n",
      "[1] 8\n",
      "[1] 9\n",
      "[1] 10\n"
     ]
    }
   ],
   "source": [
    "for (i in 1:10) {\n",
    "    print(i)\n",
    "}"
   ]
  },
  {
   "cell_type": "markdown",
   "metadata": {},
   "source": [
    "Kód výše pravděpodobně není nutné podrobně vysvětlovat, neboť již samotný tvar příkazu napovídá, co se asi bude dít. Řekněme tedy jen to, že první složkou této struktury je příkaz v kulatých závorkách, který napravo udává datovou strukturu, přes kterou se bude iterovat, a vlevo potom název proměnné, který bude v bloku kódu cyklu postupně zastupovat jednotlivé prvky dané struktury. V našem případě se tedy do proměnné `i` v průběhu cyklu postupně zapíše každý prvek vytvořeného vektoru. \n",
    "\n",
    "Blok kódu cyklu může obsahovat libovolné příkazy, které mohou dělat v podstatě cokoliv. Většinou dokonce ani nevadí příkazy, které nějakým způsobem modifikují dimenze objektu, který právě procházíte:"
   ]
  },
  {
   "cell_type": "code",
   "execution_count": 58,
   "metadata": {},
   "outputs": [
    {
     "data": {
      "text/html": [
       "<ol class=list-inline>\n",
       "\t<li>1024</li>\n",
       "\t<li>512</li>\n",
       "\t<li>256</li>\n",
       "\t<li>128</li>\n",
       "\t<li>64</li>\n",
       "\t<li>32</li>\n",
       "\t<li>16</li>\n",
       "\t<li>8</li>\n",
       "\t<li>4</li>\n",
       "\t<li>2</li>\n",
       "\t<li>1</li>\n",
       "\t<li>2</li>\n",
       "\t<li>3</li>\n",
       "\t<li>4</li>\n",
       "\t<li>5</li>\n",
       "\t<li>6</li>\n",
       "\t<li>7</li>\n",
       "\t<li>8</li>\n",
       "\t<li>9</li>\n",
       "\t<li>10</li>\n",
       "</ol>\n"
      ],
      "text/latex": [
       "\\begin{enumerate*}\n",
       "\\item 1024\n",
       "\\item 512\n",
       "\\item 256\n",
       "\\item 128\n",
       "\\item 64\n",
       "\\item 32\n",
       "\\item 16\n",
       "\\item 8\n",
       "\\item 4\n",
       "\\item 2\n",
       "\\item 1\n",
       "\\item 2\n",
       "\\item 3\n",
       "\\item 4\n",
       "\\item 5\n",
       "\\item 6\n",
       "\\item 7\n",
       "\\item 8\n",
       "\\item 9\n",
       "\\item 10\n",
       "\\end{enumerate*}\n"
      ],
      "text/markdown": [
       "1. 1024\n",
       "2. 512\n",
       "3. 256\n",
       "4. 128\n",
       "5. 64\n",
       "6. 32\n",
       "7. 16\n",
       "8. 8\n",
       "9. 4\n",
       "10. 2\n",
       "11. 1\n",
       "12. 2\n",
       "13. 3\n",
       "14. 4\n",
       "15. 5\n",
       "16. 6\n",
       "17. 7\n",
       "18. 8\n",
       "19. 9\n",
       "20. 10\n",
       "\n",
       "\n"
      ],
      "text/plain": [
       " [1] 1024  512  256  128   64   32   16    8    4    2    1    2    3    4    5\n",
       "[16]    6    7    8    9   10"
      ]
     },
     "metadata": {},
     "output_type": "display_data"
    }
   ],
   "source": [
    "xs <- 1:10\n",
    "for (i in xs) {\n",
    "    xs <- c(2^i, xs)\n",
    "}\n",
    "xs"
   ]
  },
  {
   "cell_type": "markdown",
   "metadata": {},
   "source": [
    "nebo proměnné, podle které iterujete:"
   ]
  },
  {
   "cell_type": "code",
   "execution_count": 59,
   "metadata": {},
   "outputs": [
    {
     "name": "stdout",
     "output_type": "stream",
     "text": [
      "[1] 1\n",
      "[1] 2\n",
      "[1] \"#\"\n",
      "[1] 2\n",
      "[1] 4\n",
      "[1] \"#\"\n",
      "[1] 3\n",
      "[1] 8\n",
      "[1] \"#\"\n",
      "[1] 4\n",
      "[1] 16\n",
      "[1] \"#\"\n",
      "[1] 5\n",
      "[1] 32\n",
      "[1] \"#\"\n",
      "[1] 6\n",
      "[1] 64\n",
      "[1] \"#\"\n",
      "[1] 7\n",
      "[1] 128\n",
      "[1] \"#\"\n",
      "[1] 8\n",
      "[1] 256\n",
      "[1] \"#\"\n",
      "[1] 9\n",
      "[1] 512\n",
      "[1] \"#\"\n",
      "[1] 10\n",
      "[1] 1024\n",
      "[1] \"#\"\n"
     ]
    },
    {
     "data": {
      "text/html": [
       "1024"
      ],
      "text/latex": [
       "1024"
      ],
      "text/markdown": [
       "1024"
      ],
      "text/plain": [
       "[1] 1024"
      ]
     },
     "metadata": {},
     "output_type": "display_data"
    }
   ],
   "source": [
    "xs <- 1:10\n",
    "for (i in xs) {\n",
    "    print(i)\n",
    "    i <- 2^i\n",
    "    print(i)\n",
    "    print(\"#\")\n",
    "}\n",
    "i"
   ]
  },
  {
   "cell_type": "markdown",
   "metadata": {},
   "source": [
    "Všimněte si též, že tělo cyklu se vždy vykonává v aktuálním prostředí a všechny proměnné vytvořené uvnitř cyklu jsou pak dostupné i po jeho dokončení.\n",
    "\n",
    "Na závěr ještě příklad s jednořádkovou syntaxí:"
   ]
  },
  {
   "cell_type": "code",
   "execution_count": 60,
   "metadata": {},
   "outputs": [
    {
     "name": "stdout",
     "output_type": "stream",
     "text": [
      "[1] 2\n",
      "[1] 4\n",
      "[1] 8\n",
      "[1] 16\n",
      "[1] 32\n",
      "[1] 64\n",
      "[1] 128\n",
      "[1] 256\n",
      "[1] 512\n",
      "[1] 1024\n"
     ]
    }
   ],
   "source": [
    "for (i in 1:10) print(2^i)"
   ]
  },
  {
   "cell_type": "markdown",
   "metadata": {},
   "source": [
    "#### While\n",
    "\n",
    "Cyklus `while` je stejně jako `for` též velkou stálicí programovacích jazyků a používá se následovně:"
   ]
  },
  {
   "cell_type": "code",
   "execution_count": 61,
   "metadata": {},
   "outputs": [
    {
     "name": "stdout",
     "output_type": "stream",
     "text": [
      "[1] 1\n",
      "[1] 2\n",
      "[1] 3\n",
      "[1] 4\n",
      "[1] 5\n",
      "[1] 6\n",
      "[1] 7\n",
      "[1] 8\n",
      "[1] 9\n",
      "[1] 10\n"
     ]
    }
   ],
   "source": [
    "x <- 1\n",
    "while(x <= 10) {\n",
    "    print(x)\n",
    "    x <- x + 1\n",
    "}"
   ]
  },
  {
   "cell_type": "markdown",
   "metadata": {},
   "source": [
    "Jak napovídá tento příklad, tak cyklus `while` se neřídí délkou nějaké lineární sekvence, ale podmínkou. Tento cyklus je tedy o něco obecnější než cyklus `for`, který od nás vyžaduje určení počátku a konce pomocí nějaké lineární datové struktury. Cyklus `while` se tedy hodí především v situacích, kdy předem nevíme, kolik iterací budeme k řešení našeho problému potřebovat. V kulatých závorkách může být jakýkoli výraz, který se vyhodnotí na lofickou hodnotu (tedy `TRUE` nebo `FALSE`). I cyklus `while` má svou zjednodušenou verzi:"
   ]
  },
  {
   "cell_type": "code",
   "execution_count": 62,
   "metadata": {},
   "outputs": [
    {
     "data": {
      "text/html": [
       "<ol class=list-inline>\n",
       "\t<li>'a'</li>\n",
       "\t<li>'a'</li>\n",
       "\t<li>'a'</li>\n",
       "\t<li>'a'</li>\n",
       "\t<li>'a'</li>\n",
       "\t<li>'a'</li>\n",
       "\t<li>'a'</li>\n",
       "\t<li>'a'</li>\n",
       "\t<li>'a'</li>\n",
       "\t<li>'a'</li>\n",
       "</ol>\n"
      ],
      "text/latex": [
       "\\begin{enumerate*}\n",
       "\\item 'a'\n",
       "\\item 'a'\n",
       "\\item 'a'\n",
       "\\item 'a'\n",
       "\\item 'a'\n",
       "\\item 'a'\n",
       "\\item 'a'\n",
       "\\item 'a'\n",
       "\\item 'a'\n",
       "\\item 'a'\n",
       "\\end{enumerate*}\n"
      ],
      "text/markdown": [
       "1. 'a'\n",
       "2. 'a'\n",
       "3. 'a'\n",
       "4. 'a'\n",
       "5. 'a'\n",
       "6. 'a'\n",
       "7. 'a'\n",
       "8. 'a'\n",
       "9. 'a'\n",
       "10. 'a'\n",
       "\n",
       "\n"
      ],
      "text/plain": [
       " [1] \"a\" \"a\" \"a\" \"a\" \"a\" \"a\" \"a\" \"a\" \"a\" \"a\""
      ]
     },
     "metadata": {},
     "output_type": "display_data"
    }
   ],
   "source": [
    "xs <- c() # prázdný vektor\n",
    "while (length(xs) < 10) xs <- c(xs, \"a\")\n",
    "xs"
   ]
  },
  {
   "cell_type": "markdown",
   "metadata": {},
   "source": [
    "Všimněte si, že v tomto případě jsme pro vytvoření prázdného vektoru s výhodou využili volání funkce `c` bez parametrů a její parametrickou verzi potom k připojení nových prvků do tohoto vektoru. Tento způsob vytváření vektorů není vždy úplně ideální, ale o tom si řekneme až za chvíli.\n",
    "\n",
    "#### Repeat\n",
    "\n",
    "Asi nejobecnějším cyklem v R je příkaz `repeat`:"
   ]
  },
  {
   "cell_type": "code",
   "execution_count": 63,
   "metadata": {},
   "outputs": [
    {
     "name": "stdout",
     "output_type": "stream",
     "text": [
      "[1] 1\n",
      "[1] 2\n",
      "[1] 3\n",
      "[1] 4\n",
      "[1] 5\n",
      "[1] 6\n",
      "[1] 7\n",
      "[1] 8\n",
      "[1] 9\n",
      "[1] 10\n",
      "[1] \"I'm done here...\"\n"
     ]
    }
   ],
   "source": [
    "i <- 0\n",
    "repeat {\n",
    "    i <- i + 1\n",
    "    if (i > 10) {\n",
    "        print(\"I'm done here...\")\n",
    "        break\n",
    "    }\n",
    "    \n",
    "    print(i)\n",
    "}"
   ]
  },
  {
   "cell_type": "markdown",
   "metadata": {},
   "source": [
    "Pomocí tohoto příkazu si prostě řekneme o opakování daného bloku kódu a je na nás, kdy ho ukončíme. K ukončení cyklu je zde použit příkaz `break`, který se vyvolá pouze pokud je splněná naše podmínka (když `i` přeroste desítku). Příkaz `break` můžeme mimochodem použít k předčasnému ukončení jakéhokoliv cyklu:"
   ]
  },
  {
   "cell_type": "code",
   "execution_count": 64,
   "metadata": {},
   "outputs": [
    {
     "name": "stdout",
     "output_type": "stream",
     "text": [
      "[1] 1\n",
      "[1] 2\n",
      "[1] 3\n",
      "[1] 4\n",
      "[1] 5\n",
      "[1] 6\n",
      "[1] 7\n",
      "[1] 8\n",
      "[1] 9\n",
      "[1] 10\n",
      "[1] \"I'm done here...\"\n"
     ]
    }
   ],
   "source": [
    "i <- 0\n",
    "while (T) {\n",
    "    i <- i + 1\n",
    "    if (i > 10) {\n",
    "        print(\"I'm done here...\")\n",
    "        break\n",
    "    }\n",
    "    \n",
    "    print(i)\n",
    "}"
   ]
  },
  {
   "cell_type": "markdown",
   "metadata": {},
   "source": [
    "Kromě příkazu `break` existuje ještě příkaz `next`. Tento příkaz pouze předčasně ukončí aktuální iteraci, nikoliv cyklus jako takový. Lze jej tedy použít například k vyloučení určitých prvků (v našem případě sudých čísel) při konstrukci vektoru:"
   ]
  },
  {
   "cell_type": "code",
   "execution_count": 65,
   "metadata": {},
   "outputs": [
    {
     "data": {
      "text/html": [
       "<ol class=list-inline>\n",
       "\t<li>1</li>\n",
       "\t<li>3</li>\n",
       "\t<li>5</li>\n",
       "\t<li>7</li>\n",
       "\t<li>9</li>\n",
       "</ol>\n"
      ],
      "text/latex": [
       "\\begin{enumerate*}\n",
       "\\item 1\n",
       "\\item 3\n",
       "\\item 5\n",
       "\\item 7\n",
       "\\item 9\n",
       "\\end{enumerate*}\n"
      ],
      "text/markdown": [
       "1. 1\n",
       "2. 3\n",
       "3. 5\n",
       "4. 7\n",
       "5. 9\n",
       "\n",
       "\n"
      ],
      "text/plain": [
       "[1] 1 3 5 7 9"
      ]
     },
     "metadata": {},
     "output_type": "display_data"
    }
   ],
   "source": [
    "xs <- c()\n",
    "for (i in 1:10) {\n",
    "    if (i %% 2 == 0) {\n",
    "        # při nalezení sudého čísla předčasně ukončíme aktuální iteraci\n",
    "        \n",
    "        next\n",
    "    }\n",
    "    xs <- c(xs, i)\n",
    "}\n",
    "xs"
   ]
  },
  {
   "cell_type": "markdown",
   "metadata": {},
   "source": [
    "Předchozí příklad lze mimochodem jednoduše přepsat na jednu řádku následujícím způsobem pouze pomocí operátorů:"
   ]
  },
  {
   "cell_type": "code",
   "execution_count": 66,
   "metadata": {},
   "outputs": [
    {
     "data": {
      "text/html": [
       "<ol class=list-inline>\n",
       "\t<li>1</li>\n",
       "\t<li>3</li>\n",
       "\t<li>5</li>\n",
       "\t<li>7</li>\n",
       "\t<li>9</li>\n",
       "</ol>\n"
      ],
      "text/latex": [
       "\\begin{enumerate*}\n",
       "\\item 1\n",
       "\\item 3\n",
       "\\item 5\n",
       "\\item 7\n",
       "\\item 9\n",
       "\\end{enumerate*}\n"
      ],
      "text/markdown": [
       "1. 1\n",
       "2. 3\n",
       "3. 5\n",
       "4. 7\n",
       "5. 9\n",
       "\n",
       "\n"
      ],
      "text/plain": [
       "[1] 1 3 5 7 9"
      ]
     },
     "metadata": {},
     "output_type": "display_data"
    }
   ],
   "source": [
    "(1:10)[(1:10 %% 2) != 0]"
   ]
  },
  {
   "cell_type": "markdown",
   "metadata": {},
   "source": [
    "### Poznámka k rychlosti a psaní efektivního kódu\n",
    "\n",
    "Závěrem se ještě na chvíli vrátíme k tomu, co jsme si řekli o R a o tom, že různá řešení stejného problému nejsou vždy stejně efektivní a je tedy dobré mít na paměti, jaké mohou mít různé příkazy vliv na čas, který R potřebuje k vykonání našeho programu. Podívejme se na následující příklad:"
   ]
  },
  {
   "cell_type": "code",
   "execution_count": 67,
   "metadata": {},
   "outputs": [
    {
     "data": {
      "text/html": [
       "<ol class=list-inline>\n",
       "\t<li>2</li>\n",
       "\t<li>3</li>\n",
       "\t<li>4</li>\n",
       "\t<li>5</li>\n",
       "\t<li>6</li>\n",
       "\t<li>7</li>\n",
       "\t<li>8</li>\n",
       "\t<li>9</li>\n",
       "\t<li>10</li>\n",
       "\t<li>11</li>\n",
       "</ol>\n"
      ],
      "text/latex": [
       "\\begin{enumerate*}\n",
       "\\item 2\n",
       "\\item 3\n",
       "\\item 4\n",
       "\\item 5\n",
       "\\item 6\n",
       "\\item 7\n",
       "\\item 8\n",
       "\\item 9\n",
       "\\item 10\n",
       "\\item 11\n",
       "\\end{enumerate*}\n"
      ],
      "text/markdown": [
       "1. 2\n",
       "2. 3\n",
       "3. 4\n",
       "4. 5\n",
       "5. 6\n",
       "6. 7\n",
       "7. 8\n",
       "8. 9\n",
       "9. 10\n",
       "10. 11\n",
       "\n",
       "\n"
      ],
      "text/plain": [
       " [1]  2  3  4  5  6  7  8  9 10 11"
      ]
     },
     "metadata": {},
     "output_type": "display_data"
    },
    {
     "data": {
      "text/plain": [
       "Time difference of 42.49671 secs"
      ]
     },
     "metadata": {},
     "output_type": "display_data"
    },
    {
     "data": {
      "text/html": [
       "<ol class=list-inline>\n",
       "\t<li>2</li>\n",
       "\t<li>3</li>\n",
       "\t<li>4</li>\n",
       "\t<li>5</li>\n",
       "\t<li>6</li>\n",
       "\t<li>7</li>\n",
       "\t<li>8</li>\n",
       "\t<li>9</li>\n",
       "\t<li>10</li>\n",
       "\t<li>11</li>\n",
       "</ol>\n"
      ],
      "text/latex": [
       "\\begin{enumerate*}\n",
       "\\item 2\n",
       "\\item 3\n",
       "\\item 4\n",
       "\\item 5\n",
       "\\item 6\n",
       "\\item 7\n",
       "\\item 8\n",
       "\\item 9\n",
       "\\item 10\n",
       "\\item 11\n",
       "\\end{enumerate*}\n"
      ],
      "text/markdown": [
       "1. 2\n",
       "2. 3\n",
       "3. 4\n",
       "4. 5\n",
       "5. 6\n",
       "6. 7\n",
       "7. 8\n",
       "8. 9\n",
       "9. 10\n",
       "10. 11\n",
       "\n",
       "\n"
      ],
      "text/plain": [
       " [1]  2  3  4  5  6  7  8  9 10 11"
      ]
     },
     "metadata": {},
     "output_type": "display_data"
    },
    {
     "data": {
      "text/plain": [
       "Time difference of 0.3645337 secs"
      ]
     },
     "metadata": {},
     "output_type": "display_data"
    },
    {
     "data": {
      "text/html": [
       "<ol class=list-inline>\n",
       "\t<li>2</li>\n",
       "\t<li>3</li>\n",
       "\t<li>4</li>\n",
       "\t<li>5</li>\n",
       "\t<li>6</li>\n",
       "\t<li>7</li>\n",
       "\t<li>8</li>\n",
       "\t<li>9</li>\n",
       "\t<li>10</li>\n",
       "\t<li>11</li>\n",
       "</ol>\n"
      ],
      "text/latex": [
       "\\begin{enumerate*}\n",
       "\\item 2\n",
       "\\item 3\n",
       "\\item 4\n",
       "\\item 5\n",
       "\\item 6\n",
       "\\item 7\n",
       "\\item 8\n",
       "\\item 9\n",
       "\\item 10\n",
       "\\item 11\n",
       "\\end{enumerate*}\n"
      ],
      "text/markdown": [
       "1. 2\n",
       "2. 3\n",
       "3. 4\n",
       "4. 5\n",
       "5. 6\n",
       "6. 7\n",
       "7. 8\n",
       "8. 9\n",
       "9. 10\n",
       "10. 11\n",
       "\n",
       "\n"
      ],
      "text/plain": [
       " [1]  2  3  4  5  6  7  8  9 10 11"
      ]
     },
     "metadata": {},
     "output_type": "display_data"
    },
    {
     "data": {
      "text/plain": [
       "Time difference of 0.2047796 secs"
      ]
     },
     "metadata": {},
     "output_type": "display_data"
    }
   ],
   "source": [
    "# různé implementace jednoduchého algoritmu pro zvýšení hodnot vektoru o daný inkrement\n",
    "\n",
    "increment_by <- function(what, by=1) {\n",
    "    # zvyš číslo o danou hodnotu\n",
    "    \n",
    "    what + by\n",
    "}\n",
    "\n",
    "hodne_cisel <- 1:10^5 # původní vektor\n",
    "inkrement <- 1 # hodnota, o kterou prvky budeme zvyšovat\n",
    "\n",
    "# 1. výsledný vektor pomocí funkce 'c'\n",
    "start <- Sys.time() # stopky zapnout\n",
    "vysledek <- c()\n",
    "for (x in hodne_cisel) {\n",
    "    vysledek <- c(vysledek, increment_by(x, inkrement)) # velice neefektivní (rekonstrukce objektů)\n",
    "}\n",
    "stop <- Sys.time() # stopky vypnout\n",
    "vysledek[1:10]\n",
    "cas <- stop - start # výsledný čas\n",
    "cas\n",
    "\n",
    "# 2. vyplnění předpřipraveného vektoru\n",
    "start <- Sys.time()\n",
    "vysledek <- vector(class(1), length(hodne_cisel)) # předpřipravený vektor\n",
    "for (i in 1:length(hodne_cisel)) {\n",
    "    vysledek[i] <- increment_by(hodne_cisel[i], inkrement)\n",
    "}\n",
    "stop <- Sys.time()\n",
    "vysledek[1:10]\n",
    "cas <- stop - start\n",
    "cas\n",
    "\n",
    "# 3. funkcionální přístup pomocí 'sapply'\n",
    "start <- Sys.time()\n",
    "vysledek <- sapply(hodne_cisel, increment_by, inkrement)\n",
    "stop <- Sys.time()\n",
    "vysledek[1:10]\n",
    "cas <- stop - start\n",
    "cas"
   ]
  },
  {
   "cell_type": "markdown",
   "metadata": {},
   "source": [
    "Jak vidíte, všechny tři implementace generují stejný výstup, kterým je nový vektor s upravenými hodnotami původního, ale činí tak různou rychlostí. \n",
    "\n",
    "V prvním případě se dokonce díky nevhodné implementaci dostaneme až na čas v řádu desítek sekund! Je to díky tomu, že v každé iteraci vytváříme úplně nový vektor, který vyžaduje kopírování již uložených hodnot, jejichž počet se zvyšuje s každou iterací, což má za následek rapidní nárůst v čase.\n",
    "\n",
    "Druhá implementace už je o něco chytřejší a využije znalosti původního vektoru k 'předpřipravení' vektoru nového, což výrazně snižuje výpočetní čas, protože se v každém kroku kopíruje pouze jedna hodnota a vektor se nevytváří znovu od začátku.\n",
    "\n",
    "Třetí implementace ilustruje funkcionální přístup k tomuto problému pomocí funkce `sapply`, která aplikuje danou funkci na každý prvek daného vektoru a výsledek každé operace uloží do vektoru nového, který je zároveň její návratovou hodnotou. Tato funkce je na tyto operace optimalizovaná a je proto ještě o něco rychlejší než druhá implementace s předpřipraveným vektorem. My se k funkcionálnímu programování v R ještě vrátíme v dalším tutoriálu, takže si tuto funkci teď nebudeme podrobněji vysvětlovat, ale hodí se o ní vědět.\n",
    "\n",
    "Tyto příklady tedy ukazují, že na tom, jakým způsobem zapíšete svůj kód, skutečně záleží a někdy budete muset zapřemýšlet nad tím, co po R vlastně chcete a zda neexistuje efektivnější způsob jak vyřešit daný problém. Pokud se váš program výrazně zpomalí (zejména při analýze velkých datových množin), vzpomeňte si, že existuje funkce `Sys.time` a zkuste si vaše příkazy jeden po druhém 'přeměřit' a kritické sekce přepsat.\n",
    "\n",
    "Na závěr opět řešení problému výše 'na jednu řádku' a jeho čas:"
   ]
  },
  {
   "cell_type": "code",
   "execution_count": 68,
   "metadata": {},
   "outputs": [
    {
     "data": {
      "text/html": [
       "<ol class=list-inline>\n",
       "\t<li>2</li>\n",
       "\t<li>3</li>\n",
       "\t<li>4</li>\n",
       "\t<li>5</li>\n",
       "\t<li>6</li>\n",
       "\t<li>7</li>\n",
       "\t<li>8</li>\n",
       "\t<li>9</li>\n",
       "\t<li>10</li>\n",
       "\t<li>11</li>\n",
       "</ol>\n"
      ],
      "text/latex": [
       "\\begin{enumerate*}\n",
       "\\item 2\n",
       "\\item 3\n",
       "\\item 4\n",
       "\\item 5\n",
       "\\item 6\n",
       "\\item 7\n",
       "\\item 8\n",
       "\\item 9\n",
       "\\item 10\n",
       "\\item 11\n",
       "\\end{enumerate*}\n"
      ],
      "text/markdown": [
       "1. 2\n",
       "2. 3\n",
       "3. 4\n",
       "4. 5\n",
       "5. 6\n",
       "6. 7\n",
       "7. 8\n",
       "8. 9\n",
       "9. 10\n",
       "10. 11\n",
       "\n",
       "\n"
      ],
      "text/plain": [
       " [1]  2  3  4  5  6  7  8  9 10 11"
      ]
     },
     "metadata": {},
     "output_type": "display_data"
    },
    {
     "data": {
      "text/plain": [
       "Time difference of 0.00776577 secs"
      ]
     },
     "metadata": {},
     "output_type": "display_data"
    }
   ],
   "source": [
    "start <- Sys.time()\n",
    "vysledek <- hodne_cisel + inkrement\n",
    "stop <- Sys.time()\n",
    "vysledek[1:10]\n",
    "cas <- stop - start\n",
    "cas"
   ]
  },
  {
   "cell_type": "markdown",
   "metadata": {},
   "source": [
    "Jak vidíte, nejjednodušší řešení může být v R to nejefektivnější, takže se vždy zamyslete, zda vám R náhodou již nenabízí snadnou cestu, než se pustíte do vlastní implementace.\n",
    "\n",
    "## Hledání v dokumentaci\n",
    "\n",
    "R má rozsáhlou dokumentaci a kdykoliv si nevíte rady s nějakou funkcí, je veliká šance, že odpověď najdete právě tam. Pokud přesně nevíte, jak se vaše funkce jmenuje, stačí vám dotázat se funkce `apropos`, která nalezne funkce podle vašeho kriéria:"
   ]
  },
  {
   "cell_type": "code",
   "execution_count": 69,
   "metadata": {},
   "outputs": [
    {
     "data": {
      "text/html": [
       "<ol class=list-inline>\n",
       "\t<li>'La.svd'</li>\n",
       "\t<li>'svd'</li>\n",
       "</ol>\n"
      ],
      "text/latex": [
       "\\begin{enumerate*}\n",
       "\\item 'La.svd'\n",
       "\\item 'svd'\n",
       "\\end{enumerate*}\n"
      ],
      "text/markdown": [
       "1. 'La.svd'\n",
       "2. 'svd'\n",
       "\n",
       "\n"
      ],
      "text/plain": [
       "[1] \"La.svd\" \"svd\"   "
      ]
     },
     "metadata": {},
     "output_type": "display_data"
    },
    {
     "data": {
      "text/html": [
       "<ol class=list-inline>\n",
       "\t<li>'as.data.frame.difftime'</li>\n",
       "\t<li>'as.difftime'</li>\n",
       "\t<li>'as.double.difftime'</li>\n",
       "\t<li>'strftime'</li>\n",
       "\t<li>'strptime'</li>\n",
       "\t<li>'Summary.difftime'</li>\n",
       "\t<li>'summary.proc_time'</li>\n",
       "\t<li>'Sys.setFileTime'</li>\n",
       "\t<li>'Sys.time'</li>\n",
       "\t<li>'system.time'</li>\n",
       "</ol>\n"
      ],
      "text/latex": [
       "\\begin{enumerate*}\n",
       "\\item 'as.data.frame.difftime'\n",
       "\\item 'as.difftime'\n",
       "\\item 'as.double.difftime'\n",
       "\\item 'strftime'\n",
       "\\item 'strptime'\n",
       "\\item 'Summary.difftime'\n",
       "\\item 'summary.proc\\_time'\n",
       "\\item 'Sys.setFileTime'\n",
       "\\item 'Sys.time'\n",
       "\\item 'system.time'\n",
       "\\end{enumerate*}\n"
      ],
      "text/markdown": [
       "1. 'as.data.frame.difftime'\n",
       "2. 'as.difftime'\n",
       "3. 'as.double.difftime'\n",
       "4. 'strftime'\n",
       "5. 'strptime'\n",
       "6. 'Summary.difftime'\n",
       "7. 'summary.proc_time'\n",
       "8. 'Sys.setFileTime'\n",
       "9. 'Sys.time'\n",
       "10. 'system.time'\n",
       "\n",
       "\n"
      ],
      "text/plain": [
       " [1] \"as.data.frame.difftime\" \"as.difftime\"            \"as.double.difftime\"    \n",
       " [4] \"strftime\"               \"strptime\"               \"Summary.difftime\"      \n",
       " [7] \"summary.proc_time\"      \"Sys.setFileTime\"        \"Sys.time\"              \n",
       "[10] \"system.time\"           "
      ]
     },
     "metadata": {},
     "output_type": "display_data"
    }
   ],
   "source": [
    "apropos(\"svd\")\n",
    "apropos(\"^[as]+.*time$\") # lze používat plnohodnotné regulární výrazy"
   ]
  },
  {
   "cell_type": "markdown",
   "metadata": {},
   "source": [
    "Pokud již jméno funkce znáte, můžete si pomocí funkce `help` zobrazit nápovědu:"
   ]
  },
  {
   "cell_type": "code",
   "execution_count": 70,
   "metadata": {
    "collapsed": true
   },
   "outputs": [],
   "source": [
    "help(\"Sys.time\")"
   ]
  },
  {
   "cell_type": "markdown",
   "metadata": {},
   "source": [
    "Můžete též použít operátor `?` na funkci jako takovou:"
   ]
  },
  {
   "cell_type": "code",
   "execution_count": 71,
   "metadata": {
    "collapsed": true
   },
   "outputs": [],
   "source": [
    "?Sys.time"
   ]
  }
 ],
 "metadata": {
  "kernelspec": {
   "display_name": "R",
   "language": "R",
   "name": "ir"
  },
  "language_info": {
   "codemirror_mode": "r",
   "file_extension": ".r",
   "mimetype": "text/x-r-source",
   "name": "R",
   "pygments_lexer": "r",
   "version": "3.3.2"
  },
  "toc": {
   "nav_menu": {},
   "number_sections": true,
   "sideBar": true,
   "skip_h1_title": true,
   "toc_cell": true,
   "toc_position": {},
   "toc_section_display": "block",
   "toc_window_display": false
  }
 },
 "nbformat": 4,
 "nbformat_minor": 2
}
