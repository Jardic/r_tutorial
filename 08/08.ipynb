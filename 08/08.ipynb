{
 "cells": [
  {
   "cell_type": "markdown",
   "metadata": {
    "toc": "true"
   },
   "source": [
    " # Table of Contents\n",
    "<div class=\"toc\" style=\"margin-top: 1em;\"><ul class=\"toc-item\" id=\"toc-level0\"><li><span><a href=\"http://localhost:8888/notebooks/08/Untitled.ipynb?kernel_name=ir#Jednovýběrový-t-test\" data-toc-modified-id=\"Jednovýběrový-t-test-1\"><span class=\"toc-item-num\">1&nbsp;&nbsp;</span>Jednovýběrový t-test</a></span></li></ul></div>"
   ]
  },
  {
   "cell_type": "markdown",
   "metadata": {},
   "source": [
    "# Testování statistických hypotéz\n",
    "\n",
    "V této lekci si na několika příkladech ukážeme a vysvětlíme testování několika nejběžnějších statistických hypotéz. V žádném případě se nejedná o vyčerpávající seznam metod pro všechny situace, ale pouhý základ pro případy, se kterými se ve vědě setkáváme asi nejčastěji. Jako kompletnější a ucelenější seznam metod a situací, ve kterých se různé testování statistických hypotéz používá, lze doporučit [dokument](https://stats.idre.ucla.edu/other/mult-pkg/whatstat/) na stránkách Institute for Digital Research and Education, University of California.\n",
    "\n",
    "## Jednovýběrový t-test\n",
    "\n",
    "Nejjednodušším statistickým testem je pravděpodobně jednovýběrový t-test na průměr, ve kterém lze testovat následující alternativní hypotézy:\n",
    "\n",
    "$H_1:\\ \\mu\\ \\ne\\ \\mu_0$\n",
    "\n",
    "$H_1:\\ \\mu\\ >\\ \\mu_0$\n",
    "\n",
    "$H_1:\\ \\mu\\ <\\ \\mu_0$\n",
    "\n",
    "proti nulové hypotéze, která je definovaná takto:\n",
    "\n",
    "$H_0:\\ \\mu\\ =\\ \\mu_0$\n",
    "\n",
    "Při jednovýběrovém t-testu se tedy snažíte stanovit, jak průměr vašeho vzorku odpovídá určitému předpokládanému populačnímu průměru. Z t-testu tedy vyplývá, zda můžete tvrdit, že prvky vašeho vzorku pocházejí z určité populace.\n",
    "\n",
    "Jednovýběrový t-test je vlastně založen na definici intervalu spolehlivosti pro průměr a testovací statistika má následující tvar:\n",
    "\n",
    "$t = \\frac{\\overline{x} - \\mu_0}{s/\\sqrt{n}}$\n",
    "\n",
    "Pokud si vzpomínáte na interval spolehlivosti tak, jak byl definován v předchozí lekci, víte, že hodnota $t$ odpovídá velikosti chyby, kterou při našem odhadu z konkrétního vzorku s určitou pravděpodobností uděláme vlivem náhodných jevů. U statistikého testu tedy chceme naopak vědět hodnotu $t$ v případě hypotetického populačního průměru $\\mu_0$. Hodnota $t$ vlastně určuje maximální velikost intervalu spolehlivosti, který ještě neobsahuje hodnotu $\\mu_0$ a lze tak zamítnout nulovou hypotézu, neboť ta se zamítá pouze pokud $\\mu_0$ leží mimo specifikovaný interval.\n",
    "\n",
    "Hodnota $t$, neboli testovací statistika, též určuje tzv. p-hodnotu ($p$), což je minimální hladina pravděpodobnosti, při které ještě můžeme nulovou hypotézu zamítnout. Pokud bychom tedy vytvořili více než (1-$p$)% interval spolehlivosti, už bychom nemohli $H_0$ zamítnout, neboť by obsahoval i hodnotu $\\mu_0$.\n",
    "\n",
    "V předchozí lekci jste měli za [úkol](../07/ukoly/07_zadani.ipynb) sestavit interval spolehlivosti pro oběm piva, který vyteče do flašky z vašeho prehistorického plnícího stroje. Pojďme si teď ověřit, zda není náhodou možné o našem stroji tvrdit, že šidí naše zákazníky a že z něj v průměru vytéká méně než deklarovaných 500 ml.\n",
    "\n",
    "Nulovou hypotézou v našem případě bude:\n",
    "\n",
    "$H_0:\\ \\mu\\ =\\ 500$\n",
    "\n",
    "tedy, že stroj nešidí zákazníky a dělá přesně to, co má. Naší alternativní hypotézu pak sestavíme takto:\n",
    "\n",
    "$H_1:\\ \\mu\\ <\\ 500$\n",
    "\n",
    "tedy, že stroj nalévá \"podmíráky\". \n",
    "\n",
    "V tomto konkrétním testu se tedy snažíme na určité hladině pravděpodobnosti dokázat, že náš stroj šidí zákazníky. My si pro náš test zvolíme hladinu pravděpodobnosti 99%. Budeme tedy zjišťovat 99% interval spolehlivosti pro průměr, a $H_0$ zamítneme, pokud nebude obsahovat hodnotu 500 ml."
   ]
  },
  {
   "cell_type": "code",
   "execution_count": 1,
   "metadata": {},
   "outputs": [
    {
     "name": "stdout",
     "output_type": "stream",
     "text": [
      " [1] 484.11 459.49 471.38 512.01 494.48 528.63 493.64 485.03 473.88 501.59\n",
      "[11] 502.85 538.08 465.68 495.03 475.32 529.41 518.13 464.32 449.08 489.27\n"
     ]
    }
   ],
   "source": [
    "mereni <- read.table(\"../07/ukoly/plnici_stroj.csv\")$Volume\n",
    "print(mereni)"
   ]
  },
  {
   "cell_type": "markdown",
   "metadata": {},
   "source": [
    "interval spolehlivosti"
   ]
  },
  {
   "cell_type": "code",
   "execution_count": null,
   "metadata": {
    "collapsed": true
   },
   "outputs": [],
   "source": []
  },
  {
   "cell_type": "markdown",
   "metadata": {},
   "source": [
    "Zjisteni p-value"
   ]
  },
  {
   "cell_type": "code",
   "execution_count": 2,
   "metadata": {},
   "outputs": [
    {
     "data": {
      "text/html": [
       "-1.52046261020793"
      ],
      "text/latex": [
       "-1.52046261020793"
      ],
      "text/markdown": [
       "-1.52046261020793"
      ],
      "text/plain": [
       "[1] -1.520463"
      ]
     },
     "metadata": {},
     "output_type": "display_data"
    }
   ],
   "source": [
    "sem <- sd(mereni) / sqrt(length(mereni))\n",
    "t <- (mean(mereni) - 500) / sem\n",
    "t"
   ]
  },
  {
   "cell_type": "code",
   "execution_count": 3,
   "metadata": {},
   "outputs": [
    {
     "data": {
      "text/html": [
       "0.0724311264162951"
      ],
      "text/latex": [
       "0.0724311264162951"
      ],
      "text/markdown": [
       "0.0724311264162951"
      ],
      "text/plain": [
       "[1] 0.07243113"
      ]
     },
     "metadata": {},
     "output_type": "display_data"
    }
   ],
   "source": [
    "p <- pt(t, df = length(mereni)-1)\n",
    "p"
   ]
  },
  {
   "cell_type": "code",
   "execution_count": 4,
   "metadata": {},
   "outputs": [
    {
     "data": {
      "text/html": [
       "92.7568873583705"
      ],
      "text/latex": [
       "92.7568873583705"
      ],
      "text/markdown": [
       "92.7568873583705"
      ],
      "text/plain": [
       "[1] 92.75689"
      ]
     },
     "metadata": {},
     "output_type": "display_data"
    }
   ],
   "source": [
    "(1 - p) * 100"
   ]
  },
  {
   "cell_type": "code",
   "execution_count": null,
   "metadata": {
    "collapsed": true
   },
   "outputs": [],
   "source": []
  }
 ],
 "metadata": {
  "kernelspec": {
   "display_name": "R",
   "language": "R",
   "name": "ir"
  },
  "language_info": {
   "codemirror_mode": "r",
   "file_extension": ".r",
   "mimetype": "text/x-r-source",
   "name": "R",
   "pygments_lexer": "r",
   "version": "3.3.2"
  },
  "toc": {
   "nav_menu": {},
   "number_sections": true,
   "sideBar": true,
   "skip_h1_title": true,
   "toc_cell": true,
   "toc_position": {},
   "toc_section_display": "block",
   "toc_window_display": false
  }
 },
 "nbformat": 4,
 "nbformat_minor": 2
}
