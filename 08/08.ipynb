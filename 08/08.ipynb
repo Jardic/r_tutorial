{
 "cells": [
  {
   "cell_type": "markdown",
   "metadata": {
    "toc": "true"
   },
   "source": [
    " # Table of Contents\n",
    "<div class=\"toc\" style=\"margin-top: 1em;\"><ul class=\"toc-item\" id=\"toc-level0\"><li><span><a href=\"http://localhost:8888/notebooks/08/08.ipynb#Jednovýběrový-t-test\" data-toc-modified-id=\"Jednovýběrový-t-test-1\"><span class=\"toc-item-num\">1&nbsp;&nbsp;</span>Jednovýběrový t-test</a></span></li><li><span><a href=\"http://localhost:8888/notebooks/08/08.ipynb#Dvouvýběrový-t-test\" data-toc-modified-id=\"Dvouvýběrový-t-test-2\"><span class=\"toc-item-num\">2&nbsp;&nbsp;</span>Dvouvýběrový t-test</a></span></li></ul></div>"
   ]
  },
  {
   "cell_type": "markdown",
   "metadata": {},
   "source": [
    "# Testování statistických hypotéz\n",
    "\n",
    "V této lekci si na několika příkladech ukážeme a vysvětlíme testování několika nejběžnějších statistických hypotéz. V žádném případě se nejedná o vyčerpávající seznam metod pro všechny situace, ale pouhý základ pro případy, se kterými se ve vědě setkáváme asi nejčastěji. Jako kompletnější a ucelenější seznam metod a situací, ve kterých se různé testování statistických hypotéz používá, lze doporučit [dokument](https://stats.idre.ucla.edu/other/mult-pkg/whatstat/) na stránkách Institute for Digital Research and Education, University of California.\n",
    "\n",
    "## Jednovýběrový t-test\n",
    "\n",
    "Nejjednodušším statistickým testem je pravděpodobně jednovýběrový t-test na průměr, ve kterém lze testovat následující alternativní hypotézy:\n",
    "\n",
    "$H_1:\\ \\mu\\ \\ne\\ \\mu_0$\n",
    "\n",
    "$H_1:\\ \\mu\\ >\\ \\mu_0$\n",
    "\n",
    "$H_1:\\ \\mu\\ <\\ \\mu_0$\n",
    "\n",
    "proti nulové hypotéze, která je definovaná takto:\n",
    "\n",
    "$H_0:\\ \\mu\\ =\\ \\mu_0$\n",
    "\n",
    "Při jednovýběrovém t-testu se tedy snažíte na určité hladině pravděpodobnosti dokázat, že skutečný populační průměr $\\mu$  je jiný než ten očekávaný, $\\mu_0$. Z t-testu tedy vyplývá, zda můžete tvrdit, že prvky vašeho vzorku pocházejí z jiné než předpokládané populace.\n",
    "\n",
    "Jednovýběrový t-test je vlastně založen na definici intervalu spolehlivosti pro průměr a testovací statistika má následující tvar:\n",
    "\n",
    "$t = \\frac{\\overline{x} - \\mu_0}{s/\\sqrt{n}}$\n",
    "\n",
    "Pokud si vzpomínáte na interval spolehlivosti tak, jak byl definován v předchozí lekci, víte, že hodnota $t$ odpovídá velikosti chyby, kterou při našem odhadu z konkrétního vzorku s určitou pravděpodobností uděláme vlivem náhodných jevů. U statistikého testu tedy chceme naopak vědět hodnotu $t$ v případě hypotetického populačního průměru $\\mu_0$. Hodnota $t$ vlastně určuje maximální velikost intervalu spolehlivosti, který ještě neobsahuje hodnotu $\\mu_0$ a lze tak zamítnout nulovou hypotézu, neboť ta se zamítá pouze pokud $\\mu_0$ leží mimo specifikovaný interval.\n",
    "\n",
    "Hodnota $t$, neboli testovací statistika, též určuje tzv. p-hodnotu ($p$), což je minimální hladina pravděpodobnosti (statistické významnosti), při které ještě můžeme nulovou hypotézu zamítnout. Pokud bychom tedy vytvořili více než (1-$p$)% interval spolehlivosti, už bychom nemohli $H_0$ zamítnout, neboť by obsahoval i hodnotu $\\mu_0$.\n",
    "\n",
    "V předchozí lekci jste měli za [úkol](../07/ukoly/07_zadani.ipynb) sestavit interval spolehlivosti pro objem piva, který vyteče do lahve z vašeho prehistorického plnícího stroje. Pojďme si teď ověřit, zda není náhodou možné o našem stroji tvrdit, že šidí naše zákazníky a že z něj v průměru vytéká méně než deklarovaných 500 ml.\n",
    "\n",
    "Nulovou hypotézou v našem případě bude:\n",
    "\n",
    "$H_0:\\ \\mu\\ =\\ 500$\n",
    "\n",
    "tedy, že stroj nešidí zákazníky a dělá přesně to, co má. Naší alternativní hypotézu pak sestavíme takto:\n",
    "\n",
    "$H_1:\\ \\mu\\ <\\ 500$\n",
    "\n",
    "tedy, že stroj plní lahve pod míru. \n",
    "\n",
    "V tomto konkrétním testu se tedy snažíme na určité hladině pravděpodobnosti dokázat, že náš stroj šidí zákazníky. Pro náš test zvolíme hladinu významnosti 1% a můžeme jej tedy provést například tak, že si sestavíme jednostranný 99% interval spolehlivosti pro průměr a $H_0$ zamítneme, pokud nebude obsahovat deklarovanou hodnotu 500 ml:"
   ]
  },
  {
   "cell_type": "code",
   "execution_count": 1,
   "metadata": {},
   "outputs": [
    {
     "data": {
      "text/html": [
       "<ol class=list-inline>\n",
       "\t<li>-Inf</li>\n",
       "\t<li>505.649487152757</li>\n",
       "</ol>\n"
      ],
      "text/latex": [
       "\\begin{enumerate*}\n",
       "\\item -Inf\n",
       "\\item 505.649487152757\n",
       "\\end{enumerate*}\n"
      ],
      "text/markdown": [
       "1. -Inf\n",
       "2. 505.649487152757\n",
       "\n",
       "\n"
      ],
      "text/plain": [
       "[1]     -Inf 505.6495"
      ]
     },
     "metadata": {},
     "output_type": "display_data"
    }
   ],
   "source": [
    "# načtení dat\n",
    "mereni <- read.table(\"../07/ukoly/plnici_stroj.csv\")$Volume\n",
    "\n",
    "# určení jednostranného 99% intervalu spolehlivosti\n",
    "x <- mean(mereni) # průměr vzorku\n",
    "s <- sd(mereni) # směrodatná odchylka vzorku\n",
    "N <- length(mereni) # počet měření\n",
    "sem <- s / sqrt(N) # střední chyba průměru\n",
    "df <- length(mereni) - 1 # počet stupňů volnosti příslušného t-rozdělení\n",
    "t_99 <- qt(0.99, df = df) # příslušná hodnota t\n",
    "\n",
    "# interval spolehlivosti\n",
    "c(\n",
    "    -Inf\n",
    "    , x + (t_99 * sem)\n",
    ")"
   ]
  },
  {
   "cell_type": "markdown",
   "metadata": {},
   "source": [
    "Hodnota 500 ml tedy do 99% intervalu spolehlivosti patří. Nemůžeme o našem stroji tedy na hladině významnosti 1% tvrdit, že by systematicky šidil naše zákazníky. To je dobrý výsledek, ale mějte na paměti, že to *neznamená* automatické přijmutí nulové hypotézy. Výsledek testu znamená pouze to, že nemáme dostatek důkazů na to, abychom mohli spolehlivé tvrdit, že $H_0$ není pravdivá a platí $H_1$. Hladina významnosti testu je totiž pouze pravděpodobnost chyby prvního řádu (Type I error) za předpokladu, že nulová hypotéza platí. Výsledek testu nám tedy vůbec nic neříká o platnosti nulové hypotézy. Platnost nulové hypotézy je pouze náš předpoklad a test nám v tomto ohledu neposkytuje pro toto žádný důkaz.\n",
    "\n",
    "Určení intervalu spolehlivosti je tedy jednou z možností jak provést tento test, ale v praxi běžnou metodou je postup přes výpočet testovací statistiky, kterou jsme si výše uvedli jako:\n",
    "\n",
    "$t = \\frac{\\overline{x} - \\mu_0}{s/\\sqrt{n}}$\n",
    "\n",
    "My si ji zde za použití proměnných výše můžeme spočítat například takto:"
   ]
  },
  {
   "cell_type": "code",
   "execution_count": 2,
   "metadata": {},
   "outputs": [
    {
     "data": {
      "text/html": [
       "-1.52046261020793"
      ],
      "text/latex": [
       "-1.52046261020793"
      ],
      "text/markdown": [
       "-1.52046261020793"
      ],
      "text/plain": [
       "[1] -1.520463"
      ]
     },
     "metadata": {},
     "output_type": "display_data"
    }
   ],
   "source": [
    "t <- (x - 500) / sem\n",
    "t"
   ]
  },
  {
   "cell_type": "markdown",
   "metadata": {},
   "source": [
    "Odpovídající p-hodnotu bychom pak snadno získali z distribuční funkce:"
   ]
  },
  {
   "cell_type": "code",
   "execution_count": 3,
   "metadata": {},
   "outputs": [
    {
     "data": {
      "text/html": [
       "0.0724311264162951"
      ],
      "text/latex": [
       "0.0724311264162951"
      ],
      "text/markdown": [
       "0.0724311264162951"
      ],
      "text/plain": [
       "[1] 0.07243113"
      ]
     },
     "metadata": {},
     "output_type": "display_data"
    }
   ],
   "source": [
    "p <- pt(t, df = df)\n",
    "p"
   ]
  },
  {
   "cell_type": "markdown",
   "metadata": {},
   "source": [
    "Toto je tedy minimální hodnota statistické významnosti, na které bychom mohli zamítnout $H_0$. Tato hodnota je větší než námi požadovaná statistická významnost testu (7.2% oproti 1%), a proto nelze $H_0$ v našem případě zamítnout. Stačilo by nám tedy například sestrojit pouze 92.8% interval spolehlivosti na to, aby hodnotu 500 ml neobsahoval:"
   ]
  },
  {
   "cell_type": "code",
   "execution_count": 4,
   "metadata": {},
   "outputs": [
    {
     "data": {
      "text/html": [
       "92.7568873583705"
      ],
      "text/latex": [
       "92.7568873583705"
      ],
      "text/markdown": [
       "92.7568873583705"
      ],
      "text/plain": [
       "[1] 92.75689"
      ]
     },
     "metadata": {},
     "output_type": "display_data"
    }
   ],
   "source": [
    "(1 - p) * 100"
   ]
  },
  {
   "cell_type": "markdown",
   "metadata": {},
   "source": [
    "V R máme samozřejmě funkce, které nám testování statistických hypotéz usnadňují, a my tak často nebudeme muset ani znát přesný tvar testovací statistiky. V předchozí lekci jsme si již trochu předtavili funkci `t.test`, která umožňuje nejen testování ale i výpočet intervalu spolehlivosti. V našem případě bychom výsledek našeho testu získali jednoduše takto:"
   ]
  },
  {
   "cell_type": "code",
   "execution_count": 5,
   "metadata": {},
   "outputs": [
    {
     "data": {
      "text/plain": [
       "\n",
       "\tOne Sample t-test\n",
       "\n",
       "data:  mereni\n",
       "t = -1.5205, df = 19, p-value = 0.07243\n",
       "alternative hypothesis: true mean is less than 500\n",
       "99 percent confidence interval:\n",
       "     -Inf 505.6495\n",
       "sample estimates:\n",
       "mean of x \n",
       " 491.5705 \n"
      ]
     },
     "metadata": {},
     "output_type": "display_data"
    }
   ],
   "source": [
    "t.test(mereni, mu = 500, alternative = \"less\", conf.level = 0.99)"
   ]
  },
  {
   "cell_type": "markdown",
   "metadata": {},
   "source": [
    "Funkci tedy stačí jako první argument poslat naše data a dále jen dalšími argumenty specifikovat $\\mu_0$, tvar alternativní hypotézy a hladinu významnosti. \n",
    "\n",
    "Výstupem funkce ve skutečnosti není řetězec, jak by se mohlo zdát, ale objekt:"
   ]
  },
  {
   "cell_type": "code",
   "execution_count": 6,
   "metadata": {},
   "outputs": [
    {
     "data": {
      "text/html": [
       "'htest'"
      ],
      "text/latex": [
       "'htest'"
      ],
      "text/markdown": [
       "'htest'"
      ],
      "text/plain": [
       "[1] \"htest\""
      ]
     },
     "metadata": {},
     "output_type": "display_data"
    }
   ],
   "source": [
    "result <- t.test(mereni, mu = 500, alternative = \"less\", conf.level = 0.99)\n",
    "class(result)"
   ]
  },
  {
   "cell_type": "markdown",
   "metadata": {},
   "source": [
    "vidíme tedy, že se jedná o jakýsi objekt typu `htest`. Pokud jej pošleme funkci `print` jako parameter dostaneme právě výstup nahoře:"
   ]
  },
  {
   "cell_type": "code",
   "execution_count": 7,
   "metadata": {},
   "outputs": [
    {
     "name": "stdout",
     "output_type": "stream",
     "text": [
      "\n",
      "\tOne Sample t-test\n",
      "\n",
      "data:  mereni\n",
      "t = -1.5205, df = 19, p-value = 0.07243\n",
      "alternative hypothesis: true mean is less than 500\n",
      "99 percent confidence interval:\n",
      "     -Inf 505.6495\n",
      "sample estimates:\n",
      "mean of x \n",
      " 491.5705 \n",
      "\n"
     ]
    }
   ],
   "source": [
    "print(result)"
   ]
  },
  {
   "cell_type": "markdown",
   "metadata": {},
   "source": [
    "Funkce `print` se totiž dokáže objektu třídy `htest` zeptat na jeho textovou reprezentaci a tu potom vrátí, což je výstup, který vidíme nahoře. Objekt `htest` si můžeme představit jako takový lepší seznam, který obsahuje všechny detaily o výpočtu. Stejně jako u seznamů lze jména jednotlivých položek zjistit pomocí funkce `names`:"
   ]
  },
  {
   "cell_type": "code",
   "execution_count": 8,
   "metadata": {},
   "outputs": [
    {
     "data": {
      "text/html": [
       "<ol class=list-inline>\n",
       "\t<li>'statistic'</li>\n",
       "\t<li>'parameter'</li>\n",
       "\t<li>'p.value'</li>\n",
       "\t<li>'conf.int'</li>\n",
       "\t<li>'estimate'</li>\n",
       "\t<li>'null.value'</li>\n",
       "\t<li>'alternative'</li>\n",
       "\t<li>'method'</li>\n",
       "\t<li>'data.name'</li>\n",
       "</ol>\n"
      ],
      "text/latex": [
       "\\begin{enumerate*}\n",
       "\\item 'statistic'\n",
       "\\item 'parameter'\n",
       "\\item 'p.value'\n",
       "\\item 'conf.int'\n",
       "\\item 'estimate'\n",
       "\\item 'null.value'\n",
       "\\item 'alternative'\n",
       "\\item 'method'\n",
       "\\item 'data.name'\n",
       "\\end{enumerate*}\n"
      ],
      "text/markdown": [
       "1. 'statistic'\n",
       "2. 'parameter'\n",
       "3. 'p.value'\n",
       "4. 'conf.int'\n",
       "5. 'estimate'\n",
       "6. 'null.value'\n",
       "7. 'alternative'\n",
       "8. 'method'\n",
       "9. 'data.name'\n",
       "\n",
       "\n"
      ],
      "text/plain": [
       "[1] \"statistic\"   \"parameter\"   \"p.value\"     \"conf.int\"    \"estimate\"   \n",
       "[6] \"null.value\"  \"alternative\" \"method\"      \"data.name\"  "
      ]
     },
     "metadata": {},
     "output_type": "display_data"
    }
   ],
   "source": [
    "names(result)"
   ]
  },
  {
   "cell_type": "markdown",
   "metadata": {},
   "source": [
    "Objektu se tedy můžeme přímo zeptat na vypočtenou testovací statistiku:"
   ]
  },
  {
   "cell_type": "code",
   "execution_count": 9,
   "metadata": {},
   "outputs": [
    {
     "data": {
      "text/html": [
       "<strong>t:</strong> -1.52046261020793"
      ],
      "text/latex": [
       "\\textbf{t:} -1.52046261020793"
      ],
      "text/markdown": [
       "**t:** -1.52046261020793"
      ],
      "text/plain": [
       "        t \n",
       "-1.520463 "
      ]
     },
     "metadata": {},
     "output_type": "display_data"
    }
   ],
   "source": [
    "result$statistic"
   ]
  },
  {
   "cell_type": "markdown",
   "metadata": {},
   "source": [
    "počet stupňů volnosti:"
   ]
  },
  {
   "cell_type": "code",
   "execution_count": 10,
   "metadata": {},
   "outputs": [
    {
     "data": {
      "text/html": [
       "<strong>df:</strong> 19"
      ],
      "text/latex": [
       "\\textbf{df:} 19"
      ],
      "text/markdown": [
       "**df:** 19"
      ],
      "text/plain": [
       "df \n",
       "19 "
      ]
     },
     "metadata": {},
     "output_type": "display_data"
    }
   ],
   "source": [
    "result$parameter"
   ]
  },
  {
   "cell_type": "markdown",
   "metadata": {},
   "source": [
    "p-hodnotu:"
   ]
  },
  {
   "cell_type": "code",
   "execution_count": 11,
   "metadata": {},
   "outputs": [
    {
     "data": {
      "text/html": [
       "0.0724311264162952"
      ],
      "text/latex": [
       "0.0724311264162952"
      ],
      "text/markdown": [
       "0.0724311264162952"
      ],
      "text/plain": [
       "[1] 0.07243113"
      ]
     },
     "metadata": {},
     "output_type": "display_data"
    }
   ],
   "source": [
    "result$p.value"
   ]
  },
  {
   "cell_type": "markdown",
   "metadata": {},
   "source": [
    "interval spolehlivosti:"
   ]
  },
  {
   "cell_type": "code",
   "execution_count": 12,
   "metadata": {},
   "outputs": [
    {
     "data": {
      "text/html": [
       "<ol class=list-inline>\n",
       "\t<li>-Inf</li>\n",
       "\t<li>505.649487152757</li>\n",
       "</ol>\n"
      ],
      "text/latex": [
       "\\begin{enumerate*}\n",
       "\\item -Inf\n",
       "\\item 505.649487152757\n",
       "\\end{enumerate*}\n"
      ],
      "text/markdown": [
       "1. -Inf\n",
       "2. 505.649487152757\n",
       "\n",
       "\n"
      ],
      "text/plain": [
       "[1]     -Inf 505.6495\n",
       "attr(,\"conf.level\")\n",
       "[1] 0.99"
      ]
     },
     "metadata": {},
     "output_type": "display_data"
    }
   ],
   "source": [
    "result$conf.int"
   ]
  },
  {
   "cell_type": "markdown",
   "metadata": {},
   "source": [
    "odhad populačního průměru ze vzorku, což je pouze průměr z měření:"
   ]
  },
  {
   "cell_type": "code",
   "execution_count": 13,
   "metadata": {},
   "outputs": [
    {
     "data": {
      "text/html": [
       "<strong>mean of x:</strong> 491.5705"
      ],
      "text/latex": [
       "\\textbf{mean of x:} 491.5705"
      ],
      "text/markdown": [
       "**mean of x:** 491.5705"
      ],
      "text/plain": [
       "mean of x \n",
       " 491.5705 "
      ]
     },
     "metadata": {},
     "output_type": "display_data"
    },
    {
     "data": {
      "text/html": [
       "491.5705"
      ],
      "text/latex": [
       "491.5705"
      ],
      "text/markdown": [
       "491.5705"
      ],
      "text/plain": [
       "[1] 491.5705"
      ]
     },
     "metadata": {},
     "output_type": "display_data"
    }
   ],
   "source": [
    "result$estimate\n",
    "x"
   ]
  },
  {
   "cell_type": "markdown",
   "metadata": {},
   "source": [
    "hodnotu nulové hypotézy:"
   ]
  },
  {
   "cell_type": "code",
   "execution_count": 14,
   "metadata": {},
   "outputs": [
    {
     "data": {
      "text/html": [
       "<strong>mean:</strong> 500"
      ],
      "text/latex": [
       "\\textbf{mean:} 500"
      ],
      "text/markdown": [
       "**mean:** 500"
      ],
      "text/plain": [
       "mean \n",
       " 500 "
      ]
     },
     "metadata": {},
     "output_type": "display_data"
    }
   ],
   "source": [
    "result$null.value"
   ]
  },
  {
   "cell_type": "markdown",
   "metadata": {},
   "source": [
    "variantu alternativní hypotézy:"
   ]
  },
  {
   "cell_type": "code",
   "execution_count": 15,
   "metadata": {},
   "outputs": [
    {
     "data": {
      "text/html": [
       "'less'"
      ],
      "text/latex": [
       "'less'"
      ],
      "text/markdown": [
       "'less'"
      ],
      "text/plain": [
       "[1] \"less\""
      ]
     },
     "metadata": {},
     "output_type": "display_data"
    }
   ],
   "source": [
    "result$alternative"
   ]
  },
  {
   "cell_type": "markdown",
   "metadata": {},
   "source": [
    "variantu t-testu:"
   ]
  },
  {
   "cell_type": "code",
   "execution_count": 16,
   "metadata": {},
   "outputs": [
    {
     "data": {
      "text/html": [
       "'One Sample t-test'"
      ],
      "text/latex": [
       "'One Sample t-test'"
      ],
      "text/markdown": [
       "'One Sample t-test'"
      ],
      "text/plain": [
       "[1] \"One Sample t-test\""
      ]
     },
     "metadata": {},
     "output_type": "display_data"
    }
   ],
   "source": [
    "result$method"
   ]
  },
  {
   "cell_type": "markdown",
   "metadata": {},
   "source": [
    "a název proměnné, která obsahovala data pro test:"
   ]
  },
  {
   "cell_type": "code",
   "execution_count": 17,
   "metadata": {},
   "outputs": [
    {
     "data": {
      "text/html": [
       "'mereni'"
      ],
      "text/latex": [
       "'mereni'"
      ],
      "text/markdown": [
       "'mereni'"
      ],
      "text/plain": [
       "[1] \"mereni\""
      ]
     },
     "metadata": {},
     "output_type": "display_data"
    }
   ],
   "source": [
    "result$data.name"
   ]
  },
  {
   "cell_type": "markdown",
   "metadata": {},
   "source": [
    "Většina funkcí pro statistické testování v R vrací výsledek jako podobný objekt, takže pokud potřebujete zpracovávat výsledky testování automaticky, máte to většinou v R velice snadné. V dalších kapitolách tedy už k testování budeme používat výhradně funkce k tomu určené, neboť jejich použití je zpravidle méně náchylné na chyby. \n",
    "\n",
    "Uveďme si teď ještě na závěr, jak by probíhal tento test v případě jiné alternativní hypotézy. Řekněme, že bychom se snažili dokázat, že náš stroj nedělá svou práci spolehlivě, tzn. testovat obsoustrannou alternativní hypotézu:\n",
    "\n",
    "$H_1:\\ \\mu\\ \\ne\\ \\mu_0$\n",
    "\n",
    "Snažíme se tedy dokázat, že stroj neplní lahve na požadovanou hodnotu, tedy že je buď přeplňuje nebo naopak plní pod míru. V podání funkce `t.test` bude test vypadat následovně:"
   ]
  },
  {
   "cell_type": "code",
   "execution_count": 18,
   "metadata": {},
   "outputs": [
    {
     "data": {
      "text/plain": [
       "\n",
       "\tOne Sample t-test\n",
       "\n",
       "data:  mereni\n",
       "t = -1.5205, df = 19, p-value = 0.1449\n",
       "alternative hypothesis: true mean is not equal to 500\n",
       "99 percent confidence interval:\n",
       " 475.7094 507.4316\n",
       "sample estimates:\n",
       "mean of x \n",
       " 491.5705 \n"
      ]
     },
     "metadata": {},
     "output_type": "display_data"
    }
   ],
   "source": [
    "t.test(mereni, mu = 500, alternative = \"two.sided\", conf.level = 0.99)"
   ]
  },
  {
   "cell_type": "markdown",
   "metadata": {},
   "source": [
    "Funkci `t.test` bychom mohli zavolat i bez parametru pro alternativní hypotézu. Režim \"two.sided\" je totiž výchozí nastavení:"
   ]
  },
  {
   "cell_type": "code",
   "execution_count": 19,
   "metadata": {},
   "outputs": [
    {
     "data": {
      "text/plain": [
       "\n",
       "\tOne Sample t-test\n",
       "\n",
       "data:  mereni\n",
       "t = -1.5205, df = 19, p-value = 0.1449\n",
       "alternative hypothesis: true mean is not equal to 500\n",
       "99 percent confidence interval:\n",
       " 475.7094 507.4316\n",
       "sample estimates:\n",
       "mean of x \n",
       " 491.5705 \n"
      ]
     },
     "metadata": {},
     "output_type": "display_data"
    }
   ],
   "source": [
    "t.test(mereni, mu = 500, conf.level = 0.99)"
   ]
  },
  {
   "cell_type": "markdown",
   "metadata": {},
   "source": [
    "Stejně jako 5% je výchozí hladina významnosti:"
   ]
  },
  {
   "cell_type": "code",
   "execution_count": 20,
   "metadata": {},
   "outputs": [
    {
     "data": {
      "text/plain": [
       "\n",
       "\tOne Sample t-test\n",
       "\n",
       "data:  mereni\n",
       "t = -1.5205, df = 19, p-value = 0.1449\n",
       "alternative hypothesis: true mean is not equal to 500\n",
       "95 percent confidence interval:\n",
       " 479.9667 503.1743\n",
       "sample estimates:\n",
       "mean of x \n",
       " 491.5705 \n"
      ]
     },
     "metadata": {},
     "output_type": "display_data"
    }
   ],
   "source": [
    "result <- t.test(mereni, mu = 500)\n",
    "result"
   ]
  },
  {
   "cell_type": "markdown",
   "metadata": {},
   "source": [
    "Všimněte si, že se sníženou hladinou významnosti se nám rozšířil interval spolehlivosti. Pokud bychom použili hodnotu o něco menší, než je naše p-hodnota, měli bychom dostat interval, který už hodnotu 500 ml neobsahuje:"
   ]
  },
  {
   "cell_type": "code",
   "execution_count": 21,
   "metadata": {},
   "outputs": [
    {
     "data": {
      "text/plain": [
       "\n",
       "\tOne Sample t-test\n",
       "\n",
       "data:  mereni\n",
       "t = -1.5205, df = 19, p-value = 0.1449\n",
       "alternative hypothesis: true mean is not equal to 500\n",
       "85.50377 percent confidence interval:\n",
       " 483.1432 499.9978\n",
       "sample estimates:\n",
       "mean of x \n",
       " 491.5705 \n"
      ]
     },
     "metadata": {},
     "output_type": "display_data"
    }
   ],
   "source": [
    "t.test(\n",
    "    mereni\n",
    "    , mu = 500\n",
    "    , conf.level=1-result$p.value-0.0001\n",
    ")"
   ]
  },
  {
   "cell_type": "markdown",
   "metadata": {},
   "source": [
    "Je tomu tedy skutečně tak a interval spolehlivosti jen těsně minul hodnotu 500 ml.\n",
    "\n",
    "## Dvouvýběrový t-test\n",
    "\n",
    "TODO"
   ]
  },
  {
   "cell_type": "code",
   "execution_count": null,
   "metadata": {
    "collapsed": true
   },
   "outputs": [],
   "source": []
  }
 ],
 "metadata": {
  "kernelspec": {
   "display_name": "R",
   "language": "R",
   "name": "ir"
  },
  "language_info": {
   "codemirror_mode": "r",
   "file_extension": ".r",
   "mimetype": "text/x-r-source",
   "name": "R",
   "pygments_lexer": "r",
   "version": "3.3.2"
  },
  "toc": {
   "nav_menu": {},
   "number_sections": true,
   "sideBar": true,
   "skip_h1_title": true,
   "toc_cell": true,
   "toc_position": {},
   "toc_section_display": "block",
   "toc_window_display": false
  }
 },
 "nbformat": 4,
 "nbformat_minor": 2
}
