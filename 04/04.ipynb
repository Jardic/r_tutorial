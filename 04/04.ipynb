{
 "cells": [
  {
   "cell_type": "markdown",
   "metadata": {
    "toc": "true"
   },
   "source": [
    " # Table of Contents\n",
    "<div class=\"toc\" style=\"margin-top: 1em;\"><ul class=\"toc-item\" id=\"toc-level0\"><li><span><a href=\"http://localhost:8888/notebooks/04/04.ipynb#Matice\" data-toc-modified-id=\"Matice-1\"><span class=\"toc-item-num\">1&nbsp;&nbsp;</span>Matice</a></span></li></ul></div>"
   ]
  },
  {
   "cell_type": "markdown",
   "metadata": {},
   "source": [
    "# Datové struktury v R\n",
    "\n",
    "Tato lekce se zaměřuje na to, co pravděpodobně budete potřebovat na začátku každé datové analýzy, tj. znát jaké možnosti reprezantace vašeho datového souboru vám R nabízí a jakou nejlépe zvolit.\n",
    "\n",
    "V [předchozí lekci](../03/) jsme si již představili vektory, které představují asi nejpřímočařejší cestu k reprezentaci analyzovaných dat, neboť ve statistice nejsou jednolivá měření nebo vzorky nic víc než jen pouhá řada čísel. Někdy ale budete muset načíst i data strukturovaná trochu jinak (například vzorky měřené současně na několika přístrojích). V této lekci si tedy ukážeme další struktury, které na vektorech staví ale nabízí rozšířenou funkcionalitu pro pohodlnější práci s různými typy dat. \n",
    "\n",
    "## Matice\n",
    "\n",
    "S maticemi jste se určitě už setkali v matematice, takže víte, že to jsou vlastně vektory naskládané pod sebe. V R si můžete matice představit jako vektor, který má nevíc ještě dva parametry, kterými jsou počet řádek a počet sloupců. Že je tomu skutečně tak ukazuje následující kód:"
   ]
  },
  {
   "cell_type": "code",
   "execution_count": 1,
   "metadata": {},
   "outputs": [
    {
     "data": {
      "text/html": [
       "'matrix'"
      ],
      "text/latex": [
       "'matrix'"
      ],
      "text/markdown": [
       "'matrix'"
      ],
      "text/plain": [
       "[1] \"matrix\""
      ]
     },
     "metadata": {},
     "output_type": "display_data"
    },
    {
     "data": {
      "text/html": [
       "<table>\n",
       "<tbody>\n",
       "\t<tr><td>1 </td><td>5 </td><td> 9</td></tr>\n",
       "\t<tr><td>2 </td><td>6 </td><td>10</td></tr>\n",
       "\t<tr><td>3 </td><td>7 </td><td>11</td></tr>\n",
       "\t<tr><td>4 </td><td>8 </td><td>12</td></tr>\n",
       "</tbody>\n",
       "</table>\n"
      ],
      "text/latex": [
       "\\begin{tabular}{lll}\n",
       "\t 1  & 5  &  9\\\\\n",
       "\t 2  & 6  & 10\\\\\n",
       "\t 3  & 7  & 11\\\\\n",
       "\t 4  & 8  & 12\\\\\n",
       "\\end{tabular}\n"
      ],
      "text/markdown": [
       "\n",
       "| 1  | 5  |  9 | \n",
       "| 2  | 6  | 10 | \n",
       "| 3  | 7  | 11 | \n",
       "| 4  | 8  | 12 | \n",
       "\n",
       "\n"
      ],
      "text/plain": [
       "     [,1] [,2] [,3]\n",
       "[1,] 1    5     9  \n",
       "[2,] 2    6    10  \n",
       "[3,] 3    7    11  \n",
       "[4,] 4    8    12  "
      ]
     },
     "metadata": {},
     "output_type": "display_data"
    },
    {
     "data": {
      "text/html": [
       "<strong>$dim</strong> = <ol class=list-inline>\n",
       "\t<li>4</li>\n",
       "\t<li>3</li>\n",
       "</ol>\n"
      ],
      "text/latex": [
       "\\textbf{\\$dim} = \\begin{enumerate*}\n",
       "\\item 4\n",
       "\\item 3\n",
       "\\end{enumerate*}\n"
      ],
      "text/markdown": [
       "**$dim** = 1. 4\n",
       "2. 3\n",
       "\n",
       "\n"
      ],
      "text/plain": [
       "$dim\n",
       "[1] 4 3\n"
      ]
     },
     "metadata": {},
     "output_type": "display_data"
    }
   ],
   "source": [
    "x <- 1:12\n",
    "dim(x) <- c(4, 3) # převedení vektoru na matici\n",
    "class(x)\n",
    "x\n",
    "attributes(x) # některé objekty v R mohou mít atributy, co přesně"
   ]
  },
  {
   "cell_type": "markdown",
   "metadata": {},
   "source": [
    "Toto je sice netradiční způsob vytvoření matice, ale ukazuje nám, co vlastně matice pro R znamená. V tomto případě je třeba vždy zadat počet řádků i počet sloupců, protože vlastně nastavujeme přímo konkrétní atribut výsledného vektoru. Použití funkce `matrix` už takové omezení nemá:"
   ]
  },
  {
   "cell_type": "code",
   "execution_count": 2,
   "metadata": {},
   "outputs": [
    {
     "data": {
      "text/html": [
       "<ol class=list-inline>\n",
       "\t<li>4</li>\n",
       "\t<li>3</li>\n",
       "</ol>\n"
      ],
      "text/latex": [
       "\\begin{enumerate*}\n",
       "\\item 4\n",
       "\\item 3\n",
       "\\end{enumerate*}\n"
      ],
      "text/markdown": [
       "1. 4\n",
       "2. 3\n",
       "\n",
       "\n"
      ],
      "text/plain": [
       "[1] 4 3"
      ]
     },
     "metadata": {},
     "output_type": "display_data"
    },
    {
     "data": {
      "text/html": [
       "'matrix'"
      ],
      "text/latex": [
       "'matrix'"
      ],
      "text/markdown": [
       "'matrix'"
      ],
      "text/plain": [
       "[1] \"matrix\""
      ]
     },
     "metadata": {},
     "output_type": "display_data"
    },
    {
     "data": {
      "text/html": [
       "<table>\n",
       "<tbody>\n",
       "\t<tr><td>1 </td><td>5 </td><td> 9</td></tr>\n",
       "\t<tr><td>2 </td><td>6 </td><td>10</td></tr>\n",
       "\t<tr><td>3 </td><td>7 </td><td>11</td></tr>\n",
       "\t<tr><td>4 </td><td>8 </td><td>12</td></tr>\n",
       "</tbody>\n",
       "</table>\n"
      ],
      "text/latex": [
       "\\begin{tabular}{lll}\n",
       "\t 1  & 5  &  9\\\\\n",
       "\t 2  & 6  & 10\\\\\n",
       "\t 3  & 7  & 11\\\\\n",
       "\t 4  & 8  & 12\\\\\n",
       "\\end{tabular}\n"
      ],
      "text/markdown": [
       "\n",
       "| 1  | 5  |  9 | \n",
       "| 2  | 6  | 10 | \n",
       "| 3  | 7  | 11 | \n",
       "| 4  | 8  | 12 | \n",
       "\n",
       "\n"
      ],
      "text/plain": [
       "     [,1] [,2] [,3]\n",
       "[1,] 1    5     9  \n",
       "[2,] 2    6    10  \n",
       "[3,] 3    7    11  \n",
       "[4,] 4    8    12  "
      ]
     },
     "metadata": {},
     "output_type": "display_data"
    },
    {
     "data": {
      "text/html": [
       "<strong>$dim</strong> = <ol class=list-inline>\n",
       "\t<li>4</li>\n",
       "\t<li>3</li>\n",
       "</ol>\n"
      ],
      "text/latex": [
       "\\textbf{\\$dim} = \\begin{enumerate*}\n",
       "\\item 4\n",
       "\\item 3\n",
       "\\end{enumerate*}\n"
      ],
      "text/markdown": [
       "**$dim** = 1. 4\n",
       "2. 3\n",
       "\n",
       "\n"
      ],
      "text/plain": [
       "$dim\n",
       "[1] 4 3\n"
      ]
     },
     "metadata": {},
     "output_type": "display_data"
    }
   ],
   "source": [
    "m_x <- matrix(x, nrow = 4)\n",
    "dim(m_x)\n",
    "class(m_x)\n",
    "m_x\n",
    "attributes(m_x)"
   ]
  },
  {
   "cell_type": "markdown",
   "metadata": {},
   "source": [
    "Tento postup je tedy čitelnější a o něco jednodušší, neboť rozdělení na sloupce již R vyřeší za vás. Stejného výsledku byste docíli i takto:"
   ]
  },
  {
   "cell_type": "code",
   "execution_count": 3,
   "metadata": {},
   "outputs": [
    {
     "name": "stdout",
     "output_type": "stream",
     "text": [
      "     [,1] [,2] [,3]\n",
      "[1,]    1    5    9\n",
      "[2,]    2    6   10\n",
      "[3,]    3    7   11\n",
      "[4,]    4    8   12\n",
      "     [,1] [,2] [,3]\n",
      "[1,]    1    5    9\n",
      "[2,]    2    6   10\n",
      "[3,]    3    7   11\n",
      "[4,]    4    8   12\n"
     ]
    }
   ],
   "source": [
    "m_x <- matrix(x, ncol = 3)\n",
    "print(m_x)\n",
    "m_x <- matrix(x, nrow = 4, ncol=3)\n",
    "print(m_x) "
   ]
  },
  {
   "cell_type": "markdown",
   "metadata": {},
   "source": [
    "Je třeba si též uvědomit, že rozdíl mezi použitím postupu s funkcí `matrix` oproti funkci `dim` je též v tom, že pomocí funkce `dim` je modifikován stávající objekt, ale funkce matrix vrací objekt nový. Při použití funkce `dim` tedy nedochází ke kopírování, což znamená rychlejší vykonávání, avšak za ztráty struktury původního objektu.\n",
    "\n",
    "Jak jste si asi všimli, při vytváření matice z vektoru se postupuje podle sloupců nikoliv řádků. Pokud to chcete naopak můžete nastavit parametr `byrow` na `TRUE`:"
   ]
  },
  {
   "cell_type": "code",
   "execution_count": 4,
   "metadata": {},
   "outputs": [
    {
     "name": "stdout",
     "output_type": "stream",
     "text": [
      "     [,1] [,2] [,3]\n",
      "[1,]    1    2    3\n",
      "[2,]    4    5    6\n",
      "[3,]    7    8    9\n",
      "[4,]   10   11   12\n"
     ]
    }
   ],
   "source": [
    "m_x <- matrix(x, ncol = 3, byrow = T)\n",
    "print(m_x)"
   ]
  },
  {
   "cell_type": "markdown",
   "metadata": {},
   "source": [
    "V příkladech nahoře též vidíte, že funkce `print` vám kromě samotné matice ukáže navíc i další informace. Ty se týkají souřadnic (indexů) jednotlivých prvků. Je to v podstatě i návod, jak k jednotlivým prvkům přistupovat:"
   ]
  },
  {
   "cell_type": "code",
   "execution_count": 5,
   "metadata": {},
   "outputs": [
    {
     "data": {
      "text/html": [
       "1"
      ],
      "text/latex": [
       "1"
      ],
      "text/markdown": [
       "1"
      ],
      "text/plain": [
       "[1] 1"
      ]
     },
     "metadata": {},
     "output_type": "display_data"
    },
    {
     "data": {
      "text/html": [
       "5"
      ],
      "text/latex": [
       "5"
      ],
      "text/markdown": [
       "5"
      ],
      "text/plain": [
       "[1] 5"
      ]
     },
     "metadata": {},
     "output_type": "display_data"
    },
    {
     "data": {
      "text/html": [
       "9"
      ],
      "text/latex": [
       "9"
      ],
      "text/markdown": [
       "9"
      ],
      "text/plain": [
       "[1] 9"
      ]
     },
     "metadata": {},
     "output_type": "display_data"
    },
    {
     "data": {
      "text/html": [
       "12"
      ],
      "text/latex": [
       "12"
      ],
      "text/markdown": [
       "12"
      ],
      "text/plain": [
       "[1] 12"
      ]
     },
     "metadata": {},
     "output_type": "display_data"
    }
   ],
   "source": [
    "m_x[1,1]\n",
    "m_x[2,2]\n",
    "m_x[3,3]\n",
    "m_x[4,3]"
   ]
  },
  {
   "cell_type": "markdown",
   "metadata": {},
   "source": [
    "Pokud jeden z indexů vynecháte, dostanete vektor reprezentující celý řádek nebo sloupec:"
   ]
  },
  {
   "cell_type": "code",
   "execution_count": 6,
   "metadata": {},
   "outputs": [
    {
     "data": {
      "text/html": [
       "<ol class=list-inline>\n",
       "\t<li>1</li>\n",
       "\t<li>4</li>\n",
       "\t<li>7</li>\n",
       "\t<li>10</li>\n",
       "</ol>\n"
      ],
      "text/latex": [
       "\\begin{enumerate*}\n",
       "\\item 1\n",
       "\\item 4\n",
       "\\item 7\n",
       "\\item 10\n",
       "\\end{enumerate*}\n"
      ],
      "text/markdown": [
       "1. 1\n",
       "2. 4\n",
       "3. 7\n",
       "4. 10\n",
       "\n",
       "\n"
      ],
      "text/plain": [
       "[1]  1  4  7 10"
      ]
     },
     "metadata": {},
     "output_type": "display_data"
    },
    {
     "data": {
      "text/html": [
       "<ol class=list-inline>\n",
       "\t<li>1</li>\n",
       "\t<li>2</li>\n",
       "\t<li>3</li>\n",
       "</ol>\n"
      ],
      "text/latex": [
       "\\begin{enumerate*}\n",
       "\\item 1\n",
       "\\item 2\n",
       "\\item 3\n",
       "\\end{enumerate*}\n"
      ],
      "text/markdown": [
       "1. 1\n",
       "2. 2\n",
       "3. 3\n",
       "\n",
       "\n"
      ],
      "text/plain": [
       "[1] 1 2 3"
      ]
     },
     "metadata": {},
     "output_type": "display_data"
    }
   ],
   "source": [
    "m_x[,1]\n",
    "m_x[1,]"
   ]
  },
  {
   "cell_type": "markdown",
   "metadata": {},
   "source": [
    "Jako indexy můžete samozřejmě používat i vektory:"
   ]
  },
  {
   "cell_type": "code",
   "execution_count": 7,
   "metadata": {},
   "outputs": [
    {
     "name": "stdout",
     "output_type": "stream",
     "text": [
      "     [,1] [,2]\n",
      "[1,]    8    9\n",
      "[2,]   11   12\n",
      "     [,1] [,2]\n",
      "[1,]    8    9\n",
      "[2,]   11   12\n"
     ]
    }
   ],
   "source": [
    "print(\n",
    "    m_x[c(3, 4), 2:3] # numerické\n",
    ")\n",
    "print(\n",
    "    m_x[c(F, F, T, T), c(F, T, T)] # nebo logické\n",
    ")"
   ]
  },
  {
   "cell_type": "markdown",
   "metadata": {},
   "source": [
    "nebo dokonce matice samotné:"
   ]
  },
  {
   "cell_type": "code",
   "execution_count": 8,
   "metadata": {},
   "outputs": [
    {
     "name": "stdout",
     "output_type": "stream",
     "text": [
      "     [,1] [,2] [,3]\n",
      "[1,]    1    2    3\n",
      "[2,]    4    5    6\n",
      "[3,]    7    8    9\n",
      "[4,]   10   11   12\n",
      "      [,1]  [,2]  [,3]\n",
      "[1,]  TRUE  TRUE  TRUE\n",
      "[2,] FALSE FALSE FALSE\n",
      "[3,]  TRUE  TRUE  TRUE\n",
      "[4,] FALSE FALSE FALSE\n"
     ]
    },
    {
     "data": {
      "text/html": [
       "<ol class=list-inline>\n",
       "\t<li>1</li>\n",
       "\t<li>7</li>\n",
       "\t<li>2</li>\n",
       "\t<li>8</li>\n",
       "\t<li>3</li>\n",
       "\t<li>9</li>\n",
       "</ol>\n"
      ],
      "text/latex": [
       "\\begin{enumerate*}\n",
       "\\item 1\n",
       "\\item 7\n",
       "\\item 2\n",
       "\\item 8\n",
       "\\item 3\n",
       "\\item 9\n",
       "\\end{enumerate*}\n"
      ],
      "text/markdown": [
       "1. 1\n",
       "2. 7\n",
       "3. 2\n",
       "4. 8\n",
       "5. 3\n",
       "6. 9\n",
       "\n",
       "\n"
      ],
      "text/plain": [
       "[1] 1 7 2 8 3 9"
      ]
     },
     "metadata": {},
     "output_type": "display_data"
    }
   ],
   "source": [
    "print(m_x)\n",
    "maska <- matrix(\n",
    "    c(\n",
    "        T, T, T,\n",
    "        F, F, F,\n",
    "        T, T, T,\n",
    "        F, F, F\n",
    "    )\n",
    "    , nrow = 4\n",
    "    , byrow = T\n",
    ")\n",
    "print(maska)\n",
    "m_x[maska]"
   ]
  },
  {
   "cell_type": "markdown",
   "metadata": {},
   "source": [
    "Všimněte si, že zde je výsledkem vektor čísel, která odpovídají vybraným hodnotám v naší masce a to opět podle sloupců.\n",
    "\n",
    "Do matic lze samozřejmě pomocí indexů i zapisovat:"
   ]
  },
  {
   "cell_type": "code",
   "execution_count": 9,
   "metadata": {},
   "outputs": [
    {
     "name": "stdout",
     "output_type": "stream",
     "text": [
      "     [,1] [,2] [,3]\n",
      "[1,]    1    2    3\n",
      "[2,]    4    5    6\n",
      "[3,]    7    8    9\n",
      "[4,]   10   11   12\n",
      "     [,1] [,2] [,3]\n",
      "[1,]    1    2    3\n",
      "[2,]    2    5    6\n",
      "[3,]    3    8    9\n",
      "[4,]    4   11   12\n",
      "     [,1] [,2] [,3]\n",
      "[1,]    1    2    3\n",
      "[2,]    2    5    6\n",
      "[3,]    1    8    9\n",
      "[4,]    2   11   12\n"
     ]
    }
   ],
   "source": [
    "print(m_x)\n",
    "m_x[,1] <- c(1, 2, 3, 4) # nastav obsah prvniho sloupce na daný vektor\n",
    "print(m_x)\n",
    "m_x[,1] <- c(1, 2)\n",
    "print(m_x) # i zde funguje recyklace hodnot vektoru"
   ]
  },
  {
   "cell_type": "code",
   "execution_count": 10,
   "metadata": {},
   "outputs": [
    {
     "name": "stdout",
     "output_type": "stream",
     "text": [
      "     [,1] [,2] [,3]\n",
      "[1,]    1    2    3\n",
      "[2,]    2    5    6\n",
      "[3,]    1    0    0\n",
      "[4,]    2    0    0\n",
      "     [,1] [,2] [,3]\n",
      "[1,] \"1\"  \"2\"  \"3\" \n",
      "[2,] \"2\"  \"5\"  \"6\" \n",
      "[3,] \"1\"  \"a\"  \"c\" \n",
      "[4,] \"2\"  \"b\"  \"d\" \n"
     ]
    }
   ],
   "source": [
    "m_x[c(3, 4), 2:3] <- matrix(numeric(4), nrow = 2)\n",
    "print(m_x)\n",
    "m_x[c(3, 4), 2:3] <- c(\"a\", \"b\", \"c\", \"d\") # je možné rovnoou i zapsat vektor správné délky\n",
    "print(m_x)"
   ]
  },
  {
   "cell_type": "markdown",
   "metadata": {},
   "source": [
    "Všimněte si, že i matice mohou být pouze jednoho typu, stejně jako vektory. Po přiřazení vektoru dat jiného typu (zde `character`) se všechny prvky převedou na největší společný typ, tedy opět `character`.\n",
    "\n",
    "Stejně jako s vektory je možné i s maticemi provádět různé operace:"
   ]
  },
  {
   "cell_type": "code",
   "execution_count": 11,
   "metadata": {},
   "outputs": [
    {
     "data": {
      "text/html": [
       "<table>\n",
       "<tbody>\n",
       "\t<tr><td>1</td><td>2</td></tr>\n",
       "\t<tr><td>3</td><td>4</td></tr>\n",
       "</tbody>\n",
       "</table>\n"
      ],
      "text/latex": [
       "\\begin{tabular}{ll}\n",
       "\t 1 & 2\\\\\n",
       "\t 3 & 4\\\\\n",
       "\\end{tabular}\n"
      ],
      "text/markdown": [
       "\n",
       "| 1 | 2 | \n",
       "| 3 | 4 | \n",
       "\n",
       "\n"
      ],
      "text/plain": [
       "     [,1] [,2]\n",
       "[1,] 1    2   \n",
       "[2,] 3    4   "
      ]
     },
     "metadata": {},
     "output_type": "display_data"
    },
    {
     "name": "stdout",
     "output_type": "stream",
     "text": [
      "     [,1] [,2]\n",
      "[1,]    2    4\n",
      "[2,]    6    8\n",
      "      [,1]  [,2]\n",
      "[1,] FALSE FALSE\n",
      "[2,]  TRUE  TRUE\n",
      "     [,1] [,2]\n",
      "[1,]    2    4\n",
      "[2,]    6    8\n",
      "     [,1] [,2]\n",
      "[1,]    7   10\n",
      "[2,]   15   22\n"
     ]
    }
   ],
   "source": [
    "m_y <- matrix(1:4, nrow = 2, byrow = T)\n",
    "m_y\n",
    "\n",
    "print(\n",
    "    m_y * 2\n",
    ")\n",
    "print(\n",
    "    m_y > 2\n",
    ")\n",
    "\n",
    "# maticové operace\n",
    "print(\n",
    "    m_y + m_y\n",
    ")\n",
    "print(\n",
    "    m_y %*% m_y # speciální operátor pro maticové násobení\n",
    ")"
   ]
  },
  {
   "cell_type": "markdown",
   "metadata": {},
   "source": [
    "TODO: napsat k cemu vsemu jsou matice dobre"
   ]
  },
  {
   "cell_type": "code",
   "execution_count": null,
   "metadata": {
    "collapsed": true
   },
   "outputs": [],
   "source": []
  }
 ],
 "metadata": {
  "kernelspec": {
   "display_name": "R",
   "language": "R",
   "name": "ir"
  },
  "language_info": {
   "codemirror_mode": "r",
   "file_extension": ".r",
   "mimetype": "text/x-r-source",
   "name": "R",
   "pygments_lexer": "r",
   "version": "3.3.2"
  },
  "toc": {
   "nav_menu": {},
   "number_sections": true,
   "sideBar": true,
   "skip_h1_title": true,
   "toc_cell": true,
   "toc_position": {},
   "toc_section_display": "block",
   "toc_window_display": false
  }
 },
 "nbformat": 4,
 "nbformat_minor": 2
}
