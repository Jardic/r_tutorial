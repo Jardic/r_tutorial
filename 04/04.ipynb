{
 "cells": [
  {
   "cell_type": "markdown",
   "metadata": {
    "toc": "true"
   },
   "source": [
    " # Table of Contents\n",
    "<div class=\"toc\" style=\"margin-top: 1em;\"><ul class=\"toc-item\" id=\"toc-level0\"><li><span><a href=\"http://localhost:8888/notebooks/04/04.ipynb#Matice-a-další-datové-typy\" data-toc-modified-id=\"Matice-a-další-datové-typy-1\"><span class=\"toc-item-num\">1&nbsp;&nbsp;</span>Matice a další datové typy</a></span></li></ul></div>"
   ]
  },
  {
   "cell_type": "markdown",
   "metadata": {},
   "source": [
    "# Popisná statistika a základy práce s daty\n",
    "\n",
    "Tato lekce se zaměřuje na první kroky každé datové analýzy, tj. načtení datového souboru, jeho reprezentaci v R a jednoduchou analýzu pomocí popisné statistiky a základních vizualizačních nástrojů.\n",
    "\n",
    "## Matice a další datové typy\n",
    "\n",
    "TODO"
   ]
  },
  {
   "cell_type": "code",
   "execution_count": null,
   "metadata": {
    "collapsed": true
   },
   "outputs": [],
   "source": [
    "https://en.wikibooks.org/wiki/R_Programming/Data_types"
   ]
  }
 ],
 "metadata": {
  "kernelspec": {
   "display_name": "R",
   "language": "R",
   "name": "ir"
  },
  "language_info": {
   "codemirror_mode": "r",
   "file_extension": ".r",
   "mimetype": "text/x-r-source",
   "name": "R",
   "pygments_lexer": "r",
   "version": "3.3.2"
  },
  "toc": {
   "nav_menu": {},
   "number_sections": true,
   "sideBar": true,
   "skip_h1_title": true,
   "toc_cell": true,
   "toc_position": {},
   "toc_section_display": "block",
   "toc_window_display": false
  }
 },
 "nbformat": 4,
 "nbformat_minor": 2
}
