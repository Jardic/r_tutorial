{
 "cells": [
  {
   "cell_type": "markdown",
   "metadata": {
    "toc": "true"
   },
   "source": [
    " # Table of Contents\n",
    "<div class=\"toc\" style=\"margin-top: 1em;\"><ul class=\"toc-item\" id=\"toc-level0\"><li><span><a href=\"http://localhost:8888/notebooks/04/04.ipynb#Matice-(matrix)\" data-toc-modified-id=\"Matice-(matrix)-1\"><span class=\"toc-item-num\">1&nbsp;&nbsp;</span>Matice (matrix)</a></span><ul class=\"toc-item\"><li><span><a href=\"http://localhost:8888/notebooks/04/04.ipynb#Použití-matic\" data-toc-modified-id=\"Použití-matic-1.1\"><span class=\"toc-item-num\">1.1&nbsp;&nbsp;</span>Použití matic</a></span></li></ul></li><li><span><a href=\"http://localhost:8888/notebooks/04/04.ipynb#Pole-(array)\" data-toc-modified-id=\"Pole-(array)-2\"><span class=\"toc-item-num\">2&nbsp;&nbsp;</span>Pole (array)</a></span><ul class=\"toc-item\"><li><span><a href=\"http://localhost:8888/notebooks/04/04.ipynb#Použití-polí\" data-toc-modified-id=\"Použití-polí-2.1\"><span class=\"toc-item-num\">2.1&nbsp;&nbsp;</span>Použití polí</a></span></li></ul></li><li><span><a href=\"http://localhost:8888/notebooks/04/04.ipynb#Seznam-(list)\" data-toc-modified-id=\"Seznam-(list)-3\"><span class=\"toc-item-num\">3&nbsp;&nbsp;</span>Seznam (list)</a></span><ul class=\"toc-item\"><li><span><a href=\"http://localhost:8888/notebooks/04/04.ipynb#Použití-seznamů\" data-toc-modified-id=\"Použití-seznamů-3.1\"><span class=\"toc-item-num\">3.1&nbsp;&nbsp;</span>Použití seznamů</a></span></li></ul></li></ul></div>"
   ]
  },
  {
   "cell_type": "markdown",
   "metadata": {},
   "source": [
    "# Datové struktury v R\n",
    "\n",
    "Tato lekce se zaměřuje na to, co pravděpodobně budete potřebovat na začátku každé datové analýzy, tj. znát jaké možnosti reprezantace vašeho datového souboru vám R nabízí a jakou nejlépe zvolit.\n",
    "\n",
    "V [předchozí lekci](../03/) jsme si již představili vektory, které představují asi nejpřímočařejší cestu k reprezentaci analyzovaných dat, neboť ve statistice nejsou jednolivá měření nebo vzorky nic víc než jen pouhá řada čísel. Někdy ale budete muset načíst i data strukturovaná trochu jinak (například vzorky měřené současně na několika přístrojích). V této lekci si tedy ukážeme další struktury, které na vektorech staví ale nabízí rozšířenou funkcionalitu pro pohodlnější práci s různými typy dat. \n",
    "\n",
    "## Matice (matrix)\n",
    "\n",
    "S maticemi jste se určitě už setkali v matematice, takže víte, že to jsou vlastně vektory naskládané pod sebe. V R si můžete matice představit jako vektor, který má nevíc ještě dva atributy, kterými jsou počet řádek a počet sloupců. Že je tomu skutečně tak ukazuje následující kód, který pro přiřazení použíje funkci `dim`, která zajišťuje přístup k oběma atributům:"
   ]
  },
  {
   "cell_type": "code",
   "execution_count": 1,
   "metadata": {},
   "outputs": [
    {
     "data": {
      "text/html": [
       "'matrix'"
      ],
      "text/latex": [
       "'matrix'"
      ],
      "text/markdown": [
       "'matrix'"
      ],
      "text/plain": [
       "[1] \"matrix\""
      ]
     },
     "metadata": {},
     "output_type": "display_data"
    },
    {
     "data": {
      "text/html": [
       "<table>\n",
       "<tbody>\n",
       "\t<tr><td>1 </td><td>5 </td><td> 9</td></tr>\n",
       "\t<tr><td>2 </td><td>6 </td><td>10</td></tr>\n",
       "\t<tr><td>3 </td><td>7 </td><td>11</td></tr>\n",
       "\t<tr><td>4 </td><td>8 </td><td>12</td></tr>\n",
       "</tbody>\n",
       "</table>\n"
      ],
      "text/latex": [
       "\\begin{tabular}{lll}\n",
       "\t 1  & 5  &  9\\\\\n",
       "\t 2  & 6  & 10\\\\\n",
       "\t 3  & 7  & 11\\\\\n",
       "\t 4  & 8  & 12\\\\\n",
       "\\end{tabular}\n"
      ],
      "text/markdown": [
       "\n",
       "| 1  | 5  |  9 | \n",
       "| 2  | 6  | 10 | \n",
       "| 3  | 7  | 11 | \n",
       "| 4  | 8  | 12 | \n",
       "\n",
       "\n"
      ],
      "text/plain": [
       "     [,1] [,2] [,3]\n",
       "[1,] 1    5     9  \n",
       "[2,] 2    6    10  \n",
       "[3,] 3    7    11  \n",
       "[4,] 4    8    12  "
      ]
     },
     "metadata": {},
     "output_type": "display_data"
    },
    {
     "data": {
      "text/html": [
       "<strong>$dim</strong> = <ol class=list-inline>\n",
       "\t<li>4</li>\n",
       "\t<li>3</li>\n",
       "</ol>\n"
      ],
      "text/latex": [
       "\\textbf{\\$dim} = \\begin{enumerate*}\n",
       "\\item 4\n",
       "\\item 3\n",
       "\\end{enumerate*}\n"
      ],
      "text/markdown": [
       "**$dim** = 1. 4\n",
       "2. 3\n",
       "\n",
       "\n"
      ],
      "text/plain": [
       "$dim\n",
       "[1] 4 3\n"
      ]
     },
     "metadata": {},
     "output_type": "display_data"
    },
    {
     "data": {
      "text/html": [
       "<ol class=list-inline>\n",
       "\t<li>4</li>\n",
       "\t<li>3</li>\n",
       "</ol>\n"
      ],
      "text/latex": [
       "\\begin{enumerate*}\n",
       "\\item 4\n",
       "\\item 3\n",
       "\\end{enumerate*}\n"
      ],
      "text/markdown": [
       "1. 4\n",
       "2. 3\n",
       "\n",
       "\n"
      ],
      "text/plain": [
       "[1] 4 3"
      ]
     },
     "metadata": {},
     "output_type": "display_data"
    },
    {
     "data": {
      "text/html": [
       "4"
      ],
      "text/latex": [
       "4"
      ],
      "text/markdown": [
       "4"
      ],
      "text/plain": [
       "[1] 4"
      ]
     },
     "metadata": {},
     "output_type": "display_data"
    },
    {
     "data": {
      "text/html": [
       "3"
      ],
      "text/latex": [
       "3"
      ],
      "text/markdown": [
       "3"
      ],
      "text/plain": [
       "[1] 3"
      ]
     },
     "metadata": {},
     "output_type": "display_data"
    }
   ],
   "source": [
    "x <- 1:12\n",
    "dim(x) <- c(4, 3) # převedení vektoru na matici\n",
    "\n",
    "class(x)\n",
    "x\n",
    "attributes(x) # některé objekty v R mohou mít atributy, co přesně\n",
    "dim(x)\n",
    "nrow(x) # počet řádek\n",
    "ncol(x) # počet sloupců"
   ]
  },
  {
   "cell_type": "markdown",
   "metadata": {},
   "source": [
    "Toto je sice netradiční způsob vytvoření matice, ale ukazuje nám, co vlastně matice pro R znamená. V tomto případě je třeba vždy zadat počet řádků i počet sloupců, protože vlastně nastavujeme přímo konkrétní atribut výsledného vektoru. Použití funkce `matrix` už takové omezení nemá:"
   ]
  },
  {
   "cell_type": "code",
   "execution_count": 2,
   "metadata": {},
   "outputs": [
    {
     "data": {
      "text/html": [
       "<ol class=list-inline>\n",
       "\t<li>4</li>\n",
       "\t<li>3</li>\n",
       "</ol>\n"
      ],
      "text/latex": [
       "\\begin{enumerate*}\n",
       "\\item 4\n",
       "\\item 3\n",
       "\\end{enumerate*}\n"
      ],
      "text/markdown": [
       "1. 4\n",
       "2. 3\n",
       "\n",
       "\n"
      ],
      "text/plain": [
       "[1] 4 3"
      ]
     },
     "metadata": {},
     "output_type": "display_data"
    },
    {
     "data": {
      "text/html": [
       "'matrix'"
      ],
      "text/latex": [
       "'matrix'"
      ],
      "text/markdown": [
       "'matrix'"
      ],
      "text/plain": [
       "[1] \"matrix\""
      ]
     },
     "metadata": {},
     "output_type": "display_data"
    },
    {
     "data": {
      "text/html": [
       "<table>\n",
       "<tbody>\n",
       "\t<tr><td>1 </td><td>5 </td><td> 9</td></tr>\n",
       "\t<tr><td>2 </td><td>6 </td><td>10</td></tr>\n",
       "\t<tr><td>3 </td><td>7 </td><td>11</td></tr>\n",
       "\t<tr><td>4 </td><td>8 </td><td>12</td></tr>\n",
       "</tbody>\n",
       "</table>\n"
      ],
      "text/latex": [
       "\\begin{tabular}{lll}\n",
       "\t 1  & 5  &  9\\\\\n",
       "\t 2  & 6  & 10\\\\\n",
       "\t 3  & 7  & 11\\\\\n",
       "\t 4  & 8  & 12\\\\\n",
       "\\end{tabular}\n"
      ],
      "text/markdown": [
       "\n",
       "| 1  | 5  |  9 | \n",
       "| 2  | 6  | 10 | \n",
       "| 3  | 7  | 11 | \n",
       "| 4  | 8  | 12 | \n",
       "\n",
       "\n"
      ],
      "text/plain": [
       "     [,1] [,2] [,3]\n",
       "[1,] 1    5     9  \n",
       "[2,] 2    6    10  \n",
       "[3,] 3    7    11  \n",
       "[4,] 4    8    12  "
      ]
     },
     "metadata": {},
     "output_type": "display_data"
    },
    {
     "data": {
      "text/html": [
       "<strong>$dim</strong> = <ol class=list-inline>\n",
       "\t<li>4</li>\n",
       "\t<li>3</li>\n",
       "</ol>\n"
      ],
      "text/latex": [
       "\\textbf{\\$dim} = \\begin{enumerate*}\n",
       "\\item 4\n",
       "\\item 3\n",
       "\\end{enumerate*}\n"
      ],
      "text/markdown": [
       "**$dim** = 1. 4\n",
       "2. 3\n",
       "\n",
       "\n"
      ],
      "text/plain": [
       "$dim\n",
       "[1] 4 3\n"
      ]
     },
     "metadata": {},
     "output_type": "display_data"
    }
   ],
   "source": [
    "m_x <- matrix(x, nrow = 4)\n",
    "dim(m_x)\n",
    "class(m_x)\n",
    "m_x\n",
    "attributes(m_x)"
   ]
  },
  {
   "cell_type": "markdown",
   "metadata": {},
   "source": [
    "Tento postup je tedy čitelnější a o něco jednodušší, neboť rozdělení na sloupce již R vyřeší za vás. Stejného výsledku byste docíli i takto:"
   ]
  },
  {
   "cell_type": "code",
   "execution_count": 3,
   "metadata": {},
   "outputs": [
    {
     "name": "stdout",
     "output_type": "stream",
     "text": [
      "     [,1] [,2] [,3]\n",
      "[1,]    1    5    9\n",
      "[2,]    2    6   10\n",
      "[3,]    3    7   11\n",
      "[4,]    4    8   12\n",
      "     [,1] [,2] [,3]\n",
      "[1,]    1    5    9\n",
      "[2,]    2    6   10\n",
      "[3,]    3    7   11\n",
      "[4,]    4    8   12\n"
     ]
    }
   ],
   "source": [
    "m_x <- matrix(x, ncol = 3)\n",
    "print(m_x)\n",
    "m_x <- matrix(x, nrow = 4, ncol=3)\n",
    "print(m_x)"
   ]
  },
  {
   "cell_type": "markdown",
   "metadata": {},
   "source": [
    "Je třeba si též uvědomit, že rozdíl mezi použitím postupu s funkcí `matrix` oproti funkci `dim` je i v tom, že pomocí funkce `dim` je modifikován stávající objekt, ale funkce matrix vrací objekt nový. Při použití funkce `dim` tedy nedochází ke kopírování, což znamená rychlejší vykonávání, avšak za ztráty struktury původního objektu.\n",
    "\n",
    "Jak jste si asi všimli, při vytváření matice z vektoru se postupuje podle sloupců nikoliv řádků. Pokud to chcete naopak můžete nastavit parametr `byrow` na `TRUE`:"
   ]
  },
  {
   "cell_type": "code",
   "execution_count": 4,
   "metadata": {},
   "outputs": [
    {
     "data": {
      "text/html": [
       "<table>\n",
       "<tbody>\n",
       "\t<tr><td> 1</td><td> 2</td><td> 3</td></tr>\n",
       "\t<tr><td> 4</td><td> 5</td><td> 6</td></tr>\n",
       "\t<tr><td> 7</td><td> 8</td><td> 9</td></tr>\n",
       "\t<tr><td>10</td><td>11</td><td>12</td></tr>\n",
       "</tbody>\n",
       "</table>\n"
      ],
      "text/latex": [
       "\\begin{tabular}{lll}\n",
       "\t  1 &  2 &  3\\\\\n",
       "\t  4 &  5 &  6\\\\\n",
       "\t  7 &  8 &  9\\\\\n",
       "\t 10 & 11 & 12\\\\\n",
       "\\end{tabular}\n"
      ],
      "text/markdown": [
       "\n",
       "|  1 |  2 |  3 | \n",
       "|  4 |  5 |  6 | \n",
       "|  7 |  8 |  9 | \n",
       "| 10 | 11 | 12 | \n",
       "\n",
       "\n"
      ],
      "text/plain": [
       "     [,1] [,2] [,3]\n",
       "[1,]  1    2    3  \n",
       "[2,]  4    5    6  \n",
       "[3,]  7    8    9  \n",
       "[4,] 10   11   12  "
      ]
     },
     "metadata": {},
     "output_type": "display_data"
    }
   ],
   "source": [
    "m_x <- matrix(x, ncol = 3, byrow = T)\n",
    "m_x"
   ]
  },
  {
   "cell_type": "markdown",
   "metadata": {},
   "source": [
    "Matice lze vytvářet i přímo z vektorů pomocí funkce `as.matrix`. Výsledkem je pak jednorozměrná matice:"
   ]
  },
  {
   "cell_type": "code",
   "execution_count": 5,
   "metadata": {},
   "outputs": [
    {
     "data": {
      "text/html": [
       "<table>\n",
       "<tbody>\n",
       "\t<tr><td> 1</td></tr>\n",
       "\t<tr><td> 2</td></tr>\n",
       "\t<tr><td> 3</td></tr>\n",
       "\t<tr><td> 4</td></tr>\n",
       "\t<tr><td> 5</td></tr>\n",
       "\t<tr><td> 6</td></tr>\n",
       "\t<tr><td> 7</td></tr>\n",
       "\t<tr><td> 8</td></tr>\n",
       "\t<tr><td> 9</td></tr>\n",
       "\t<tr><td>10</td></tr>\n",
       "</tbody>\n",
       "</table>\n"
      ],
      "text/latex": [
       "\\begin{tabular}{l}\n",
       "\t  1\\\\\n",
       "\t  2\\\\\n",
       "\t  3\\\\\n",
       "\t  4\\\\\n",
       "\t  5\\\\\n",
       "\t  6\\\\\n",
       "\t  7\\\\\n",
       "\t  8\\\\\n",
       "\t  9\\\\\n",
       "\t 10\\\\\n",
       "\\end{tabular}\n"
      ],
      "text/markdown": [
       "\n",
       "|  1 | \n",
       "|  2 | \n",
       "|  3 | \n",
       "|  4 | \n",
       "|  5 | \n",
       "|  6 | \n",
       "|  7 | \n",
       "|  8 | \n",
       "|  9 | \n",
       "| 10 | \n",
       "\n",
       "\n"
      ],
      "text/plain": [
       "      [,1]\n",
       " [1,]  1  \n",
       " [2,]  2  \n",
       " [3,]  3  \n",
       " [4,]  4  \n",
       " [5,]  5  \n",
       " [6,]  6  \n",
       " [7,]  7  \n",
       " [8,]  8  \n",
       " [9,]  9  \n",
       "[10,] 10  "
      ]
     },
     "metadata": {},
     "output_type": "display_data"
    }
   ],
   "source": [
    "as.matrix(1:10)"
   ]
  },
  {
   "cell_type": "markdown",
   "metadata": {},
   "source": [
    "V jednom z příkladů nahoře též vidíte, že funkce `print` vám kromě samotné matice ukáže navíc i další informace. Ty se týkají souřadnic (indexů) jednotlivých prvků. Je to v podstatě i návod, jak k jednotlivým prvkům přistupovat:"
   ]
  },
  {
   "cell_type": "code",
   "execution_count": 6,
   "metadata": {},
   "outputs": [
    {
     "data": {
      "text/html": [
       "1"
      ],
      "text/latex": [
       "1"
      ],
      "text/markdown": [
       "1"
      ],
      "text/plain": [
       "[1] 1"
      ]
     },
     "metadata": {},
     "output_type": "display_data"
    },
    {
     "data": {
      "text/html": [
       "5"
      ],
      "text/latex": [
       "5"
      ],
      "text/markdown": [
       "5"
      ],
      "text/plain": [
       "[1] 5"
      ]
     },
     "metadata": {},
     "output_type": "display_data"
    },
    {
     "data": {
      "text/html": [
       "9"
      ],
      "text/latex": [
       "9"
      ],
      "text/markdown": [
       "9"
      ],
      "text/plain": [
       "[1] 9"
      ]
     },
     "metadata": {},
     "output_type": "display_data"
    },
    {
     "data": {
      "text/html": [
       "12"
      ],
      "text/latex": [
       "12"
      ],
      "text/markdown": [
       "12"
      ],
      "text/plain": [
       "[1] 12"
      ]
     },
     "metadata": {},
     "output_type": "display_data"
    }
   ],
   "source": [
    "m_x[1,1]\n",
    "m_x[2,2]\n",
    "m_x[3,3]\n",
    "m_x[4,3]"
   ]
  },
  {
   "cell_type": "markdown",
   "metadata": {},
   "source": [
    "Pokud jeden z indexů vynecháte, dostanete vektor reprezentující celý řádek nebo sloupec:"
   ]
  },
  {
   "cell_type": "code",
   "execution_count": 7,
   "metadata": {},
   "outputs": [
    {
     "data": {
      "text/html": [
       "<ol class=list-inline>\n",
       "\t<li>1</li>\n",
       "\t<li>4</li>\n",
       "\t<li>7</li>\n",
       "\t<li>10</li>\n",
       "</ol>\n"
      ],
      "text/latex": [
       "\\begin{enumerate*}\n",
       "\\item 1\n",
       "\\item 4\n",
       "\\item 7\n",
       "\\item 10\n",
       "\\end{enumerate*}\n"
      ],
      "text/markdown": [
       "1. 1\n",
       "2. 4\n",
       "3. 7\n",
       "4. 10\n",
       "\n",
       "\n"
      ],
      "text/plain": [
       "[1]  1  4  7 10"
      ]
     },
     "metadata": {},
     "output_type": "display_data"
    },
    {
     "data": {
      "text/html": [
       "<ol class=list-inline>\n",
       "\t<li>1</li>\n",
       "\t<li>2</li>\n",
       "\t<li>3</li>\n",
       "</ol>\n"
      ],
      "text/latex": [
       "\\begin{enumerate*}\n",
       "\\item 1\n",
       "\\item 2\n",
       "\\item 3\n",
       "\\end{enumerate*}\n"
      ],
      "text/markdown": [
       "1. 1\n",
       "2. 2\n",
       "3. 3\n",
       "\n",
       "\n"
      ],
      "text/plain": [
       "[1] 1 2 3"
      ]
     },
     "metadata": {},
     "output_type": "display_data"
    },
    {
     "data": {
      "text/html": [
       "<table>\n",
       "<tbody>\n",
       "\t<tr><td> 4</td><td> 5</td><td> 6</td></tr>\n",
       "\t<tr><td> 7</td><td> 8</td><td> 9</td></tr>\n",
       "\t<tr><td>10</td><td>11</td><td>12</td></tr>\n",
       "</tbody>\n",
       "</table>\n"
      ],
      "text/latex": [
       "\\begin{tabular}{lll}\n",
       "\t  4 &  5 &  6\\\\\n",
       "\t  7 &  8 &  9\\\\\n",
       "\t 10 & 11 & 12\\\\\n",
       "\\end{tabular}\n"
      ],
      "text/markdown": [
       "\n",
       "|  4 |  5 |  6 | \n",
       "|  7 |  8 |  9 | \n",
       "| 10 | 11 | 12 | \n",
       "\n",
       "\n"
      ],
      "text/plain": [
       "     [,1] [,2] [,3]\n",
       "[1,]  4    5    6  \n",
       "[2,]  7    8    9  \n",
       "[3,] 10   11   12  "
      ]
     },
     "metadata": {},
     "output_type": "display_data"
    }
   ],
   "source": [
    "m_x[,1]\n",
    "m_x[1,]\n",
    "m_x[-1,] # i negativní indexy fungují, jak by člověk čekal"
   ]
  },
  {
   "cell_type": "markdown",
   "metadata": {},
   "source": [
    "Jako indexy můžete samozřejmě používat i vektory:"
   ]
  },
  {
   "cell_type": "code",
   "execution_count": 8,
   "metadata": {},
   "outputs": [
    {
     "name": "stdout",
     "output_type": "stream",
     "text": [
      "     [,1] [,2]\n",
      "[1,]    8    9\n",
      "[2,]   11   12\n",
      "     [,1] [,2]\n",
      "[1,]    8    9\n",
      "[2,]   11   12\n"
     ]
    }
   ],
   "source": [
    "print(\n",
    "    m_x[c(3, 4), 2:3] # numerické\n",
    ")\n",
    "print(\n",
    "    m_x[c(F, F, T, T), c(F, T, T)] # nebo logické\n",
    ")"
   ]
  },
  {
   "cell_type": "markdown",
   "metadata": {},
   "source": [
    "nebo dokonce matice samotné:"
   ]
  },
  {
   "cell_type": "code",
   "execution_count": 9,
   "metadata": {},
   "outputs": [
    {
     "name": "stdout",
     "output_type": "stream",
     "text": [
      "     [,1] [,2] [,3]\n",
      "[1,]    1    2    3\n",
      "[2,]    4    5    6\n",
      "[3,]    7    8    9\n",
      "[4,]   10   11   12\n",
      "      [,1]  [,2]  [,3]\n",
      "[1,]  TRUE  TRUE  TRUE\n",
      "[2,] FALSE FALSE FALSE\n",
      "[3,]  TRUE  TRUE  TRUE\n",
      "[4,] FALSE FALSE FALSE\n"
     ]
    },
    {
     "data": {
      "text/html": [
       "<ol class=list-inline>\n",
       "\t<li>1</li>\n",
       "\t<li>7</li>\n",
       "\t<li>2</li>\n",
       "\t<li>8</li>\n",
       "\t<li>3</li>\n",
       "\t<li>9</li>\n",
       "</ol>\n"
      ],
      "text/latex": [
       "\\begin{enumerate*}\n",
       "\\item 1\n",
       "\\item 7\n",
       "\\item 2\n",
       "\\item 8\n",
       "\\item 3\n",
       "\\item 9\n",
       "\\end{enumerate*}\n"
      ],
      "text/markdown": [
       "1. 1\n",
       "2. 7\n",
       "3. 2\n",
       "4. 8\n",
       "5. 3\n",
       "6. 9\n",
       "\n",
       "\n"
      ],
      "text/plain": [
       "[1] 1 7 2 8 3 9"
      ]
     },
     "metadata": {},
     "output_type": "display_data"
    }
   ],
   "source": [
    "print(m_x)\n",
    "maska <- matrix(\n",
    "    c(\n",
    "        T, T, T,\n",
    "        F, F, F,\n",
    "        T, T, T,\n",
    "        F, F, F\n",
    "    )\n",
    "    , nrow = 4\n",
    "    , byrow = T\n",
    ")\n",
    "print(maska)\n",
    "m_x[maska]"
   ]
  },
  {
   "cell_type": "markdown",
   "metadata": {},
   "source": [
    "Všimněte si, že zde je výsledkem vektor čísel, která odpovídají vybraným hodnotám v naší masce a to opět podle sloupců.\n",
    "\n",
    "Pokud z matice vybíráme pouze jednu dimenzi, R automaticky vrátí výsledek též jako vektor:"
   ]
  },
  {
   "cell_type": "code",
   "execution_count": 10,
   "metadata": {},
   "outputs": [
    {
     "data": {
      "text/html": [
       "<ol class=list-inline>\n",
       "\t<li>1</li>\n",
       "\t<li>2</li>\n",
       "\t<li>3</li>\n",
       "</ol>\n"
      ],
      "text/latex": [
       "\\begin{enumerate*}\n",
       "\\item 1\n",
       "\\item 2\n",
       "\\item 3\n",
       "\\end{enumerate*}\n"
      ],
      "text/markdown": [
       "1. 1\n",
       "2. 2\n",
       "3. 3\n",
       "\n",
       "\n"
      ],
      "text/plain": [
       "[1] 1 2 3"
      ]
     },
     "metadata": {},
     "output_type": "display_data"
    },
    {
     "data": {
      "text/html": [
       "'integer'"
      ],
      "text/latex": [
       "'integer'"
      ],
      "text/markdown": [
       "'integer'"
      ],
      "text/plain": [
       "[1] \"integer\""
      ]
     },
     "metadata": {},
     "output_type": "display_data"
    },
    {
     "data": {
      "text/plain": [
       "NULL"
      ]
     },
     "metadata": {},
     "output_type": "display_data"
    }
   ],
   "source": [
    "vyber <- m_x[1,]\n",
    "vyber\n",
    "class(vyber)\n",
    "dim(vyber)"
   ]
  },
  {
   "cell_type": "markdown",
   "metadata": {},
   "source": [
    "Pokud tomu chceme zamezit, můžeme funkci `[` specifikovat argument `drop`, který toto chování řídí (ano, `[` je funkce stejně jako všechny operace v R):"
   ]
  },
  {
   "cell_type": "code",
   "execution_count": 11,
   "metadata": {},
   "outputs": [
    {
     "data": {
      "text/html": [
       "<table>\n",
       "<tbody>\n",
       "\t<tr><td>1</td><td>2</td><td>3</td></tr>\n",
       "</tbody>\n",
       "</table>\n"
      ],
      "text/latex": [
       "\\begin{tabular}{lll}\n",
       "\t 1 & 2 & 3\\\\\n",
       "\\end{tabular}\n"
      ],
      "text/markdown": [
       "\n",
       "| 1 | 2 | 3 | \n",
       "\n",
       "\n"
      ],
      "text/plain": [
       "     [,1] [,2] [,3]\n",
       "[1,] 1    2    3   "
      ]
     },
     "metadata": {},
     "output_type": "display_data"
    },
    {
     "data": {
      "text/html": [
       "'matrix'"
      ],
      "text/latex": [
       "'matrix'"
      ],
      "text/markdown": [
       "'matrix'"
      ],
      "text/plain": [
       "[1] \"matrix\""
      ]
     },
     "metadata": {},
     "output_type": "display_data"
    },
    {
     "data": {
      "text/html": [
       "<ol class=list-inline>\n",
       "\t<li>1</li>\n",
       "\t<li>3</li>\n",
       "</ol>\n"
      ],
      "text/latex": [
       "\\begin{enumerate*}\n",
       "\\item 1\n",
       "\\item 3\n",
       "\\end{enumerate*}\n"
      ],
      "text/markdown": [
       "1. 1\n",
       "2. 3\n",
       "\n",
       "\n"
      ],
      "text/plain": [
       "[1] 1 3"
      ]
     },
     "metadata": {},
     "output_type": "display_data"
    }
   ],
   "source": [
    "vyber <- m_x[1,, drop = F]\n",
    "vyber\n",
    "class(vyber)\n",
    "dim(vyber)"
   ]
  },
  {
   "cell_type": "markdown",
   "metadata": {},
   "source": [
    "Do matic lze samozřejmě pomocí indexů i zapisovat:"
   ]
  },
  {
   "cell_type": "code",
   "execution_count": 12,
   "metadata": {},
   "outputs": [
    {
     "name": "stdout",
     "output_type": "stream",
     "text": [
      "     [,1] [,2] [,3]\n",
      "[1,]    1    2    3\n",
      "[2,]    4    5    6\n",
      "[3,]    7    8    9\n",
      "[4,]   10   11   12\n",
      "     [,1] [,2] [,3]\n",
      "[1,]    1    2    3\n",
      "[2,]    2    5    6\n",
      "[3,]    3    8    9\n",
      "[4,]    4   11   12\n",
      "     [,1] [,2] [,3]\n",
      "[1,]    1    2    3\n",
      "[2,]    2    5    6\n",
      "[3,]    1    8    9\n",
      "[4,]    2   11   12\n"
     ]
    }
   ],
   "source": [
    "print(m_x)\n",
    "m_x[,1] <- c(1, 2, 3, 4) # nastav obsah prvniho sloupce na daný vektor\n",
    "print(m_x)\n",
    "m_x[,1] <- c(1, 2)\n",
    "print(m_x) # i zde funguje recyklace hodnot vektoru"
   ]
  },
  {
   "cell_type": "code",
   "execution_count": 13,
   "metadata": {},
   "outputs": [
    {
     "name": "stdout",
     "output_type": "stream",
     "text": [
      "     [,1] [,2] [,3]\n",
      "[1,]    1    2    3\n",
      "[2,]    2    5    6\n",
      "[3,]    1    0    0\n",
      "[4,]    2    0    0\n",
      "     [,1] [,2] [,3]\n",
      "[1,] \"1\"  \"2\"  \"3\" \n",
      "[2,] \"2\"  \"5\"  \"6\" \n",
      "[3,] \"1\"  \"a\"  \"c\" \n",
      "[4,] \"2\"  \"b\"  \"d\" \n"
     ]
    }
   ],
   "source": [
    "m_x[c(3, 4), 2:3] <- matrix(numeric(4), nrow = 2)\n",
    "print(m_x)\n",
    "m_x[c(3, 4), 2:3] <- c(\"a\", \"b\", \"c\", \"d\") # je možné rovnoou i zapsat vektor správné délky\n",
    "print(m_x)"
   ]
  },
  {
   "cell_type": "markdown",
   "metadata": {},
   "source": [
    "Všimněte si, že i matice mohou být pouze jednoho typu, stejně jako vektory. Po přiřazení vektoru dat jiného typu (zde `character`) se všechny prvky převedou na největší společný typ, tedy opět `character`.\n",
    "\n",
    "Stejně jako s vektory je možné i s maticemi provádět různé operace. Například:"
   ]
  },
  {
   "cell_type": "code",
   "execution_count": 14,
   "metadata": {},
   "outputs": [
    {
     "data": {
      "text/html": [
       "<table>\n",
       "<tbody>\n",
       "\t<tr><td>1</td><td>2</td></tr>\n",
       "\t<tr><td>3</td><td>4</td></tr>\n",
       "</tbody>\n",
       "</table>\n"
      ],
      "text/latex": [
       "\\begin{tabular}{ll}\n",
       "\t 1 & 2\\\\\n",
       "\t 3 & 4\\\\\n",
       "\\end{tabular}\n"
      ],
      "text/markdown": [
       "\n",
       "| 1 | 2 | \n",
       "| 3 | 4 | \n",
       "\n",
       "\n"
      ],
      "text/plain": [
       "     [,1] [,2]\n",
       "[1,] 1    2   \n",
       "[2,] 3    4   "
      ]
     },
     "metadata": {},
     "output_type": "display_data"
    },
    {
     "name": "stdout",
     "output_type": "stream",
     "text": [
      "     [,1] [,2]\n",
      "[1,]    2    4\n",
      "[2,]    6    8\n",
      "      [,1]  [,2]\n",
      "[1,] FALSE FALSE\n",
      "[2,]  TRUE  TRUE\n",
      "     [,1] [,2]\n",
      "[1,]    2    4\n",
      "[2,]    6    8\n",
      "     [,1] [,2]\n",
      "[1,]    1    4\n",
      "[2,]    9   16\n",
      "     [,1] [,2]\n",
      "[1,]    7   10\n",
      "[2,]   15   22\n",
      "     [,1] [,2]\n",
      "[1,]    1    3\n",
      "[2,]    2    4\n"
     ]
    }
   ],
   "source": [
    "m_y <- matrix(1:4, nrow = 2, byrow = T)\n",
    "m_y\n",
    "\n",
    "print(\n",
    "    m_y * 2\n",
    ")\n",
    "print(\n",
    "    m_y > 2\n",
    ")\n",
    "print(\n",
    "    m_y + m_y # sčítání\n",
    ")\n",
    "print(\n",
    "    m_y * m_y # klasické násobení\n",
    ")\n",
    "print(\n",
    "    m_y %*% m_y # maticové násobení\n",
    ")\n",
    "print(\n",
    "    t(m_y) # transponovaná matice\n",
    ")"
   ]
  },
  {
   "cell_type": "markdown",
   "metadata": {},
   "source": [
    "Stejně jako u vektorů lze jednotlivé řádky a sloupce v matici pojmenovávat:"
   ]
  },
  {
   "cell_type": "code",
   "execution_count": 15,
   "metadata": {},
   "outputs": [
    {
     "data": {
      "text/html": [
       "<dl>\n",
       "\t<dt>$dim</dt>\n",
       "\t\t<dd><ol class=list-inline>\n",
       "\t<li>2</li>\n",
       "\t<li>2</li>\n",
       "</ol>\n",
       "</dd>\n",
       "\t<dt>$dimnames</dt>\n",
       "\t\t<dd><ol>\n",
       "\t<li><ol class=list-inline>\n",
       "\t<li>'první řádek'</li>\n",
       "\t<li>'druhý řádek'</li>\n",
       "</ol>\n",
       "</li>\n",
       "\t<li><ol class=list-inline>\n",
       "\t<li>'první sloupec'</li>\n",
       "\t<li>'druhý sloupec'</li>\n",
       "</ol>\n",
       "</li>\n",
       "</ol>\n",
       "</dd>\n",
       "</dl>\n"
      ],
      "text/latex": [
       "\\begin{description}\n",
       "\\item[\\$dim] \\begin{enumerate*}\n",
       "\\item 2\n",
       "\\item 2\n",
       "\\end{enumerate*}\n",
       "\n",
       "\\item[\\$dimnames] \\begin{enumerate}\n",
       "\\item \\begin{enumerate*}\n",
       "\\item 'první řádek'\n",
       "\\item 'druhý řádek'\n",
       "\\end{enumerate*}\n",
       "\n",
       "\\item \\begin{enumerate*}\n",
       "\\item 'první sloupec'\n",
       "\\item 'druhý sloupec'\n",
       "\\end{enumerate*}\n",
       "\n",
       "\\end{enumerate}\n",
       "\n",
       "\\end{description}\n"
      ],
      "text/markdown": [
       "$dim\n",
       ":   1. 2\n",
       "2. 2\n",
       "\n",
       "\n",
       "\n",
       "$dimnames\n",
       ":   1. 1. 'první řádek'\n",
       "2. 'druhý řádek'\n",
       "\n",
       "\n",
       "\n",
       "2. 1. 'první sloupec'\n",
       "2. 'druhý sloupec'\n",
       "\n",
       "\n",
       "\n",
       "\n",
       "\n",
       "\n",
       "\n",
       "\n"
      ],
      "text/plain": [
       "$dim\n",
       "[1] 2 2\n",
       "\n",
       "$dimnames\n",
       "$dimnames[[1]]\n",
       "[1] \"první řádek\" \"druhý řádek\"\n",
       "\n",
       "$dimnames[[2]]\n",
       "[1] \"první sloupec\" \"druhý sloupec\"\n",
       "\n"
      ]
     },
     "metadata": {},
     "output_type": "display_data"
    },
    {
     "data": {
      "text/html": [
       "<ol class=list-inline>\n",
       "\t<li>'první sloupec'</li>\n",
       "\t<li>'druhý sloupec'</li>\n",
       "</ol>\n"
      ],
      "text/latex": [
       "\\begin{enumerate*}\n",
       "\\item 'první sloupec'\n",
       "\\item 'druhý sloupec'\n",
       "\\end{enumerate*}\n"
      ],
      "text/markdown": [
       "1. 'první sloupec'\n",
       "2. 'druhý sloupec'\n",
       "\n",
       "\n"
      ],
      "text/plain": [
       "[1] \"první sloupec\" \"druhý sloupec\""
      ]
     },
     "metadata": {},
     "output_type": "display_data"
    },
    {
     "data": {
      "text/html": [
       "<ol class=list-inline>\n",
       "\t<li>'první řádek'</li>\n",
       "\t<li>'druhý řádek'</li>\n",
       "</ol>\n"
      ],
      "text/latex": [
       "\\begin{enumerate*}\n",
       "\\item 'první řádek'\n",
       "\\item 'druhý řádek'\n",
       "\\end{enumerate*}\n"
      ],
      "text/markdown": [
       "1. 'první řádek'\n",
       "2. 'druhý řádek'\n",
       "\n",
       "\n"
      ],
      "text/plain": [
       "[1] \"první řádek\" \"druhý řádek\""
      ]
     },
     "metadata": {},
     "output_type": "display_data"
    },
    {
     "data": {
      "text/html": [
       "<table>\n",
       "<thead><tr><th></th><th scope=col>první sloupec</th><th scope=col>druhý sloupec</th></tr></thead>\n",
       "<tbody>\n",
       "\t<tr><th scope=row>první řádek</th><td>1</td><td>2</td></tr>\n",
       "\t<tr><th scope=row>druhý řádek</th><td>3</td><td>4</td></tr>\n",
       "</tbody>\n",
       "</table>\n"
      ],
      "text/latex": [
       "\\begin{tabular}{r|ll}\n",
       "  & první sloupec & druhý sloupec\\\\\n",
       "\\hline\n",
       "\tprvní řádek & 1 & 2\\\\\n",
       "\tdruhý řádek & 3 & 4\\\\\n",
       "\\end{tabular}\n"
      ],
      "text/markdown": [
       "\n",
       "| <!--/--> | první sloupec | druhý sloupec | \n",
       "|---|---|\n",
       "| první řádek | 1 | 2 | \n",
       "| druhý řádek | 3 | 4 | \n",
       "\n",
       "\n"
      ],
      "text/plain": [
       "            první sloupec druhý sloupec\n",
       "první řádek 1             2            \n",
       "druhý řádek 3             4            "
      ]
     },
     "metadata": {},
     "output_type": "display_data"
    }
   ],
   "source": [
    "colnames(m_y) <- c(\"první sloupec\", \"druhý sloupec\")\n",
    "rownames(m_y) <- c(\"první řádek\", \"druhý řádek\")\n",
    "attributes(m_y)\n",
    "colnames(m_y)\n",
    "rownames(m_y)\n",
    "m_y"
   ]
  },
  {
   "cell_type": "markdown",
   "metadata": {},
   "source": [
    "### Použití matic\n",
    "\n",
    "Matice je v podstatě tabulka, a proto se ve statistice nejčastěji používá k zakódování výsledků měření různých číselných proměnných (sloupce) pro řadu vzorků (řádky). Například následující matice kóduje nejrůznější data o třech lidech:"
   ]
  },
  {
   "cell_type": "code",
   "execution_count": 16,
   "metadata": {},
   "outputs": [
    {
     "data": {
      "text/html": [
       "<table>\n",
       "<thead><tr><th></th><th scope=col>pohlaví</th><th scope=col>váha</th><th scope=col>věk</th></tr></thead>\n",
       "<tbody>\n",
       "\t<tr><th scope=row>1</th><td>0 </td><td>65</td><td>20</td></tr>\n",
       "\t<tr><th scope=row>2</th><td>1 </td><td>75</td><td>19</td></tr>\n",
       "\t<tr><th scope=row>3</th><td>0 </td><td>68</td><td>21</td></tr>\n",
       "</tbody>\n",
       "</table>\n"
      ],
      "text/latex": [
       "\\begin{tabular}{r|lll}\n",
       "  & pohlaví & váha & věk\\\\\n",
       "\\hline\n",
       "\t1 & 0  & 65 & 20\\\\\n",
       "\t2 & 1  & 75 & 19\\\\\n",
       "\t3 & 0  & 68 & 21\\\\\n",
       "\\end{tabular}\n"
      ],
      "text/markdown": [
       "\n",
       "| <!--/--> | pohlaví | váha | věk | \n",
       "|---|---|---|\n",
       "| 1 | 0  | 65 | 20 | \n",
       "| 2 | 1  | 75 | 19 | \n",
       "| 3 | 0  | 68 | 21 | \n",
       "\n",
       "\n"
      ],
      "text/plain": [
       "  pohlaví váha věk\n",
       "1 0       65   20 \n",
       "2 1       75   19 \n",
       "3 0       68   21 "
      ]
     },
     "metadata": {},
     "output_type": "display_data"
    }
   ],
   "source": [
    "data <- matrix(\n",
    "    c(\n",
    "        0, 65, 20,\n",
    "        1, 75, 19,\n",
    "        0, 68, 21\n",
    "    )\n",
    "    , byrow = T\n",
    "    , nrow = 3\n",
    ")\n",
    "colnames(data) <- c(\"pohlaví\", \"váha\", \"věk\")\n",
    "rownames(data) <- c(1:nrow(data))\n",
    "data"
   ]
  },
  {
   "cell_type": "markdown",
   "metadata": {},
   "source": [
    "Asi vás napadlo, že matice má nevýhodu v tom, že všechny položky můsí být reprezentovány číselně, a tudíž je sloupec `pohlaví` nečitelný, neboť musíme vědět podle jakého klíče jsou hodnoty kódovány. Tento problém řeší datová struktura `data.frame`, která je rozšířením matic a představíme si ji za nedlouho.\n",
    "\n",
    "Matice jsou též vhodné pro reprezentaci obrázků a podobných dat, neboť jednotlivé prvky mohou snadno reprezentovat barvu jednotlivých pixelů. Mezi testovacími daty, která jsou v R dostupná pod různými proměnnými, je například množina [volcano](https://stat.ethz.ch/R-manual/R-devel/library/datasets/html/volcano.html), která poskytuje topologická data o sopce Maunga Whau, která se nachází nedaleko od Aucklandu. Tuto matici si lze jako obrázek vykreslit například takto:"
   ]
  },
  {
   "cell_type": "code",
   "execution_count": 17,
   "metadata": {},
   "outputs": [
    {
     "data": {
      "image/png": "[encoded data removed]",
      "text/plain": [
       "plot without title"
      ]
     },
     "metadata": {},
     "output_type": "display_data"
    }
   ],
   "source": [
    "image(volcano)"
   ]
  },
  {
   "cell_type": "markdown",
   "metadata": {},
   "source": [
    "## Pole (array)"
   ]
  },
  {
   "cell_type": "markdown",
   "metadata": {},
   "source": [
    "Pole by se daly považovat za generalizaci matic, neboť je to vlastně $n$ vektorů, kde každý z nich tvoří jednu dimenzi. Při vytváření pole se tedy místo počtu řádků a sloupců uvádí rozměr každé dimenze (parametr `dim` funkce `array`):"
   ]
  },
  {
   "cell_type": "code",
   "execution_count": 18,
   "metadata": {},
   "outputs": [
    {
     "name": "stdout",
     "output_type": "stream",
     "text": [
      ", , 1\n",
      "\n",
      "     [,1] [,2] [,3]\n",
      "[1,]    1    5    9\n",
      "[2,]    2    6   10\n",
      "[3,]    3    7   11\n",
      "[4,]    4    8   12\n",
      "\n",
      ", , 2\n",
      "\n",
      "     [,1] [,2] [,3]\n",
      "[1,]   13   17   21\n",
      "[2,]   14   18   22\n",
      "[3,]   15   19   23\n",
      "[4,]   16   20   24\n",
      "\n"
     ]
    }
   ],
   "source": [
    "ar_x <- array(1:24, dim = c(4,3,2))\n",
    "print(ar_x)"
   ]
  },
  {
   "cell_type": "markdown",
   "metadata": {},
   "source": [
    "Vytvořili jsme tedy třírozměrné pole, které má celkem 24 buněk rozdělených do 4 řádek v první dimenzi, tří ve druhé a dvou ve třetí. Jelikož lze v textovém výpisu zobrazit najednou pouze dvě dimenze, je tento rozdělen na několik částí reprezentujících různé kombinace prvních dvou dimenzí s ostatními (zde pouze se třetí). Jedná se tak tedy v podstatě o dvourozměrné řezy v různých vrstvách podle dalších dimenzí. Pro čtyřrozměrné pole, které si jen těžko představíme, pak výstup vypadá například takto:"
   ]
  },
  {
   "cell_type": "code",
   "execution_count": 19,
   "metadata": {},
   "outputs": [
    {
     "name": "stdout",
     "output_type": "stream",
     "text": [
      ", , 1, 1\n",
      "\n",
      "     [,1] [,2] [,3]\n",
      "[1,]    1    5    9\n",
      "[2,]    2    6   10\n",
      "[3,]    3    7   11\n",
      "[4,]    4    8   12\n",
      "\n",
      ", , 2, 1\n",
      "\n",
      "     [,1] [,2] [,3]\n",
      "[1,]   13   17   21\n",
      "[2,]   14   18   22\n",
      "[3,]   15   19   23\n",
      "[4,]   16   20   24\n",
      "\n",
      ", , 1, 2\n",
      "\n",
      "     [,1] [,2] [,3]\n",
      "[1,]   25   29   33\n",
      "[2,]   26   30   34\n",
      "[3,]   27   31   35\n",
      "[4,]   28   32   36\n",
      "\n",
      ", , 2, 2\n",
      "\n",
      "     [,1] [,2] [,3]\n",
      "[1,]   37   41   45\n",
      "[2,]   38   42   46\n",
      "[3,]   39   43   47\n",
      "[4,]   40   44   48\n",
      "\n"
     ]
    }
   ],
   "source": [
    "ar_y <- array(1:48, dim = c(4,3,2,2))\n",
    "print(ar_y)"
   ]
  },
  {
   "cell_type": "markdown",
   "metadata": {},
   "source": [
    "To, že se nejedná o matici ale o vícerozměrné pole, lze snadno ověřit funkcemi, které už známe:"
   ]
  },
  {
   "cell_type": "code",
   "execution_count": 20,
   "metadata": {},
   "outputs": [
    {
     "data": {
      "text/html": [
       "'array'"
      ],
      "text/latex": [
       "'array'"
      ],
      "text/markdown": [
       "'array'"
      ],
      "text/plain": [
       "[1] \"array\""
      ]
     },
     "metadata": {},
     "output_type": "display_data"
    },
    {
     "data": {
      "text/html": [
       "4"
      ],
      "text/latex": [
       "4"
      ],
      "text/markdown": [
       "4"
      ],
      "text/plain": [
       "[1] 4"
      ]
     },
     "metadata": {},
     "output_type": "display_data"
    },
    {
     "data": {
      "text/html": [
       "3"
      ],
      "text/latex": [
       "3"
      ],
      "text/markdown": [
       "3"
      ],
      "text/plain": [
       "[1] 3"
      ]
     },
     "metadata": {},
     "output_type": "display_data"
    },
    {
     "data": {
      "text/html": [
       "<ol class=list-inline>\n",
       "\t<li>4</li>\n",
       "\t<li>3</li>\n",
       "\t<li>2</li>\n",
       "</ol>\n"
      ],
      "text/latex": [
       "\\begin{enumerate*}\n",
       "\\item 4\n",
       "\\item 3\n",
       "\\item 2\n",
       "\\end{enumerate*}\n"
      ],
      "text/markdown": [
       "1. 4\n",
       "2. 3\n",
       "3. 2\n",
       "\n",
       "\n"
      ],
      "text/plain": [
       "[1] 4 3 2"
      ]
     },
     "metadata": {},
     "output_type": "display_data"
    },
    {
     "data": {
      "text/html": [
       "<strong>$dim</strong> = <ol class=list-inline>\n",
       "\t<li>4</li>\n",
       "\t<li>3</li>\n",
       "\t<li>2</li>\n",
       "</ol>\n"
      ],
      "text/latex": [
       "\\textbf{\\$dim} = \\begin{enumerate*}\n",
       "\\item 4\n",
       "\\item 3\n",
       "\\item 2\n",
       "\\end{enumerate*}\n"
      ],
      "text/markdown": [
       "**$dim** = 1. 4\n",
       "2. 3\n",
       "3. 2\n",
       "\n",
       "\n"
      ],
      "text/plain": [
       "$dim\n",
       "[1] 4 3 2\n"
      ]
     },
     "metadata": {},
     "output_type": "display_data"
    },
    {
     "data": {
      "text/html": [
       "'array'"
      ],
      "text/latex": [
       "'array'"
      ],
      "text/markdown": [
       "'array'"
      ],
      "text/plain": [
       "[1] \"array\""
      ]
     },
     "metadata": {},
     "output_type": "display_data"
    },
    {
     "data": {
      "text/html": [
       "4"
      ],
      "text/latex": [
       "4"
      ],
      "text/markdown": [
       "4"
      ],
      "text/plain": [
       "[1] 4"
      ]
     },
     "metadata": {},
     "output_type": "display_data"
    },
    {
     "data": {
      "text/html": [
       "3"
      ],
      "text/latex": [
       "3"
      ],
      "text/markdown": [
       "3"
      ],
      "text/plain": [
       "[1] 3"
      ]
     },
     "metadata": {},
     "output_type": "display_data"
    },
    {
     "data": {
      "text/html": [
       "<ol class=list-inline>\n",
       "\t<li>4</li>\n",
       "\t<li>3</li>\n",
       "\t<li>2</li>\n",
       "\t<li>2</li>\n",
       "</ol>\n"
      ],
      "text/latex": [
       "\\begin{enumerate*}\n",
       "\\item 4\n",
       "\\item 3\n",
       "\\item 2\n",
       "\\item 2\n",
       "\\end{enumerate*}\n"
      ],
      "text/markdown": [
       "1. 4\n",
       "2. 3\n",
       "3. 2\n",
       "4. 2\n",
       "\n",
       "\n"
      ],
      "text/plain": [
       "[1] 4 3 2 2"
      ]
     },
     "metadata": {},
     "output_type": "display_data"
    },
    {
     "data": {
      "text/html": [
       "<strong>$dim</strong> = <ol class=list-inline>\n",
       "\t<li>4</li>\n",
       "\t<li>3</li>\n",
       "\t<li>2</li>\n",
       "\t<li>2</li>\n",
       "</ol>\n"
      ],
      "text/latex": [
       "\\textbf{\\$dim} = \\begin{enumerate*}\n",
       "\\item 4\n",
       "\\item 3\n",
       "\\item 2\n",
       "\\item 2\n",
       "\\end{enumerate*}\n"
      ],
      "text/markdown": [
       "**$dim** = 1. 4\n",
       "2. 3\n",
       "3. 2\n",
       "4. 2\n",
       "\n",
       "\n"
      ],
      "text/plain": [
       "$dim\n",
       "[1] 4 3 2 2\n"
      ]
     },
     "metadata": {},
     "output_type": "display_data"
    }
   ],
   "source": [
    "class(ar_x)\n",
    "nrow(ar_x)\n",
    "ncol(ar_x)\n",
    "dim(ar_x)\n",
    "attributes(ar_x)\n",
    "\n",
    "class(ar_y)\n",
    "nrow(ar_y)\n",
    "ncol(ar_y)\n",
    "dim(ar_y)\n",
    "attributes(ar_y)"
   ]
  },
  {
   "cell_type": "markdown",
   "metadata": {},
   "source": [
    "Všimněte si, že funkce `nrow` a `ncol` i u polí fungují celkem intuitivně. Přistupování k jednotlivým prvkům a \"podprostorům\" pole je též v souladu s tím, co už jsme si ukázali:"
   ]
  },
  {
   "cell_type": "code",
   "execution_count": 21,
   "metadata": {},
   "outputs": [
    {
     "name": "stdout",
     "output_type": "stream",
     "text": [
      ", , 1\n",
      "\n",
      "     [,1] [,2] [,3]\n",
      "[1,]    1    5    9\n",
      "[2,]    2    6   10\n",
      "[3,]    3    7   11\n",
      "[4,]    4    8   12\n",
      "\n",
      ", , 2\n",
      "\n",
      "     [,1] [,2] [,3]\n",
      "[1,]   13   17   21\n",
      "[2,]   14   18   22\n",
      "[3,]   15   19   23\n",
      "[4,]   16   20   24\n",
      "\n"
     ]
    }
   ],
   "source": [
    "print(ar_x)"
   ]
  },
  {
   "cell_type": "code",
   "execution_count": 22,
   "metadata": {},
   "outputs": [
    {
     "name": "stdout",
     "output_type": "stream",
     "text": [
      "     [,1] [,2]\n",
      "[1,]    1   13\n",
      "[2,]    5   17\n",
      "[3,]    9   21\n",
      "     [,1] [,2]\n",
      "[1,]    3   15\n",
      "[2,]    7   19\n",
      "[3,]   11   23\n",
      "     [,1] [,2]\n",
      "[1,]    5   17\n",
      "[2,]    6   18\n",
      "[3,]    7   19\n",
      "[4,]    8   20\n",
      "[1]  5 17\n",
      "[1] 17\n"
     ]
    }
   ],
   "source": [
    "print(ar_x[1,,])\n",
    "print(ar_x[3,,])\n",
    "print(ar_x[,2,])\n",
    "print(ar_x[1,2,])\n",
    "print(ar_x[1,2,2])"
   ]
  },
  {
   "cell_type": "code",
   "execution_count": 23,
   "metadata": {},
   "outputs": [
    {
     "name": "stdout",
     "output_type": "stream",
     "text": [
      ", , 1\n",
      "\n",
      "     [,1] [,2] [,3]\n",
      "[1,]    1    5    9\n",
      "[2,]    2    6   10\n",
      "[3,]    3    7   11\n",
      "\n",
      ", , 2\n",
      "\n",
      "     [,1] [,2] [,3]\n",
      "[1,]   13   17   21\n",
      "[2,]   14   18   22\n",
      "[3,]   15   19   23\n",
      "\n"
     ]
    }
   ],
   "source": [
    "print(ar_x[1:3,,])"
   ]
  },
  {
   "cell_type": "code",
   "execution_count": 24,
   "metadata": {},
   "outputs": [
    {
     "name": "stdout",
     "output_type": "stream",
     "text": [
      ", , 1\n",
      "\n",
      "     [,1] [,2]\n",
      "[1,]    1    5\n",
      "[2,]    2    6\n",
      "[3,]    3    7\n",
      "[4,]    4    8\n",
      "\n",
      ", , 2\n",
      "\n",
      "     [,1] [,2]\n",
      "[1,]   13   17\n",
      "[2,]   14   18\n",
      "[3,]   15   19\n",
      "[4,]   16   20\n",
      "\n"
     ]
    }
   ],
   "source": [
    "print(ar_x[,1:2,])"
   ]
  },
  {
   "cell_type": "markdown",
   "metadata": {},
   "source": [
    "### Použití polí\n",
    "\n",
    "Pole zřejmě nebudete používat tak často jako dvourozměrné matice, ale je dobré o nich vědět. Mohli bychom takto například snadno agregovat data o různých naměřených koncentracích různých látek pro skupinu vzorků za různých podmínek:"
   ]
  },
  {
   "cell_type": "code",
   "execution_count": 25,
   "metadata": {},
   "outputs": [
    {
     "name": "stdout",
     "output_type": "stream",
     "text": [
      ", , s_ano\n",
      "\n",
      "        koncentrace_a koncentrace_b\n",
      "vzorek1            23            11\n",
      "vzorek2            19            10\n",
      "vzorek3            22            12\n",
      "\n",
      ", , s_ne\n",
      "\n",
      "        koncentrace_a koncentrace_b\n",
      "vzorek1            31             8\n",
      "vzorek2            34             9\n",
      "vzorek3            29             7\n",
      "\n"
     ]
    }
   ],
   "source": [
    "světlo_ano <- matrix(\n",
    "    c(\n",
    "        23, 11,\n",
    "        19, 10,\n",
    "        22, 12\n",
    "    )\n",
    "    , byrow = T\n",
    "    , nrow = 3\n",
    ")\n",
    "\n",
    "světlo_ne <- matrix(\n",
    "    c(\n",
    "        31, 8,\n",
    "        34, 9,\n",
    "        29, 7\n",
    "    )\n",
    "    , byrow = T\n",
    "    , nrow = 3\n",
    ")\n",
    "\n",
    "data <- array(\n",
    "    data = c(\n",
    "        světlo_ano\n",
    "        , světlo_ne\n",
    "    )\n",
    "    , dim = c(3,2,2)\n",
    "    , dimnames = list(\n",
    "        c(\"vzorek1\", \"vzorek2\", \"vzorek3\"),\n",
    "        c(\"koncentrace_a\", \"koncentrace_b\"),\n",
    "        c(\"s_ano\", \"s_ne\")\n",
    "    )\n",
    ")\n",
    "print(data)"
   ]
  },
  {
   "cell_type": "markdown",
   "metadata": {},
   "source": [
    "Díky tomu si pak můžeme snadno vygenerovat tabulku koncentrací při různých podmínkách pro jednotlivé vzorky:"
   ]
  },
  {
   "cell_type": "code",
   "execution_count": 26,
   "metadata": {},
   "outputs": [
    {
     "name": "stdout",
     "output_type": "stream",
     "text": [
      "              s_ano s_ne\n",
      "koncentrace_a    23   31\n",
      "koncentrace_b    11    8\n",
      "              s_ano s_ne\n",
      "koncentrace_a    19   34\n",
      "koncentrace_b    10    9\n",
      "              s_ano s_ne\n",
      "koncentrace_a    22   29\n",
      "koncentrace_b    12    7\n"
     ]
    }
   ],
   "source": [
    "print(data[\"vzorek1\",,])\n",
    "print(data[\"vzorek2\",,])\n",
    "print(data[\"vzorek3\",,])"
   ]
  },
  {
   "cell_type": "markdown",
   "metadata": {},
   "source": [
    "nebo koncentrace všech vzorků za světla:"
   ]
  },
  {
   "cell_type": "code",
   "execution_count": 27,
   "metadata": {},
   "outputs": [
    {
     "name": "stdout",
     "output_type": "stream",
     "text": [
      "        koncentrace_a koncentrace_b\n",
      "vzorek1            23            11\n",
      "vzorek2            19            10\n",
      "vzorek3            22            12\n"
     ]
    }
   ],
   "source": [
    "print(data[,,\"s_ano\"])"
   ]
  },
  {
   "cell_type": "markdown",
   "metadata": {},
   "source": [
    "Tato data by však šla reprezentovat i následující maticí:"
   ]
  },
  {
   "cell_type": "code",
   "execution_count": 28,
   "metadata": {},
   "outputs": [
    {
     "data": {
      "text/html": [
       "<table>\n",
       "<thead><tr><th></th><th scope=col>světlo</th><th scope=col>koncentrace_a</th><th scope=col>koncentrace_b</th></tr></thead>\n",
       "<tbody>\n",
       "\t<tr><th scope=row>vzorek1</th><td>1 </td><td>23</td><td>11</td></tr>\n",
       "\t<tr><th scope=row>vzorek2</th><td>1 </td><td>19</td><td>10</td></tr>\n",
       "\t<tr><th scope=row>vzorek3</th><td>1 </td><td>22</td><td>12</td></tr>\n",
       "\t<tr><th scope=row>vzorek1</th><td>0 </td><td>31</td><td> 8</td></tr>\n",
       "\t<tr><th scope=row>vzorek2</th><td>0 </td><td>34</td><td> 9</td></tr>\n",
       "\t<tr><th scope=row>vzorek3</th><td>0 </td><td>29</td><td> 7</td></tr>\n",
       "</tbody>\n",
       "</table>\n"
      ],
      "text/latex": [
       "\\begin{tabular}{r|lll}\n",
       "  & světlo & koncentrace\\_a & koncentrace\\_b\\\\\n",
       "\\hline\n",
       "\tvzorek1 & 1  & 23 & 11\\\\\n",
       "\tvzorek2 & 1  & 19 & 10\\\\\n",
       "\tvzorek3 & 1  & 22 & 12\\\\\n",
       "\tvzorek1 & 0  & 31 &  8\\\\\n",
       "\tvzorek2 & 0  & 34 &  9\\\\\n",
       "\tvzorek3 & 0  & 29 &  7\\\\\n",
       "\\end{tabular}\n"
      ],
      "text/markdown": [
       "\n",
       "| <!--/--> | světlo | koncentrace_a | koncentrace_b | \n",
       "|---|---|---|---|---|---|\n",
       "| vzorek1 | 1  | 23 | 11 | \n",
       "| vzorek2 | 1  | 19 | 10 | \n",
       "| vzorek3 | 1  | 22 | 12 | \n",
       "| vzorek1 | 0  | 31 |  8 | \n",
       "| vzorek2 | 0  | 34 |  9 | \n",
       "| vzorek3 | 0  | 29 |  7 | \n",
       "\n",
       "\n"
      ],
      "text/plain": [
       "        světlo koncentrace_a koncentrace_b\n",
       "vzorek1 1      23            11           \n",
       "vzorek2 1      19            10           \n",
       "vzorek3 1      22            12           \n",
       "vzorek1 0      31             8           \n",
       "vzorek2 0      34             9           \n",
       "vzorek3 0      29             7           "
      ]
     },
     "metadata": {},
     "output_type": "display_data"
    }
   ],
   "source": [
    "data <- matrix(\n",
    "    c(\n",
    "        1, 23, 11,\n",
    "        1, 19, 10,\n",
    "        1, 22, 12,\n",
    "        0, 31, 8,\n",
    "        0, 34, 9,\n",
    "        0, 29, 7\n",
    "    )\n",
    "    , byrow = T\n",
    "    , ncol = 3\n",
    ")\n",
    "colnames(data) <- c(\"světlo\", \"koncentrace_a\", \"koncentrace_b\")\n",
    "rownames(data) <- c(\"vzorek1\", \"vzorek2\", \"vzorek3\", \"vzorek1\", \"vzorek2\", \"vzorek3\")\n",
    "data"
   ]
  },
  {
   "cell_type": "markdown",
   "metadata": {},
   "source": [
    "Obdobné tabulky bychom pak obdrželi následovně:"
   ]
  },
  {
   "cell_type": "code",
   "execution_count": 29,
   "metadata": {},
   "outputs": [
    {
     "data": {
      "text/html": [
       "<table>\n",
       "<thead><tr><th></th><th scope=col>vzorek1</th><th scope=col>vzorek1</th></tr></thead>\n",
       "<tbody>\n",
       "\t<tr><th scope=row>světlo</th><td> 1</td><td> 0</td></tr>\n",
       "\t<tr><th scope=row>koncentrace_a</th><td>23</td><td>31</td></tr>\n",
       "\t<tr><th scope=row>koncentrace_b</th><td>11</td><td> 8</td></tr>\n",
       "</tbody>\n",
       "</table>\n"
      ],
      "text/latex": [
       "\\begin{tabular}{r|ll}\n",
       "  & vzorek1 & vzorek1\\\\\n",
       "\\hline\n",
       "\tsvětlo &  1 &  0\\\\\n",
       "\tkoncentrace\\_a & 23 & 31\\\\\n",
       "\tkoncentrace\\_b & 11 &  8\\\\\n",
       "\\end{tabular}\n"
      ],
      "text/markdown": [
       "\n",
       "| <!--/--> | vzorek1 | vzorek1 | \n",
       "|---|---|---|\n",
       "| světlo |  1 |  0 | \n",
       "| koncentrace_a | 23 | 31 | \n",
       "| koncentrace_b | 11 |  8 | \n",
       "\n",
       "\n"
      ],
      "text/plain": [
       "              vzorek1 vzorek1\n",
       "světlo         1       0     \n",
       "koncentrace_a 23      31     \n",
       "koncentrace_b 11       8     "
      ]
     },
     "metadata": {},
     "output_type": "display_data"
    }
   ],
   "source": [
    "t(data[rownames(data) == \"vzorek1\",])"
   ]
  },
  {
   "cell_type": "code",
   "execution_count": 30,
   "metadata": {},
   "outputs": [
    {
     "data": {
      "text/html": [
       "<table>\n",
       "<thead><tr><th></th><th scope=col>světlo</th><th scope=col>koncentrace_a</th><th scope=col>koncentrace_b</th></tr></thead>\n",
       "<tbody>\n",
       "\t<tr><th scope=row>vzorek1</th><td>1 </td><td>23</td><td>11</td></tr>\n",
       "\t<tr><th scope=row>vzorek2</th><td>1 </td><td>19</td><td>10</td></tr>\n",
       "\t<tr><th scope=row>vzorek3</th><td>1 </td><td>22</td><td>12</td></tr>\n",
       "</tbody>\n",
       "</table>\n"
      ],
      "text/latex": [
       "\\begin{tabular}{r|lll}\n",
       "  & světlo & koncentrace\\_a & koncentrace\\_b\\\\\n",
       "\\hline\n",
       "\tvzorek1 & 1  & 23 & 11\\\\\n",
       "\tvzorek2 & 1  & 19 & 10\\\\\n",
       "\tvzorek3 & 1  & 22 & 12\\\\\n",
       "\\end{tabular}\n"
      ],
      "text/markdown": [
       "\n",
       "| <!--/--> | světlo | koncentrace_a | koncentrace_b | \n",
       "|---|---|---|\n",
       "| vzorek1 | 1  | 23 | 11 | \n",
       "| vzorek2 | 1  | 19 | 10 | \n",
       "| vzorek3 | 1  | 22 | 12 | \n",
       "\n",
       "\n"
      ],
      "text/plain": [
       "        světlo koncentrace_a koncentrace_b\n",
       "vzorek1 1      23            11           \n",
       "vzorek2 1      19            10           \n",
       "vzorek3 1      22            12           "
      ]
     },
     "metadata": {},
     "output_type": "display_data"
    }
   ],
   "source": [
    "data[data[,\"světlo\"] == 1, ]"
   ]
  },
  {
   "cell_type": "markdown",
   "metadata": {},
   "source": [
    "R vám tedy nabízí více možností jak reprezentovat data a je často jen na vás, abyste usoudili, co vám přijde vhodnější a srozumitelnější. Některé metody a funkce implementované v R však někdy vyžadují data ve specifickém tvaru a v takových případech nebudete mít větší možnost volby. Než tedy začnete načítat data, vždy se ujistěte jakým způsobem s nimi budete chtít pracovat a podle toho zvolte vhodnou reprezentaci.\n",
    "\n",
    "## Seznam (list)\n",
    "\n",
    "Nevýhodou vektorů je, že nemohou agregovat data různých typů, a proto existují seznamy, které tuto funkcionalitu umožňují. Následující seznam například agreguje nějaké informace o vzorku:"
   ]
  },
  {
   "cell_type": "code",
   "execution_count": 31,
   "metadata": {},
   "outputs": [
    {
     "data": {
      "text/plain": [
       "$compound_a\n",
       "[1] 25\n",
       "\n",
       "$compound_b\n",
       "[1] 12\n",
       "\n",
       "$measured_by\n",
       "[1] \"John Doe\" \"Jane Doe\"\n",
       "\n",
       "$measured_on\n",
       "[1] \"2016-07-01\"\n",
       "\n",
       "$comments\n",
       "NULL\n"
      ]
     },
     "metadata": {},
     "output_type": "display_data"
    }
   ],
   "source": [
    "l_x <- list(\n",
    "    compound_a = 25\n",
    "    , compound_b = 12\n",
    "    , measured_by = c(\"John Doe\", \"Jane Doe\")\n",
    "    , measured_on = \"2016-07-01\"\n",
    "    , comments = c()\n",
    ")\n",
    "l_x"
   ]
  },
  {
   "cell_type": "markdown",
   "metadata": {},
   "source": [
    "Krom samotných koncentrací je tedy pod jedním objektem uložena i informace o tom, kdo je zodpovědný za jeho měření a kdy bylo měření vykonáno. Je tak tedy možné krom dat samotných ukládat i tzv. metadata, tedy data o datech. Všimněte si též, že položkou může být i vektor. Do seznamu lze opravdu uložit téměř cokoliv (včetně seznamů samotných).\n",
    "\n",
    "Přes jednotlivé pložky uložené v seznamu lze iterovat, například pomocí cylu `for`:"
   ]
  },
  {
   "cell_type": "code",
   "execution_count": 32,
   "metadata": {},
   "outputs": [
    {
     "name": "stdout",
     "output_type": "stream",
     "text": [
      "[1] 25\n",
      "[1] 12\n",
      "[1] \"John Doe\" \"Jane Doe\"\n",
      "[1] \"2016-07-01\"\n",
      "NULL\n"
     ]
    }
   ],
   "source": [
    "for (i in l_x) print(i)"
   ]
  },
  {
   "cell_type": "markdown",
   "metadata": {},
   "source": [
    "Na jména jednotlivých položek se lze zeptat pomocí funkce `names`:"
   ]
  },
  {
   "cell_type": "code",
   "execution_count": 33,
   "metadata": {},
   "outputs": [
    {
     "data": {
      "text/html": [
       "<ol class=list-inline>\n",
       "\t<li>'compound_a'</li>\n",
       "\t<li>'compound_b'</li>\n",
       "\t<li>'measured_by'</li>\n",
       "\t<li>'measured_on'</li>\n",
       "\t<li>'comments'</li>\n",
       "</ol>\n"
      ],
      "text/latex": [
       "\\begin{enumerate*}\n",
       "\\item 'compound\\_a'\n",
       "\\item 'compound\\_b'\n",
       "\\item 'measured\\_by'\n",
       "\\item 'measured\\_on'\n",
       "\\item 'comments'\n",
       "\\end{enumerate*}\n"
      ],
      "text/markdown": [
       "1. 'compound_a'\n",
       "2. 'compound_b'\n",
       "3. 'measured_by'\n",
       "4. 'measured_on'\n",
       "5. 'comments'\n",
       "\n",
       "\n"
      ],
      "text/plain": [
       "[1] \"compound_a\"  \"compound_b\"  \"measured_by\" \"measured_on\" \"comments\"   "
      ]
     },
     "metadata": {},
     "output_type": "display_data"
    }
   ],
   "source": [
    "names(l_x)"
   ]
  },
  {
   "cell_type": "markdown",
   "metadata": {},
   "source": [
    "Přistupovat k jednotlivým položkám pak lze pomocí těchto jmen a za použití dvou různých operátorů:"
   ]
  },
  {
   "cell_type": "code",
   "execution_count": 34,
   "metadata": {},
   "outputs": [
    {
     "data": {
      "text/html": [
       "25"
      ],
      "text/latex": [
       "25"
      ],
      "text/markdown": [
       "25"
      ],
      "text/plain": [
       "[1] 25"
      ]
     },
     "metadata": {},
     "output_type": "display_data"
    },
    {
     "data": {
      "text/html": [
       "<ol class=list-inline>\n",
       "\t<li>'John Doe'</li>\n",
       "\t<li>'Jane Doe'</li>\n",
       "</ol>\n"
      ],
      "text/latex": [
       "\\begin{enumerate*}\n",
       "\\item 'John Doe'\n",
       "\\item 'Jane Doe'\n",
       "\\end{enumerate*}\n"
      ],
      "text/markdown": [
       "1. 'John Doe'\n",
       "2. 'Jane Doe'\n",
       "\n",
       "\n"
      ],
      "text/plain": [
       "[1] \"John Doe\" \"Jane Doe\""
      ]
     },
     "metadata": {},
     "output_type": "display_data"
    },
    {
     "data": {
      "text/html": [
       "25"
      ],
      "text/latex": [
       "25"
      ],
      "text/markdown": [
       "25"
      ],
      "text/plain": [
       "[1] 25"
      ]
     },
     "metadata": {},
     "output_type": "display_data"
    },
    {
     "data": {
      "text/html": [
       "<ol class=list-inline>\n",
       "\t<li>'John Doe'</li>\n",
       "\t<li>'Jane Doe'</li>\n",
       "</ol>\n"
      ],
      "text/latex": [
       "\\begin{enumerate*}\n",
       "\\item 'John Doe'\n",
       "\\item 'Jane Doe'\n",
       "\\end{enumerate*}\n"
      ],
      "text/markdown": [
       "1. 'John Doe'\n",
       "2. 'Jane Doe'\n",
       "\n",
       "\n"
      ],
      "text/plain": [
       "[1] \"John Doe\" \"Jane Doe\""
      ]
     },
     "metadata": {},
     "output_type": "display_data"
    }
   ],
   "source": [
    "l_x$compound_a\n",
    "l_x$measured_by\n",
    "l_x[[\"compound_a\"]]\n",
    "l_x[[\"measured_by\"]]"
   ]
  },
  {
   "cell_type": "markdown",
   "metadata": {},
   "source": [
    "V těchto operátorech v podstatě není žádný rozdíl, ale druhá možnost pomocí řetězce a hranatých závorek je o něco flexibilnější, neboť umožňuje přistupovat k jednotlivým prvkům skrze proměnné. To by mohlo být užitečné například v následující funkci, která přiřazuje komentář k vybrané položce v seznamu v určitém formátu:"
   ]
  },
  {
   "cell_type": "code",
   "execution_count": 35,
   "metadata": {},
   "outputs": [
    {
     "data": {
      "text/html": [
       "<dl>\n",
       "\t<dt>$compound_a</dt>\n",
       "\t\t<dd>25</dd>\n",
       "\t<dt>$compound_b</dt>\n",
       "\t\t<dd>12</dd>\n",
       "\t<dt>$measured_by</dt>\n",
       "\t\t<dd><ol class=list-inline>\n",
       "\t<li>'John Doe'</li>\n",
       "\t<li>'Jane Doe'</li>\n",
       "</ol>\n",
       "</dd>\n",
       "\t<dt>$measured_on</dt>\n",
       "\t\t<dd>'2016-07-01'</dd>\n",
       "\t<dt>$comments</dt>\n",
       "\t\t<dd>'můj komentář; comment on compound_a with value 25'</dd>\n",
       "</dl>\n"
      ],
      "text/latex": [
       "\\begin{description}\n",
       "\\item[\\$compound\\_a] 25\n",
       "\\item[\\$compound\\_b] 12\n",
       "\\item[\\$measured\\_by] \\begin{enumerate*}\n",
       "\\item 'John Doe'\n",
       "\\item 'Jane Doe'\n",
       "\\end{enumerate*}\n",
       "\n",
       "\\item[\\$measured\\_on] '2016-07-01'\n",
       "\\item[\\$comments] 'můj komentář; comment on compound\\_a with value 25'\n",
       "\\end{description}\n"
      ],
      "text/markdown": [
       "$compound_a\n",
       ":   25\n",
       "$compound_b\n",
       ":   12\n",
       "$measured_by\n",
       ":   1. 'John Doe'\n",
       "2. 'Jane Doe'\n",
       "\n",
       "\n",
       "\n",
       "$measured_on\n",
       ":   '2016-07-01'\n",
       "$comments\n",
       ":   'můj komentář; comment on compound_a with value 25'\n",
       "\n",
       "\n"
      ],
      "text/plain": [
       "$compound_a\n",
       "[1] 25\n",
       "\n",
       "$compound_b\n",
       "[1] 12\n",
       "\n",
       "$measured_by\n",
       "[1] \"John Doe\" \"Jane Doe\"\n",
       "\n",
       "$measured_on\n",
       "[1] \"2016-07-01\"\n",
       "\n",
       "$comments\n",
       "[1] \"můj komentář; comment on compound_a with value 25\"\n"
      ]
     },
     "metadata": {},
     "output_type": "display_data"
    }
   ],
   "source": [
    "make_comment <- function(input_list, commented_field, comment_text) {\n",
    "    cf_value <- input_list[commented_field]\n",
    "    input_list$comments <- c(\n",
    "                            input_list$comments, \n",
    "                            paste(\n",
    "                                comment_text\n",
    "                                , \"; comment on \"\n",
    "                                , commented_field\n",
    "                                , \" with value \"\n",
    "                                , cf_value\n",
    "                                , sep = \"\")\n",
    "    )\n",
    "    input_list\n",
    "}\n",
    "l_x <- make_comment(l_x, \"compound_a\", \"můj komentář\")\n",
    "l_x"
   ]
  },
  {
   "cell_type": "markdown",
   "metadata": {},
   "source": [
    "Důvodem, proč je přístup k prvkům seznamu řešen pomocí specifických operátorů je ten, že klasický operátor `[` vrací pouze určitou podmnožinu seznamu, která je opět typu `list`. Díky tomu lze například v našem příkladu jednoduše vytvořit seznam bez komentářů:"
   ]
  },
  {
   "cell_type": "code",
   "execution_count": 36,
   "metadata": {},
   "outputs": [
    {
     "data": {
      "text/html": [
       "<dl>\n",
       "\t<dt>$compound_a</dt>\n",
       "\t\t<dd>25</dd>\n",
       "\t<dt>$compound_b</dt>\n",
       "\t\t<dd>12</dd>\n",
       "\t<dt>$measured_by</dt>\n",
       "\t\t<dd><ol class=list-inline>\n",
       "\t<li>'John Doe'</li>\n",
       "\t<li>'Jane Doe'</li>\n",
       "</ol>\n",
       "</dd>\n",
       "\t<dt>$measured_on</dt>\n",
       "\t\t<dd>'2016-07-01'</dd>\n",
       "</dl>\n"
      ],
      "text/latex": [
       "\\begin{description}\n",
       "\\item[\\$compound\\_a] 25\n",
       "\\item[\\$compound\\_b] 12\n",
       "\\item[\\$measured\\_by] \\begin{enumerate*}\n",
       "\\item 'John Doe'\n",
       "\\item 'Jane Doe'\n",
       "\\end{enumerate*}\n",
       "\n",
       "\\item[\\$measured\\_on] '2016-07-01'\n",
       "\\end{description}\n"
      ],
      "text/markdown": [
       "$compound_a\n",
       ":   25\n",
       "$compound_b\n",
       ":   12\n",
       "$measured_by\n",
       ":   1. 'John Doe'\n",
       "2. 'Jane Doe'\n",
       "\n",
       "\n",
       "\n",
       "$measured_on\n",
       ":   '2016-07-01'\n",
       "\n",
       "\n"
      ],
      "text/plain": [
       "$compound_a\n",
       "[1] 25\n",
       "\n",
       "$compound_b\n",
       "[1] 12\n",
       "\n",
       "$measured_by\n",
       "[1] \"John Doe\" \"Jane Doe\"\n",
       "\n",
       "$measured_on\n",
       "[1] \"2016-07-01\"\n"
      ]
     },
     "metadata": {},
     "output_type": "display_data"
    }
   ],
   "source": [
    "l_x_no_comment <- l_x[!(names(l_x) %in% c(\"comments\"))]\n",
    "l_x_no_comment"
   ]
  },
  {
   "cell_type": "markdown",
   "metadata": {},
   "source": [
    "Čili dvojitá forma `[[` se používa pouze k přístupu k hodnotě schované pod určitým jménem v seznamu, zatímco klasická forma `[` se většinou použije k výběru více prvků najednou.\n",
    "\n",
    "Položky seznamu lze též snado přidávat a mazat:"
   ]
  },
  {
   "cell_type": "code",
   "execution_count": 37,
   "metadata": {},
   "outputs": [
    {
     "data": {
      "text/html": [
       "<dl>\n",
       "\t<dt>$compound_a</dt>\n",
       "\t\t<dd>25</dd>\n",
       "\t<dt>$compound_b</dt>\n",
       "\t\t<dd>12</dd>\n",
       "\t<dt>$measured_by</dt>\n",
       "\t\t<dd><ol class=list-inline>\n",
       "\t<li>'John Doe'</li>\n",
       "\t<li>'Jane Doe'</li>\n",
       "</ol>\n",
       "</dd>\n",
       "\t<dt>$measured_on</dt>\n",
       "\t\t<dd>'2016-07-01'</dd>\n",
       "\t<dt>$comments</dt>\n",
       "\t\t<dd>'můj komentář; comment on compound_a with value 25'</dd>\n",
       "\t<dt>$sum</dt>\n",
       "\t\t<dd>37</dd>\n",
       "</dl>\n"
      ],
      "text/latex": [
       "\\begin{description}\n",
       "\\item[\\$compound\\_a] 25\n",
       "\\item[\\$compound\\_b] 12\n",
       "\\item[\\$measured\\_by] \\begin{enumerate*}\n",
       "\\item 'John Doe'\n",
       "\\item 'Jane Doe'\n",
       "\\end{enumerate*}\n",
       "\n",
       "\\item[\\$measured\\_on] '2016-07-01'\n",
       "\\item[\\$comments] 'můj komentář; comment on compound\\_a with value 25'\n",
       "\\item[\\$sum] 37\n",
       "\\end{description}\n"
      ],
      "text/markdown": [
       "$compound_a\n",
       ":   25\n",
       "$compound_b\n",
       ":   12\n",
       "$measured_by\n",
       ":   1. 'John Doe'\n",
       "2. 'Jane Doe'\n",
       "\n",
       "\n",
       "\n",
       "$measured_on\n",
       ":   '2016-07-01'\n",
       "$comments\n",
       ":   'můj komentář; comment on compound_a with value 25'\n",
       "$sum\n",
       ":   37\n",
       "\n",
       "\n"
      ],
      "text/plain": [
       "$compound_a\n",
       "[1] 25\n",
       "\n",
       "$compound_b\n",
       "[1] 12\n",
       "\n",
       "$measured_by\n",
       "[1] \"John Doe\" \"Jane Doe\"\n",
       "\n",
       "$measured_on\n",
       "[1] \"2016-07-01\"\n",
       "\n",
       "$comments\n",
       "[1] \"můj komentář; comment on compound_a with value 25\"\n",
       "\n",
       "$sum\n",
       "[1] 37\n"
      ]
     },
     "metadata": {},
     "output_type": "display_data"
    },
    {
     "data": {
      "text/html": [
       "6"
      ],
      "text/latex": [
       "6"
      ],
      "text/markdown": [
       "6"
      ],
      "text/plain": [
       "[1] 6"
      ]
     },
     "metadata": {},
     "output_type": "display_data"
    }
   ],
   "source": [
    "l_x$sum <- l_x$compound_a + l_x$compound_b\n",
    "l_x\n",
    "length(l_x) # dotaz na počet položek seznamu lze snadno vykonat pomocí funkce `length`"
   ]
  },
  {
   "cell_type": "code",
   "execution_count": 38,
   "metadata": {},
   "outputs": [
    {
     "data": {
      "text/html": [
       "<dl>\n",
       "\t<dt>$compound_a</dt>\n",
       "\t\t<dd>25</dd>\n",
       "\t<dt>$compound_b</dt>\n",
       "\t\t<dd>12</dd>\n",
       "\t<dt>$measured_by</dt>\n",
       "\t\t<dd><ol class=list-inline>\n",
       "\t<li>'John Doe'</li>\n",
       "\t<li>'Jane Doe'</li>\n",
       "</ol>\n",
       "</dd>\n",
       "\t<dt>$measured_on</dt>\n",
       "\t\t<dd>'2016-07-01'</dd>\n",
       "\t<dt>$sum</dt>\n",
       "\t\t<dd>37</dd>\n",
       "</dl>\n"
      ],
      "text/latex": [
       "\\begin{description}\n",
       "\\item[\\$compound\\_a] 25\n",
       "\\item[\\$compound\\_b] 12\n",
       "\\item[\\$measured\\_by] \\begin{enumerate*}\n",
       "\\item 'John Doe'\n",
       "\\item 'Jane Doe'\n",
       "\\end{enumerate*}\n",
       "\n",
       "\\item[\\$measured\\_on] '2016-07-01'\n",
       "\\item[\\$sum] 37\n",
       "\\end{description}\n"
      ],
      "text/markdown": [
       "$compound_a\n",
       ":   25\n",
       "$compound_b\n",
       ":   12\n",
       "$measured_by\n",
       ":   1. 'John Doe'\n",
       "2. 'Jane Doe'\n",
       "\n",
       "\n",
       "\n",
       "$measured_on\n",
       ":   '2016-07-01'\n",
       "$sum\n",
       ":   37\n",
       "\n",
       "\n"
      ],
      "text/plain": [
       "$compound_a\n",
       "[1] 25\n",
       "\n",
       "$compound_b\n",
       "[1] 12\n",
       "\n",
       "$measured_by\n",
       "[1] \"John Doe\" \"Jane Doe\"\n",
       "\n",
       "$measured_on\n",
       "[1] \"2016-07-01\"\n",
       "\n",
       "$sum\n",
       "[1] 37\n"
      ]
     },
     "metadata": {},
     "output_type": "display_data"
    },
    {
     "data": {
      "text/html": [
       "5"
      ],
      "text/latex": [
       "5"
      ],
      "text/markdown": [
       "5"
      ],
      "text/plain": [
       "[1] 5"
      ]
     },
     "metadata": {},
     "output_type": "display_data"
    }
   ],
   "source": [
    "l_x$comments <- NULL\n",
    "l_x\n",
    "length(l_x)"
   ]
  },
  {
   "cell_type": "markdown",
   "metadata": {},
   "source": [
    "Pokud chcete převést seznam na vektor, lze tak rychle učinit funkcí `unlist`:"
   ]
  },
  {
   "cell_type": "code",
   "execution_count": 39,
   "metadata": {},
   "outputs": [
    {
     "data": {
      "text/html": [
       "<dl class=dl-horizontal>\n",
       "\t<dt>compound_a</dt>\n",
       "\t\t<dd>'25'</dd>\n",
       "\t<dt>compound_b</dt>\n",
       "\t\t<dd>'12'</dd>\n",
       "\t<dt>measured_by1</dt>\n",
       "\t\t<dd>'John Doe'</dd>\n",
       "\t<dt>measured_by2</dt>\n",
       "\t\t<dd>'Jane Doe'</dd>\n",
       "\t<dt>measured_on</dt>\n",
       "\t\t<dd>'2016-07-01'</dd>\n",
       "\t<dt>sum</dt>\n",
       "\t\t<dd>'37'</dd>\n",
       "</dl>\n"
      ],
      "text/latex": [
       "\\begin{description*}\n",
       "\\item[compound\\textbackslash{}\\_a] '25'\n",
       "\\item[compound\\textbackslash{}\\_b] '12'\n",
       "\\item[measured\\textbackslash{}\\_by1] 'John Doe'\n",
       "\\item[measured\\textbackslash{}\\_by2] 'Jane Doe'\n",
       "\\item[measured\\textbackslash{}\\_on] '2016-07-01'\n",
       "\\item[sum] '37'\n",
       "\\end{description*}\n"
      ],
      "text/markdown": [
       "compound_a\n",
       ":   '25'compound_b\n",
       ":   '12'measured_by1\n",
       ":   'John Doe'measured_by2\n",
       ":   'Jane Doe'measured_on\n",
       ":   '2016-07-01'sum\n",
       ":   '37'\n",
       "\n"
      ],
      "text/plain": [
       "  compound_a   compound_b measured_by1 measured_by2  measured_on          sum \n",
       "        \"25\"         \"12\"   \"John Doe\"   \"Jane Doe\" \"2016-07-01\"         \"37\" "
      ]
     },
     "metadata": {},
     "output_type": "display_data"
    }
   ],
   "source": [
    "unlist(l_x)"
   ]
  },
  {
   "cell_type": "markdown",
   "metadata": {},
   "source": [
    "### Použití seznamů\n",
    "\n",
    "Seznamy se v R nejčastěji používají jako návratové hodnoty funkcí, které mají více výsledků. Výhodné by to bylo například u následující funkce, které najednou počítá součet, součin, rozdíl a podíl dvou čísel:"
   ]
  },
  {
   "cell_type": "code",
   "execution_count": 40,
   "metadata": {},
   "outputs": [
    {
     "data": {
      "text/html": [
       "<dl>\n",
       "\t<dt>$součet</dt>\n",
       "\t\t<dd>8</dd>\n",
       "\t<dt>$součin</dt>\n",
       "\t\t<dd>15</dd>\n",
       "\t<dt>$rozdíl</dt>\n",
       "\t\t<dd>2</dd>\n",
       "\t<dt>$podíl</dt>\n",
       "\t\t<dd>1.66666666666667</dd>\n",
       "</dl>\n"
      ],
      "text/latex": [
       "\\begin{description}\n",
       "\\item[\\$součet] 8\n",
       "\\item[\\$součin] 15\n",
       "\\item[\\$rozdíl] 2\n",
       "\\item[\\$podíl] 1.66666666666667\n",
       "\\end{description}\n"
      ],
      "text/markdown": [
       "$součet\n",
       ":   8\n",
       "$součin\n",
       ":   15\n",
       "$rozdíl\n",
       ":   2\n",
       "$podíl\n",
       ":   1.66666666666667\n",
       "\n",
       "\n"
      ],
      "text/plain": [
       "$součet\n",
       "[1] 8\n",
       "\n",
       "$součin\n",
       "[1] 15\n",
       "\n",
       "$rozdíl\n",
       "[1] 2\n",
       "\n",
       "$podíl\n",
       "[1] 1.666667\n"
      ]
     },
     "metadata": {},
     "output_type": "display_data"
    }
   ],
   "source": [
    "spočítej <- function (a, b) {\n",
    "    ret <- list()\n",
    "    ret[[\"součet\"]] <- a + b\n",
    "    ret[[\"součin\"]] <- a * b\n",
    "    ret[[\"rozdíl\"]] <- a - b\n",
    "    ret[[\"podíl\"]] <- a / b\n",
    "    \n",
    "    ret\n",
    "}\n",
    "\n",
    "spočítej(5, 3)"
   ]
  },
  {
   "cell_type": "code",
   "execution_count": null,
   "metadata": {
    "collapsed": true
   },
   "outputs": [],
   "source": []
  }
 ],
 "metadata": {
  "kernelspec": {
   "display_name": "R",
   "language": "R",
   "name": "ir"
  },
  "language_info": {
   "codemirror_mode": "r",
   "file_extension": ".r",
   "mimetype": "text/x-r-source",
   "name": "R",
   "pygments_lexer": "r",
   "version": "3.3.2"
  },
  "toc": {
   "nav_menu": {},
   "number_sections": true,
   "sideBar": true,
   "skip_h1_title": true,
   "toc_cell": true,
   "toc_position": {},
   "toc_section_display": "block",
   "toc_window_display": false
  }
 },
 "nbformat": 4,
 "nbformat_minor": 2
}
