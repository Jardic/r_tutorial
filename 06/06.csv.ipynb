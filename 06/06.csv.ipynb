{
 "cells": [
  {
   "cell_type": "markdown",
   "metadata": {
    "toc": "true"
   },
   "source": [
    " # Table of Contents\n",
    "<div class=\"toc\" style=\"margin-top: 1em;\"><ul class=\"toc-item\" id=\"toc-level0\"></ul></div>"
   ]
  },
  {
   "cell_type": "markdown",
   "metadata": {},
   "source": [
    "# Popisná statistika v R\n",
    "\n",
    "bla bla"
   ]
  },
  {
   "cell_type": "code",
   "execution_count": 1,
   "metadata": {},
   "outputs": [
    {
     "data": {
      "text/html": [
       "<table>\n",
       "<thead><tr><th scope=col>Series.Name</th><th scope=col>Series.Code</th><th scope=col>Country.Name</th><th scope=col>Country.Code</th><th scope=col>X1960..YR1960.</th><th scope=col>X1961..YR1961.</th><th scope=col>X1962..YR1962.</th><th scope=col>X1963..YR1963.</th><th scope=col>X1964..YR1964.</th><th scope=col>X1965..YR1965.</th><th scope=col>⋯</th><th scope=col>X2007..YR2007.</th><th scope=col>X2008..YR2008.</th><th scope=col>X2009..YR2009.</th><th scope=col>X2010..YR2010.</th><th scope=col>X2011..YR2011.</th><th scope=col>X2012..YR2012.</th><th scope=col>X2013..YR2013.</th><th scope=col>X2014..YR2014.</th><th scope=col>X2015..YR2015.</th><th scope=col>X2016..YR2016.</th></tr></thead>\n",
       "<tbody>\n",
       "\t<tr><td>Total alcohol consumption per capita (liters of pure alcohol, projected estimates, 15+ years of age)</td><td>SH.ALC.PCAP.LI                                                                                      </td><td>Afghanistan                                                                                         </td><td>AFG                                                                                                 </td><td>..                                                                                                  </td><td>..                                                                                                  </td><td>..                                                                                                  </td><td>..                                                                                                  </td><td>..                                                                                                  </td><td>..                                                                                                  </td><td>⋯                                                                                                   </td><td>..                                                                                                  </td><td>..                                                                                                  </td><td>..                                                                                                  </td><td>..                                                                                                  </td><td>..                                                                                                  </td><td>..                                                                                                  </td><td>..                                                                                                  </td><td>..                                                                                                  </td><td>1                                                                                                   </td><td>..                                                                                                  </td></tr>\n",
       "\t<tr><td>Total alcohol consumption per capita (liters of pure alcohol, projected estimates, 15+ years of age)</td><td>SH.ALC.PCAP.LI                                                                                      </td><td>Albania                                                                                             </td><td>ALB                                                                                                 </td><td>..                                                                                                  </td><td>..                                                                                                  </td><td>..                                                                                                  </td><td>..                                                                                                  </td><td>..                                                                                                  </td><td>..                                                                                                  </td><td>⋯                                                                                                   </td><td>..                                                                                                  </td><td>..                                                                                                  </td><td>..                                                                                                  </td><td>..                                                                                                  </td><td>..                                                                                                  </td><td>..                                                                                                  </td><td>..                                                                                                  </td><td>..                                                                                                  </td><td>6.6                                                                                                 </td><td>..                                                                                                  </td></tr>\n",
       "</tbody>\n",
       "</table>\n"
      ],
      "text/latex": [
       "\\begin{tabular}{r|lllllllllllllllllllllllllllllllllllllllllllllllllllllllllllll}\n",
       " Series.Name & Series.Code & Country.Name & Country.Code & X1960..YR1960. & X1961..YR1961. & X1962..YR1962. & X1963..YR1963. & X1964..YR1964. & X1965..YR1965. & ⋯ & X2007..YR2007. & X2008..YR2008. & X2009..YR2009. & X2010..YR2010. & X2011..YR2011. & X2012..YR2012. & X2013..YR2013. & X2014..YR2014. & X2015..YR2015. & X2016..YR2016.\\\\\n",
       "\\hline\n",
       "\t Total alcohol consumption per capita (liters of pure alcohol, projected estimates, 15+ years of age) & SH.ALC.PCAP.LI                                                                                       & Afghanistan                                                                                          & AFG                                                                                                  & ..                                                                                                   & ..                                                                                                   & ..                                                                                                   & ..                                                                                                   & ..                                                                                                   & ..                                                                                                   & ⋯                                                                                                    & ..                                                                                                   & ..                                                                                                   & ..                                                                                                   & ..                                                                                                   & ..                                                                                                   & ..                                                                                                   & ..                                                                                                   & ..                                                                                                   & 1                                                                                                    & ..                                                                                                  \\\\\n",
       "\t Total alcohol consumption per capita (liters of pure alcohol, projected estimates, 15+ years of age) & SH.ALC.PCAP.LI                                                                                       & Albania                                                                                              & ALB                                                                                                  & ..                                                                                                   & ..                                                                                                   & ..                                                                                                   & ..                                                                                                   & ..                                                                                                   & ..                                                                                                   & ⋯                                                                                                    & ..                                                                                                   & ..                                                                                                   & ..                                                                                                   & ..                                                                                                   & ..                                                                                                   & ..                                                                                                   & ..                                                                                                   & ..                                                                                                   & 6.6                                                                                                  & ..                                                                                                  \\\\\n",
       "\\end{tabular}\n"
      ],
      "text/markdown": [
       "\n",
       "Series.Name | Series.Code | Country.Name | Country.Code | X1960..YR1960. | X1961..YR1961. | X1962..YR1962. | X1963..YR1963. | X1964..YR1964. | X1965..YR1965. | ⋯ | X2007..YR2007. | X2008..YR2008. | X2009..YR2009. | X2010..YR2010. | X2011..YR2011. | X2012..YR2012. | X2013..YR2013. | X2014..YR2014. | X2015..YR2015. | X2016..YR2016. | \n",
       "|---|---|\n",
       "| Total alcohol consumption per capita (liters of pure alcohol, projected estimates, 15+ years of age) | SH.ALC.PCAP.LI                                                                                       | Afghanistan                                                                                          | AFG                                                                                                  | ..                                                                                                   | ..                                                                                                   | ..                                                                                                   | ..                                                                                                   | ..                                                                                                   | ..                                                                                                   | ⋯                                                                                                    | ..                                                                                                   | ..                                                                                                   | ..                                                                                                   | ..                                                                                                   | ..                                                                                                   | ..                                                                                                   | ..                                                                                                   | ..                                                                                                   | 1                                                                                                    | ..                                                                                                   | \n",
       "| Total alcohol consumption per capita (liters of pure alcohol, projected estimates, 15+ years of age) | SH.ALC.PCAP.LI                                                                                       | Albania                                                                                              | ALB                                                                                                  | ..                                                                                                   | ..                                                                                                   | ..                                                                                                   | ..                                                                                                   | ..                                                                                                   | ..                                                                                                   | ⋯                                                                                                    | ..                                                                                                   | ..                                                                                                   | ..                                                                                                   | ..                                                                                                   | ..                                                                                                   | ..                                                                                                   | ..                                                                                                   | ..                                                                                                   | 6.6                                                                                                  | ..                                                                                                   | \n",
       "\n",
       "\n"
      ],
      "text/plain": [
       "  Series.Name                                                                                         \n",
       "1 Total alcohol consumption per capita (liters of pure alcohol, projected estimates, 15+ years of age)\n",
       "2 Total alcohol consumption per capita (liters of pure alcohol, projected estimates, 15+ years of age)\n",
       "  Series.Code    Country.Name Country.Code X1960..YR1960. X1961..YR1961.\n",
       "1 SH.ALC.PCAP.LI Afghanistan  AFG          ..             ..            \n",
       "2 SH.ALC.PCAP.LI Albania      ALB          ..             ..            \n",
       "  X1962..YR1962. X1963..YR1963. X1964..YR1964. X1965..YR1965. ⋯ X2007..YR2007.\n",
       "1 ..             ..             ..             ..             ⋯ ..            \n",
       "2 ..             ..             ..             ..             ⋯ ..            \n",
       "  X2008..YR2008. X2009..YR2009. X2010..YR2010. X2011..YR2011. X2012..YR2012.\n",
       "1 ..             ..             ..             ..             ..            \n",
       "2 ..             ..             ..             ..             ..            \n",
       "  X2013..YR2013. X2014..YR2014. X2015..YR2015. X2016..YR2016.\n",
       "1 ..             ..             1              ..            \n",
       "2 ..             ..             6.6            ..            "
      ]
     },
     "metadata": {},
     "output_type": "display_data"
    }
   ],
   "source": [
    "df_alkohol <- read.table(\n",
    "    \"alcohol_data.csv\"\n",
    "    , sep=\",\"\n",
    "    , header = T\n",
    "    , quote = '\"'\n",
    "    , stringsAsFactors = F\n",
    ")\n",
    "head(df_alkohol, 2)"
   ]
  },
  {
   "cell_type": "code",
   "execution_count": 2,
   "metadata": {},
   "outputs": [
    {
     "data": {
      "text/html": [
       "<table>\n",
       "<thead><tr><th scope=col>Country.Name</th><th scope=col>X2015..YR2015.</th></tr></thead>\n",
       "<tbody>\n",
       "\t<tr><td>Afghanistan   </td><td>1             </td></tr>\n",
       "\t<tr><td>Albania       </td><td>6.6           </td></tr>\n",
       "\t<tr><td>Algeria       </td><td>0.6           </td></tr>\n",
       "\t<tr><td>American Samoa</td><td>..            </td></tr>\n",
       "\t<tr><td>Andorra       </td><td>9.1           </td></tr>\n",
       "\t<tr><td>Angola        </td><td>7.6           </td></tr>\n",
       "</tbody>\n",
       "</table>\n"
      ],
      "text/latex": [
       "\\begin{tabular}{r|ll}\n",
       " Country.Name & X2015..YR2015.\\\\\n",
       "\\hline\n",
       "\t Afghanistan    & 1             \\\\\n",
       "\t Albania        & 6.6           \\\\\n",
       "\t Algeria        & 0.6           \\\\\n",
       "\t American Samoa & ..            \\\\\n",
       "\t Andorra        & 9.1           \\\\\n",
       "\t Angola         & 7.6           \\\\\n",
       "\\end{tabular}\n"
      ],
      "text/markdown": [
       "\n",
       "Country.Name | X2015..YR2015. | \n",
       "|---|---|---|---|---|---|\n",
       "| Afghanistan    | 1              | \n",
       "| Albania        | 6.6            | \n",
       "| Algeria        | 0.6            | \n",
       "| American Samoa | ..             | \n",
       "| Andorra        | 9.1            | \n",
       "| Angola         | 7.6            | \n",
       "\n",
       "\n"
      ],
      "text/plain": [
       "  Country.Name   X2015..YR2015.\n",
       "1 Afghanistan    1             \n",
       "2 Albania        6.6           \n",
       "3 Algeria        0.6           \n",
       "4 American Samoa ..            \n",
       "5 Andorra        9.1           \n",
       "6 Angola         7.6           "
      ]
     },
     "metadata": {},
     "output_type": "display_data"
    }
   ],
   "source": [
    "head(df_alkohol[c(\"Country.Name\", \"X2015..YR2015.\")])"
   ]
  },
  {
   "cell_type": "code",
   "execution_count": 3,
   "metadata": {},
   "outputs": [
    {
     "data": {
      "text/html": [
       "<table>\n",
       "<thead><tr><th scope=col>Země</th><th scope=col>Konzumace_lpc</th></tr></thead>\n",
       "<tbody>\n",
       "\t<tr><td>Afghanistan   </td><td>1             </td></tr>\n",
       "\t<tr><td>Albania       </td><td>6.6           </td></tr>\n",
       "\t<tr><td>Algeria       </td><td>0.6           </td></tr>\n",
       "\t<tr><td>American Samoa</td><td>..            </td></tr>\n",
       "\t<tr><td>Andorra       </td><td>9.1           </td></tr>\n",
       "\t<tr><td>Angola        </td><td>7.6           </td></tr>\n",
       "</tbody>\n",
       "</table>\n"
      ],
      "text/latex": [
       "\\begin{tabular}{r|ll}\n",
       " Země & Konzumace\\_lpc\\\\\n",
       "\\hline\n",
       "\t Afghanistan    & 1             \\\\\n",
       "\t Albania        & 6.6           \\\\\n",
       "\t Algeria        & 0.6           \\\\\n",
       "\t American Samoa & ..            \\\\\n",
       "\t Andorra        & 9.1           \\\\\n",
       "\t Angola         & 7.6           \\\\\n",
       "\\end{tabular}\n"
      ],
      "text/markdown": [
       "\n",
       "Země | Konzumace_lpc | \n",
       "|---|---|---|---|---|---|\n",
       "| Afghanistan    | 1              | \n",
       "| Albania        | 6.6            | \n",
       "| Algeria        | 0.6            | \n",
       "| American Samoa | ..             | \n",
       "| Andorra        | 9.1            | \n",
       "| Angola         | 7.6            | \n",
       "\n",
       "\n"
      ],
      "text/plain": [
       "  Země           Konzumace_lpc\n",
       "1 Afghanistan    1            \n",
       "2 Albania        6.6          \n",
       "3 Algeria        0.6          \n",
       "4 American Samoa ..           \n",
       "5 Andorra        9.1          \n",
       "6 Angola         7.6          "
      ]
     },
     "metadata": {},
     "output_type": "display_data"
    }
   ],
   "source": [
    "df_alkohol <- df_alkohol[c(\"Country.Name\", \"X2015..YR2015.\")]\n",
    "colnames(df_alkohol) <- c(\"Země\", \"Konzumace_lpc\")\n",
    "head(df_alkohol)"
   ]
  },
  {
   "cell_type": "code",
   "execution_count": 4,
   "metadata": {},
   "outputs": [
    {
     "data": {
      "text/html": [
       "'character'"
      ],
      "text/latex": [
       "'character'"
      ],
      "text/markdown": [
       "'character'"
      ],
      "text/plain": [
       "[1] \"character\""
      ]
     },
     "metadata": {},
     "output_type": "display_data"
    }
   ],
   "source": [
    "class(df_alkohol$Konzumace_lpc)"
   ]
  },
  {
   "cell_type": "code",
   "execution_count": 5,
   "metadata": {},
   "outputs": [
    {
     "name": "stderr",
     "output_type": "stream",
     "text": [
      "Warning message in eval(expr, envir, enclos):\n",
      "“NAs introduced by coercion”"
     ]
    }
   ],
   "source": [
    "df_alkohol$Konzumace_lpc <- as.numeric(df_alkohol$Konzumace_lpc)"
   ]
  },
  {
   "cell_type": "code",
   "execution_count": 6,
   "metadata": {},
   "outputs": [
    {
     "data": {
      "text/html": [
       "<table>\n",
       "<thead><tr><th scope=col>Země</th><th scope=col>Konzumace_lpc</th></tr></thead>\n",
       "<tbody>\n",
       "\t<tr><td>Afghanistan   </td><td>1.0           </td></tr>\n",
       "\t<tr><td>Albania       </td><td>6.6           </td></tr>\n",
       "\t<tr><td>Algeria       </td><td>0.6           </td></tr>\n",
       "\t<tr><td>American Samoa</td><td> NA           </td></tr>\n",
       "\t<tr><td>Andorra       </td><td>9.1           </td></tr>\n",
       "\t<tr><td>Angola        </td><td>7.6           </td></tr>\n",
       "</tbody>\n",
       "</table>\n"
      ],
      "text/latex": [
       "\\begin{tabular}{r|ll}\n",
       " Země & Konzumace\\_lpc\\\\\n",
       "\\hline\n",
       "\t Afghanistan    & 1.0           \\\\\n",
       "\t Albania        & 6.6           \\\\\n",
       "\t Algeria        & 0.6           \\\\\n",
       "\t American Samoa &  NA           \\\\\n",
       "\t Andorra        & 9.1           \\\\\n",
       "\t Angola         & 7.6           \\\\\n",
       "\\end{tabular}\n"
      ],
      "text/markdown": [
       "\n",
       "Země | Konzumace_lpc | \n",
       "|---|---|---|---|---|---|\n",
       "| Afghanistan    | 1.0            | \n",
       "| Albania        | 6.6            | \n",
       "| Algeria        | 0.6            | \n",
       "| American Samoa |  NA            | \n",
       "| Andorra        | 9.1            | \n",
       "| Angola         | 7.6            | \n",
       "\n",
       "\n"
      ],
      "text/plain": [
       "  Země           Konzumace_lpc\n",
       "1 Afghanistan    1.0          \n",
       "2 Albania        6.6          \n",
       "3 Algeria        0.6          \n",
       "4 American Samoa  NA          \n",
       "5 Andorra        9.1          \n",
       "6 Angola         7.6          "
      ]
     },
     "metadata": {},
     "output_type": "display_data"
    }
   ],
   "source": [
    "head(df_alkohol)"
   ]
  },
  {
   "cell_type": "code",
   "execution_count": 7,
   "metadata": {},
   "outputs": [
    {
     "data": {
      "text/html": [
       "<table>\n",
       "<thead><tr><th></th><th scope=col>Země</th><th scope=col>Konzumace_lpc</th></tr></thead>\n",
       "<tbody>\n",
       "\t<tr><th scope=row>1</th><td>Afghanistan        </td><td>1.0                </td></tr>\n",
       "\t<tr><th scope=row>2</th><td>Albania            </td><td>6.6                </td></tr>\n",
       "\t<tr><th scope=row>3</th><td>Algeria            </td><td>0.6                </td></tr>\n",
       "\t<tr><th scope=row>5</th><td>Andorra            </td><td>9.1                </td></tr>\n",
       "\t<tr><th scope=row>6</th><td>Angola             </td><td>7.6                </td></tr>\n",
       "\t<tr><th scope=row>7</th><td>Antigua and Barbuda</td><td>3.2                </td></tr>\n",
       "</tbody>\n",
       "</table>\n"
      ],
      "text/latex": [
       "\\begin{tabular}{r|ll}\n",
       "  & Země & Konzumace\\_lpc\\\\\n",
       "\\hline\n",
       "\t1 & Afghanistan         & 1.0                \\\\\n",
       "\t2 & Albania             & 6.6                \\\\\n",
       "\t3 & Algeria             & 0.6                \\\\\n",
       "\t5 & Andorra             & 9.1                \\\\\n",
       "\t6 & Angola              & 7.6                \\\\\n",
       "\t7 & Antigua and Barbuda & 3.2                \\\\\n",
       "\\end{tabular}\n"
      ],
      "text/markdown": [
       "\n",
       "| <!--/--> | Země | Konzumace_lpc | \n",
       "|---|---|---|---|---|---|\n",
       "| 1 | Afghanistan         | 1.0                 | \n",
       "| 2 | Albania             | 6.6                 | \n",
       "| 3 | Algeria             | 0.6                 | \n",
       "| 5 | Andorra             | 9.1                 | \n",
       "| 6 | Angola              | 7.6                 | \n",
       "| 7 | Antigua and Barbuda | 3.2                 | \n",
       "\n",
       "\n"
      ],
      "text/plain": [
       "  Země                Konzumace_lpc\n",
       "1 Afghanistan         1.0          \n",
       "2 Albania             6.6          \n",
       "3 Algeria             0.6          \n",
       "5 Andorra             9.1          \n",
       "6 Angola              7.6          \n",
       "7 Antigua and Barbuda 3.2          "
      ]
     },
     "metadata": {},
     "output_type": "display_data"
    }
   ],
   "source": [
    "df_alkohol <- df_alkohol[!is.na(df_alkohol$Konzumace_lpc),]\n",
    "head(df_alkohol)"
   ]
  },
  {
   "cell_type": "code",
   "execution_count": 8,
   "metadata": {},
   "outputs": [
    {
     "data": {
      "text/plain": [
       "   Min. 1st Qu.  Median    Mean 3rd Qu.    Max. \n",
       "  0.000   2.925   6.282   6.083   9.002  17.400 "
      ]
     },
     "metadata": {},
     "output_type": "display_data"
    }
   ],
   "source": [
    "summary(df_alkohol$Konzumace_lpc)"
   ]
  },
  {
   "cell_type": "code",
   "execution_count": 9,
   "metadata": {},
   "outputs": [
    {
     "data": {
      "image/png": "[encoded data removed]",
      "text/plain": [
       "plot without title"
      ]
     },
     "metadata": {},
     "output_type": "display_data"
    }
   ],
   "source": [
    "boxplot(df_alkohol$Konzumace_lpc)"
   ]
  },
  {
   "cell_type": "code",
   "execution_count": 10,
   "metadata": {
    "collapsed": true
   },
   "outputs": [],
   "source": [
    "attach(df_alkohol)"
   ]
  },
  {
   "cell_type": "code",
   "execution_count": 11,
   "metadata": {},
   "outputs": [
    {
     "data": {
      "text/html": [
       "6.08336024390574"
      ],
      "text/latex": [
       "6.08336024390574"
      ],
      "text/markdown": [
       "6.08336024390574"
      ],
      "text/plain": [
       "[1] 6.08336"
      ]
     },
     "metadata": {},
     "output_type": "display_data"
    },
    {
     "data": {
      "text/html": [
       "3.87718824461354"
      ],
      "text/latex": [
       "3.87718824461354"
      ],
      "text/markdown": [
       "3.87718824461354"
      ],
      "text/plain": [
       "[1] 3.877188"
      ]
     },
     "metadata": {},
     "output_type": "display_data"
    },
    {
     "data": {
      "text/html": [
       "6.28213348794455"
      ],
      "text/latex": [
       "6.28213348794455"
      ],
      "text/markdown": [
       "6.28213348794455"
      ],
      "text/plain": [
       "[1] 6.282133"
      ]
     },
     "metadata": {},
     "output_type": "display_data"
    }
   ],
   "source": [
    "mean(Konzumace_lpc)\n",
    "sd(Konzumace_lpc)\n",
    "median(Konzumace_lpc)"
   ]
  },
  {
   "cell_type": "code",
   "execution_count": 12,
   "metadata": {},
   "outputs": [
    {
     "data": {
      "text/html": [
       "<dl class=dl-horizontal>\n",
       "\t<dt>25%</dt>\n",
       "\t\t<dd>2.925</dd>\n",
       "\t<dt>50%</dt>\n",
       "\t\t<dd>6.28213348794455</dd>\n",
       "\t<dt>75%</dt>\n",
       "\t\t<dd>9.00219594895565</dd>\n",
       "</dl>\n"
      ],
      "text/latex": [
       "\\begin{description*}\n",
       "\\item[25\\textbackslash{}\\%] 2.925\n",
       "\\item[50\\textbackslash{}\\%] 6.28213348794455\n",
       "\\item[75\\textbackslash{}\\%] 9.00219594895565\n",
       "\\end{description*}\n"
      ],
      "text/markdown": [
       "25%\n",
       ":   2.92550%\n",
       ":   6.2821334879445575%\n",
       ":   9.00219594895565\n",
       "\n"
      ],
      "text/plain": [
       "     25%      50%      75% \n",
       "2.925000 6.282133 9.002196 "
      ]
     },
     "metadata": {},
     "output_type": "display_data"
    }
   ],
   "source": [
    "quantile(Konzumace_lpc, c(0.25, 0.5, 0.75))"
   ]
  },
  {
   "cell_type": "code",
   "execution_count": 13,
   "metadata": {},
   "outputs": [
    {
     "data": {
      "text/html": [
       "0"
      ],
      "text/latex": [
       "0"
      ],
      "text/markdown": [
       "0"
      ],
      "text/plain": [
       "[1] 0"
      ]
     },
     "metadata": {},
     "output_type": "display_data"
    },
    {
     "data": {
      "text/html": [
       "17.4"
      ],
      "text/latex": [
       "17.4"
      ],
      "text/markdown": [
       "17.4"
      ],
      "text/plain": [
       "[1] 17.4"
      ]
     },
     "metadata": {},
     "output_type": "display_data"
    }
   ],
   "source": [
    "min(Konzumace_lpc)\n",
    "max(Konzumace_lpc)"
   ]
  },
  {
   "cell_type": "code",
   "execution_count": 14,
   "metadata": {},
   "outputs": [
    {
     "data": {
      "text/html": [
       "<table>\n",
       "<thead><tr><th></th><th scope=col>Země</th><th scope=col>Konzumace_lpc</th></tr></thead>\n",
       "<tbody>\n",
       "\t<tr><th scope=row>157</th><td>Moldova           </td><td>17.4              </td></tr>\n",
       "\t<tr><th scope=row>19</th><td>Belarus           </td><td>17.1              </td></tr>\n",
       "\t<tr><th scope=row>135</th><td>Lithuania         </td><td>16.2              </td></tr>\n",
       "\t<tr><th scope=row>195</th><td>Russian Federation</td><td>14.5              </td></tr>\n",
       "\t<tr><th scope=row>56</th><td>Czech Republic    </td><td>14.1              </td></tr>\n",
       "\t<tr><th scope=row>194</th><td>Romania           </td><td>12.9              </td></tr>\n",
       "\t<tr><th scope=row>202</th><td>Serbia            </td><td>12.9              </td></tr>\n",
       "\t<tr><th scope=row>12</th><td>Australia         </td><td>12.6              </td></tr>\n",
       "\t<tr><th scope=row>189</th><td>Portugal          </td><td>12.5              </td></tr>\n",
       "\t<tr><th scope=row>207</th><td>Slovak Republic   </td><td>12.5              </td></tr>\n",
       "</tbody>\n",
       "</table>\n"
      ],
      "text/latex": [
       "\\begin{tabular}{r|ll}\n",
       "  & Země & Konzumace\\_lpc\\\\\n",
       "\\hline\n",
       "\t157 & Moldova            & 17.4              \\\\\n",
       "\t19 & Belarus            & 17.1              \\\\\n",
       "\t135 & Lithuania          & 16.2              \\\\\n",
       "\t195 & Russian Federation & 14.5              \\\\\n",
       "\t56 & Czech Republic     & 14.1              \\\\\n",
       "\t194 & Romania            & 12.9              \\\\\n",
       "\t202 & Serbia             & 12.9              \\\\\n",
       "\t12 & Australia          & 12.6              \\\\\n",
       "\t189 & Portugal           & 12.5              \\\\\n",
       "\t207 & Slovak Republic    & 12.5              \\\\\n",
       "\\end{tabular}\n"
      ],
      "text/markdown": [
       "\n",
       "| <!--/--> | Země | Konzumace_lpc | \n",
       "|---|---|---|---|---|---|---|---|---|---|\n",
       "| 157 | Moldova            | 17.4               | \n",
       "| 19 | Belarus            | 17.1               | \n",
       "| 135 | Lithuania          | 16.2               | \n",
       "| 195 | Russian Federation | 14.5               | \n",
       "| 56 | Czech Republic     | 14.1               | \n",
       "| 194 | Romania            | 12.9               | \n",
       "| 202 | Serbia             | 12.9               | \n",
       "| 12 | Australia          | 12.6               | \n",
       "| 189 | Portugal           | 12.5               | \n",
       "| 207 | Slovak Republic    | 12.5               | \n",
       "\n",
       "\n"
      ],
      "text/plain": [
       "    Země               Konzumace_lpc\n",
       "157 Moldova            17.4         \n",
       "19  Belarus            17.1         \n",
       "135 Lithuania          16.2         \n",
       "195 Russian Federation 14.5         \n",
       "56  Czech Republic     14.1         \n",
       "194 Romania            12.9         \n",
       "202 Serbia             12.9         \n",
       "12  Australia          12.6         \n",
       "189 Portugal           12.5         \n",
       "207 Slovak Republic    12.5         "
      ]
     },
     "metadata": {},
     "output_type": "display_data"
    }
   ],
   "source": [
    "df_alkohol <- df_alkohol[order(df_alkohol$Konzumace_lpc, decreasing = T),]\n",
    "head(df_alkohol, 10)"
   ]
  },
  {
   "cell_type": "code",
   "execution_count": 15,
   "metadata": {},
   "outputs": [
    {
     "data": {
      "image/png": "[encoded data removed]",
      "text/plain": [
       "Plot with title “Histogram of Konzumace_lpc”"
      ]
     },
     "metadata": {},
     "output_type": "display_data"
    }
   ],
   "source": [
    "hist(Konzumace_lpc, breaks = 20)"
   ]
  },
  {
   "cell_type": "code",
   "execution_count": 16,
   "metadata": {},
   "outputs": [
    {
     "data": {
      "text/html": [
       "6.08336024390574"
      ],
      "text/latex": [
       "6.08336024390574"
      ],
      "text/markdown": [
       "6.08336024390574"
      ],
      "text/plain": [
       "[1] 6.08336"
      ]
     },
     "metadata": {},
     "output_type": "display_data"
    },
    {
     "data": {
      "text/html": [
       "3.87718824461354"
      ],
      "text/latex": [
       "3.87718824461354"
      ],
      "text/markdown": [
       "3.87718824461354"
      ],
      "text/plain": [
       "[1] 3.877188"
      ]
     },
     "metadata": {},
     "output_type": "display_data"
    }
   ],
   "source": [
    "mean(Konzumace_lpc)\n",
    "sd(Konzumace_lpc)"
   ]
  },
  {
   "cell_type": "code",
   "execution_count": 17,
   "metadata": {},
   "outputs": [
    {
     "data": {
      "text/html": [
       "<table>\n",
       "<thead><tr><th></th><th scope=col>Země</th><th scope=col>Konzumace_lpc</th></tr></thead>\n",
       "<tbody>\n",
       "\t<tr><th scope=row>200</th><td>Saudi Arabia</td><td>0.2         </td></tr>\n",
       "\t<tr><th scope=row>257</th><td>Yemen, Rep. </td><td>0.2         </td></tr>\n",
       "\t<tr><th scope=row>121</th><td>Kuwait      </td><td>0.1         </td></tr>\n",
       "\t<tr><th scope=row>149</th><td>Mauritania  </td><td>0.1         </td></tr>\n",
       "\t<tr><th scope=row>181</th><td>Pakistan    </td><td>0.1         </td></tr>\n",
       "\t<tr><th scope=row>133</th><td>Libya       </td><td>0.0         </td></tr>\n",
       "</tbody>\n",
       "</table>\n"
      ],
      "text/latex": [
       "\\begin{tabular}{r|ll}\n",
       "  & Země & Konzumace\\_lpc\\\\\n",
       "\\hline\n",
       "\t200 & Saudi Arabia & 0.2         \\\\\n",
       "\t257 & Yemen, Rep.  & 0.2         \\\\\n",
       "\t121 & Kuwait       & 0.1         \\\\\n",
       "\t149 & Mauritania   & 0.1         \\\\\n",
       "\t181 & Pakistan     & 0.1         \\\\\n",
       "\t133 & Libya        & 0.0         \\\\\n",
       "\\end{tabular}\n"
      ],
      "text/markdown": [
       "\n",
       "| <!--/--> | Země | Konzumace_lpc | \n",
       "|---|---|---|---|---|---|\n",
       "| 200 | Saudi Arabia | 0.2          | \n",
       "| 257 | Yemen, Rep.  | 0.2          | \n",
       "| 121 | Kuwait       | 0.1          | \n",
       "| 149 | Mauritania   | 0.1          | \n",
       "| 181 | Pakistan     | 0.1          | \n",
       "| 133 | Libya        | 0.0          | \n",
       "\n",
       "\n"
      ],
      "text/plain": [
       "    Země         Konzumace_lpc\n",
       "200 Saudi Arabia 0.2          \n",
       "257 Yemen, Rep.  0.2          \n",
       "121 Kuwait       0.1          \n",
       "149 Mauritania   0.1          \n",
       "181 Pakistan     0.1          \n",
       "133 Libya        0.0          "
      ]
     },
     "metadata": {},
     "output_type": "display_data"
    },
    {
     "data": {
      "text/html": [
       "<table>\n",
       "<thead><tr><th></th><th scope=col>Země</th><th scope=col>Konzumace_lpc</th></tr></thead>\n",
       "<tbody>\n",
       "\t<tr><th scope=row>193</th><td>Qatar      </td><td>1.3        </td></tr>\n",
       "\t<tr><th scope=row>242</th><td>Tuvalu     </td><td>1.3        </td></tr>\n",
       "\t<tr><th scope=row>234</th><td>Timor-Leste</td><td>1.2        </td></tr>\n",
       "\t<tr><th scope=row>238</th><td>Tunisia    </td><td>1.2        </td></tr>\n",
       "\t<tr><th scope=row>251</th><td>Vanuatu    </td><td>1.2        </td></tr>\n",
       "\t<tr><th scope=row>24</th><td>Bhutan     </td><td>1.1        </td></tr>\n",
       "</tbody>\n",
       "</table>\n"
      ],
      "text/latex": [
       "\\begin{tabular}{r|ll}\n",
       "  & Země & Konzumace\\_lpc\\\\\n",
       "\\hline\n",
       "\t193 & Qatar       & 1.3        \\\\\n",
       "\t242 & Tuvalu      & 1.3        \\\\\n",
       "\t234 & Timor-Leste & 1.2        \\\\\n",
       "\t238 & Tunisia     & 1.2        \\\\\n",
       "\t251 & Vanuatu     & 1.2        \\\\\n",
       "\t24 & Bhutan      & 1.1        \\\\\n",
       "\\end{tabular}\n"
      ],
      "text/markdown": [
       "\n",
       "| <!--/--> | Země | Konzumace_lpc | \n",
       "|---|---|---|---|---|---|\n",
       "| 193 | Qatar       | 1.3         | \n",
       "| 242 | Tuvalu      | 1.3         | \n",
       "| 234 | Timor-Leste | 1.2         | \n",
       "| 238 | Tunisia     | 1.2         | \n",
       "| 251 | Vanuatu     | 1.2         | \n",
       "| 24 | Bhutan      | 1.1         | \n",
       "\n",
       "\n"
      ],
      "text/plain": [
       "    Země        Konzumace_lpc\n",
       "193 Qatar       1.3          \n",
       "242 Tuvalu      1.3          \n",
       "234 Timor-Leste 1.2          \n",
       "238 Tunisia     1.2          \n",
       "251 Vanuatu     1.2          \n",
       "24  Bhutan      1.1          "
      ]
     },
     "metadata": {},
     "output_type": "display_data"
    }
   ],
   "source": [
    "tail(df_alkohol)\n",
    "df_alkohol_drinkers <- df_alkohol[df_alkohol$Konzumace_lpc > 1, ]\n",
    "tail(df_alkohol_drinkers)"
   ]
  },
  {
   "cell_type": "code",
   "execution_count": 18,
   "metadata": {},
   "outputs": [
    {
     "name": "stderr",
     "output_type": "stream",
     "text": [
      "The following objects are masked from df_alkohol:\n",
      "\n",
      "    Konzumace_lpc, Země\n",
      "\n"
     ]
    }
   ],
   "source": [
    "attach(df_alkohol_drinkers)"
   ]
  },
  {
   "cell_type": "code",
   "execution_count": 19,
   "metadata": {},
   "outputs": [
    {
     "data": {
      "image/png": "[encoded data removed]",
      "text/plain": [
       "Plot with title “Histogram of Konzumace_lpc”"
      ]
     },
     "metadata": {},
     "output_type": "display_data"
    }
   ],
   "source": [
    "hist(Konzumace_lpc, breaks = 20, xlim = c(0, 20))"
   ]
  },
  {
   "cell_type": "code",
   "execution_count": 20,
   "metadata": {},
   "outputs": [
    {
     "data": {
      "text/html": [
       "6.92881756081368"
      ],
      "text/latex": [
       "6.92881756081368"
      ],
      "text/markdown": [
       "6.92881756081368"
      ],
      "text/plain": [
       "[1] 6.928818"
      ]
     },
     "metadata": {},
     "output_type": "display_data"
    },
    {
     "data": {
      "text/html": [
       "3.4522303371645"
      ],
      "text/latex": [
       "3.4522303371645"
      ],
      "text/markdown": [
       "3.4522303371645"
      ],
      "text/plain": [
       "[1] 3.45223"
      ]
     },
     "metadata": {},
     "output_type": "display_data"
    }
   ],
   "source": [
    "mean(Konzumace_lpc)\n",
    "sd(Konzumace_lpc)"
   ]
  },
  {
   "cell_type": "code",
   "execution_count": 21,
   "metadata": {},
   "outputs": [
    {
     "data": {
      "image/png": "[encoded data removed]",
      "text/plain": [
       "Plot with title “Histogram of Konzumace_lpc”"
      ]
     },
     "metadata": {},
     "output_type": "display_data"
    }
   ],
   "source": [
    "hist(Konzumace_lpc, breaks = 20, xlim = c(0, 20), freq = F)"
   ]
  },
  {
   "cell_type": "code",
   "execution_count": null,
   "metadata": {
    "collapsed": true
   },
   "outputs": [],
   "source": []
  }
 ],
 "metadata": {
  "kernelspec": {
   "display_name": "R",
   "language": "R",
   "name": "ir"
  },
  "language_info": {
   "codemirror_mode": "r",
   "file_extension": ".r",
   "mimetype": "text/x-r-source",
   "name": "R",
   "pygments_lexer": "r",
   "version": "3.3.2"
  },
  "toc": {
   "nav_menu": {},
   "number_sections": true,
   "sideBar": true,
   "skip_h1_title": true,
   "toc_cell": true,
   "toc_position": {},
   "toc_section_display": "block",
   "toc_window_display": false
  }
 },
 "nbformat": 4,
 "nbformat_minor": 2
}
