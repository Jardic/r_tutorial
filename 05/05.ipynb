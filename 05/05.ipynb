{
 "cells": [
  {
   "cell_type": "markdown",
   "metadata": {
    "toc": "true"
   },
   "source": [
    " # Table of Contents\n",
    "<div class=\"toc\" style=\"margin-top: 1em;\"><ul class=\"toc-item\" id=\"toc-level0\"><li><span><a href=\"http://localhost:8888/notebooks/05/05.ipynb#Načítání-dat-ze-souboru\" data-toc-modified-id=\"Načítání-dat-ze-souboru-1\"><span class=\"toc-item-num\">1&nbsp;&nbsp;</span>Načítání dat ze souboru</a></span></li></ul></div>"
   ]
  },
  {
   "cell_type": "markdown",
   "metadata": {},
   "source": [
    "# Manipulace dat a popisná statistika\n",
    "\n",
    "V předchozích dvou lekcích jsme si ukázali [základní principy programování v R](../03/) a [hlavní datové struktury](../04/). Nyní si ukážeme jak tyto dvě lekce propojit a využít tyto znalosti k jednoduché analýze různých datových souborů. Využijeme k tomu nejrůznějších principů popisné statistiky a ukážeme si též možnosti základní datové vizualizace pro jednoduchou exploraci dat.\n",
    "\n",
    "## Načítání dat ze souboru\n",
    "\n",
    "Data většinou nebudete do tabulek a matic vkládat manuálně ale z externích zdrojů, kterými mohou být internetové stránky, nejrůznější databáze nebo obyčejné textové soubory. V R existuje mnoho možností, kterými lze data snadno získat z mnoha zdrojů. My jsme si zatím ukázali jak jednoduše přistupovat k testovacím datovým množinám, které jsou v R přístupné přímo jako proměnné (např. `volcano` nebo `mtcars`). Nejčastěji ale budete jako uživatel chtít načíst do R vlastní data a to ve formě textových souborů. V této lekci si tedy ukážeme jak na to.\n",
    "\n",
    "V adresáři s touto lekcí se nachází dva soubory `ufocase.info` a `ufocase.bat`. Soubor `ufocase.info` obsahuje popis jedné z [volně dostupných datových množin](http://www.stat.ufl.edu/~winner/datasets.html) na stránkách Larryho Winnera z University of Florida. Tento soubor vypadá následovně:\n",
    "\n",
    "```\n",
    "Dataset:  ufocase.dat\n",
    "\n",
    "Source:  www.ufocasebook.com\n",
    "\n",
    "Description:  UFO/Alien Cases, including categorical outcomes:\n",
    "Presence/Absence of physical effects, multimedia (picture/video),\n",
    "ET contact, and abduction.\n",
    "\n",
    "Variable/Columns\n",
    "\n",
    "Year 1-4 \n",
    "Name of sighting/event  7-56\n",
    "Location   60-72\n",
    "Physical effects 75   /* 1=Yes, 0=No  */\n",
    "Multimedia  79  /*  1=Yes, 0=No  */\n",
    "ET contact   83  /* 1=Yes, 0=No  */\n",
    "Abduction   87   /*  1=Yes, 0=No  */\n",
    "```\n",
    "\n",
    "Soubor `ufocase.bat` pak obsahuje samotná data a jeho prvních pět řádků vypadá následovně:\n",
    "\n",
    "```\n",
    "1865  The Great Airships                                   USA            1   0   1  0\n",
    "1878  Denison, Texas Daylight UFO                          USA            0   0   0  0\n",
    "1897  The Aurora, Texas Crash                              USA            1   0   1  0\n",
    "1930  Alien Picture from Alaska                            Alaska         0   1   1  0\n",
    "1937  Discovery of the Dropa Discs                         China          0   0   0  0\n",
    "```\n",
    "\n",
    "Z popisku a samotných dat tedy vidíme, že se jedná o záznamy pozorování neidentifikovatelných létajících objektů (UFOs) na různých místech. K dispozici jsou ke každému případu informace o roku (`Year`), kdy k událostem došlo, písemný popisek události `Name of sighting/event`, název lokace (`Location`), kde k pozorování došlo a informace o tom, zda během pozorování došlo k nějakým fyzickým projevům (`Physical effects`), zda jsou k dispozici multimediální nahrávky z události (`Multimedia`), zda došlo ke kontaktu (`ET contact`) a zda došlo přímo k unesení mimozemšťanem (`Abduction`).\n",
    "\n",
    "Soubor nás svojí strukturou tedy přímo vybízí k tomu, abychom z něj vytvořili `data.frame` a nějakým způsobem data analyzovali. Má to ovšem háček. Pro nás je struktura dokumentu sice jasná, ale jak to říci našemu programu? Jednotlivé sloupce jsou totiž od sebe oddělená v podstatě libovolným počtem mezer. Situaci navíc ještě komplikuje druhý sloupec s popisem události, který má mezery mezi slovy. Pojďme si tedy napsat program, který tento soubor nejprve zanalyzuje řádku po řádce a pokusí se na základě jednoduchého pravidla rozlišit záznamy z jendotlivých sloupců.\n",
    "\n",
    "Načtení souboru v R probíhá následovně. Nejprve je třeba vytvořit připojení k souboru, ze kterého budeme jednotlivé řádky číst:"
   ]
  },
  {
   "cell_type": "code",
   "execution_count": 1,
   "metadata": {},
   "outputs": [],
   "source": [
    "connection  <- file(\"ufocase.dat\", open = \"r\")"
   ]
  },
  {
   "cell_type": "markdown",
   "metadata": {},
   "source": [
    "Tímto způsobem tedy řekneme, že chceme orevřít soubor z daného umístění a budeme jej pouze číst (`open = \"r\"`). Funkce `file` umožňuje krom souborů na disku otevírat soubory i z dalších umístění a podporuje i některé běžné kompresní formáty (viz nápověda, `help(file)`). Proměnnou jsme si nazvali `connection`, protože se po technické stránce jedná o otevření připojení k určitému proudu dat, který budeme postupně číst.\n",
    "\n",
    "Soubor máme takto tedy připravený pro čtení. V našem případě chceme soubor číst řádku po řádce, k čemuž slouží v R funkce `readlines`, které dáme k dispozici naše připojení a počet řádek, který chceme naráz ze souboru načíst:"
   ]
  },
  {
   "cell_type": "code",
   "execution_count": 2,
   "metadata": {},
   "outputs": [
    {
     "data": {
      "text/html": [
       "<ol class=list-inline>\n",
       "\t<li><span style=white-space:pre-wrap>'1865  The Great Airships                                   USA            1   0   1   0'</span></li>\n",
       "\t<li><span style=white-space:pre-wrap>'1878  Denison, Texas Daylight UFO                          USA            0   0   0   0'</span></li>\n",
       "\t<li><span style=white-space:pre-wrap>'1897  The Aurora, Texas Crash                              USA            1   0   1   0'</span></li>\n",
       "\t<li><span style=white-space:pre-wrap>'1930  Alien Picture from Alaska                            Alaska         0   1   1   0'</span></li>\n",
       "\t<li><span style=white-space:pre-wrap>'1937  Discovery of the Dropa Discs                         China          0   0   0   0'</span></li>\n",
       "</ol>\n"
      ],
      "text/latex": [
       "\\begin{enumerate*}\n",
       "\\item '1865  The Great Airships                                   USA            1   0   1   0'\n",
       "\\item '1878  Denison, Texas Daylight UFO                          USA            0   0   0   0'\n",
       "\\item '1897  The Aurora, Texas Crash                              USA            1   0   1   0'\n",
       "\\item '1930  Alien Picture from Alaska                            Alaska         0   1   1   0'\n",
       "\\item '1937  Discovery of the Dropa Discs                         China          0   0   0   0'\n",
       "\\end{enumerate*}\n"
      ],
      "text/markdown": [
       "1. <span style=white-space:pre-wrap>'1865  The Great Airships                                   USA            1   0   1   0'</span>\n",
       "2. <span style=white-space:pre-wrap>'1878  Denison, Texas Daylight UFO                          USA            0   0   0   0'</span>\n",
       "3. <span style=white-space:pre-wrap>'1897  The Aurora, Texas Crash                              USA            1   0   1   0'</span>\n",
       "4. <span style=white-space:pre-wrap>'1930  Alien Picture from Alaska                            Alaska         0   1   1   0'</span>\n",
       "5. <span style=white-space:pre-wrap>'1937  Discovery of the Dropa Discs                         China          0   0   0   0'</span>\n",
       "\n",
       "\n"
      ],
      "text/plain": [
       "[1] \"1865  The Great Airships                                   USA            1   0   1   0\"\n",
       "[2] \"1878  Denison, Texas Daylight UFO                          USA            0   0   0   0\"\n",
       "[3] \"1897  The Aurora, Texas Crash                              USA            1   0   1   0\"\n",
       "[4] \"1930  Alien Picture from Alaska                            Alaska         0   1   1   0\"\n",
       "[5] \"1937  Discovery of the Dropa Discs                         China          0   0   0   0\""
      ]
     },
     "metadata": {},
     "output_type": "display_data"
    }
   ],
   "source": [
    "readLines(connection, n = 5)"
   ]
  },
  {
   "cell_type": "markdown",
   "metadata": {},
   "source": [
    "Toto je tedy prvních pět řádek souboru. Zde je dalších pět:"
   ]
  },
  {
   "cell_type": "code",
   "execution_count": 3,
   "metadata": {},
   "outputs": [
    {
     "data": {
      "text/html": [
       "<ol class=list-inline>\n",
       "\t<li><span style=white-space:pre-wrap>'1939  Alien Bodies Confirmed (Cordell Hull)                USA            0   0   1   0'</span></li>\n",
       "\t<li><span style=white-space:pre-wrap>'1941  Missouri Crash &amp; Retrieval                           USA            1   1   1   0'</span></li>\n",
       "\t<li><span style=white-space:pre-wrap>'1942  The Battle of Los Angeles                            USA            1   1   0   0'</span></li>\n",
       "\t<li><span style=white-space:pre-wrap>'1944  World War II Foo-Fighters                            Europe         0   1   0   0'</span></li>\n",
       "\t<li><span style=white-space:pre-wrap>'1945  Lt. Gorman Chases a UFO                              USA            0   0   0   0'</span></li>\n",
       "</ol>\n"
      ],
      "text/latex": [
       "\\begin{enumerate*}\n",
       "\\item '1939  Alien Bodies Confirmed (Cordell Hull)                USA            0   0   1   0'\n",
       "\\item '1941  Missouri Crash \\& Retrieval                           USA            1   1   1   0'\n",
       "\\item '1942  The Battle of Los Angeles                            USA            1   1   0   0'\n",
       "\\item '1944  World War II Foo-Fighters                            Europe         0   1   0   0'\n",
       "\\item '1945  Lt. Gorman Chases a UFO                              USA            0   0   0   0'\n",
       "\\end{enumerate*}\n"
      ],
      "text/markdown": [
       "1. <span style=white-space:pre-wrap>'1939  Alien Bodies Confirmed (Cordell Hull)                USA            0   0   1   0'</span>\n",
       "2. <span style=white-space:pre-wrap>'1941  Missouri Crash &amp; Retrieval                           USA            1   1   1   0'</span>\n",
       "3. <span style=white-space:pre-wrap>'1942  The Battle of Los Angeles                            USA            1   1   0   0'</span>\n",
       "4. <span style=white-space:pre-wrap>'1944  World War II Foo-Fighters                            Europe         0   1   0   0'</span>\n",
       "5. <span style=white-space:pre-wrap>'1945  Lt. Gorman Chases a UFO                              USA            0   0   0   0'</span>\n",
       "\n",
       "\n"
      ],
      "text/plain": [
       "[1] \"1939  Alien Bodies Confirmed (Cordell Hull)                USA            0   0   1   0\"\n",
       "[2] \"1941  Missouri Crash & Retrieval                           USA            1   1   1   0\"\n",
       "[3] \"1942  The Battle of Los Angeles                            USA            1   1   0   0\"\n",
       "[4] \"1944  World War II Foo-Fighters                            Europe         0   1   0   0\"\n",
       "[5] \"1945  Lt. Gorman Chases a UFO                              USA            0   0   0   0\""
      ]
     },
     "metadata": {},
     "output_type": "display_data"
    }
   ],
   "source": [
    "readLines(connection, n = 5)"
   ]
  },
  {
   "cell_type": "markdown",
   "metadata": {},
   "source": [
    "Všimněte si, že funkce `readLines` vrací pokaždé další a další řádky. Je to tím, že objekt, který se skrývá pod proměnnou `connection`, si udržuje svůj vnitřní stav a při každém zavolání začne vracet data od té části souboru, kde dříve skončil. \n",
    "\n",
    "Když už připojení nepotřebujeme měli bychom ho uzavřít:"
   ]
  },
  {
   "cell_type": "code",
   "execution_count": 4,
   "metadata": {
    "collapsed": true
   },
   "outputs": [],
   "source": [
    "close(connection)"
   ]
  },
  {
   "cell_type": "markdown",
   "metadata": {},
   "source": [
    "Tak zajistíme, že se připojení uzavře a není z něj již možné dál číst:"
   ]
  },
  {
   "cell_type": "code",
   "execution_count": 5,
   "metadata": {},
   "outputs": [
    {
     "ename": "ERROR",
     "evalue": "Error in readLines(connection, n = 5): invalid connection\n",
     "output_type": "error",
     "traceback": [
      "Error in readLines(connection, n = 5): invalid connection\nTraceback:\n",
      "1. readLines(connection, n = 5)"
     ]
    }
   ],
   "source": [
    "readLines(connection, n = 5)"
   ]
  },
  {
   "cell_type": "markdown",
   "metadata": {},
   "source": [
    "Pokud chceme program znovu načíst, musíme tedy připojení znovu vytvořit:"
   ]
  },
  {
   "cell_type": "code",
   "execution_count": 6,
   "metadata": {
    "collapsed": true
   },
   "outputs": [],
   "source": [
    "connection <- file(\"ufocase.dat\", open = \"r\")"
   ]
  },
  {
   "cell_type": "markdown",
   "metadata": {},
   "source": [
    "Přistupme teď tedy již k samotné analýze souboru. Jelikož nevíme, kolik má soubor řádek musíme použít cyklus `while` nebo `repeat`. My zde použijeme cyklus `repeat`, který v tomto případě umožňuje trošku lépe čitelnější kód:"
   ]
  },
  {
   "cell_type": "code",
   "execution_count": 7,
   "metadata": {},
   "outputs": [
    {
     "name": "stdout",
     "output_type": "stream",
     "text": [
      "[1] \"1865  The Great Airships                                   USA            1   0   1   0\"\n",
      "[1] \"1878  Denison, Texas Daylight UFO                          USA            0   0   0   0\"\n",
      "[1] \"1897  The Aurora, Texas Crash                              USA            1   0   1   0\"\n",
      "[1] \"1930  Alien Picture from Alaska                            Alaska         0   1   1   0\"\n",
      "[1] \"1937  Discovery of the Dropa Discs                         China          0   0   0   0\"\n",
      "[1] \"1939  Alien Bodies Confirmed (Cordell Hull)                USA            0   0   1   0\"\n",
      "[1] \"1941  Missouri Crash & Retrieval                           USA            1   1   1   0\"\n",
      "[1] \"1942  The Battle of Los Angeles                            USA            1   1   0   0\"\n",
      "[1] \"1944  World War II Foo-Fighters                            Europe         0   1   0   0\"\n",
      "[1] \"1945  Lt. Gorman Chases a UFO                              USA            0   0   0   0\"\n",
      "[1] \"1947  The Kenneth Arnold Sighting                          USA            0   0   0   0\"\n",
      "[1] \"1947  Malta, Alien Entities Seen on Watercraft             Malta          0   0   1   0\"\n",
      "[1] \"1947  Pilot Sees Six UFOs, Morristown, NJ                  USA            1   1   0   0\"\n",
      "[1] \"1947  The Roswell, New Mexico Crash                        USA            1   1   1   0\"\n",
      "[1] \"1948  The Death of Thomas Mantell                          USA            0   0   0   0\"\n",
      "[1] \"1948  The Aztec, New Mexico Crash                          USA            1   0   0   0\"\n",
      "[1] \"1948  The Chiles-Whitted Sighting                          USA            1   0   0   0\"\n",
      "[1] \"1949  Norwood, Ohio Searchlight Incident                   USA            0   1   0   0\"\n",
      "[1] \"1950  Dr. Botta Enters Flying Saucer                       S Amer         1   0   1   0\"\n",
      "[1] \"1950  The Trent UFO Photographs                            USA            0   1   0   0\"\n",
      "[1] \"1950  The Great Falls, Montana Film                        USA            0   1   0   0\"\n",
      "[1] \"1951  Gander, Newfoundland UFO Case                        Canada         1   0   0   0\"\n",
      "[1] \"1951  The White Sands, NM Radar Case                       USA            1   0   0   0\"\n",
      "[1] \"1951  The Lubbock, Texas Lights                            USA            0   1   0   0\"\n",
      "[1] \"1951  The Fort Monmouth UFO Incident                       USA            1   0   0   0\"\n",
      "[1] \"1952  San Jose, CA Scientist Reports Disc                  USA            1   0   0   0\"\n",
      "[1] \"1952  Nash-Fortenberry UFO Sighting                        USA            1   0   0   0\"\n",
      "[1] \"1952  The Tremonton, Utah Color Film                       USA            0   1   0   0\"\n",
      "[1] \"1952  Customs Inspector films large UFO                    Peru           1   1   0   0\"\n",
      "[1] \"1952  Washington, D. C. Sightings                          USA            0   1   0   0\"\n",
      "[1] \"1952  Coast Guard UFO Photograph                           USA            0   1   0   0\"\n",
      "[1] \"1952  Australian Seafury Incident                          Australia      1   0   0   0\"\n",
      "[1] \"1952  The Florida Scoutmaster Encounter                    USA            1   0   0   0\"\n",
      "[1] \"1952  Navy aviators encounter UFO                          Gnland         0   0   0   0\"\n",
      "[1] \"1952  The Operation Mainbrace Sightings                    Den/Nor        0   0   0   0\"\n",
      "[1] \"1952  The Flatwoods, Virginia Entity                       USA            1   0   0   0\"\n",
      "[1] \"1952  Gulf of Mexico UFO Encounter                         G/Mexico       0   0   0   0\"\n",
      "[1] \"1953  The Arizona UFO Crash                                USA            1   0   1   0\"\n",
      "[1] \"1953  The Ellworth Air Force Base Incident                 USA            0   0   0   0\"\n",
      "[1] \"1953  The Tom Drury UFO Footage                            N Guinea       0   1   0   0\"\n",
      "[1] \"1953  Pilot Lost in UFO chase (Felix Moncla)               USA            0   0   0   0\"\n",
      "[1] \"1954  UFO Landing in France                                France         1   1   1   0\"\n",
      "[1] \"1955  UFO encounter at Bexleyheath                         U K            0   0   0   0\"\n",
      "[1] \"1955  Kelly-Hopkinsville Alien Encounter                   USA            1   0   1   0\"\n",
      "[1] \"1955  U S Senators see flying discs in Russia              Russia         0   0   0   0\"\n",
      "[1] \"1956  Bentwaters AFB UFO Encounter                         U K            1   0   0   0\"\n",
      "[1] \"1956  Minot Air Force Base Radar/Visual Case               USA            1   0   0   0\"\n",
      "[1] \"1957  The RB-47 UFO Incident                               USA            1   0   0   0\"\n",
      "[1] \"1957  Ubatuba UFO Fragments                                Brazil         1   0   0   0\"\n",
      "[1] \"1957  UFOs / nuclear test                                  Tasmania       0   0   0   0\"\n",
      "[1] \"1957  The Ring-Cloud UFO photos                            USA            0   0   0   0\"\n",
      "[1] \"1957  Villas-Boas Encounter                                Brazil         1   0   1   1\"\n",
      "[1] \"1957  The Levelland, Texas Landings                        USA            0   0   0   0\"\n",
      "[1] \"1957  Madison, Ohio, Kuhn/Dog Case                         USA            1   0   0   0\"\n",
      "[1] \"1958  The Trinidade Island Photographs                     Brazil         0   1   0   0\"\n",
      "[1] \"1958  Monon Railroad UFO Incident                          USA            1   0   0   0\"\n",
      "[1] \"1959  Disappearance of Private Gerry Irwin                 USA            1   0   0   0\"\n",
      "[1] \"1959  The Papua, New Guinea Sightings                      N Guinea       1   0   1   0\"\n",
      "[1] \"1959  Mushroom UFO / Portland, Oregon                      USA            0   0   0   0\"\n",
      "[1] \"1960  Red Bluff UFO Incident                               USA            1   0   0   0\"\n",
      "[1] \"1961  Betty and Barney Hill Abduction                      USA            1   0   1   1\"\n",
      "[1] \"1962  UFO Crashes in Las Vegas                             USA            1   0   0   0\"\n",
      "[1] \"1963  The Willow Grove Encounter                           Australia      1   0   0   0\"\n",
      "[1] \"1963  Wayne City UFO/Car Chase                             USA            0   0   0   0\"\n",
      "[1] \"1964  Socorro, New Mexico (Zamora)                         USA            1   0   1   0\"\n",
      "[1] \"1964  UFO Landing, New York (Wilcox)                       USA            1   0   1   0\"\n",
      "[1] \"1964  Vehicle UFO, Lavonia, Georgia                        USA            1   0   0   0\"\n",
      "[1] \"1964  UFO Filmed at Vandenburg AFB                         USA            1   1   0   0\"\n",
      "[1] \"1964  Alien Encounter at Cisco County                      USA            1   0   1   0\"\n",
      "[1] \"1965  Florida Everglades Encounter (Flynn)                 USA            1   0   0   0\"\n",
      "[1] \"1965  Valensole, France Landing (Masse)                    France         1   0   1   0\"\n",
      "[1] \"1965  The Australian Beach Landing                         Australia      1   0   0   0\"\n",
      "[1] \"1965  Sherman, Texas UFO Photograph                        USA            1   1   0   0\"\n",
      "[1] \"1965  UFO Lands Pretoria, South Africa                     S Africa       1   0   0   0\"\n",
      "[1] \"1965  Exeter, New Hampshire Sightings                      USA            1   0   0   0\"\n",
      "[1] \"1965  UFO Illuminates Police Car                           USA            1   0   0   0\"\n",
      "[1] \"1965  The Kecksburg, Pennsylvania Crash                    USA            1   0   0   0\"\n",
      "[1] \"1966  The USS Tiru Encounter                               USA            0   0   0   0\"\n",
      "[1] \"1966  The Tulley Saucer Nest                               Australia      1   0   0   0\"\n",
      "[1] \"1966  Michigan Sheriff Confirms UFO                        USA            0   0   0   0\"\n",
      "[1] \"1966  Portage County UFO Chase                             USA            1   0   0   0\"\n",
      "[1] \"1966  The Mothman Legend                                   USA            1   0   0   0\"\n",
      "[1] \"1967  The Betty Andreasson Abduction                       USA            1   0   1   1\"\n",
      "[1] \"1967  Falcon Lake (Michalak) Encounter                     Canada         1   0   0   0\"\n",
      "[1] \"1967  UFO Encounter at Ontario Lake                        Canada         0   0   0   0\"\n",
      "[1] \"1967  The Shag Harbor Crash                                N Scotia       1   0   0   0\"\n",
      "[1] \"1967  Patrolman Herbert Schirmer abducted                  USA            1   0   1   1\"\n",
      "[1] \"1968  Hanbury, U K Entities in UFO Dome                    U K            1   0   1   0\"\n",
      "[1] \"1969  The Russian Crash, Sverdlovsky                       Russia         1   1   1   0\"\n",
      "[1] \"1969  The Arrowhead UFO Encounter                          GOM            0   0   1   0\"\n",
      "[1] \"1969  The Buff Ledge Camp Abduction                        USA            1   0   1   1\"\n",
      "[1] \"1970  Cowichan District Hospital Sighting                  Canada         1   0   1   0\"\n",
      "[1] \"1970  RAF Binbrook UFO Encounter                           USA            1   0   0   0\"\n",
      "[1] \"1971  UFOs photographed in Austria                         Austria        0   1   0   0\"\n",
      "[1] \"1971  Holloman AFB UFO landing film                        USA            0   1   1   0\"\n",
      "[1] \"1971  Bizarre UFO Encounter / Uranium Mine                 USA            1   0   0   0\"\n",
      "[1] \"1971  Costa Rican UFO Photograph                           Costa R.       0   1   0   0\"\n",
      "[1] \"1971  The Delphos, Kansas Glowing Ring                     USA            1   0   0   0\"\n",
      "[1] \"1972  McChord UFO Encounter                                USA            1   0   0   0\"\n",
      "[1] \"1973  McAlester, Oklahoma, Plane / UFO                     USA            1   1   0   0\"\n",
      "[1] \"1973  The Judy Doraty Abduction                            USA            1   0   1   1\"\n",
      "[1] \"1973  Princeton, Indiana UFO Sighting                      USA            0   0   0   0\"\n",
      "[1] \"1973  The Alabama Tin Foil Alien                           USA            1   1   1   0\"\n",
      "[1] \"1973  Hicksville, Ohio Erratic Lights                      USA            1   0   0   0\"\n",
      "[1] \"1973  Dayton, Ohio 15 UFO Sightings                        USA            0   0   0   0\"\n",
      "[1] \"1973  UFO Stops Train                                      USA            0   0   0   0\"\n",
      "[1] \"1973  Coyne Helicopter/UFO Encounter                       USA            0   0   0   0\"\n",
      "[1] \"1973  Pascagoula, Mississippi Abduction                    USA            1   0   1   1\"\n",
      "[1] \"1973  Lyndia Morel UFO Encounter                           USA            1   0   1   0\"\n",
      "[1] \"1974  The Wales UFO Crash                                  Wales          1   0   0   0\"\n",
      "[1] \"1974  Disk crash in Chihuahua, Mexico                      Mexico         1   0   0   0\"\n",
      "[1] \"1974  Domed Saucers create Crop Circles                    Canada         1   0   0   0\"\n",
      "[1] \"1975  The Billy Meier Videos                               Switz          1   1   1   0\"\n",
      "[1] \"1975  Sergeant Charles L. Moody Abduction                  USA            1   0   1   1\"\n",
      "[1] \"1975  The Loring AFB Encounter                             USA            1   0   0   0\"\n",
      "[1] \"1975  UFOs Over SAC Bases (Malmstrom)                      USA            1   0   0   0\"\n",
      "[1] \"1975  The Travis Walton Abduction                          USA            1   0   1   1\"\n",
      "[1] \"1976  The Stanford, Kentucky Abductions                    USA            1   0   1   1\"\n",
      "[1] \"1976  The Canary Island Alien Sphere                       Spain          1   1   1   0\"\n",
      "[1] \"1976  Tehran, Iran UFO Incident                            Iran           1   0   0   0\"\n",
      "[1] \"1976  The Allagash Waterway Abductions                     USA            1   0   1   1\"\n",
      "[1] \"1977  Alien encounter, Baltimore                           USA            1   0   1   0\"\n",
      "[1] \"1977  UFOs Invade Colares Island                           Brazil         1   1   0   0\"\n",
      "[1] \"1977  UFO Incident at Alsworth AFB                         USA            1   0   1   0\"\n",
      "[1] \"1978  Veteran Pilot Sees Domed UFO                         USA            0   0   0   0\"\n",
      "[1] \"1978  Alien Shot Dead Ft. Dix / McGuire AFB                USA            1   0   1   0\"\n",
      "[1] \"1978  Australian Pilot (Valentich) Disappears              Australia      1   0   0   0\"\n",
      "[1] \"1978  New Zealand Encounter                                N Zealand      1   1   0   0\"\n",
      "[1] \"1979  Alien body recovered                                 P. Rico        0   1   1   0\"\n",
      "[1] \"1979  Russian Cosmonaut Sees UFO                           Space          0   1   0   0\"\n",
      "[1] \"1980  Aircraft Disappears: UFO Seen                        P. Rico        0   0   0   0\"\n",
      "[1] \"1980  The Kirtland AFB Encounter                           USA            0   0   0   0\"\n",
      "[1] \"1980  Rancher sees bizarre UFO                             Australia      1   0   0   0\"\n",
      "[1] \"1980  Bentwaters-Woodbridge (Rendlesham)                   U K            1   1   1   0\"\n",
      "[1] \"1980  Piney Woods (Cash-Landrum) Encounter                 USA            1   0   0   0\"\n",
      "[1] \"1981  Trans-en-Province UFO Landing                        France         0   0   0   0\"\n",
      "[1] \"1981  The Carlos Diaz Story                                Mexico         1   1   1   0\"\n",
      "[1] \"1981  The Hudson Valley Sightings                          USA            0   0   0   0\"\n",
      "[1] \"1986  Japanese Airline Encounters UFO                      Alaska         1   0   0   0\"\n",
      "[1] \"1987  Connecticut, Policeman Photos UFO                    USA            1   1   0   0\"\n",
      "[1] \"1987  Hudson Valley Abduction                              USA            1   0   1   1\"\n",
      "[1] \"1987  The Christa Tilton Story                             USA            1   0   1   1\"\n",
      "[1] \"1987  North Canol Road Abduction                           Canada         1   0   1   1\"\n",
      "[1] \"1987  The Gulf Breeze Sightings (Walters)                  USA            1   1   0   0\"\n",
      "[1] \"1987  The Ilkley Moor Alien                                U K            1   1   1   1\"\n",
      "[1] \"1988  The Eyre Highway Incident, Australia                 Australia      1   0   0   0\"\n",
      "[1] \"1988  John Salter and Son Abduction                        USA            1   0   1   1\"\n",
      "[1] \"1988  Coast Guard UFO Encounter                            USA            1   0   0   0\"\n",
      "[1] \"1988  DNA Sample / Khoury Abduction                        Australia      1   0   1   1\"\n",
      "[1] \"1988  The Phobos II Incident                               Space          1   1   0   0\"\n",
      "[1] \"1989  The Belgian UFO Wave                                 Belgium        0   1   0   0\"\n",
      "[1] \"1989  The Voronezh, Russia Aliens                          Russia         1   0   1   0\"\n",
      "[1] \"1989  Linda Cortile-Napolitano Abduction                   USA            1   0   1   1\"\n",
      "[1] \"1989  Carp Canada, (Guardian) Landing                      Canada         1   1   0   0\"\n",
      "[1] \"1991  Shaitan Mazar, Russian Crash Retrieval               Russia         1   0   0   0\"\n",
      "[1] \"1992  Florida Patrolman Encounters UFO                     USA            1   0   0   0\"\n",
      "[1] \"1993  Southaven UFO Crash                                  USA            1   0   0   0\"\n",
      "[1] \"1993  The Kelly Cahill Abduction                           Australia      1   0   1   1\"\n",
      "[1] \"1994  UFO Sightings in Holland, Michigan                   USA            1   0   0   0\"\n",
      "[1] \"1994  UFO Photographed in Mongo, Indiana                   USA            1   1   0   0\"\n",
      "[1] \"1995  American West 564 UFO Encounter                      USA            0   0   0   0\"\n",
      "[1] \"1995  UFO Crash in Israel                                  Israel         1   1   0   0\"\n",
      "[1] \"1996  The Varginha, Brazil Entity                          Brazil         1   1   1   0\"\n",
      "[1] \"1996  Alien Body Recovered                                 Russia         0   1   1   0\"\n",
      "[1] \"1996  UFO Photograph Case, Alabama                         USA            0   1   0   0\"\n",
      "[1] \"1996  UFO Photo Hungary                                    Hungary        0   1   0   0\"\n",
      "[1] \"1997  UFOs merging on film                                 USA            0   1   0   0\"\n",
      "[1] \"1997  St. Petersburg, Russia UFO                           Russia         0   1   0   0\"\n",
      "[1] \"1997  The Phoenix, Arizona Lights                          France         1   1   0   0\"\n",
      "[1] \"1997  UFO Encounter, Boyne Island                          U K            0   0   0   0\"\n",
      "[1] \"1997  Swissair jet / near miss UFO                         USA            0   1   0   0\"\n",
      "[1] \"1997  South Africa UFO Encounter                           S Africa       0   0   0   0\"\n",
      "[1] \"1997  Abduction in Wales                                   Wales          1   0   1   1\"\n",
      "[1] \"1999  Aliens photographed in London                        U K            0   1   1   0\"\n",
      "[1] \"1999  Jet Crew Encounters UFO                              Den.           0   0   0   0\"\n",
      "[1] \"1999  British Charter Encounters UFO                       U K            0   0   0   0\"\n",
      "[1] \"1999  UFO Crash in Swedish Lake                            Sweden         0   0   0   0\"\n",
      "[1] \"1999  Abduction in Illinois                                USA            1   0   1   1\"\n",
      "[1] \"2000  The Illinois Sightings                               USA            0   0   0   0\"\n",
      "[1] \"2000  UFO Photographed / Stinson Lake                      USA            1   1   0   0\"\n",
      "[1] \"2000  UFO shoots beam at photographer                      USA            1   0   0   0\"\n",
      "[1] \"2000  UFO landing in West Malaysia                         Malaysia       1   0   0   0\"\n",
      "[1] \"2000  The Twin Towers UFO Video(hoax)                      USA            1   1   0   0\"\n",
      "[1] \"2000  UFO Visits Idaho Mountain                            USA            0   0   0   0\"\n",
      "[1] \"2001  Waynesville, Ohio Police UFO Report                  USA            0   0   0   0\"\n",
      "[1] \"2002  Roswell (General Ramey Memo)                         USA            0   1   0   0\"\n",
      "[1] \"2002  Gulfport, Mississippi UFO Incident                   USA            1   0   1   0\"\n",
      "[1] \"2002  Trenton / Brookville UFO Sightings                   USA            1   0   0   0\"\n",
      "[1] \"2002  Tyrone, PA Sighting & Photograph                     USA            0   1   0   0\"\n",
      "[1] \"2002  The Albany Airport UFO Video                         USA            0   1   0   0\"\n",
      "[1] \"2002  Rendlesham Documents released                        U K            0   0   0   0\"\n",
      "[1] \"2002  The Leyland, Lancashire Videos                       U K            0   1   0   0\"\n",
      "[1] \"2002  Afyon, Turkey Sighting with Video                    Turkey         0   1   0   0\"\n",
      "[1] \"2002  Possible UFO Landing, Chile                          Chile          1   1   0   0\"\n",
      "[1] \"2003  UFO Photographed / Wisconsin                         USA            0   1   0   0\"\n",
      "[1] \"2003  UFO Video / Tennessee, Shaffer                       USA            0   1   0   0\"\n",
      "[1] \"2003  UFO Incident, Screaming Sounds                       USA            1   0   0   0\"\n",
      "[1] \"2003  Ashland, Nebraska UFO Video                          USA            0   1   0   0\"\n",
      "[1] \"2004  Amelia, Ohio Bizarre UFO Incident                    USA            1   0   0   0\"\n",
      "[1] \"2004  Mexican Military Releases UFO Footage                Mexico         1   1   0   0\"\n",
      "[1] \"2004  Centerville, Ohio UFO Report                         USA            1   0   0   0\"\n",
      "[1] \"2004  Close Encounter in Tennessee                         USA            1   0   0   0\"\n",
      "[1] \"2004  Northern Ohio Sightings                              USA            1   0   0   0\"\n"
     ]
    }
   ],
   "source": [
    "repeat {\n",
    "    line <- readLines(connection, n = 1)\n",
    "    if (length(line) == 0) break\n",
    "    print(line)\n",
    "}\n",
    "\n",
    "close(connection)"
   ]
  },
  {
   "cell_type": "code",
   "execution_count": null,
   "metadata": {
    "collapsed": true
   },
   "outputs": [],
   "source": []
  }
 ],
 "metadata": {
  "kernelspec": {
   "display_name": "R",
   "language": "R",
   "name": "ir"
  },
  "language_info": {
   "codemirror_mode": "r",
   "file_extension": ".r",
   "mimetype": "text/x-r-source",
   "name": "R",
   "pygments_lexer": "r",
   "version": "3.3.2"
  },
  "toc": {
   "nav_menu": {},
   "number_sections": true,
   "sideBar": true,
   "skip_h1_title": true,
   "toc_cell": true,
   "toc_position": {},
   "toc_section_display": "block",
   "toc_window_display": false
  }
 },
 "nbformat": 4,
 "nbformat_minor": 2
}
