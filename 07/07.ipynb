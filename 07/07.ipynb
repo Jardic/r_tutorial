{
 "cells": [
  {
   "cell_type": "markdown",
   "metadata": {
    "toc": "true"
   },
   "source": [
    " # Table of Contents\n",
    "<div class=\"toc\" style=\"margin-top: 1em;\"><ul class=\"toc-item\" id=\"toc-level0\"><li><span><a href=\"http://localhost:8888/notebooks/07/07.ipynb#Střední-chyba-průměru-a-velikost-vzorku\" data-toc-modified-id=\"Střední-chyba-průměru-a-velikost-vzorku-1\"><span class=\"toc-item-num\">1&nbsp;&nbsp;</span>Střední chyba průměru a velikost vzorku</a></span></li><li><span><a href=\"http://localhost:8888/notebooks/07/07.ipynb#Interval-spolehlivosti\" data-toc-modified-id=\"Interval-spolehlivosti-2\"><span class=\"toc-item-num\">2&nbsp;&nbsp;</span>Interval spolehlivosti</a></span></li></ul></div>"
   ]
  },
  {
   "cell_type": "markdown",
   "metadata": {},
   "source": [
    "https://onlinecourses.science.psu.edu/stat100/node/58\n",
    "\n",
    "https://en.wikipedia.org/wiki/Standard_error\n",
    "\n",
    "http://www.stat.wmich.edu/s216/book/node79.html\n",
    "\n",
    "http://www.cyclismo.org/tutorial/R/pValues.html#t-test\n",
    "\n",
    "\n",
    "# Intervaly spolehlivosti\n",
    "\n",
    "V této lekci si ukážeme, jak v R z vašich dat získat intervaly spolehlivosti pro populační průměr za předpokladu, že náhodná veličina má normální rozdělení. Normální rozdělení náhodné veličiny není vždy zaručené, a proto byste si to měli vždy nějak ověřit. Těmto metodám se však budeme věnovat až trochu později, potom co si probereme i testování statistických hypotéz.\n",
    "\n",
    "## Střední chyba průměru a velikost vzorku\n",
    "\n",
    "Pokud se v reálném světě pokoušíte stanovit skutečnou hodnotu nějaké veličiny pomocí opakovaných měření, musíte se vždy potýkat s určitou experimentální chybou, která v ideálním případě závisí pouze na náhodných jevech. Ve světě, ve kterém žijeme, se vám totiž bohužel nikdy nepovede naměřit stejnou hodnotu ve 100% případů. Jako příklad by nám zde mohl posloužit experiment Alberta A. Michelsona, který se v roce 1879 pokoušel stanovit rychlost světla pomocí experimentu s [čočkou a jednoduchou soustavou dvou zrcadel](http://www.gutenberg.org/files/11753/11753-h/11753-h.htm). Měření několikrát opakoval a my máme jeho data k dispozici v souboru `michelson_velocitylight.csv`:"
   ]
  },
  {
   "cell_type": "code",
   "execution_count": 1,
   "metadata": {},
   "outputs": [
    {
     "data": {
      "text/html": [
       "<table>\n",
       "<thead><tr><th scope=col>vellightair</th></tr></thead>\n",
       "<tbody>\n",
       "\t<tr><td> 850</td></tr>\n",
       "\t<tr><td> 740</td></tr>\n",
       "\t<tr><td> 900</td></tr>\n",
       "\t<tr><td>1070</td></tr>\n",
       "\t<tr><td> 930</td></tr>\n",
       "\t<tr><td> 850</td></tr>\n",
       "</tbody>\n",
       "</table>\n"
      ],
      "text/latex": [
       "\\begin{tabular}{r|l}\n",
       " vellightair\\\\\n",
       "\\hline\n",
       "\t  850\\\\\n",
       "\t  740\\\\\n",
       "\t  900\\\\\n",
       "\t 1070\\\\\n",
       "\t  930\\\\\n",
       "\t  850\\\\\n",
       "\\end{tabular}\n"
      ],
      "text/markdown": [
       "\n",
       "vellightair | \n",
       "|---|---|---|---|---|---|\n",
       "|  850 | \n",
       "|  740 | \n",
       "|  900 | \n",
       "| 1070 | \n",
       "|  930 | \n",
       "|  850 | \n",
       "\n",
       "\n"
      ],
      "text/plain": [
       "  vellightair\n",
       "1  850       \n",
       "2  740       \n",
       "3  900       \n",
       "4 1070       \n",
       "5  930       \n",
       "6  850       "
      ]
     },
     "metadata": {},
     "output_type": "display_data"
    }
   ],
   "source": [
    "df_lightspeed <- read.table(\n",
    "    \"michelson_velocitylight.csv\"\n",
    "    , stringsAsFactors = F\n",
    "    , header = T\n",
    ")\n",
    "head(df_lightspeed)"
   ]
  },
  {
   "cell_type": "markdown",
   "metadata": {},
   "source": [
    "Čísla v tabulce jsou rychlosti světla v $\\frac{km}{s}$, od kterých bylo odečteno číslo $299 \\times 10^{3}$. Jelikož budeme najednou pracovat pouze s jednou proměnnou, nebotřebujeme v tomto případě objekt `data.frame`, ale vystačíme si pouze s vektorem:"
   ]
  },
  {
   "cell_type": "code",
   "execution_count": 2,
   "metadata": {},
   "outputs": [
    {
     "data": {
      "text/html": [
       "'integer'"
      ],
      "text/latex": [
       "'integer'"
      ],
      "text/markdown": [
       "'integer'"
      ],
      "text/plain": [
       "[1] \"integer\""
      ]
     },
     "metadata": {},
     "output_type": "display_data"
    }
   ],
   "source": [
    "lightspeed <- df_lightspeed$vellightair\n",
    "class(lightspeed)"
   ]
  },
  {
   "cell_type": "markdown",
   "metadata": {},
   "source": [
    "Pojďme se podívat, kolik měření Albert celkem provedl:"
   ]
  },
  {
   "cell_type": "code",
   "execution_count": 3,
   "metadata": {},
   "outputs": [
    {
     "data": {
      "text/html": [
       "100"
      ],
      "text/latex": [
       "100"
      ],
      "text/markdown": [
       "100"
      ],
      "text/plain": [
       "[1] 100"
      ]
     },
     "metadata": {},
     "output_type": "display_data"
    }
   ],
   "source": [
    "length(lightspeed)"
   ]
  },
  {
   "cell_type": "markdown",
   "metadata": {},
   "source": [
    "Albert tedy provedl celkem 100 měření této náhodné veličiny. Skutečná rychlost světla by tedy měla v ideálním případě ležet někde v blízkosti průměru z těchto měření:"
   ]
  },
  {
   "cell_type": "code",
   "execution_count": 4,
   "metadata": {},
   "outputs": [
    {
     "data": {
      "text/html": [
       "852.4"
      ],
      "text/latex": [
       "852.4"
      ],
      "text/markdown": [
       "852.4"
      ],
      "text/plain": [
       "[1] 852.4"
      ]
     },
     "metadata": {},
     "output_type": "display_data"
    }
   ],
   "source": [
    "mean(lightspeed)"
   ]
  },
  {
   "cell_type": "markdown",
   "metadata": {},
   "source": [
    "V jaké blízkosti bychom však měli skutečnou hodnotu čekat a s jakou pravděpodobností? Odpověď na tuto otázku získáme na konci této lekce. Nechme však teď Alberta na chvíli být a pojďme se podívat jak v praxi velikost našeho vzoruku ovlivňuje přesnost našeho odhadu.\n",
    "\n",
    "V následujícím příkladě jsme si pomocí funkce `rnorm` nasimulovali dva vzorky různých velikostí (`x` a `x_big`) z populace s průměrem 32 a směrodatnou odchylkou 0.66:"
   ]
  },
  {
   "cell_type": "code",
   "execution_count": 5,
   "metadata": {},
   "outputs": [
    {
     "data": {
      "text/html": [
       "42.1122327308364"
      ],
      "text/latex": [
       "42.1122327308364"
      ],
      "text/markdown": [
       "42.1122327308364"
      ],
      "text/plain": [
       "[1] 42.11223"
      ]
     },
     "metadata": {},
     "output_type": "display_data"
    },
    {
     "data": {
      "text/html": [
       "0.665279692521984"
      ],
      "text/latex": [
       "0.665279692521984"
      ],
      "text/markdown": [
       "0.665279692521984"
      ],
      "text/plain": [
       "[1] 0.6652797"
      ]
     },
     "metadata": {},
     "output_type": "display_data"
    },
    {
     "data": {
      "text/html": [
       "42.0015567505731"
      ],
      "text/latex": [
       "42.0015567505731"
      ],
      "text/markdown": [
       "42.0015567505731"
      ],
      "text/plain": [
       "[1] 42.00156"
      ]
     },
     "metadata": {},
     "output_type": "display_data"
    },
    {
     "data": {
      "text/html": [
       "0.666797461429305"
      ],
      "text/latex": [
       "0.666797461429305"
      ],
      "text/markdown": [
       "0.666797461429305"
      ],
      "text/plain": [
       "[1] 0.6667975"
      ]
     },
     "metadata": {},
     "output_type": "display_data"
    }
   ],
   "source": [
    "x <- rnorm(30, mean = 42, sd = 0.666)\n",
    "x_big <- rnorm(10000, mean = 42, sd = 0.666)\n",
    "\n",
    "mean(x)\n",
    "sd(x)\n",
    "mean(x_big)\n",
    "sd(x_big)"
   ]
  },
  {
   "cell_type": "markdown",
   "metadata": {},
   "source": [
    "Průměr a směrodatná odchylka obou vzorků se tedy shruba blíží skutečnosti. Je však jasné, že odhad by byl přesnější při použití většího vzorku, `x_big`. \n",
    "\n",
    "Chybu, kterou při odhadu skutečného průměru uděláme, reprezentuje tzv. střední chyba průměru:\n",
    "\n",
    "${\\displaystyle {\\text{SE}}_{\\bar {x}}\\ ={\\frac {\\sigma }{\\sqrt {n}}}}$\n",
    "\n",
    "Tato veličina vyjadřuje směrodatnou odchylku chyb při odhadu populačního průměru a jak je vidět tak opravdu klesá s počtem vzorků ($n$). V našem simulovaném příkladě si jej pro naše vzorky můžeme snadno spočítat:"
   ]
  },
  {
   "cell_type": "code",
   "execution_count": 6,
   "metadata": {},
   "outputs": [
    {
     "data": {
      "text/html": [
       "0.121462898214797"
      ],
      "text/latex": [
       "0.121462898214797"
      ],
      "text/markdown": [
       "0.121462898214797"
      ],
      "text/plain": [
       "[1] 0.1214629"
      ]
     },
     "metadata": {},
     "output_type": "display_data"
    },
    {
     "data": {
      "text/html": [
       "0.00666797461429305"
      ],
      "text/latex": [
       "0.00666797461429305"
      ],
      "text/markdown": [
       "0.00666797461429305"
      ],
      "text/plain": [
       "[1] 0.006667975"
      ]
     },
     "metadata": {},
     "output_type": "display_data"
    }
   ],
   "source": [
    "sd(x) / sqrt(length(x))\n",
    "sd(x_big) / sqrt(length(x_big))"
   ]
  },
  {
   "cell_type": "markdown",
   "metadata": {},
   "source": [
    "\n",
    "\n",
    "\n"
   ]
  },
  {
   "cell_type": "markdown",
   "metadata": {},
   "source": [
    "Opravdu tedy platí, že mnohem přesnější odhad získáme použitím velkého vzorku. \n",
    "\n",
    "## Interval spolehlivosti\n",
    "\n",
    "Vzhledem k tomu, že střední chyba průměru má normální rozdělení, lze interval spolehlivosti pro průměr definovat následujícím způsobem:\n",
    "\n",
    "${\\displaystyle \\left({\\bar {x}}-z^{*}{\\sigma  \\over {\\sqrt {n}}},{\\bar {x}}+z^{*}{\\sigma  \\over {\\sqrt {n}}}\\right)}$\n",
    "\n",
    "$z$ zde představuje násobek směrodatné odchylky chyb, který je odvozen ze standardního normálního rozdělení, tedy s průměrem nula a směrodatnou odchylkou 1. \n",
    "\n",
    "$z$ je vlastně počet směrodatných odchylek chyb od jejich průměrné hodnoty a určuje tak pravděpodobnost, že opravdová chyba průměru bude ležet v určitém intervalu. Tato pravděpodobnost vyplývá z funkce hustoty pravděpodobnosti normálního rozdělení, kterou si můžeme v R snadno vykreslit pomocí funkce `dnorm` například následujícím způsobem:"
   ]
  },
  {
   "cell_type": "code",
   "execution_count": 7,
   "metadata": {},
   "outputs": [
    {
     "data": {
      "image/png": "[encoded data removed]",
      "text/plain": [
       "plot without title"
      ]
     },
     "metadata": {},
     "output_type": "display_data"
    }
   ],
   "source": [
    "z <- seq(-3, 3, 0.1)\n",
    "plot(z, dnorm(z))"
   ]
  },
  {
   "cell_type": "markdown",
   "metadata": {},
   "source": [
    "Proměnná `z` zde tedy představuje možné hodnoty směrodatných odchylek, které pak vyneseme proti příslušným hodnotám hustoty pravděpodobnosti pomocí funkce `plot`. Funkce `plot` je v R univerzální funkcí pro kreslení nejrůznějších grafů a podrobněji se jí budeme věnovat v jedné z dalších lekcí. Tato funkce akceptuje nespočet argumentů, které se týkají způsobu vizualizace. V našem případě jí můžeme například snadno nakázat, aby naše body proložila křivkou:"
   ]
  },
  {
   "cell_type": "code",
   "execution_count": 8,
   "metadata": {},
   "outputs": [
    {
     "data": {
      "image/png": "[encoded data removed]",
      "text/plain": [
       "plot without title"
      ]
     },
     "metadata": {},
     "output_type": "display_data"
    }
   ],
   "source": [
    "plot(z, dnorm(z), type = 'l')"
   ]
  },
  {
   "cell_type": "markdown",
   "metadata": {},
   "source": [
    "Vraťme se teď však zpět ke statistice. Pro hustotu pravděpodonosti platí následující vztah:\n",
    "\n",
    "$\\Pr[a\\leq X\\leq b]=\\int _{a}^{b}f_{X}(x)\\,dx.$\n",
    "\n",
    "Pravděpodobnost, že náhodná veličina nabývá hodnot v určitém intervalu od $a$ do $b$, je tedy dána integrálem hustoty pravděpodobnosti právě mezi body $a$ a $b$. Pokud tedy chceme na určité úrovni pravděpodobnosti odhadnout naší chybu, musíme hodnotu $z$ zvolit odpovídajícím způsobem.\n",
    "\n",
    "Pojďme si teď tedy z didaktických důvodů rychle vytvořit funkci pro jednoduchý výpočet určitého integrálu. Můžeme tak učinit implementací lichoběžníkové metody, která integrál libovolné funkce definuje takto:\n",
    "\n",
    "${\\displaystyle \\int _{a}^{b}f(x)\\,dx\\approx \\sum _{k=1}^{N}{\\frac {f(x_{k-1})+f(x_{k})}{2}}\\Delta x_{k}}$\n",
    "\n",
    "Pokud platí:\n",
    "\n",
    "${\\displaystyle \\Delta x_{k}=\\Delta x={\\frac {b-a}{N}}}$\n",
    "\n",
    "lze tento vztah převést na:\n",
    "\n",
    "${\\displaystyle \\int _{a}^{b}f(x)\\,dx\\approx {\\frac {\\Delta x}{2}}\\sum _{k=1}^{N}\\left(f(x_{k-1})+f(x_{k})\\right)}$\n",
    "\n",
    "${\\displaystyle {}={\\frac {\\Delta x}{2}}(f(x_{0})+2f(x_{1})+2f(x_{2})+2f(x_{3})+\\dotsb +2f(x_{N-1})+f(x_{N}))}$\n",
    "\n",
    "což můžeme snadno naprogramovat například takto:"
   ]
  },
  {
   "cell_type": "code",
   "execution_count": 9,
   "metadata": {
    "collapsed": true
   },
   "outputs": [],
   "source": [
    "integrate <- function(a, b, steps, func, ...) {\n",
    "    # integrace funkce (\"func\") jedné proměnné v intervalu od \"a\" do \"b\"\n",
    "    # lichoběžníkovou metodou s určitým počtem kroků (\"steps\")\n",
    "    \n",
    "    if (a > b) stop(\"a > b\") \n",
    "    \n",
    "    dx <- (b - a) / steps\n",
    "    y <- func(seq(a, b, dx), ...)\n",
    "    \n",
    "    0.5 * dx * (\n",
    "        y[1] \n",
    "        + sum(2*y[c(-1, -length(y))]) \n",
    "        + y[length(y)]\n",
    "    )\n",
    "}"
   ]
  },
  {
   "cell_type": "markdown",
   "metadata": {},
   "source": [
    "Že naše funkce funguje si můžeme snadno ověřit po dosazení známých empirických pravidel:"
   ]
  },
  {
   "cell_type": "code",
   "execution_count": 10,
   "metadata": {},
   "outputs": [
    {
     "data": {
      "text/html": [
       "68.267336054036"
      ],
      "text/latex": [
       "68.267336054036"
      ],
      "text/markdown": [
       "68.267336054036"
      ],
      "text/plain": [
       "[1] 68.26734"
      ]
     },
     "metadata": {},
     "output_type": "display_data"
    },
    {
     "data": {
      "text/html": [
       "94.9974874789811"
      ],
      "text/latex": [
       "94.9974874789811"
      ],
      "text/markdown": [
       "94.9974874789811"
      ],
      "text/plain": [
       "[1] 94.99749"
      ]
     },
     "metadata": {},
     "output_type": "display_data"
    },
    {
     "data": {
      "text/html": [
       "99.729222948119"
      ],
      "text/latex": [
       "99.729222948119"
      ],
      "text/markdown": [
       "99.729222948119"
      ],
      "text/plain": [
       "[1] 99.72922"
      ]
     },
     "metadata": {},
     "output_type": "display_data"
    }
   ],
   "source": [
    "integrate(-1, 1, 100, dnorm) * 100\n",
    "integrate(-1.96, 1.96, 100, dnorm) * 100\n",
    "integrate(-3, 3, 100, dnorm) * 100"
   ]
  },
  {
   "cell_type": "markdown",
   "metadata": {},
   "source": [
    "Máme tak tedy například 95% šanci, že $z$ bude nabývat hodnot v intervalu $\\left(-1.96, 1.96\\right)$. Čili na 95% bude skutečná chyba v odhadu našeho průměru v intervalu $\\left(-1.96^{*}{\\sigma  \\over {\\sqrt {n}}}, 1.96^{*}{\\sigma  \\over {\\sqrt {n}}}\\right)$.\n",
    "\n",
    "Ve statistice se též často používá tzv. distribuční funkce, která je definována následujícím způsobem:\n",
    "\n",
    "$F_{X}(x)=\\mathrm {Pr} [X\\leq x]=\\int _{-\\infty }^{x}f_{X}(t)\\,dt.$\n",
    "\n",
    "Tato funkce je v R k disopozici pod názvem `pnorm`:"
   ]
  },
  {
   "cell_type": "code",
   "execution_count": 11,
   "metadata": {},
   "outputs": [
    {
     "data": {
      "image/png": "[encoded data removed]",
      "text/plain": [
       "plot without title"
      ]
     },
     "metadata": {},
     "output_type": "display_data"
    }
   ],
   "source": [
    "plot(z, pnorm(z), type = 'l')"
   ]
  },
  {
   "cell_type": "markdown",
   "metadata": {},
   "source": [
    "a vrací tedy pravděpodobnost, že $z$ bude v intervalu $\\left(-\\infty, x\\right)$. Pravděpodobnost, že naše chyba bude menší než $-1.96^{*}{\\sigma  \\over {\\sqrt {n}}}$ je tedy:"
   ]
  },
  {
   "cell_type": "code",
   "execution_count": 12,
   "metadata": {},
   "outputs": [
    {
     "data": {
      "text/html": [
       "0.0249978951482204"
      ],
      "text/latex": [
       "0.0249978951482204"
      ],
      "text/markdown": [
       "0.0249978951482204"
      ],
      "text/plain": [
       "[1] 0.0249979"
      ]
     },
     "metadata": {},
     "output_type": "display_data"
    }
   ],
   "source": [
    "pnorm(-1.96)"
   ]
  },
  {
   "cell_type": "markdown",
   "metadata": {},
   "source": [
    "a naopak pravděpodobnost, že bude větší než $1.96^{*}{\\sigma  \\over {\\sqrt {n}}}$ je potom:"
   ]
  },
  {
   "cell_type": "code",
   "execution_count": 13,
   "metadata": {},
   "outputs": [
    {
     "data": {
      "text/html": [
       "0.0249978951482204"
      ],
      "text/latex": [
       "0.0249978951482204"
      ],
      "text/markdown": [
       "0.0249978951482204"
      ],
      "text/plain": [
       "[1] 0.0249979"
      ]
     },
     "metadata": {},
     "output_type": "display_data"
    }
   ],
   "source": [
    "1 - pnorm(1.96)"
   ]
  },
  {
   "cell_type": "markdown",
   "metadata": {},
   "source": [
    "Celková pravděpodobnost, že se dopustíme chyby v intervalu $\\left(-1.96^{*}{\\sigma  \\over {\\sqrt {n}}}, 1.96^{*}{\\sigma  \\over {\\sqrt {n}}}\\right)$, je pak tedy podle této funkce opět 95%:"
   ]
  },
  {
   "cell_type": "code",
   "execution_count": 14,
   "metadata": {},
   "outputs": [
    {
     "data": {
      "text/html": [
       "0.950004209703559"
      ],
      "text/latex": [
       "0.950004209703559"
      ],
      "text/markdown": [
       "0.950004209703559"
      ],
      "text/plain": [
       "[1] 0.9500042"
      ]
     },
     "metadata": {},
     "output_type": "display_data"
    }
   ],
   "source": [
    "1 - (pnorm(-1.96) + 1 - pnorm(1.96))"
   ]
  },
  {
   "cell_type": "markdown",
   "metadata": {},
   "source": [
    "V praxi se však nejčastěji používá inverzní funkce k této distribuční funkci, neboli též kvantilová funkce, která mapuje příslušné hodnoty pravděpodobnosti na konkrétní hodnoty $z$. V R je dostupná jako funkce `qnorm`:"
   ]
  },
  {
   "cell_type": "code",
   "execution_count": 15,
   "metadata": {},
   "outputs": [
    {
     "data": {
      "image/png": "[encoded data removed]",
      "text/plain": [
       "plot without title"
      ]
     },
     "metadata": {},
     "output_type": "display_data"
    }
   ],
   "source": [
    "probas <- seq(0, 1, 0.01)\n",
    "plot(probas, qnorm(probas), type = \"l\")"
   ]
  },
  {
   "cell_type": "markdown",
   "metadata": {},
   "source": [
    "Hodnotu $z$ pro interval spolehlivosti na 5% hladině pravděpodobnosti bychom tedy snadno získali takto:"
   ]
  },
  {
   "cell_type": "code",
   "execution_count": 16,
   "metadata": {},
   "outputs": [
    {
     "data": {
      "text/html": [
       "1.95996398454005"
      ],
      "text/latex": [
       "1.95996398454005"
      ],
      "text/markdown": [
       "1.95996398454005"
      ],
      "text/plain": [
       "[1] 1.959964"
      ]
     },
     "metadata": {},
     "output_type": "display_data"
    }
   ],
   "source": [
    "qnorm(0.975)"
   ]
  },
  {
   "cell_type": "markdown",
   "metadata": {},
   "source": [
    "Výpočet intervalu spolehlivosti v případě Alberotvých měření je tedy nasnadě:"
   ]
  },
  {
   "cell_type": "code",
   "execution_count": null,
   "metadata": {
    "collapsed": true
   },
   "outputs": [],
   "source": []
  }
 ],
 "metadata": {
  "kernelspec": {
   "display_name": "R",
   "language": "R",
   "name": "ir"
  },
  "language_info": {
   "codemirror_mode": "r",
   "file_extension": ".r",
   "mimetype": "text/x-r-source",
   "name": "R",
   "pygments_lexer": "r",
   "version": "3.3.2"
  },
  "toc": {
   "nav_menu": {},
   "number_sections": true,
   "sideBar": true,
   "skip_h1_title": true,
   "toc_cell": true,
   "toc_position": {},
   "toc_section_display": "block",
   "toc_window_display": false
  }
 },
 "nbformat": 4,
 "nbformat_minor": 2
}
