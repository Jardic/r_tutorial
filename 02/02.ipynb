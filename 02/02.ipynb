{
 "cells": [
  {
   "cell_type": "code",
   "execution_count": 1,
   "metadata": {},
   "outputs": [
    {
     "name": "stdout",
     "output_type": "stream",
     "text": [
      "[1] \"Ahoj světe!\"\n"
     ]
    },
    {
     "data": {
      "text/html": [
       "'Ahoj světe!'"
      ],
      "text/latex": [
       "'Ahoj světe!'"
      ],
      "text/markdown": [
       "'Ahoj světe!'"
      ],
      "text/plain": [
       "[1] \"Ahoj světe!\""
      ]
     },
     "metadata": {},
     "output_type": "display_data"
    }
   ],
   "source": [
    "print(\"Ahoj světe!\")\n",
    "\"Ahoj světe!\""
   ]
  },
  {
   "cell_type": "code",
   "execution_count": 2,
   "metadata": {},
   "outputs": [],
   "source": [
    "a <- \"Čau\""
   ]
  },
  {
   "cell_type": "code",
   "execution_count": 3,
   "metadata": {},
   "outputs": [
    {
     "data": {
      "text/html": [
       "'Čau'"
      ],
      "text/latex": [
       "'Čau'"
      ],
      "text/markdown": [
       "'Čau'"
      ],
      "text/plain": [
       "[1] \"Čau\""
      ]
     },
     "metadata": {},
     "output_type": "display_data"
    }
   ],
   "source": [
    "a"
   ]
  },
  {
   "cell_type": "markdown",
   "metadata": {},
   "source": [
    "# Vzorečky\n",
    "\n",
    "- Pythagorova věta: $c^2 = a^2 + b^2$\n",
    "- Boltzmannova rovnice: ${\\displaystyle {\\frac {\\partial f}{\\partial t}}+{\\frac {\\partial f}{\\partial \\mathbf {x} }}\\cdot {\\frac {\\mathbf {p} }{m}}+{\\frac {\\partial f}{\\partial \\mathbf {p} }}\\cdot \\mathbf {F} =\\left.{\\frac {\\partial f}{\\partial t}}\\right|_{\\mathrm {coll} }.}$\n",
    "- Schrödingerova rovnice: ${\\displaystyle \\mathrm {i} \\hbar {\\frac {\\partial \\Psi }{\\partial t}}=-{\\frac {\\hbar ^{2}}{2m}}\\Delta \\Psi +V\\Psi }$"
   ]
  },
  {
   "cell_type": "code",
   "execution_count": null,
   "metadata": {
    "collapsed": true
   },
   "outputs": [],
   "source": []
  }
 ],
 "metadata": {
  "kernelspec": {
   "display_name": "R",
   "language": "R",
   "name": "ir"
  },
  "language_info": {
   "codemirror_mode": "r",
   "file_extension": ".r",
   "mimetype": "text/x-r-source",
   "name": "R",
   "pygments_lexer": "r",
   "version": "3.3.2"
  }
 },
 "nbformat": 4,
 "nbformat_minor": 2
}
